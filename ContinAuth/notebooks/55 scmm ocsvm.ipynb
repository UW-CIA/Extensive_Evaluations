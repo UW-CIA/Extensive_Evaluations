{
 "cells": [
  {
   "cell_type": "markdown",
   "metadata": {
    "nbpresent": {
     "id": "bd674784-1654-4758-b924-1ee875668a91"
    }
   },
   "source": [
    "# Siamese CNN & OCSVM\n",
    "\n",
    "\n",
    "**Description**   \n",
    "\n",
    "Reimplemenation of an approach to Continuous Authentication described by [1]. It leverages a Siamese CNN to generate Deep Features, which are then used as input for an OCSVM authentication classifier.  \n",
    "\n",
    "**Purpose**\n",
    "\n",
    "- Verify results of [1]\n",
    "- Test the approach with upfront global subject wise normalization (NAIVE_APPROACH)\n",
    "- Change the normalization setting to be more realistic: Training data is normalized upfront again, but the Testing data is normalized using a single scaler fitted on training data only. (VALID_APPROACH)\n",
    "- Identify parameters performing better in a valid setup than the parameters proposed by [1]. (ALTERNATIVE_APPROACH) \n",
    "\n",
    "**Data Sources**   \n",
    "\n",
    "- [H-MOG Dataset](http://www.cs.wm.edu/~qyang/hmog.html)  \n",
    "  (Downloaded beforehand using  [./src/data/make_dataset.py](./src/data/make_dataset.py), stored in [./data/external/hmog_dataset/](./data/external/hmog_dataset/) and converted to [./data/processed/hmog_dataset.hdf5](./data/processed/hmog_dataset.hdf5))\n",
    "\n",
    "**References**   \n",
    "\n",
    "- [1] Centeno, M. P. et al. (2018): Mobile Based Continuous Authentication Using Deep Features. Proceedings of the 2^nd International Workshop on Embedded and Mobile Deep Learning (EMDL), 2018, 19-24.\n",
    "\n",
    "**Table of Contents**\n",
    "\n",
    "**1 - [Preparations](#1)**   \n",
    "1.1 - [Imports](#1.1)   \n",
    "1.2 - [Configuration](#1.2)   \n",
    "1.3 - [Experiment Parameters](#1.3)   \n",
    "1.4 - [Select Approach](#1.4)   \n",
    "\n",
    "**2 - [Initial Data Prepratation](#2)**   \n",
    "2.1 - [Load Dataset](#2.1)   \n",
    "2.2 - [Normalize Features (if global)](#2.2)   \n",
    "2.3 - [Split Dataset for Valid/Test](#2.3)   \n",
    "2.4 - [Normalize Features (if not global)](#2.4)   \n",
    "2.5 - [Check Splits](#2.5)   \n",
    "2.6 - [Reshape Features](#2.6)     \n",
    "\n",
    "**3 - [Generate Scenario Pairs](#3)**    \n",
    "3.1 - [Load cached Data](#3.1)  \n",
    "3.2 - [Build positive/negative Pairs](#3.2)  \n",
    "3.3 - [Inspect Pairs](#3.3)  \n",
    "3.4 - [Cache Pairs](#3.4)  \n",
    "\n",
    "**4 - [Siamese Network](#4)**  \n",
    "4.1 - [Load cached Pairs](#4.1)   \n",
    "4.2 - [Build Model](#4.2)   \n",
    "4.3 - [Prepare Features](#4.3)   \n",
    "4.4 - [Search optimal Epoch](#4.4)   \n",
    "4.5 - [Check Distances](#4.5)   \n",
    "4.6 - [Rebuild and train to optimal Epoch](#4.6)   \n",
    "4.7 - [Cache Model](#4.7)   \n",
    "\n",
    "**5 - [Visualize Deep Features](#5)**   \n",
    "5.1 - [Load cached Data](#5.1)  \n",
    "5.2 - [Extract CNN from Siamese Model](#5.2)  \n",
    "5.3 - [Test Generation of Deep Features](#5.3)  \n",
    "5.4 - [Visualize in 2D using PCA](#5.4)  \n",
    "\n",
    "**6 - [OCSVM](#6)**  \n",
    "6.1 - [Load cached Data](#6.1)  \n",
    "6.2 - [Load trained Siamese Model](#6.2)  \n",
    "6.3 - [Search for Parameters](#6.3)  \n",
    "6.4 - [Inspect Search Results](#6.4) \n",
    "\n",
    "**7 - [Testing](#7)**  \n",
    "7.1 - [Load cached Data](#7.1)  \n",
    "7.2 - [Evaluate Auth Performance](#7.2)  \n",
    "7.3 - [Evaluate increasing Training Set Size (Training Delay)](#7.3)  \n",
    "7.4 - [Evaluate increasing Test Set Sizes (Detection Delay)](#7.4)  \n",
    "\n",
    "**8 - [Report Results](#8)**  "
   ]
  },
  {
   "cell_type": "markdown",
   "metadata": {
    "nbpresent": {
     "id": "f32a320e-cb90-455e-9bce-94378bdfebd6"
    },
    "toc-hr-collapsed": false
   },
   "source": [
    "## 1. Preparations <a id='1'>&nbsp;</a> "
   ]
  },
  {
   "cell_type": "markdown",
   "metadata": {
    "nbpresent": {
     "id": "c3cecdd4-0261-4596-b137-daa242a5e7da"
    }
   },
   "source": [
    "### 1.1 Imports <a id='1.1'>&nbsp;</a> \n",
    "**Note:** The custom `DatasetLoader` is a helper class for easier loading and subsetting data from the datasets."
   ]
  },
  {
   "cell_type": "code",
   "execution_count": 49,
   "metadata": {
    "nbpresent": {
     "id": "6f548351-2f4b-4d09-9223-3dcce05f935d"
    },
    "scrolled": true
   },
   "outputs": [
    {
     "ename": "AttributeError",
     "evalue": "module 'dill' has no attribute 'load_session'",
     "output_type": "error",
     "traceback": [
      "\u001b[0;31m---------------------------------------------------------------------------\u001b[0m",
      "\u001b[0;31mAttributeError\u001b[0m                            Traceback (most recent call last)",
      "\u001b[0;32m<ipython-input-49-2537d1aba033>\u001b[0m in \u001b[0;36m<module>\u001b[0;34m\u001b[0m\n\u001b[1;32m      1\u001b[0m \u001b[0;32mimport\u001b[0m \u001b[0mdill\u001b[0m\u001b[0;34m\u001b[0m\u001b[0;34m\u001b[0m\u001b[0m\n\u001b[0;32m----> 2\u001b[0;31m \u001b[0mdill\u001b[0m\u001b[0;34m.\u001b[0m\u001b[0mload_session\u001b[0m\u001b[0;34m(\u001b[0m\u001b[0;34m'55.db'\u001b[0m\u001b[0;34m)\u001b[0m\u001b[0;34m\u001b[0m\u001b[0;34m\u001b[0m\u001b[0m\n\u001b[0m\u001b[1;32m      3\u001b[0m \u001b[0;31m#dill.dump_session('55.db')\u001b[0m\u001b[0;34m\u001b[0m\u001b[0;34m\u001b[0m\u001b[0;34m\u001b[0m\u001b[0m\n",
      "\u001b[0;31mAttributeError\u001b[0m: module 'dill' has no attribute 'load_session'"
     ]
    }
   ],
   "source": [
    "import dill\n",
    "dill.load_session('55.db')\n",
    "#dill.dump_session('55.db')"
   ]
  },
  {
   "cell_type": "code",
   "execution_count": 2,
   "metadata": {
    "nbpresent": {
     "id": "9a3241df-dc2e-479a-8288-10c1633cca2f"
    },
    "scrolled": true
   },
   "outputs": [
    {
     "name": "stdout",
     "output_type": "stream",
     "text": [
      "1.4.1\n"
     ]
    }
   ],
   "source": [
    "import scipy as sc \n",
    "print(sc.__version__)"
   ]
  },
  {
   "cell_type": "markdown",
   "metadata": {
    "nbpresent": {
     "id": "3581d7f4-2e82-478b-8f1c-567411d10c9e"
    }
   },
   "source": [
    "tflow_select-2.3.0-mkl\n",
    "blas-1.0-mkl\n",
    "ca-certificates-2019.5.15-0\n",
    "icc_rt-2019.0.0-h0cc432a_1\n",
    "intel-openmp-2019.4-245\n",
    "msys2-conda-epoch-20160418-1\n",
    "pandoc-2.2.3.2-0\n",
    "vs2015_runtime-14.15.26706-h3a45250_4\n",
    "winpty-0.4.3-4\n",
    "libmklml-2019.0.3-0\n",
    "m2w64-gmp-6.1.0-2\n",
    "m2w64-libwinpthread-git-5.0.0.4634.697f757-2\n",
    "mkl-2019.4-245\n",
    "nodejs-10.13.0-0\n",
    "vc-14.1-h0510ff6_4\n",
    "bzip2-1.0.6-hfa6e2cd_5\n",
    "ffmpeg-4.1.3-h6538335_0\n",
    "graphviz-2.38-hfd603c8_2\n",
    "icu-58.2-ha66f8fd_1\n",
    "jpeg-9b-hb83a4c4_2\n",
    "libsodium-1.0.16-h9d3ae62_0\n",
    "lz4-c-1.8.1.2-h2fa13f4_0\n",
    "lzo-2.10-h6df0209_2\n",
    "m2w64-gcc-libs-core-5.3.0-7\n",
    "openssl-1.1.1c-he774522_1\n",
    "snappy-1.1.7-h777316e_3\n",
    "sqlite-3.28.0-he774522_0\n",
    "xz-5.2.4-h2fa13f4_4\n",
    "yaml-0.1.7-hc54c509_2\n",
    "zlib-1.2.11-h62dcd97_3\n",
    "hdf5-1.10.4-h7ebc959_0\n",
    "libpng-1.6.37-h2a8f88b_0\n",
    "libprotobuf-3.8.0-h7bd577a_0\n",
    "m2w64-gcc-libgfortran-5.3.0-6\n",
    "python-3.6.8-h9f7ef89_7\n",
    "zeromq-4.3.1-h33f27b4_3\n",
    "zstd-1.3.7-h508b16e_0\n",
    "appdirs-1.4.3-py36h28b3542_0\n",
    "astor-0.7.1-py36_0\n",
    "attrs-19.1.0-py36_1\n",
    "backcall-0.1.0-py36_0\n",
    "blosc-1.16.3-h7bd577a_0\n",
    "certifi-2019.6.16-py36_0\n",
    "click-7.0-py36_0\n",
    "colorama-0.4.1-py36_0\n",
    "dataclasses-0.6-py_0\n",
    "decorator-4.4.0-py36_1\n",
    "defusedxml-0.6.0-py_0\n",
    "entrypoints-0.3-py36_0\n",
    "freetype-2.9.1-ha9979f8_1\n",
    "gast-0.2.2-py36_0\n",
    "ipython_genutils-0.2.0-py36h3c5d0ee_0\n",
    "joblib-0.13.2-py36_0\n",
    "kiwisolver-1.1.0-py36ha925a31_0\n",
    "lazy-object-proxy-1.4.1-py36he774522_0\n",
    "m2w64-gcc-libs-5.3.0-7\n",
    "markupsafe-1.1.1-py36he774522_0\n",
    "mccabe-0.6.1-py36_1\n",
    "mistune-0.8.4-py36he774522_0\n",
    "numpy-base-1.16.4-py36hc3f5095_0\n",
    "pandocfilters-1.4.2-py36_1\n",
    "parso-0.4.0-py_0\n",
    "pickleshare-0.7.5-py36_0\n",
    "prometheus_client-0.6.0-py36_0\n",
    "pycodestyle-2.5.0-py36_0\n",
    "pyflakes-2.1.1-py36_0\n",
    "pyparsing-2.4.0-py_0\n",
    "pyreadline-2.1-py36_1\n",
    "pytz-2019.1-py_0\n",
    "pyyaml-5.1-py36he774522_0\n",
    "pyzmq-18.0.0-py36ha925a31_0\n",
    "qt-5.9.7-vc14h73c81de_0\n",
    "send2trash-1.5.0-py36_0\n",
    "sip-4.19.8-py36h6538335_0\n",
    "six-1.12.0-py36_0\n",
    "snowballstemmer-1.2.1-py36h763602f_0\n",
    "termcolor-1.1.0-py36_1\n",
    "testpath-0.4.2-py36_0\n",
    "toml-0.10.0-py36h28b3542_0\n",
    "tornado-6.0.2-py36he774522_0\n",
    "tqdm-4.31.1-py36_1\n",
    "typed-ast-1.3.4-py36he774522_0\n",
    "wcwidth-0.1.7-py36h3d5aa90_0\n",
    "webencodings-0.5.1-py36_1\n",
    "werkzeug-0.15.4-py_0\n",
    "wincertstore-0.2-py36h7fe50ca_0\n",
    "wrapt-1.11.1-py36he774522_0\n",
    "absl-py-0.7.1-py36_0\n",
    "black-19.3b0-py_0\n",
    "cycler-0.10.0-py36h009560c_0\n",
    "jedi-0.13.3-py36_0\n",
    "mkl_random-1.0.2-py36h343c172_0\n",
    "mock-3.0.5-py36_0\n",
    "pydocstyle-3.0.0-py36_0\n",
    "pydot-1.4.1-py36_0\n",
    "pyqt-5.9.2-py36h6538335_2\n",
    "pyrsistent-0.14.11-py36he774522_0\n",
    "python-dateutil-2.8.0-py36_0\n",
    "pywinpty-0.5.5-py36_1000\n",
    "setuptools-41.0.1-py36_0\n",
    "traitlets-4.3.2-py36h096827d_0\n",
    "astroid-2.2.5-py36_0\n",
    "bleach-3.1.0-py36_0\n",
    "flake8-3.7.7-py36_0\n",
    "grpcio-1.16.1-py36h351948d_1\n",
    "isort-4.3.20-py36_0\n",
    "jinja2-2.10.1-py36_0\n",
    "jsonschema-3.0.1-py36_0\n",
    "jupyter_core-4.4.0-py36_0\n",
    "markdown-3.1.1-py36_0\n",
    "protobuf-3.8.0-py36h33f27b4_0\n",
    "pygments-2.4.2-py_0\n",
    "terminado-0.8.2-py36_0\n",
    "wheel-0.33.4-py36_0\n",
    "jupyter_client-5.2.4-py36_0\n",
    "nbformat-4.4.0-py36h3a5bc1b_0\n",
    "pip-19.1.1-py36_0\n",
    "prompt_toolkit-2.0.9-py36_0\n",
    "pylint-2.3.1-py36_0\n",
    "ipython-7.5.0-py36h39e3cac_0\n",
    "nbconvert-5.5.0-py_0\n",
    "ipykernel-5.1.1-py36h39e3cac_0\n",
    "notebook-5.7.8-py36_0\n",
    "jupyterlab_server-0.2.0-py36_0\n",
    "widgetsnbextension-3.4.2-py36_0\n",
    "ipywidgets-7.4.2-py36_0\n",
    "jupyterlab-0.35.4-py36hf63ae98_0\n",
    "h5py-2.9.0-py36h5e291fa_0\n",
    "keras-applications-1.0.8-py_0\n",
    "matplotlib-3.0.3-py36hc8f65d3_0\n",
    "mkl-service-2.0.2-py36he774522_0\n",
    "mkl_fft-1.0.12-py36h14836fe_0\n",
    "numpy-1.16.4-py36h19fb1c0_0\n",
    "numexpr-2.6.9-py36hdce8814_0\n",
    "pandas-0.24.2-py36ha925a31_0\n",
    "scipy-1.2.1-py36h29ff71c_0\n",
    "tensorboard-1.13.1-py36h33f27b4_0\n",
    "tensorflow-estimator-1.13.0-py_0\n",
    "keras-preprocessing-1.1.0-py_1\n",
    "patsy-0.5.1-py36_0\n",
    "peakutils-1.3.2-py_0\n",
    "pytables-3.5.2-py36h1da0976_1\n",
    "scikit-learn-0.21.2-py36h6288b17_0\n",
    "keras-base-2.2.4-py36_0\n",
    "statsmodels-0.9.0-py36h452e1ab_0\n",
    "tensorflow-base-1.13.1-mkl_py36hcaf7020_0\n",
    "seaborn-0.9.0-py36_0\n",
    "tensorflow-1.13.1-mkl_py36hd212fbe_0\n",
    "keras-2.2.4-0"
   ]
  },
  {
   "cell_type": "code",
   "execution_count": 2,
   "metadata": {
    "nbpresent": {
     "id": "304cc8ba-dd84-403f-8dc9-34920215cca7"
    }
   },
   "outputs": [
    {
     "name": "stdout",
     "output_type": "stream",
     "text": [
      "Collecting tflow_select==2.3.0\n",
      "\u001b[31m  Could not find a version that satisfies the requirement tflow_select==2.3.0 (from versions: )\u001b[0m\n",
      "\u001b[31mNo matching distribution found for tflow_select==2.3.0\u001b[0m\n",
      "\u001b[33mYou are using pip version 10.0.1, however version 20.2.3 is available.\n",
      "You should consider upgrading via the 'pip install --upgrade pip' command.\u001b[0m\n",
      "Collecting blas==1.0\n",
      "\u001b[31m  Could not find a version that satisfies the requirement blas==1.0 (from versions: )\u001b[0m\n",
      "\u001b[31mNo matching distribution found for blas==1.0\u001b[0m\n",
      "\u001b[33mYou are using pip version 10.0.1, however version 20.2.3 is available.\n",
      "You should consider upgrading via the 'pip install --upgrade pip' command.\u001b[0m\n",
      "Collecting ca-certificates==2019.5.15\n",
      "\u001b[31m  Could not find a version that satisfies the requirement ca-certificates==2019.5.15 (from versions: )\u001b[0m\n",
      "\u001b[31mNo matching distribution found for ca-certificates==2019.5.15\u001b[0m\n",
      "\u001b[33mYou are using pip version 10.0.1, however version 20.2.3 is available.\n",
      "You should consider upgrading via the 'pip install --upgrade pip' command.\u001b[0m\n",
      "Collecting icc_rt==2019.0.0\n",
      "  Using cached https://files.pythonhosted.org/packages/1e/29/0ee89498c2b3e96620add5f4730d4e55e685b292a47aa67f52975fed9f71/icc_rt-2019.0-py2.py3-none-manylinux1_x86_64.whl\n",
      "Collecting intel-openmp (from icc_rt==2019.0.0)\n",
      "  Using cached https://files.pythonhosted.org/packages/fe/eb/85eac048aec9c45f0fdf6a9255ff18095827b465d216d49aa44f942589f4/intel_openmp-2020.0.133-py2.py3-none-manylinux1_x86_64.whl\n",
      "Installing collected packages: intel-openmp, icc-rt\n",
      "Successfully installed icc-rt-2019.0 intel-openmp-2020.0.133\n",
      "\u001b[33mYou are using pip version 10.0.1, however version 20.2.3 is available.\n",
      "You should consider upgrading via the 'pip install --upgrade pip' command.\u001b[0m\n",
      "Collecting intel-openmp==2019.4\n",
      "\u001b[31m  Could not find a version that satisfies the requirement intel-openmp==2019.4 (from versions: 2018.0.0, 2018.0.3, 2019.0, 2020.0.133)\u001b[0m\n",
      "\u001b[31mNo matching distribution found for intel-openmp==2019.4\u001b[0m\n",
      "\u001b[33mYou are using pip version 10.0.1, however version 20.2.3 is available.\n",
      "You should consider upgrading via the 'pip install --upgrade pip' command.\u001b[0m\n",
      "Collecting epoch==20160418\n",
      "\u001b[31m  Could not find a version that satisfies the requirement epoch==20160418 (from versions: 0.1.1, 0.1.2, 0.1.3, 0.1.4, 0.1.5)\u001b[0m\n",
      "\u001b[31mNo matching distribution found for epoch==20160418\u001b[0m\n",
      "\u001b[33mYou are using pip version 10.0.1, however version 20.2.3 is available.\n",
      "You should consider upgrading via the 'pip install --upgrade pip' command.\u001b[0m\n",
      "Collecting pandoc==2.2.3.2\n",
      "\u001b[31m  Could not find a version that satisfies the requirement pandoc==2.2.3.2 (from versions: 1.0.0a0, 1.0.0a3, 1.0.0a6, 1.0.0a7, 1.0.0a8, 1.0.0a12, 1.0.0a13, 1.0.0a14, 1.0.0a16, 1.0.0a17, 1.0.0a18, 1.0.0a19, 1.0.0b1, 1.0.0b2, 1.0.0b3, 1.0.0, 1.0.1, 1.0.2, 2.0a1, 2.0a2, 2.0a3, 2.0a4)\u001b[0m\n",
      "\u001b[31mNo matching distribution found for pandoc==2.2.3.2\u001b[0m\n",
      "\u001b[33mYou are using pip version 10.0.1, however version 20.2.3 is available.\n",
      "You should consider upgrading via the 'pip install --upgrade pip' command.\u001b[0m\n",
      "Collecting vs2015_runtime==14.15.26706\n",
      "\u001b[31m  Could not find a version that satisfies the requirement vs2015_runtime==14.15.26706 (from versions: )\u001b[0m\n",
      "\u001b[31mNo matching distribution found for vs2015_runtime==14.15.26706\u001b[0m\n",
      "\u001b[33mYou are using pip version 10.0.1, however version 20.2.3 is available.\n",
      "You should consider upgrading via the 'pip install --upgrade pip' command.\u001b[0m\n",
      "Collecting winpty==0.4.3\n",
      "\u001b[31m  Could not find a version that satisfies the requirement winpty==0.4.3 (from versions: )\u001b[0m\n",
      "\u001b[31mNo matching distribution found for winpty==0.4.3\u001b[0m\n",
      "\u001b[33mYou are using pip version 10.0.1, however version 20.2.3 is available.\n",
      "You should consider upgrading via the 'pip install --upgrade pip' command.\u001b[0m\n",
      "Collecting libmklml==2019.0.3\n",
      "\u001b[31m  Could not find a version that satisfies the requirement libmklml==2019.0.3 (from versions: )\u001b[0m\n",
      "\u001b[31mNo matching distribution found for libmklml==2019.0.3\u001b[0m\n",
      "\u001b[33mYou are using pip version 10.0.1, however version 20.2.3 is available.\n",
      "You should consider upgrading via the 'pip install --upgrade pip' command.\u001b[0m\n",
      "Collecting m2w64==gmp==6.1.0\n",
      "\u001b[31m  Could not find a version that satisfies the requirement m2w64==gmp==6.1.0 (from versions: )\u001b[0m\n",
      "\u001b[31mNo matching distribution found for m2w64==gmp==6.1.0\u001b[0m\n",
      "\u001b[33mYou are using pip version 10.0.1, however version 20.2.3 is available.\n",
      "You should consider upgrading via the 'pip install --upgrade pip' command.\u001b[0m\n",
      "Collecting m2w64==libwinpthread\n",
      "\u001b[31m  Could not find a version that satisfies the requirement m2w64==libwinpthread (from versions: )\u001b[0m\n",
      "\u001b[31mNo matching distribution found for m2w64==libwinpthread\u001b[0m\n",
      "\u001b[33mYou are using pip version 10.0.1, however version 20.2.3 is available.\n",
      "You should consider upgrading via the 'pip install --upgrade pip' command.\u001b[0m\n",
      "Collecting mkl==2019.4\n",
      "\u001b[31m  Could not find a version that satisfies the requirement mkl==2019.4 (from versions: 2018.0.0, 2018.0.3, 2019.0)\u001b[0m\n",
      "\u001b[31mNo matching distribution found for mkl==2019.4\u001b[0m\n",
      "\u001b[33mYou are using pip version 10.0.1, however version 20.2.3 is available.\n",
      "You should consider upgrading via the 'pip install --upgrade pip' command.\u001b[0m\n",
      "Collecting nodejs==10.13.0\n",
      "\u001b[31m  Could not find a version that satisfies the requirement nodejs==10.13.0 (from versions: 0.1.0, 0.1.1)\u001b[0m\n",
      "\u001b[31mNo matching distribution found for nodejs==10.13.0\u001b[0m\n",
      "\u001b[33mYou are using pip version 10.0.1, however version 20.2.3 is available.\n",
      "You should consider upgrading via the 'pip install --upgrade pip' command.\u001b[0m\n",
      "Collecting vc==14.1\n",
      "\u001b[31m  Could not find a version that satisfies the requirement vc==14.1 (from versions: 2018.7.10)\u001b[0m\n",
      "\u001b[31mNo matching distribution found for vc==14.1\u001b[0m\n",
      "\u001b[33mYou are using pip version 10.0.1, however version 20.2.3 is available.\n",
      "You should consider upgrading via the 'pip install --upgrade pip' command.\u001b[0m\n",
      "Collecting bzip2==1.0.6\n",
      "\u001b[31m  Could not find a version that satisfies the requirement bzip2==1.0.6 (from versions: )\u001b[0m\n",
      "\u001b[31mNo matching distribution found for bzip2==1.0.6\u001b[0m\n",
      "\u001b[33mYou are using pip version 10.0.1, however version 20.2.3 is available.\n",
      "You should consider upgrading via the 'pip install --upgrade pip' command.\u001b[0m\n",
      "Collecting ffmpeg==4.1.3\n",
      "\u001b[31m  Could not find a version that satisfies the requirement ffmpeg==4.1.3 (from versions: 1.1.0, 1.2.0, 1.2.1, 1.3, 1.4)\u001b[0m\n",
      "\u001b[31mNo matching distribution found for ffmpeg==4.1.3\u001b[0m\n",
      "\u001b[33mYou are using pip version 10.0.1, however version 20.2.3 is available.\n",
      "You should consider upgrading via the 'pip install --upgrade pip' command.\u001b[0m\n",
      "Collecting graphviz==2.38\n",
      "\u001b[31m  Could not find a version that satisfies the requirement graphviz==2.38 (from versions: 0.1, 0.1.1, 0.2, 0.2.1, 0.2.2, 0.3, 0.3.1, 0.3.2, 0.3.3, 0.3.4, 0.3.5, 0.4, 0.4.1, 0.4.2, 0.4.3, 0.4.4, 0.4.5, 0.4.6, 0.4.7, 0.4.8, 0.4.9, 0.4.10, 0.5, 0.5.1, 0.5.2, 0.6, 0.7, 0.7.1, 0.8, 0.8.1, 0.8.2, 0.8.3, 0.8.4, 0.9, 0.10, 0.10.1, 0.11, 0.11.1, 0.12, 0.13, 0.13.1, 0.13.2, 0.14, 0.14.1)\u001b[0m\n",
      "\u001b[31mNo matching distribution found for graphviz==2.38\u001b[0m\n",
      "\u001b[33mYou are using pip version 10.0.1, however version 20.2.3 is available.\n",
      "You should consider upgrading via the 'pip install --upgrade pip' command.\u001b[0m\n",
      "Collecting icu==58.2\n",
      "\u001b[31m  Could not find a version that satisfies the requirement icu==58.2 (from versions: )\u001b[0m\n",
      "\u001b[31mNo matching distribution found for icu==58.2\u001b[0m\n",
      "\u001b[33mYou are using pip version 10.0.1, however version 20.2.3 is available.\n",
      "You should consider upgrading via the 'pip install --upgrade pip' command.\u001b[0m\n",
      "Collecting jpeg==9b\n",
      "\u001b[31m  Could not find a version that satisfies the requirement jpeg==9b (from versions: )\u001b[0m\n",
      "\u001b[31mNo matching distribution found for jpeg==9b\u001b[0m\n",
      "\u001b[33mYou are using pip version 10.0.1, however version 20.2.3 is available.\n",
      "You should consider upgrading via the 'pip install --upgrade pip' command.\u001b[0m\n",
      "Collecting libsodium==1.0.16\n",
      "\u001b[31m  Could not find a version that satisfies the requirement libsodium==1.0.16 (from versions: )\u001b[0m\n",
      "\u001b[31mNo matching distribution found for libsodium==1.0.16\u001b[0m\n",
      "\u001b[33mYou are using pip version 10.0.1, however version 20.2.3 is available.\n",
      "You should consider upgrading via the 'pip install --upgrade pip' command.\u001b[0m\n"
     ]
    },
    {
     "name": "stdout",
     "output_type": "stream",
     "text": [
      "Collecting lz4==c==1.8.1.2\n",
      "\u001b[31m  Could not find a version that satisfies the requirement lz4==c==1.8.1.2 (from versions: 0.1, 0.2, 0.2.1, 0.3.0, 0.3.1, 0.3.2, 0.4.0, 0.5.0, 0.6.0, 0.6.1, 0.7.0, 0.8.1, 0.8.2, 0.9.0, 0.9.1, 0.9.2, 0.9.3, 0.9.4, 0.10.0, 0.10.1, 0.11.1, 0.12.0, 0.13.0, 0.14.0, 0.15.0, 0.16.1, 0.16.2, 0.16.3, 0.16.4, 0.16.5, 0.16.6, 0.17.0, 0.18.0, 0.18.1, 0.18.2, 0.19.1, 0.19.2, 0.20.1, 0.21.1, 0.21.2, 0.21.3, 0.21.5, 0.21.6, 0.22.1, 0.23.1, 0.23.2, 1.0.0, 1.0.1, 1.1.0, 2.0.0, 2.0.1, 2.0.2, 2.1.0, 2.1.1, 2.1.2, 2.1.3, 2.1.4, 2.1.5, 2.1.6, 2.1.7, 2.1.8, 2.1.9, 2.1.10, 2.2.1, 3.0.0, 3.0.1, 3.0.2, 3.1.0)\u001b[0m\n",
      "\u001b[31mNo matching distribution found for lz4==c==1.8.1.2\u001b[0m\n",
      "\u001b[33mYou are using pip version 10.0.1, however version 20.2.3 is available.\n",
      "You should consider upgrading via the 'pip install --upgrade pip' command.\u001b[0m\n",
      "Collecting lzo==2.10\n",
      "\u001b[31m  Could not find a version that satisfies the requirement lzo==2.10 (from versions: )\u001b[0m\n",
      "\u001b[31mNo matching distribution found for lzo==2.10\u001b[0m\n",
      "\u001b[33mYou are using pip version 10.0.1, however version 20.2.3 is available.\n",
      "You should consider upgrading via the 'pip install --upgrade pip' command.\u001b[0m\n",
      "Collecting m2w64-gcc-libs-core==5.3.0\n",
      "\u001b[31m  Could not find a version that satisfies the requirement m2w64-gcc-libs-core==5.3.0 (from versions: )\u001b[0m\n",
      "\u001b[31mNo matching distribution found for m2w64-gcc-libs-core==5.3.0\u001b[0m\n",
      "\u001b[33mYou are using pip version 10.0.1, however version 20.2.3 is available.\n",
      "You should consider upgrading via the 'pip install --upgrade pip' command.\u001b[0m\n",
      "Collecting openssl==1.1.1c\n",
      "\u001b[31m  Could not find a version that satisfies the requirement openssl==1.1.1c (from versions: )\u001b[0m\n",
      "\u001b[31mNo matching distribution found for openssl==1.1.1c\u001b[0m\n",
      "\u001b[33mYou are using pip version 10.0.1, however version 20.2.3 is available.\n",
      "You should consider upgrading via the 'pip install --upgrade pip' command.\u001b[0m\n",
      "Collecting snappy==1.1.7\n",
      "\u001b[31m  Could not find a version that satisfies the requirement snappy==1.1.7 (from versions: 2.2, 2.3, 2.3.1, 2.3.2, 2.4, 2.4.1, 2.4.2, 2.5, 2.5.1, 2.5.2, 2.5.4, 2.6, 2.6.1.post1, 2.7, 2.8)\u001b[0m\n",
      "\u001b[31mNo matching distribution found for snappy==1.1.7\u001b[0m\n",
      "\u001b[33mYou are using pip version 10.0.1, however version 20.2.3 is available.\n",
      "You should consider upgrading via the 'pip install --upgrade pip' command.\u001b[0m\n",
      "Collecting sqlite==3.28.0\n",
      "\u001b[31m  Could not find a version that satisfies the requirement sqlite==3.28.0 (from versions: )\u001b[0m\n",
      "\u001b[31mNo matching distribution found for sqlite==3.28.0\u001b[0m\n",
      "\u001b[33mYou are using pip version 10.0.1, however version 20.2.3 is available.\n",
      "You should consider upgrading via the 'pip install --upgrade pip' command.\u001b[0m\n",
      "Collecting xz==5.2.4\n",
      "\u001b[31m  Could not find a version that satisfies the requirement xz==5.2.4 (from versions: )\u001b[0m\n",
      "\u001b[31mNo matching distribution found for xz==5.2.4\u001b[0m\n",
      "\u001b[33mYou are using pip version 10.0.1, however version 20.2.3 is available.\n",
      "You should consider upgrading via the 'pip install --upgrade pip' command.\u001b[0m\n",
      "Collecting yaml==0.1.7\n",
      "\u001b[31m  Could not find a version that satisfies the requirement yaml==0.1.7 (from versions: )\u001b[0m\n",
      "\u001b[31mNo matching distribution found for yaml==0.1.7\u001b[0m\n",
      "\u001b[33mYou are using pip version 10.0.1, however version 20.2.3 is available.\n",
      "You should consider upgrading via the 'pip install --upgrade pip' command.\u001b[0m\n",
      "Collecting zlib==1.2.11\n",
      "\u001b[31m  Could not find a version that satisfies the requirement zlib==1.2.11 (from versions: )\u001b[0m\n",
      "\u001b[31mNo matching distribution found for zlib==1.2.11\u001b[0m\n",
      "\u001b[33mYou are using pip version 10.0.1, however version 20.2.3 is available.\n",
      "You should consider upgrading via the 'pip install --upgrade pip' command.\u001b[0m\n",
      "Collecting libpng==1.6.37\n",
      "\u001b[31m  Could not find a version that satisfies the requirement libpng==1.6.37 (from versions: )\u001b[0m\n",
      "\u001b[31mNo matching distribution found for libpng==1.6.37\u001b[0m\n",
      "\u001b[33mYou are using pip version 10.0.1, however version 20.2.3 is available.\n",
      "You should consider upgrading via the 'pip install --upgrade pip' command.\u001b[0m\n",
      "Collecting libprotobuf==3.8.0\n",
      "\u001b[31m  Could not find a version that satisfies the requirement libprotobuf==3.8.0 (from versions: )\u001b[0m\n",
      "\u001b[31mNo matching distribution found for libprotobuf==3.8.0\u001b[0m\n",
      "\u001b[33mYou are using pip version 10.0.1, however version 20.2.3 is available.\n",
      "You should consider upgrading via the 'pip install --upgrade pip' command.\u001b[0m\n",
      "Collecting m2w64-gcc-libgfortran==5.3.0\n",
      "\u001b[31m  Could not find a version that satisfies the requirement m2w64-gcc-libgfortran==5.3.0 (from versions: )\u001b[0m\n",
      "\u001b[31mNo matching distribution found for m2w64-gcc-libgfortran==5.3.0\u001b[0m\n",
      "\u001b[33mYou are using pip version 10.0.1, however version 20.2.3 is available.\n",
      "You should consider upgrading via the 'pip install --upgrade pip' command.\u001b[0m\n",
      "Collecting python==3.6.8\n",
      "\u001b[31m  Could not find a version that satisfies the requirement python==3.6.8 (from versions: )\u001b[0m\n",
      "\u001b[31mNo matching distribution found for python==3.6.8\u001b[0m\n",
      "\u001b[33mYou are using pip version 10.0.1, however version 20.2.3 is available.\n",
      "You should consider upgrading via the 'pip install --upgrade pip' command.\u001b[0m\n",
      "Collecting zeromq==4.3.1\n",
      "\u001b[31m  Could not find a version that satisfies the requirement zeromq==4.3.1 (from versions: )\u001b[0m\n",
      "\u001b[31mNo matching distribution found for zeromq==4.3.1\u001b[0m\n",
      "\u001b[33mYou are using pip version 10.0.1, however version 20.2.3 is available.\n",
      "You should consider upgrading via the 'pip install --upgrade pip' command.\u001b[0m\n",
      "Collecting zstd==1.3.7\n",
      "\u001b[31m  Could not find a version that satisfies the requirement zstd==1.3.7 (from versions: 1.3.0.2, 1.3.1, 1.3.3, 1.3.4, 1.3.4.3, 1.3.4.4, 1.3.4.5, 1.3.5.0, 1.3.5.1, 1.3.8.0, 1.3.8.1, 1.4.0.0, 1.4.1.0, 1.4.3.2, 1.4.4.0, 1.4.5.0, 1.4.5.1)\u001b[0m\n",
      "\u001b[31mNo matching distribution found for zstd==1.3.7\u001b[0m\n",
      "\u001b[33mYou are using pip version 10.0.1, however version 20.2.3 is available.\n",
      "You should consider upgrading via the 'pip install --upgrade pip' command.\u001b[0m\n",
      "Collecting appdirs==1.4.3\n",
      "  Using cached https://files.pythonhosted.org/packages/56/eb/810e700ed1349edde4cbdc1b2a21e28cdf115f9faf263f6bbf8447c1abf3/appdirs-1.4.3-py2.py3-none-any.whl\n",
      "Installing collected packages: appdirs\n",
      "Successfully installed appdirs-1.4.4\n",
      "\u001b[33mYou are using pip version 10.0.1, however version 20.2.3 is available.\n",
      "You should consider upgrading via the 'pip install --upgrade pip' command.\u001b[0m\n",
      "Collecting astor==0.7.1\n",
      "  Using cached https://files.pythonhosted.org/packages/35/6b/11530768cac581a12952a2aad00e1526b89d242d0b9f59534ef6e6a1752f/astor-0.7.1-py2.py3-none-any.whl\n",
      "Installing collected packages: astor\n",
      "Successfully installed astor-0.7.1\n",
      "\u001b[33mYou are using pip version 10.0.1, however version 20.2.3 is available.\n",
      "You should consider upgrading via the 'pip install --upgrade pip' command.\u001b[0m\n",
      "Collecting attrs==19.1.0\n",
      "  Using cached https://files.pythonhosted.org/packages/23/96/d828354fa2dbdf216eaa7b7de0db692f12c234f7ef888cc14980ef40d1d2/attrs-19.1.0-py2.py3-none-any.whl\n",
      "Installing collected packages: attrs\n",
      "Successfully installed attrs-20.2.0\n",
      "\u001b[33mYou are using pip version 10.0.1, however version 20.2.3 is available.\n",
      "You should consider upgrading via the 'pip install --upgrade pip' command.\u001b[0m\n",
      "Collecting backcall==0.1.0\n",
      "Installing collected packages: backcall\n",
      "Successfully installed backcall-0.2.0\n",
      "\u001b[33mYou are using pip version 10.0.1, however version 20.2.3 is available.\n",
      "You should consider upgrading via the 'pip install --upgrade pip' command.\u001b[0m\n",
      "Collecting blosc==1.16.3\n",
      "\u001b[31m  Could not find a version that satisfies the requirement blosc==1.16.3 (from versions: 1.0.3, 1.0.4, 1.0.5, 1.0.6, 1.1, 1.2.0, 1.2.1, 1.2.2, 1.2.3, 1.2.4, 1.2.5, 1.2.7, 1.2.8.dev0, 1.2.8, 1.3.0, 1.3.1, 1.3.2, 1.3.3, 1.4.0, 1.4.1, 1.4.3, 1.4.4, 1.5.0, 1.5.1, 1.6.1, 1.6.2, 1.7.0, 1.8.0, 1.8.1.dev0, 1.8.1, 1.8.2, 1.8.3, 1.9.0, 1.9.1, 1.9.2)\u001b[0m\n",
      "\u001b[31mNo matching distribution found for blosc==1.16.3\u001b[0m\n",
      "\u001b[33mYou are using pip version 10.0.1, however version 20.2.3 is available.\n",
      "You should consider upgrading via the 'pip install --upgrade pip' command.\u001b[0m\n",
      "Collecting certifi==2019.6.16\n",
      "  Using cached https://files.pythonhosted.org/packages/69/1b/b853c7a9d4f6a6d00749e94eb6f3a041e342a885b87340b79c1ef73e3a78/certifi-2019.6.16-py2.py3-none-any.whl\n",
      "Installing collected packages: certifi\n",
      "Successfully installed certifi-2019.6.16\n"
     ]
    },
    {
     "name": "stdout",
     "output_type": "stream",
     "text": [
      "\u001b[33mYou are using pip version 10.0.1, however version 20.2.3 is available.\n",
      "You should consider upgrading via the 'pip install --upgrade pip' command.\u001b[0m\n",
      "Collecting click==7.0\n",
      "  Using cached https://files.pythonhosted.org/packages/fa/37/45185cb5abbc30d7257104c434fe0b07e5a195a6847506c074527aa599ec/Click-7.0-py2.py3-none-any.whl\n",
      "Installing collected packages: click\n",
      "Successfully installed click-7.0\n",
      "\u001b[33mYou are using pip version 10.0.1, however version 20.2.3 is available.\n",
      "You should consider upgrading via the 'pip install --upgrade pip' command.\u001b[0m\n",
      "Collecting colorama==0.4.1\n",
      "  Using cached https://files.pythonhosted.org/packages/4f/a6/728666f39bfff1719fc94c481890b2106837da9318031f71a8424b662e12/colorama-0.4.1-py2.py3-none-any.whl\n",
      "Installing collected packages: colorama\n",
      "Successfully installed colorama-0.4.1\n",
      "\u001b[33mYou are using pip version 10.0.1, however version 20.2.3 is available.\n",
      "You should consider upgrading via the 'pip install --upgrade pip' command.\u001b[0m\n",
      "Collecting decorator==4.4.0\n",
      "  Using cached https://files.pythonhosted.org/packages/5f/88/0075e461560a1e750a0dcbf77f1d9de775028c37a19a346a6c565a257399/decorator-4.4.0-py2.py3-none-any.whl\n",
      "Installing collected packages: decorator\n",
      "Successfully installed decorator-4.4.0\n",
      "\u001b[33mYou are using pip version 10.0.1, however version 20.2.3 is available.\n",
      "You should consider upgrading via the 'pip install --upgrade pip' command.\u001b[0m\n",
      "Collecting defusedxml==0.6.0\n",
      "  Using cached https://files.pythonhosted.org/packages/06/74/9b387472866358ebc08732de3da6dc48e44b0aacd2ddaa5cb85ab7e986a2/defusedxml-0.6.0-py2.py3-none-any.whl\n",
      "Installing collected packages: defusedxml\n",
      "Successfully installed defusedxml-0.6.0\n",
      "\u001b[33mYou are using pip version 10.0.1, however version 20.2.3 is available.\n",
      "You should consider upgrading via the 'pip install --upgrade pip' command.\u001b[0m\n",
      "Collecting entrypoints==0.3\n",
      "  Using cached https://files.pythonhosted.org/packages/ac/c6/44694103f8c221443ee6b0041f69e2740d89a25641e62fb4f2ee568f2f9c/entrypoints-0.3-py2.py3-none-any.whl\n",
      "Installing collected packages: entrypoints\n",
      "Successfully installed entrypoints-0.3\n",
      "\u001b[33mYou are using pip version 10.0.1, however version 20.2.3 is available.\n",
      "You should consider upgrading via the 'pip install --upgrade pip' command.\u001b[0m\n",
      "Collecting freetype==2.9.1\n",
      "\u001b[31m  Could not find a version that satisfies the requirement freetype==2.9.1 (from versions: )\u001b[0m\n",
      "\u001b[31mNo matching distribution found for freetype==2.9.1\u001b[0m\n",
      "\u001b[33mYou are using pip version 10.0.1, however version 20.2.3 is available.\n",
      "You should consider upgrading via the 'pip install --upgrade pip' command.\u001b[0m\n",
      "Requirement already satisfied: ipython_genutils==0.2.0 in /gpfs/fs1/scinet/niagara/software/2018a/opt/base/anaconda3/5.1.0-hub/lib-orig/python3.6/site-packages (0.2.0)\n",
      "\u001b[33mYou are using pip version 10.0.1, however version 20.2.3 is available.\n",
      "You should consider upgrading via the 'pip install --upgrade pip' command.\u001b[0m\n",
      "Collecting joblib==0.13.2\n",
      "  Using cached https://files.pythonhosted.org/packages/cd/c1/50a758e8247561e58cb87305b1e90b171b8c767b15b12a1734001f41d356/joblib-0.13.2-py2.py3-none-any.whl\n",
      "Installing collected packages: joblib\n",
      "Successfully installed joblib-0.16.0\n",
      "\u001b[33mYou are using pip version 10.0.1, however version 20.2.3 is available.\n",
      "You should consider upgrading via the 'pip install --upgrade pip' command.\u001b[0m\n",
      "Collecting kiwisolver==1.1.0\n",
      "  Using cached https://files.pythonhosted.org/packages/f8/a1/5742b56282449b1c0968197f63eae486eca2c35dcd334bab75ad524e0de1/kiwisolver-1.1.0-cp36-cp36m-manylinux1_x86_64.whl\n",
      "Requirement already satisfied: setuptools in /gpfs/fs1/scinet/niagara/software/2018a/opt/base/anaconda3/5.1.0-hub/lib-orig/python3.6/site-packages (from kiwisolver==1.1.0) (38.4.0)\n",
      "Installing collected packages: kiwisolver\n",
      "Successfully installed kiwisolver-1.2.0\n",
      "\u001b[33mYou are using pip version 10.0.1, however version 20.2.3 is available.\n",
      "You should consider upgrading via the 'pip install --upgrade pip' command.\u001b[0m\n",
      "Collecting lazy-object-proxy==1.4.1\n",
      "  Using cached https://files.pythonhosted.org/packages/1a/2a/d73b99e9407be3acd7c0328fcc44bcf6f5c42e6d03d1fb192032c0057d13/lazy_object_proxy-1.4.1-cp36-cp36m-manylinux1_x86_64.whl\n",
      "Installing collected packages: lazy-object-proxy\n",
      "Successfully installed lazy-object-proxy-1.4.3\n",
      "\u001b[33mYou are using pip version 10.0.1, however version 20.2.3 is available.\n",
      "You should consider upgrading via the 'pip install --upgrade pip' command.\u001b[0m\n",
      "Collecting m2w64-gcc-libs==5.3.0\n",
      "\u001b[31m  Could not find a version that satisfies the requirement m2w64-gcc-libs==5.3.0 (from versions: )\u001b[0m\n",
      "\u001b[31mNo matching distribution found for m2w64-gcc-libs==5.3.0\u001b[0m\n",
      "\u001b[33mYou are using pip version 10.0.1, however version 20.2.3 is available.\n",
      "You should consider upgrading via the 'pip install --upgrade pip' command.\u001b[0m\n",
      "Collecting markupsafe==1.1.1\n",
      "  Using cached https://files.pythonhosted.org/packages/b2/5f/23e0023be6bb885d00ffbefad2942bc51a620328ee910f64abe5a8d18dd1/MarkupSafe-1.1.1-cp36-cp36m-manylinux1_x86_64.whl\n",
      "Installing collected packages: markupsafe\n",
      "Successfully installed markupsafe-1.1.1\n",
      "\u001b[33mYou are using pip version 10.0.1, however version 20.2.3 is available.\n",
      "You should consider upgrading via the 'pip install --upgrade pip' command.\u001b[0m\n",
      "Requirement already satisfied: mccabe==0.6.1 in /gpfs/fs1/scinet/niagara/software/2018a/opt/base/anaconda3/5.1.0-hub/lib-orig/python3.6/site-packages (0.6.1)\n",
      "\u001b[33mYou are using pip version 10.0.1, however version 20.2.3 is available.\n",
      "You should consider upgrading via the 'pip install --upgrade pip' command.\u001b[0m\n",
      "Collecting mistune==0.8.4\n",
      "  Using cached https://files.pythonhosted.org/packages/09/ec/4b43dae793655b7d8a25f76119624350b4d65eb663459eb9603d7f1f0345/mistune-0.8.4-py2.py3-none-any.whl\n",
      "Installing collected packages: mistune\n",
      "Successfully installed mistune-0.8.4\n",
      "\u001b[33mYou are using pip version 10.0.1, however version 20.2.3 is available.\n",
      "You should consider upgrading via the 'pip install --upgrade pip' command.\u001b[0m\n",
      "Requirement already satisfied: pandocfilters==1.4.2 in /gpfs/fs1/scinet/niagara/software/2018a/opt/base/anaconda3/5.1.0-hub/lib-orig/python3.6/site-packages (1.4.2)\n",
      "\u001b[33mYou are using pip version 10.0.1, however version 20.2.3 is available.\n",
      "You should consider upgrading via the 'pip install --upgrade pip' command.\u001b[0m\n",
      "Collecting parso==0.4.0\n",
      "  Using cached https://files.pythonhosted.org/packages/a7/bd/e2f4753c5fa93932899243b4299011a757ac212e9bc8ddf062f38df4e78b/parso-0.4.0-py2.py3-none-any.whl\n",
      "\u001b[31mjedi 0.11.1 has requirement parso==0.1.*, but you'll have parso 0.4.0 which is incompatible.\u001b[0m\n",
      "Installing collected packages: parso\n",
      "Successfully installed parso-0.8.0\n",
      "\u001b[33mYou are using pip version 10.0.1, however version 20.2.3 is available.\n",
      "You should consider upgrading via the 'pip install --upgrade pip' command.\u001b[0m\n",
      "Collecting pickleshare==0.7.5\n",
      "  Using cached https://files.pythonhosted.org/packages/9a/41/220f49aaea88bc6fa6cba8d05ecf24676326156c23b991e80b3f2fc24c77/pickleshare-0.7.5-py2.py3-none-any.whl\n",
      "Installing collected packages: pickleshare\n",
      "Successfully installed pickleshare-0.7.5\n",
      "\u001b[33mYou are using pip version 10.0.1, however version 20.2.3 is available.\n",
      "You should consider upgrading via the 'pip install --upgrade pip' command.\u001b[0m\n",
      "Collecting prometheus_client==0.6.0\n",
      "Installing collected packages: prometheus-client\n",
      "Successfully installed prometheus-client-0.8.0\n",
      "\u001b[33mYou are using pip version 10.0.1, however version 20.2.3 is available.\n",
      "You should consider upgrading via the 'pip install --upgrade pip' command.\u001b[0m\n",
      "Collecting pycodestyle==2.5.0\n",
      "  Using cached https://files.pythonhosted.org/packages/0e/0c/04a353e104d2f324f8ee5f4b32012618c1c86dd79e52a433b64fceed511b/pycodestyle-2.5.0-py2.py3-none-any.whl\n",
      "Installing collected packages: pycodestyle\n",
      "\u001b[33m  The script pycodestyle is installed in '/home/u/uhengart/ezzeldi/.local/bin' which is not on PATH.\n",
      "  Consider adding this directory to PATH or, if you prefer to suppress this warning, use --no-warn-script-location.\u001b[0m\n",
      "Successfully installed pycodestyle-2.5.0\n",
      "\u001b[33mYou are using pip version 10.0.1, however version 20.2.3 is available.\n",
      "You should consider upgrading via the 'pip install --upgrade pip' command.\u001b[0m\n",
      "Collecting pyflakes==2.1.1\n",
      "  Using cached https://files.pythonhosted.org/packages/84/f2/ed0ffb887f8138a8fe5a621b8c0bb9598bfb3989e029f6c6a85ee66628ee/pyflakes-2.1.1-py2.py3-none-any.whl\n"
     ]
    },
    {
     "name": "stdout",
     "output_type": "stream",
     "text": [
      "Installing collected packages: pyflakes\n",
      "\u001b[33m  The script pyflakes is installed in '/home/u/uhengart/ezzeldi/.local/bin' which is not on PATH.\n",
      "  Consider adding this directory to PATH or, if you prefer to suppress this warning, use --no-warn-script-location.\u001b[0m\n",
      "Successfully installed pyflakes-2.1.1\n",
      "\u001b[33mYou are using pip version 10.0.1, however version 20.2.3 is available.\n",
      "You should consider upgrading via the 'pip install --upgrade pip' command.\u001b[0m\n",
      "Collecting pyparsing==2.4.0\n",
      "  Using cached https://files.pythonhosted.org/packages/dd/d9/3ec19e966301a6e25769976999bd7bbe552016f0d32b577dc9d63d2e0c49/pyparsing-2.4.0-py2.py3-none-any.whl\n",
      "Installing collected packages: pyparsing\n",
      "Successfully installed pyparsing-2.4.0\n",
      "\u001b[33mYou are using pip version 10.0.1, however version 20.2.3 is available.\n",
      "You should consider upgrading via the 'pip install --upgrade pip' command.\u001b[0m\n",
      "Collecting pyreadline==2.1\n",
      "  Using cached https://files.pythonhosted.org/packages/bc/7c/d724ef1ec3ab2125f38a1d53285745445ec4a8f19b9bb0761b4064316679/pyreadline-2.1.zip\n",
      "    Complete output from command python setup.py egg_info:\n",
      "    Traceback (most recent call last):\n",
      "      File \"<string>\", line 1, in <module>\n",
      "      File \"/tmp/pip-install-09fo86ee/pyreadline/setup.py\", line 21, in <module>\n",
      "        exec(compile(open('pyreadline/release.py').read(), 'pyreadline/release.py', 'exec'))\n",
      "      File \"/scinet/niagara/software/2018a/opt/base/anaconda3/5.1.0-hub/lib/python3.6/encodings/ascii.py\", line 26, in decode\n",
      "        return codecs.ascii_decode(input, self.errors)[0]\n",
      "    UnicodeDecodeError: 'ascii' codec can't decode byte 0xc3 in position 1503: ordinal not in range(128)\n",
      "    \n",
      "    ----------------------------------------\n",
      "\u001b[31mCommand \"python setup.py egg_info\" failed with error code 1 in /tmp/pip-install-09fo86ee/pyreadline/\u001b[0m\n",
      "\u001b[33mYou are using pip version 10.0.1, however version 20.2.3 is available.\n",
      "You should consider upgrading via the 'pip install --upgrade pip' command.\u001b[0m\n",
      "Collecting pytz==2019.1\n",
      "  Using cached https://files.pythonhosted.org/packages/3d/73/fe30c2daaaa0713420d0382b16fbb761409f532c56bdcc514bf7b6262bb6/pytz-2019.1-py2.py3-none-any.whl\n",
      "Installing collected packages: pytz\n",
      "Successfully installed pytz-2019.1\n",
      "\u001b[33mYou are using pip version 10.0.1, however version 20.2.3 is available.\n",
      "You should consider upgrading via the 'pip install --upgrade pip' command.\u001b[0m\n",
      "Collecting pyyaml==5.1\n",
      "Installing collected packages: pyyaml\n",
      "Successfully installed pyyaml-5.1\n",
      "\u001b[33mYou are using pip version 10.0.1, however version 20.2.3 is available.\n",
      "You should consider upgrading via the 'pip install --upgrade pip' command.\u001b[0m\n",
      "Collecting pyzmq==18.0.0\n",
      "  Using cached https://files.pythonhosted.org/packages/27/5a/8ce70c20efaf78fac2524b2f8d98b7360c997bc11a748dd233f3add7507e/pyzmq-18.0.0-cp36-cp36m-manylinux1_x86_64.whl\n",
      "Installing collected packages: pyzmq\n",
      "Successfully installed pyzmq-19.0.2\n",
      "\u001b[33mYou are using pip version 10.0.1, however version 20.2.3 is available.\n",
      "You should consider upgrading via the 'pip install --upgrade pip' command.\u001b[0m\n",
      "Collecting qt==5.9.7==vc14h73c81de_0\n",
      "\u001b[31m  Could not find a version that satisfies the requirement qt==5.9.7==vc14h73c81de_0 (from versions: )\u001b[0m\n",
      "\u001b[31mNo matching distribution found for qt==5.9.7==vc14h73c81de_0\u001b[0m\n",
      "\u001b[33mYou are using pip version 10.0.1, however version 20.2.3 is available.\n",
      "You should consider upgrading via the 'pip install --upgrade pip' command.\u001b[0m\n",
      "Collecting send2trash==1.5.0\n",
      "  Using cached https://files.pythonhosted.org/packages/49/46/c3dc27481d1cc57b9385aff41c474ceb7714f7935b1247194adae45db714/Send2Trash-1.5.0-py3-none-any.whl\n",
      "Installing collected packages: send2trash\n",
      "Successfully installed send2trash-1.5.0\n",
      "\u001b[33mYou are using pip version 10.0.1, however version 20.2.3 is available.\n",
      "You should consider upgrading via the 'pip install --upgrade pip' command.\u001b[0m\n",
      "Collecting sip==4.19.8\n",
      "  Using cached https://files.pythonhosted.org/packages/8a/ea/d317ce5696dda4df7c156cd60447cda22833b38106c98250eae1451f03ec/sip-4.19.8-cp36-cp36m-manylinux1_x86_64.whl\n",
      "Installing collected packages: sip\n",
      "Successfully installed sip-4.19.8\n",
      "\u001b[33mYou are using pip version 10.0.1, however version 20.2.3 is available.\n",
      "You should consider upgrading via the 'pip install --upgrade pip' command.\u001b[0m\n",
      "Collecting six==1.12.0\n",
      "  Using cached https://files.pythonhosted.org/packages/73/fb/00a976f728d0d1fecfe898238ce23f502a721c0ac0ecfedb80e0d88c64e9/six-1.12.0-py2.py3-none-any.whl\n",
      "Installing collected packages: six\n",
      "Successfully installed six-1.15.0\n",
      "\u001b[33mYou are using pip version 10.0.1, however version 20.2.3 is available.\n",
      "You should consider upgrading via the 'pip install --upgrade pip' command.\u001b[0m\n",
      "Requirement already satisfied: snowballstemmer==1.2.1 in /gpfs/fs1/scinet/niagara/software/2018a/opt/base/anaconda3/5.1.0-hub/lib-orig/python3.6/site-packages (1.2.1)\n",
      "\u001b[33mYou are using pip version 10.0.1, however version 20.2.3 is available.\n",
      "You should consider upgrading via the 'pip install --upgrade pip' command.\u001b[0m\n",
      "Requirement already satisfied: termcolor==1.1.0 in /gpfs/fs1/scinet/niagara/software/2018a/opt/base/anaconda3/5.1.0-hub/lib-orig/python3.6/site-packages (1.1.0)\n",
      "\u001b[33mYou are using pip version 10.0.1, however version 20.2.3 is available.\n",
      "You should consider upgrading via the 'pip install --upgrade pip' command.\u001b[0m\n",
      "Collecting testpath==0.4.2\n",
      "  Using cached https://files.pythonhosted.org/packages/be/a4/162f9ebb6489421fe46dcca2ae420369edfee4b563c668d93cb4605d12ba/testpath-0.4.2-py2.py3-none-any.whl\n",
      "Installing collected packages: testpath\n",
      "Successfully installed testpath-0.4.2\n",
      "\u001b[33mYou are using pip version 10.0.1, however version 20.2.3 is available.\n",
      "You should consider upgrading via the 'pip install --upgrade pip' command.\u001b[0m\n",
      "Collecting toml==0.10.0\n",
      "  Using cached https://files.pythonhosted.org/packages/a2/12/ced7105d2de62fa7c8fb5fce92cc4ce66b57c95fb875e9318dba7f8c5db0/toml-0.10.0-py2.py3-none-any.whl\n",
      "Installing collected packages: toml\n",
      "Successfully installed toml-0.10.1\n",
      "\u001b[33mYou are using pip version 10.0.1, however version 20.2.3 is available.\n",
      "You should consider upgrading via the 'pip install --upgrade pip' command.\u001b[0m\n",
      "Collecting tornado==6.0.2\n",
      "Installing collected packages: tornado\n",
      "Successfully installed tornado-6.0.2\n",
      "\u001b[33mYou are using pip version 10.0.1, however version 20.2.3 is available.\n",
      "You should consider upgrading via the 'pip install --upgrade pip' command.\u001b[0m\n",
      "Collecting typed==ast==1.3.4\n",
      "\u001b[31m  Could not find a version that satisfies the requirement typed==ast==1.3.4 (from versions: 0.1, 0.6)\u001b[0m\n",
      "\u001b[31mNo matching distribution found for typed==ast==1.3.4\u001b[0m\n",
      "\u001b[33mYou are using pip version 10.0.1, however version 20.2.3 is available.\n",
      "You should consider upgrading via the 'pip install --upgrade pip' command.\u001b[0m\n",
      "Requirement already satisfied: wcwidth==0.1.7 in /gpfs/fs1/scinet/niagara/software/2018a/opt/base/anaconda3/5.1.0-hub/lib-orig/python3.6/site-packages (0.1.7)\n",
      "\u001b[33mYou are using pip version 10.0.1, however version 20.2.3 is available.\n",
      "You should consider upgrading via the 'pip install --upgrade pip' command.\u001b[0m\n",
      "Requirement already satisfied: webencodings==0.5.1 in /gpfs/fs1/scinet/niagara/software/2018a/opt/base/anaconda3/5.1.0-hub/lib-orig/python3.6/site-packages (0.5.1)\n",
      "\u001b[33mYou are using pip version 10.0.1, however version 20.2.3 is available.\n",
      "You should consider upgrading via the 'pip install --upgrade pip' command.\u001b[0m\n",
      "Collecting werkzeug==0.15.4\n",
      "  Using cached https://files.pythonhosted.org/packages/9f/57/92a497e38161ce40606c27a86759c6b92dd34fcdb33f64171ec559257c02/Werkzeug-0.15.4-py2.py3-none-any.whl\n",
      "Installing collected packages: werkzeug\n",
      "Successfully installed werkzeug-0.15.4\n",
      "\u001b[33mYou are using pip version 10.0.1, however version 20.2.3 is available.\n",
      "You should consider upgrading via the 'pip install --upgrade pip' command.\u001b[0m\n",
      "Collecting wincertstore==0.2\n",
      "  Using cached https://files.pythonhosted.org/packages/d1/67/12f477fa1cc8cbcdc78027c9fb0933ad41daf2e95a29d1cc8f34fe80c692/wincertstore-0.2-py2.py3-none-any.whl\n",
      "Installing collected packages: wincertstore\n",
      "Successfully installed wincertstore-0.2\n",
      "\u001b[33mYou are using pip version 10.0.1, however version 20.2.3 is available.\n",
      "You should consider upgrading via the 'pip install --upgrade pip' command.\u001b[0m\n"
     ]
    },
    {
     "name": "stdout",
     "output_type": "stream",
     "text": [
      "Collecting wrapt==1.11.1\n",
      "Installing collected packages: wrapt\n",
      "Successfully installed wrapt-1.12.1\n",
      "\u001b[33mYou are using pip version 10.0.1, however version 20.2.3 is available.\n",
      "You should consider upgrading via the 'pip install --upgrade pip' command.\u001b[0m\n",
      "Collecting black==19.3b0\n",
      "  Using cached https://files.pythonhosted.org/packages/30/62/cf549544a5fe990bbaeca21e9c419501b2de7a701ab0afb377bc81676600/black-19.3b0-py36-none-any.whl\n",
      "Collecting attrs>=18.1.0 (from black==19.3b0)\n",
      "  Using cached https://files.pythonhosted.org/packages/14/df/479736ae1ef59842f512548bacefad1abed705e400212acba43f9b0fa556/attrs-20.2.0-py2.py3-none-any.whl\n",
      "Requirement already satisfied: click>=6.5 in /gpfs/fs1/scinet/niagara/software/2018a/opt/base/anaconda3/5.1.0-hub/lib-orig/python3.6/site-packages (from black==19.3b0) (6.7)\n",
      "Collecting toml>=0.9.4 (from black==19.3b0)\n",
      "  Using cached https://files.pythonhosted.org/packages/9f/e1/1b40b80f2e1663a6b9f497123c11d7d988c0919abbf3c3f2688e448c5363/toml-0.10.1-py2.py3-none-any.whl\n",
      "Collecting appdirs (from black==19.3b0)\n",
      "  Using cached https://files.pythonhosted.org/packages/3b/00/2344469e2084fb287c2e0b57b72910309874c3245463acd6cf5e3db69324/appdirs-1.4.4-py2.py3-none-any.whl\n",
      "Installing collected packages: attrs, toml, appdirs, black\n",
      "\u001b[33m  The scripts black and blackd are installed in '/home/u/uhengart/ezzeldi/.local/bin' which is not on PATH.\n",
      "  Consider adding this directory to PATH or, if you prefer to suppress this warning, use --no-warn-script-location.\u001b[0m\n",
      "Successfully installed appdirs-1.4.4 attrs-20.2.0 black-19.3b0 toml-0.10.1\n",
      "\u001b[33mYou are using pip version 10.0.1, however version 20.2.3 is available.\n",
      "You should consider upgrading via the 'pip install --upgrade pip' command.\u001b[0m\n",
      "Requirement already satisfied: cycler==0.10.0 in /gpfs/fs1/scinet/niagara/software/2018a/opt/base/anaconda3/5.1.0-hub/lib-orig/python3.6/site-packages (0.10.0)\n",
      "Requirement already satisfied: six in /gpfs/fs1/scinet/niagara/software/2018a/opt/base/anaconda3/5.1.0-hub/lib-orig/python3.6/site-packages (from cycler==0.10.0) (1.11.0)\n",
      "\u001b[33mYou are using pip version 10.0.1, however version 20.2.3 is available.\n",
      "You should consider upgrading via the 'pip install --upgrade pip' command.\u001b[0m\n",
      "Collecting jedi==0.13.3\n",
      "  Using cached https://files.pythonhosted.org/packages/25/2b/1f188901be099d52d7b06f4d3b7cb9f8f09692c50697b139eaf6fa2928d8/jedi-0.13.3-py2.py3-none-any.whl\n",
      "Collecting parso>=0.3.0 (from jedi==0.13.3)\n",
      "  Using cached https://files.pythonhosted.org/packages/ac/55/2768286d623c6c57ef5dbd4b6f69e041c39d6a51a884f4584879172ec362/parso-0.8.0-py2.py3-none-any.whl\n",
      "Installing collected packages: parso, jedi\n",
      "Successfully installed jedi-0.13.3 parso-0.8.0\n",
      "\u001b[33mYou are using pip version 10.0.1, however version 20.2.3 is available.\n",
      "You should consider upgrading via the 'pip install --upgrade pip' command.\u001b[0m\n",
      "Collecting mkl_random==1.0.2\n",
      "\u001b[31m  Could not find a version that satisfies the requirement mkl_random==1.0.2 (from versions: 1.0.0.8, 1.0.1, 1.0.1.1)\u001b[0m\n",
      "\u001b[31mNo matching distribution found for mkl_random==1.0.2\u001b[0m\n",
      "\u001b[33mYou are using pip version 10.0.1, however version 20.2.3 is available.\n",
      "You should consider upgrading via the 'pip install --upgrade pip' command.\u001b[0m\n",
      "Collecting mock==3.0.5\n",
      "  Using cached https://files.pythonhosted.org/packages/05/d2/f94e68be6b17f46d2c353564da56e6fb89ef09faeeff3313a046cb810ca9/mock-3.0.5-py2.py3-none-any.whl\n",
      "Requirement already satisfied: six in /gpfs/fs1/scinet/niagara/software/2018a/opt/base/anaconda3/5.1.0-hub/lib-orig/python3.6/site-packages (from mock==3.0.5) (1.11.0)\n",
      "Installing collected packages: mock\n",
      "Successfully installed mock-3.0.5\n",
      "\u001b[33mYou are using pip version 10.0.1, however version 20.2.3 is available.\n",
      "You should consider upgrading via the 'pip install --upgrade pip' command.\u001b[0m\n",
      "Collecting pydocstyle==3.0.0\n",
      "  Using cached https://files.pythonhosted.org/packages/6e/3f/9207e1af3fb23c71a2a17a5d82d4c68f4dd6b3429b58514c74b95f6e0784/pydocstyle-3.0.0-py3-none-any.whl\n",
      "Requirement already satisfied: snowballstemmer in /gpfs/fs1/scinet/niagara/software/2018a/opt/base/anaconda3/5.1.0-hub/lib-orig/python3.6/site-packages (from pydocstyle==3.0.0) (1.2.1)\n",
      "Requirement already satisfied: six in /gpfs/fs1/scinet/niagara/software/2018a/opt/base/anaconda3/5.1.0-hub/lib-orig/python3.6/site-packages (from pydocstyle==3.0.0) (1.11.0)\n",
      "Installing collected packages: pydocstyle\n",
      "\u001b[33m  The script pydocstyle is installed in '/home/u/uhengart/ezzeldi/.local/bin' which is not on PATH.\n",
      "  Consider adding this directory to PATH or, if you prefer to suppress this warning, use --no-warn-script-location.\u001b[0m\n",
      "Successfully installed pydocstyle-3.0.0\n",
      "\u001b[33mYou are using pip version 10.0.1, however version 20.2.3 is available.\n",
      "You should consider upgrading via the 'pip install --upgrade pip' command.\u001b[0m\n",
      "Collecting pydot==1.4.1\n",
      "  Using cached https://files.pythonhosted.org/packages/33/d1/b1479a770f66d962f545c2101630ce1d5592d90cb4f083d38862e93d16d2/pydot-1.4.1-py2.py3-none-any.whl\n",
      "Requirement already satisfied: pyparsing>=2.1.4 in /gpfs/fs1/scinet/niagara/software/2018a/opt/base/anaconda3/5.1.0-hub/lib-orig/python3.6/site-packages (from pydot==1.4.1) (2.2.0)\n",
      "Installing collected packages: pydot\n",
      "Successfully installed pydot-1.4.1\n",
      "\u001b[33mYou are using pip version 10.0.1, however version 20.2.3 is available.\n",
      "You should consider upgrading via the 'pip install --upgrade pip' command.\u001b[0m\n",
      "Collecting pyqt==5.9.2\n",
      "\u001b[31m  Could not find a version that satisfies the requirement pyqt==5.9.2 (from versions: )\u001b[0m\n",
      "\u001b[31mNo matching distribution found for pyqt==5.9.2\u001b[0m\n",
      "\u001b[33mYou are using pip version 10.0.1, however version 20.2.3 is available.\n",
      "You should consider upgrading via the 'pip install --upgrade pip' command.\u001b[0m\n",
      "Collecting pyrsistent==0.14.11\n",
      "Requirement already satisfied: six in /gpfs/fs1/scinet/niagara/software/2018a/opt/base/anaconda3/5.1.0-hub/lib-orig/python3.6/site-packages (from pyrsistent==0.14.11) (1.11.0)\n",
      "Installing collected packages: pyrsistent\n",
      "Successfully installed pyrsistent-0.17.3\n",
      "\u001b[33mYou are using pip version 10.0.1, however version 20.2.3 is available.\n",
      "You should consider upgrading via the 'pip install --upgrade pip' command.\u001b[0m\n",
      "Collecting python==dateutil==2.8.0\n",
      "\u001b[31m  Could not find a version that satisfies the requirement python==dateutil==2.8.0 (from versions: )\u001b[0m\n",
      "\u001b[31mNo matching distribution found for python==dateutil==2.8.0\u001b[0m\n",
      "\u001b[33mYou are using pip version 10.0.1, however version 20.2.3 is available.\n",
      "You should consider upgrading via the 'pip install --upgrade pip' command.\u001b[0m\n",
      "Collecting pywinpty==0.5.5000\n",
      "\u001b[31m  Could not find a version that satisfies the requirement pywinpty==0.5.5000 (from versions: 0.1.2, 0.1.3, 0.1.4, 0.2.0, 0.2.1, 0.3.0, 0.4.1, 0.5, 0.5.1, 0.5.2, 0.5.3, 0.5.4, 0.5.5, 0.5.7)\u001b[0m\n",
      "\u001b[31mNo matching distribution found for pywinpty==0.5.5000\u001b[0m\n",
      "\u001b[33mYou are using pip version 10.0.1, however version 20.2.3 is available.\n",
      "You should consider upgrading via the 'pip install --upgrade pip' command.\u001b[0m\n",
      "Collecting setuptools==41.0.1\n",
      "  Using cached https://files.pythonhosted.org/packages/ec/51/f45cea425fd5cb0b0380f5b0f048ebc1da5b417e48d304838c02d6288a1e/setuptools-41.0.1-py2.py3-none-any.whl\n",
      "Installing collected packages: setuptools\n",
      "Successfully installed setuptools-41.0.1\n",
      "\u001b[33mYou are using pip version 10.0.1, however version 20.2.3 is available.\n",
      "You should consider upgrading via the 'pip install --upgrade pip' command.\u001b[0m\n",
      "Requirement already satisfied: traitlets==4.3.2 in /gpfs/fs1/scinet/niagara/software/2018a/opt/base/anaconda3/5.1.0-hub/lib-orig/python3.6/site-packages (4.3.2)\n",
      "Requirement already satisfied: ipython_genutils in /gpfs/fs1/scinet/niagara/software/2018a/opt/base/anaconda3/5.1.0-hub/lib-orig/python3.6/site-packages (from traitlets==4.3.2) (0.2.0)\n",
      "Requirement already satisfied: six in /gpfs/fs1/scinet/niagara/software/2018a/opt/base/anaconda3/5.1.0-hub/lib-orig/python3.6/site-packages (from traitlets==4.3.2) (1.11.0)\n",
      "Requirement already satisfied: decorator in /gpfs/fs1/scinet/niagara/software/2018a/opt/base/anaconda3/5.1.0-hub/lib-orig/python3.6/site-packages (from traitlets==4.3.2) (4.2.1)\n",
      "\u001b[33mYou are using pip version 10.0.1, however version 20.2.3 is available.\n",
      "You should consider upgrading via the 'pip install --upgrade pip' command.\u001b[0m\n"
     ]
    },
    {
     "name": "stdout",
     "output_type": "stream",
     "text": [
      "Collecting astroid==2.2.5\n",
      "  Using cached https://files.pythonhosted.org/packages/d5/ad/7221a62a2dbce5c3b8c57fd18e1052c7331adc19b3f27f1561aa6e620db2/astroid-2.2.5-py3-none-any.whl\n",
      "Requirement already satisfied: lazy-object-proxy in /gpfs/fs1/scinet/niagara/software/2018a/opt/base/anaconda3/5.1.0-hub/lib-orig/python3.6/site-packages (from astroid==2.2.5) (1.3.1)\n",
      "Requirement already satisfied: six in /gpfs/fs1/scinet/niagara/software/2018a/opt/base/anaconda3/5.1.0-hub/lib-orig/python3.6/site-packages (from astroid==2.2.5) (1.11.0)\n",
      "Collecting typed-ast>=1.3.0; implementation_name == \"cpython\" (from astroid==2.2.5)\n",
      "  Using cached https://files.pythonhosted.org/packages/90/ed/5459080d95eb87a02fe860d447197be63b6e2b5e9ff73c2b0a85622994f4/typed_ast-1.4.1-cp36-cp36m-manylinux1_x86_64.whl\n",
      "Requirement already satisfied: wrapt in /gpfs/fs1/scinet/niagara/software/2018a/opt/base/anaconda3/5.1.0-hub/lib-orig/python3.6/site-packages (from astroid==2.2.5) (1.10.11)\n",
      "\u001b[31mpylint 1.8.2 has requirement astroid<2.0,>=1.6, but you'll have astroid 2.2.5 which is incompatible.\u001b[0m\n",
      "Installing collected packages: typed-ast, astroid\n",
      "Successfully installed astroid-2.4.2 typed-ast-1.4.1\n",
      "\u001b[33mYou are using pip version 10.0.1, however version 20.2.3 is available.\n",
      "You should consider upgrading via the 'pip install --upgrade pip' command.\u001b[0m\n",
      "Collecting bleach==3.1.0\n",
      "  Using cached https://files.pythonhosted.org/packages/ab/05/27e1466475e816d3001efb6e0a85a819be17411420494a1e602c36f8299d/bleach-3.1.0-py2.py3-none-any.whl\n",
      "Requirement already satisfied: webencodings in /gpfs/fs1/scinet/niagara/software/2018a/opt/base/anaconda3/5.1.0-hub/lib-orig/python3.6/site-packages (from bleach==3.1.0) (0.5.1)\n",
      "Requirement already satisfied: six>=1.9.0 in /gpfs/fs1/scinet/niagara/software/2018a/opt/base/anaconda3/5.1.0-hub/lib-orig/python3.6/site-packages (from bleach==3.1.0) (1.11.0)\n",
      "\u001b[31mtensorboard 1.8.0 has requirement bleach==1.5.0, but you'll have bleach 3.1.0 which is incompatible.\u001b[0m\n",
      "Installing collected packages: bleach\n",
      "Successfully installed bleach-3.1.0\n",
      "\u001b[33mYou are using pip version 10.0.1, however version 20.2.3 is available.\n",
      "You should consider upgrading via the 'pip install --upgrade pip' command.\u001b[0m\n",
      "Collecting flake8==3.7.7\n",
      "  Using cached https://files.pythonhosted.org/packages/e9/76/b915bd28976068a9843bf836b789794aa4a8eb13338b23581005cd9177c0/flake8-3.7.7-py2.py3-none-any.whl\n",
      "Collecting pyflakes<2.2.0,>=2.1.0 (from flake8==3.7.7)\n",
      "  Using cached https://files.pythonhosted.org/packages/84/f2/ed0ffb887f8138a8fe5a621b8c0bb9598bfb3989e029f6c6a85ee66628ee/pyflakes-2.1.1-py2.py3-none-any.whl\n",
      "Collecting pycodestyle<2.6.0,>=2.5.0 (from flake8==3.7.7)\n",
      "  Using cached https://files.pythonhosted.org/packages/0e/0c/04a353e104d2f324f8ee5f4b32012618c1c86dd79e52a433b64fceed511b/pycodestyle-2.5.0-py2.py3-none-any.whl\n",
      "Requirement already satisfied: mccabe<0.7.0,>=0.6.0 in /gpfs/fs1/scinet/niagara/software/2018a/opt/base/anaconda3/5.1.0-hub/lib-orig/python3.6/site-packages (from flake8==3.7.7) (0.6.1)\n",
      "Collecting entrypoints<0.4.0,>=0.3.0 (from flake8==3.7.7)\n",
      "  Using cached https://files.pythonhosted.org/packages/ac/c6/44694103f8c221443ee6b0041f69e2740d89a25641e62fb4f2ee568f2f9c/entrypoints-0.3-py2.py3-none-any.whl\n",
      "Installing collected packages: pyflakes, pycodestyle, entrypoints, flake8\n",
      "\u001b[33m  The script pyflakes is installed in '/home/u/uhengart/ezzeldi/.local/bin' which is not on PATH.\n",
      "  Consider adding this directory to PATH or, if you prefer to suppress this warning, use --no-warn-script-location.\u001b[0m\n",
      "\u001b[33m  The script pycodestyle is installed in '/home/u/uhengart/ezzeldi/.local/bin' which is not on PATH.\n",
      "  Consider adding this directory to PATH or, if you prefer to suppress this warning, use --no-warn-script-location.\u001b[0m\n",
      "\u001b[33m  The script flake8 is installed in '/home/u/uhengart/ezzeldi/.local/bin' which is not on PATH.\n",
      "  Consider adding this directory to PATH or, if you prefer to suppress this warning, use --no-warn-script-location.\u001b[0m\n",
      "Successfully installed entrypoints-0.3 flake8-3.7.7 pycodestyle-2.5.0 pyflakes-2.1.1\n",
      "\u001b[33mYou are using pip version 10.0.1, however version 20.2.3 is available.\n",
      "You should consider upgrading via the 'pip install --upgrade pip' command.\u001b[0m\n",
      "Collecting grpcio==1.16.1\n",
      "  Using cached https://files.pythonhosted.org/packages/0e/4f/e9e84e4600c43cae7ce58489c6e73ff4c864557bc4d4d0f0029c79e07f31/grpcio-1.16.1-cp36-cp36m-manylinux1_x86_64.whl\n",
      "Requirement already satisfied: six>=1.5.2 in /gpfs/fs1/scinet/niagara/software/2018a/opt/base/anaconda3/5.1.0-hub/lib-orig/python3.6/site-packages (from grpcio==1.16.1) (1.11.0)\n",
      "Installing collected packages: grpcio\n",
      "Successfully installed grpcio-1.16.1\n",
      "\u001b[33mYou are using pip version 10.0.1, however version 20.2.3 is available.\n",
      "You should consider upgrading via the 'pip install --upgrade pip' command.\u001b[0m\n",
      "Collecting isort==4.3.20\n",
      "  Using cached https://files.pythonhosted.org/packages/1c/d9/bf5848b376e441ff358a14b954476423eeeb8c9b78c10074b7f53ce2918d/isort-4.3.20-py2.py3-none-any.whl\n",
      "Installing collected packages: isort\n",
      "\u001b[33m  The script isort is installed in '/home/u/uhengart/ezzeldi/.local/bin' which is not on PATH.\n",
      "  Consider adding this directory to PATH or, if you prefer to suppress this warning, use --no-warn-script-location.\u001b[0m\n",
      "Successfully installed isort-4.3.20\n",
      "\u001b[33mYou are using pip version 10.0.1, however version 20.2.3 is available.\n",
      "You should consider upgrading via the 'pip install --upgrade pip' command.\u001b[0m\n",
      "Collecting jinja2==2.10.1\n",
      "  Using cached https://files.pythonhosted.org/packages/1d/e7/fd8b501e7a6dfe492a433deb7b9d833d39ca74916fa8bc63dd1a4947a671/Jinja2-2.10.1-py2.py3-none-any.whl\n",
      "Requirement already satisfied: MarkupSafe>=0.23 in /gpfs/fs1/scinet/niagara/software/2018a/opt/base/anaconda3/5.1.0-hub/lib-orig/python3.6/site-packages (from jinja2==2.10.1) (1.0)\n",
      "Installing collected packages: jinja2\n",
      "Successfully installed jinja2-2.10.1\n",
      "\u001b[33mYou are using pip version 10.0.1, however version 20.2.3 is available.\n",
      "You should consider upgrading via the 'pip install --upgrade pip' command.\u001b[0m\n",
      "Collecting jsonschema==3.0.1\n",
      "  Using cached https://files.pythonhosted.org/packages/aa/69/df679dfbdd051568b53c38ec8152a3ab6bc533434fc7ed11ab034bf5e82f/jsonschema-3.0.1-py2.py3-none-any.whl\n",
      "Requirement already satisfied: attrs>=17.4.0 in /gpfs/fs1/scinet/niagara/software/2018a/opt/base/anaconda3/5.1.0-hub/lib-orig/python3.6/site-packages (from jsonschema==3.0.1) (17.4.0)\n",
      "Collecting pyrsistent>=0.14.0 (from jsonschema==3.0.1)\n",
      "Requirement already satisfied: six>=1.11.0 in /gpfs/fs1/scinet/niagara/software/2018a/opt/base/anaconda3/5.1.0-hub/lib-orig/python3.6/site-packages (from jsonschema==3.0.1) (1.11.0)\n",
      "Requirement already satisfied: setuptools in /gpfs/fs1/scinet/niagara/software/2018a/opt/base/anaconda3/5.1.0-hub/lib-orig/python3.6/site-packages (from jsonschema==3.0.1) (38.4.0)\n",
      "Installing collected packages: pyrsistent, jsonschema\n",
      "\u001b[33m  The script jsonschema is installed in '/home/u/uhengart/ezzeldi/.local/bin' which is not on PATH.\n",
      "  Consider adding this directory to PATH or, if you prefer to suppress this warning, use --no-warn-script-location.\u001b[0m\n",
      "Successfully installed jsonschema-3.0.1 pyrsistent-0.17.3\n",
      "\u001b[33mYou are using pip version 10.0.1, however version 20.2.3 is available.\n",
      "You should consider upgrading via the 'pip install --upgrade pip' command.\u001b[0m\n",
      "Requirement already satisfied: jupyter_core==4.4.0 in /gpfs/fs1/scinet/niagara/software/2018a/opt/base/anaconda3/5.1.0-hub/lib-orig/python3.6/site-packages (4.4.0)\n",
      "Requirement already satisfied: traitlets in /gpfs/fs1/scinet/niagara/software/2018a/opt/base/anaconda3/5.1.0-hub/lib-orig/python3.6/site-packages (from jupyter_core==4.4.0) (4.3.2)\n",
      "Requirement already satisfied: ipython_genutils in /gpfs/fs1/scinet/niagara/software/2018a/opt/base/anaconda3/5.1.0-hub/lib-orig/python3.6/site-packages (from traitlets->jupyter_core==4.4.0) (0.2.0)\n",
      "Requirement already satisfied: six in /gpfs/fs1/scinet/niagara/software/2018a/opt/base/anaconda3/5.1.0-hub/lib-orig/python3.6/site-packages (from traitlets->jupyter_core==4.4.0) (1.11.0)\n",
      "Requirement already satisfied: decorator in /gpfs/fs1/scinet/niagara/software/2018a/opt/base/anaconda3/5.1.0-hub/lib-orig/python3.6/site-packages (from traitlets->jupyter_core==4.4.0) (4.2.1)\n"
     ]
    },
    {
     "name": "stdout",
     "output_type": "stream",
     "text": [
      "\u001b[33mYou are using pip version 10.0.1, however version 20.2.3 is available.\n",
      "You should consider upgrading via the 'pip install --upgrade pip' command.\u001b[0m\n",
      "Collecting markdown==3.1.1\n",
      "  Using cached https://files.pythonhosted.org/packages/c0/4e/fd492e91abdc2d2fcb70ef453064d980688762079397f779758e055f6575/Markdown-3.1.1-py2.py3-none-any.whl\n",
      "Requirement already satisfied: setuptools>=36 in /gpfs/fs1/scinet/niagara/software/2018a/opt/base/anaconda3/5.1.0-hub/lib-orig/python3.6/site-packages (from markdown==3.1.1) (38.4.0)\n",
      "Installing collected packages: markdown\n",
      "\u001b[33m  The script markdown_py is installed in '/home/u/uhengart/ezzeldi/.local/bin' which is not on PATH.\n",
      "  Consider adding this directory to PATH or, if you prefer to suppress this warning, use --no-warn-script-location.\u001b[0m\n",
      "Successfully installed markdown-3.1.1\n",
      "\u001b[33mYou are using pip version 10.0.1, however version 20.2.3 is available.\n",
      "You should consider upgrading via the 'pip install --upgrade pip' command.\u001b[0m\n",
      "Collecting protobuf==3.8.0\n",
      "  Using cached https://files.pythonhosted.org/packages/d2/fb/29de8d08967f0cce1bb10b39846d836b0f3bf6776ddc36aed7c73498ca7e/protobuf-3.8.0-cp36-cp36m-manylinux1_x86_64.whl\n",
      "Requirement already satisfied: six>=1.9 in /gpfs/fs1/scinet/niagara/software/2018a/opt/base/anaconda3/5.1.0-hub/lib-orig/python3.6/site-packages (from protobuf==3.8.0) (1.11.0)\n",
      "Requirement already satisfied: setuptools in /gpfs/fs1/scinet/niagara/software/2018a/opt/base/anaconda3/5.1.0-hub/lib-orig/python3.6/site-packages (from protobuf==3.8.0) (38.4.0)\n",
      "Installing collected packages: protobuf\n",
      "Successfully installed protobuf-3.13.0\n",
      "\u001b[33mYou are using pip version 10.0.1, however version 20.2.3 is available.\n",
      "You should consider upgrading via the 'pip install --upgrade pip' command.\u001b[0m\n",
      "Collecting pygments==2.4.2\n",
      "  Using cached https://files.pythonhosted.org/packages/5c/73/1dfa428150e3ccb0fa3e68db406e5be48698f2a979ccbcec795f28f44048/Pygments-2.4.2-py2.py3-none-any.whl\n",
      "Installing collected packages: pygments\n",
      "\u001b[33m  The script pygmentize is installed in '/home/u/uhengart/ezzeldi/.local/bin' which is not on PATH.\n",
      "  Consider adding this directory to PATH or, if you prefer to suppress this warning, use --no-warn-script-location.\u001b[0m\n",
      "Successfully installed pygments-2.4.2\n",
      "\u001b[33mYou are using pip version 10.0.1, however version 20.2.3 is available.\n",
      "You should consider upgrading via the 'pip install --upgrade pip' command.\u001b[0m\n",
      "Collecting terminado==0.8.2\n",
      "  Using cached https://files.pythonhosted.org/packages/a7/56/80ea7fa66565fa75ae21ce0c16bc90067530e5d15e48854afcc86585a391/terminado-0.8.2-py2.py3-none-any.whl\n",
      "Requirement already satisfied: tornado>=4 in /gpfs/fs1/scinet/niagara/software/2018a/opt/base/anaconda3/5.1.0-hub/lib-orig/python3.6/site-packages (from terminado==0.8.2) (4.5.3)\n",
      "Requirement already satisfied: ptyprocess; os_name != \"nt\" in /gpfs/fs1/scinet/niagara/software/2018a/opt/base/anaconda3/5.1.0-hub/lib-orig/python3.6/site-packages (from terminado==0.8.2) (0.5.2)\n",
      "Installing collected packages: terminado\n",
      "Successfully installed terminado-0.8.2\n",
      "\u001b[33mYou are using pip version 10.0.1, however version 20.2.3 is available.\n",
      "You should consider upgrading via the 'pip install --upgrade pip' command.\u001b[0m\n",
      "Collecting wheel==0.33.4\n",
      "  Using cached https://files.pythonhosted.org/packages/bb/10/44230dd6bf3563b8f227dbf344c908d412ad2ff48066476672f3a72e174e/wheel-0.33.4-py2.py3-none-any.whl\n",
      "Installing collected packages: wheel\n",
      "\u001b[33m  The script wheel is installed in '/home/u/uhengart/ezzeldi/.local/bin' which is not on PATH.\n",
      "  Consider adding this directory to PATH or, if you prefer to suppress this warning, use --no-warn-script-location.\u001b[0m\n",
      "Successfully installed wheel-0.33.4\n",
      "\u001b[33mYou are using pip version 10.0.1, however version 20.2.3 is available.\n",
      "You should consider upgrading via the 'pip install --upgrade pip' command.\u001b[0m\n",
      "Collecting jupyter_client==5.2.4\n",
      "  Using cached https://files.pythonhosted.org/packages/3b/c3/3043fe9ffd140d03c9d091a056794ccdc427c56ec19b8eea74f9ea0a498f/jupyter_client-5.2.4-py2.py3-none-any.whl\n",
      "Requirement already satisfied: python-dateutil>=2.1 in /gpfs/fs1/scinet/niagara/software/2018a/opt/base/anaconda3/5.1.0-hub/lib-orig/python3.6/site-packages (from jupyter_client==5.2.4) (2.6.1)\n",
      "Requirement already satisfied: tornado>=4.1 in /gpfs/fs1/scinet/niagara/software/2018a/opt/base/anaconda3/5.1.0-hub/lib-orig/python3.6/site-packages (from jupyter_client==5.2.4) (4.5.3)\n",
      "Requirement already satisfied: traitlets in /gpfs/fs1/scinet/niagara/software/2018a/opt/base/anaconda3/5.1.0-hub/lib-orig/python3.6/site-packages (from jupyter_client==5.2.4) (4.3.2)\n",
      "Requirement already satisfied: pyzmq>=13 in /gpfs/fs1/scinet/niagara/software/2018a/opt/base/anaconda3/5.1.0-hub/lib-orig/python3.6/site-packages (from jupyter_client==5.2.4) (16.0.3)\n",
      "Requirement already satisfied: jupyter-core in /gpfs/fs1/scinet/niagara/software/2018a/opt/base/anaconda3/5.1.0-hub/lib-orig/python3.6/site-packages (from jupyter_client==5.2.4) (4.4.0)\n",
      "Requirement already satisfied: six>=1.5 in /gpfs/fs1/scinet/niagara/software/2018a/opt/base/anaconda3/5.1.0-hub/lib-orig/python3.6/site-packages (from python-dateutil>=2.1->jupyter_client==5.2.4) (1.11.0)\n",
      "Requirement already satisfied: ipython_genutils in /gpfs/fs1/scinet/niagara/software/2018a/opt/base/anaconda3/5.1.0-hub/lib-orig/python3.6/site-packages (from traitlets->jupyter_client==5.2.4) (0.2.0)\n",
      "Requirement already satisfied: decorator in /gpfs/fs1/scinet/niagara/software/2018a/opt/base/anaconda3/5.1.0-hub/lib-orig/python3.6/site-packages (from traitlets->jupyter_client==5.2.4) (4.2.1)\n",
      "Installing collected packages: jupyter-client\n",
      "\u001b[33m  The scripts jupyter-kernel, jupyter-kernelspec and jupyter-run are installed in '/home/u/uhengart/ezzeldi/.local/bin' which is not on PATH.\n",
      "  Consider adding this directory to PATH or, if you prefer to suppress this warning, use --no-warn-script-location.\u001b[0m\n",
      "Successfully installed jupyter-client-5.2.4\n",
      "\u001b[33mYou are using pip version 10.0.1, however version 20.2.3 is available.\n",
      "You should consider upgrading via the 'pip install --upgrade pip' command.\u001b[0m\n",
      "Requirement already satisfied: nbformat==4.4.0 in /gpfs/fs1/scinet/niagara/software/2018a/opt/base/anaconda3/5.1.0-hub/lib-orig/python3.6/site-packages (4.4.0)\n",
      "Requirement already satisfied: ipython_genutils in /gpfs/fs1/scinet/niagara/software/2018a/opt/base/anaconda3/5.1.0-hub/lib-orig/python3.6/site-packages (from nbformat==4.4.0) (0.2.0)\n",
      "Requirement already satisfied: traitlets>=4.1 in /gpfs/fs1/scinet/niagara/software/2018a/opt/base/anaconda3/5.1.0-hub/lib-orig/python3.6/site-packages (from nbformat==4.4.0) (4.3.2)\n",
      "Requirement already satisfied: jsonschema!=2.5.0,>=2.4 in /gpfs/fs1/scinet/niagara/software/2018a/opt/base/anaconda3/5.1.0-hub/lib-orig/python3.6/site-packages (from nbformat==4.4.0) (2.6.0)\n",
      "Requirement already satisfied: jupyter_core in /gpfs/fs1/scinet/niagara/software/2018a/opt/base/anaconda3/5.1.0-hub/lib-orig/python3.6/site-packages (from nbformat==4.4.0) (4.4.0)\n",
      "Requirement already satisfied: six in /gpfs/fs1/scinet/niagara/software/2018a/opt/base/anaconda3/5.1.0-hub/lib-orig/python3.6/site-packages (from traitlets>=4.1->nbformat==4.4.0) (1.11.0)\n",
      "Requirement already satisfied: decorator in /gpfs/fs1/scinet/niagara/software/2018a/opt/base/anaconda3/5.1.0-hub/lib-orig/python3.6/site-packages (from traitlets>=4.1->nbformat==4.4.0) (4.2.1)\n",
      "\u001b[33mYou are using pip version 10.0.1, however version 20.2.3 is available.\n",
      "You should consider upgrading via the 'pip install --upgrade pip' command.\u001b[0m\n",
      "Collecting pip==19.1.1\n",
      "  Using cached https://files.pythonhosted.org/packages/5c/e0/be401c003291b56efc55aeba6a80ab790d3d4cece2778288d65323009420/pip-19.1.1-py2.py3-none-any.whl\n",
      "Installing collected packages: pip\n",
      "Successfully installed pip-20.2.3\n",
      "\u001b[33mYou are using pip version 10.0.1, however version 20.2.3 is available.\n",
      "You should consider upgrading via the 'pip install --upgrade pip' command.\u001b[0m\n",
      "Collecting prompt_toolkit==2.0.9\n",
      "  Using cached https://files.pythonhosted.org/packages/f7/a7/9b1dd14ef45345f186ef69d175bdd2491c40ab1dfa4b2b3e4352df719ed7/prompt_toolkit-2.0.9-py3-none-any.whl\n",
      "Requirement already satisfied: six>=1.9.0 in /gpfs/fs1/scinet/niagara/software/2018a/opt/base/anaconda3/5.1.0-hub/lib-orig/python3.6/site-packages (from prompt_toolkit==2.0.9) (1.11.0)\n",
      "Requirement already satisfied: wcwidth in /gpfs/fs1/scinet/niagara/software/2018a/opt/base/anaconda3/5.1.0-hub/lib-orig/python3.6/site-packages (from prompt_toolkit==2.0.9) (0.1.7)\n"
     ]
    },
    {
     "name": "stdout",
     "output_type": "stream",
     "text": [
      "\u001b[31mjupyter-console 5.2.0 has requirement prompt_toolkit<2.0.0,>=1.0.0, but you'll have prompt-toolkit 2.0.9 which is incompatible.\u001b[0m\n",
      "\u001b[31mipython 6.2.1 has requirement prompt_toolkit<2.0.0,>=1.0.4, but you'll have prompt-toolkit 2.0.9 which is incompatible.\u001b[0m\n",
      "Installing collected packages: prompt-toolkit\n",
      "Successfully installed prompt-toolkit-2.0.10\n",
      "\u001b[33mYou are using pip version 10.0.1, however version 20.2.3 is available.\n",
      "You should consider upgrading via the 'pip install --upgrade pip' command.\u001b[0m\n",
      "Collecting pylint==2.3.1\n",
      "  Using cached https://files.pythonhosted.org/packages/60/c2/b3f73f4ac008bef6e75bca4992f3963b3f85942e0277237721ef1c151f0d/pylint-2.3.1-py3-none-any.whl\n",
      "Requirement already satisfied: mccabe<0.7,>=0.6 in /gpfs/fs1/scinet/niagara/software/2018a/opt/base/anaconda3/5.1.0-hub/lib-orig/python3.6/site-packages (from pylint==2.3.1) (0.6.1)\n",
      "Collecting astroid<3,>=2.2.0 (from pylint==2.3.1)\n",
      "  Using cached https://files.pythonhosted.org/packages/24/a8/5133f51967fb21e46ee50831c3f5dda49e976b7f915408d670b1603d41d6/astroid-2.4.2-py3-none-any.whl\n",
      "Requirement already satisfied: isort<5,>=4.2.5 in /gpfs/fs1/scinet/niagara/software/2018a/opt/base/anaconda3/5.1.0-hub/lib-orig/python3.6/site-packages (from pylint==2.3.1) (4.2.15)\n",
      "Collecting six~=1.12 (from astroid<3,>=2.2.0->pylint==2.3.1)\n",
      "  Using cached https://files.pythonhosted.org/packages/ee/ff/48bde5c0f013094d729fe4b0316ba2a24774b3ff1c52d924a8a4cb04078a/six-1.15.0-py2.py3-none-any.whl\n",
      "Collecting lazy-object-proxy==1.4.* (from astroid<3,>=2.2.0->pylint==2.3.1)\n",
      "  Using cached https://files.pythonhosted.org/packages/0b/dd/b1e3407e9e6913cf178e506cd0dee818e58694d9a5cd1984e3f6a8b9a10f/lazy_object_proxy-1.4.3-cp36-cp36m-manylinux1_x86_64.whl\n",
      "Collecting typed-ast<1.5,>=1.4.0; implementation_name == \"cpython\" and python_version < \"3.8\" (from astroid<3,>=2.2.0->pylint==2.3.1)\n",
      "  Using cached https://files.pythonhosted.org/packages/90/ed/5459080d95eb87a02fe860d447197be63b6e2b5e9ff73c2b0a85622994f4/typed_ast-1.4.1-cp36-cp36m-manylinux1_x86_64.whl\n",
      "Collecting wrapt~=1.11 (from astroid<3,>=2.2.0->pylint==2.3.1)\n",
      "Installing collected packages: six, lazy-object-proxy, typed-ast, wrapt, astroid, pylint\n",
      "\u001b[33m  The scripts epylint, pylint, pyreverse and symilar are installed in '/home/u/uhengart/ezzeldi/.local/bin' which is not on PATH.\n",
      "  Consider adding this directory to PATH or, if you prefer to suppress this warning, use --no-warn-script-location.\u001b[0m\n",
      "Successfully installed astroid-2.4.2 lazy-object-proxy-1.4.3 pylint-2.3.1 six-1.15.0 typed-ast-1.4.1 wrapt-1.12.1\n",
      "\u001b[33mYou are using pip version 10.0.1, however version 20.2.3 is available.\n",
      "You should consider upgrading via the 'pip install --upgrade pip' command.\u001b[0m\n",
      "Collecting ipython==7.5.0\n",
      "  Using cached https://files.pythonhosted.org/packages/a9/2e/41dce4ed129057e05a555a7f9629aa2d5f81fdcd4d16568bc24b75a1d2c9/ipython-7.5.0-py3-none-any.whl\n",
      "Requirement already satisfied: pexpect; sys_platform != \"win32\" in /gpfs/fs1/scinet/niagara/software/2018a/opt/base/anaconda3/5.1.0-hub/lib-orig/python3.6/site-packages (from ipython==7.5.0) (4.3.1)\n",
      "Requirement already satisfied: pickleshare in /gpfs/fs1/scinet/niagara/software/2018a/opt/base/anaconda3/5.1.0-hub/lib-orig/python3.6/site-packages (from ipython==7.5.0) (0.7.4)\n",
      "Requirement already satisfied: pygments in /gpfs/fs1/scinet/niagara/software/2018a/opt/base/anaconda3/5.1.0-hub/lib-orig/python3.6/site-packages (from ipython==7.5.0) (2.2.0)\n",
      "Requirement already satisfied: setuptools>=18.5 in /gpfs/fs1/scinet/niagara/software/2018a/opt/base/anaconda3/5.1.0-hub/lib-orig/python3.6/site-packages (from ipython==7.5.0) (38.4.0)\n",
      "Collecting prompt-toolkit<2.1.0,>=2.0.0 (from ipython==7.5.0)\n",
      "  Using cached https://files.pythonhosted.org/packages/87/61/2dfea88583d5454e3a64f9308a686071d58d59a55db638268a6413e1eb6d/prompt_toolkit-2.0.10-py3-none-any.whl\n",
      "Collecting backcall (from ipython==7.5.0)\n",
      "  Using cached https://files.pythonhosted.org/packages/4c/1c/ff6546b6c12603d8dd1070aa3c3d273ad4c07f5771689a7b69a550e8c951/backcall-0.2.0-py2.py3-none-any.whl\n",
      "Requirement already satisfied: jedi>=0.10 in /gpfs/fs1/scinet/niagara/software/2018a/opt/base/anaconda3/5.1.0-hub/lib-orig/python3.6/site-packages (from ipython==7.5.0) (0.11.1)\n",
      "Requirement already satisfied: traitlets>=4.2 in /gpfs/fs1/scinet/niagara/software/2018a/opt/base/anaconda3/5.1.0-hub/lib-orig/python3.6/site-packages (from ipython==7.5.0) (4.3.2)\n",
      "Requirement already satisfied: decorator in /gpfs/fs1/scinet/niagara/software/2018a/opt/base/anaconda3/5.1.0-hub/lib-orig/python3.6/site-packages (from ipython==7.5.0) (4.2.1)\n",
      "Requirement already satisfied: six>=1.9.0 in /gpfs/fs1/scinet/niagara/software/2018a/opt/base/anaconda3/5.1.0-hub/lib-orig/python3.6/site-packages (from prompt-toolkit<2.1.0,>=2.0.0->ipython==7.5.0) (1.11.0)\n",
      "Requirement already satisfied: wcwidth in /gpfs/fs1/scinet/niagara/software/2018a/opt/base/anaconda3/5.1.0-hub/lib-orig/python3.6/site-packages (from prompt-toolkit<2.1.0,>=2.0.0->ipython==7.5.0) (0.1.7)\n",
      "Requirement already satisfied: parso==0.1.* in /gpfs/fs1/scinet/niagara/software/2018a/opt/base/anaconda3/5.1.0-hub/lib-orig/python3.6/site-packages (from jedi>=0.10->ipython==7.5.0) (0.1.1)\n",
      "Requirement already satisfied: ipython_genutils in /gpfs/fs1/scinet/niagara/software/2018a/opt/base/anaconda3/5.1.0-hub/lib-orig/python3.6/site-packages (from traitlets>=4.2->ipython==7.5.0) (0.2.0)\n",
      "\u001b[31mjupyter-console 5.2.0 has requirement prompt_toolkit<2.0.0,>=1.0.0, but you'll have prompt-toolkit 2.0.10 which is incompatible.\u001b[0m\n",
      "Installing collected packages: prompt-toolkit, backcall, ipython\n",
      "\u001b[33m  The scripts iptest, iptest3, ipython and ipython3 are installed in '/home/u/uhengart/ezzeldi/.local/bin' which is not on PATH.\n",
      "  Consider adding this directory to PATH or, if you prefer to suppress this warning, use --no-warn-script-location.\u001b[0m\n",
      "Successfully installed backcall-0.2.0 ipython-7.5.0 prompt-toolkit-2.0.10\n",
      "\u001b[33mYou are using pip version 10.0.1, however version 20.2.3 is available.\n",
      "You should consider upgrading via the 'pip install --upgrade pip' command.\u001b[0m\n",
      "Collecting nbconvert==5.5.0\n",
      "  Using cached https://files.pythonhosted.org/packages/35/e7/f46c9d65f149271e47fca6ab084ef5c6e4cb1870f4c5cce6690feac55231/nbconvert-5.5.0-py2.py3-none-any.whl\n",
      "Requirement already satisfied: pandocfilters>=1.4.1 in /gpfs/fs1/scinet/niagara/software/2018a/opt/base/anaconda3/5.1.0-hub/lib-orig/python3.6/site-packages (from nbconvert==5.5.0) (1.4.2)\n",
      "Requirement already satisfied: entrypoints>=0.2.2 in /gpfs/fs1/scinet/niagara/software/2018a/opt/base/anaconda3/5.1.0-hub/lib-orig/python3.6/site-packages (from nbconvert==5.5.0) (0.2.3)\n",
      "Collecting defusedxml (from nbconvert==5.5.0)\n",
      "  Using cached https://files.pythonhosted.org/packages/06/74/9b387472866358ebc08732de3da6dc48e44b0aacd2ddaa5cb85ab7e986a2/defusedxml-0.6.0-py2.py3-none-any.whl\n",
      "Requirement already satisfied: pygments in /gpfs/fs1/scinet/niagara/software/2018a/opt/base/anaconda3/5.1.0-hub/lib-orig/python3.6/site-packages (from nbconvert==5.5.0) (2.2.0)\n",
      "Requirement already satisfied: traitlets>=4.2 in /gpfs/fs1/scinet/niagara/software/2018a/opt/base/anaconda3/5.1.0-hub/lib-orig/python3.6/site-packages (from nbconvert==5.5.0) (4.3.2)\n",
      "Requirement already satisfied: nbformat>=4.4 in /gpfs/fs1/scinet/niagara/software/2018a/opt/base/anaconda3/5.1.0-hub/lib-orig/python3.6/site-packages (from nbconvert==5.5.0) (4.4.0)\n",
      "Requirement already satisfied: jupyter-core in /gpfs/fs1/scinet/niagara/software/2018a/opt/base/anaconda3/5.1.0-hub/lib-orig/python3.6/site-packages (from nbconvert==5.5.0) (4.4.0)\n",
      "Requirement already satisfied: jinja2>=2.4 in /gpfs/fs1/scinet/niagara/software/2018a/opt/base/anaconda3/5.1.0-hub/lib-orig/python3.6/site-packages (from nbconvert==5.5.0) (2.10)\n",
      "Requirement already satisfied: testpath in /gpfs/fs1/scinet/niagara/software/2018a/opt/base/anaconda3/5.1.0-hub/lib-orig/python3.6/site-packages (from nbconvert==5.5.0) (0.3.1)\n",
      "Requirement already satisfied: mistune>=0.8.1 in /gpfs/fs1/scinet/niagara/software/2018a/opt/base/anaconda3/5.1.0-hub/lib-orig/python3.6/site-packages (from nbconvert==5.5.0) (0.8.3)\n",
      "Requirement already satisfied: bleach in /gpfs/fs1/scinet/niagara/software/2018a/opt/base/anaconda3/5.1.0-hub/lib-orig/python3.6/site-packages (from nbconvert==5.5.0) (1.5.0)\n",
      "Requirement already satisfied: ipython_genutils in /gpfs/fs1/scinet/niagara/software/2018a/opt/base/anaconda3/5.1.0-hub/lib-orig/python3.6/site-packages (from traitlets>=4.2->nbconvert==5.5.0) (0.2.0)\n",
      "Requirement already satisfied: six in /gpfs/fs1/scinet/niagara/software/2018a/opt/base/anaconda3/5.1.0-hub/lib-orig/python3.6/site-packages (from traitlets>=4.2->nbconvert==5.5.0) (1.11.0)\n",
      "Requirement already satisfied: decorator in /gpfs/fs1/scinet/niagara/software/2018a/opt/base/anaconda3/5.1.0-hub/lib-orig/python3.6/site-packages (from traitlets>=4.2->nbconvert==5.5.0) (4.2.1)\n",
      "Requirement already satisfied: jsonschema!=2.5.0,>=2.4 in /gpfs/fs1/scinet/niagara/software/2018a/opt/base/anaconda3/5.1.0-hub/lib-orig/python3.6/site-packages (from nbformat>=4.4->nbconvert==5.5.0) (2.6.0)\n",
      "Requirement already satisfied: MarkupSafe>=0.23 in /gpfs/fs1/scinet/niagara/software/2018a/opt/base/anaconda3/5.1.0-hub/lib-orig/python3.6/site-packages (from jinja2>=2.4->nbconvert==5.5.0) (1.0)\n",
      "Requirement already satisfied: html5lib!=0.9999,!=0.99999,<0.99999999,>=0.999 in /gpfs/fs1/scinet/niagara/software/2018a/opt/base/anaconda3/5.1.0-hub/lib-orig/python3.6/site-packages (from bleach->nbconvert==5.5.0) (0.9999999)\n"
     ]
    },
    {
     "name": "stdout",
     "output_type": "stream",
     "text": [
      "Installing collected packages: defusedxml, nbconvert\n",
      "\u001b[33m  The script jupyter-nbconvert is installed in '/home/u/uhengart/ezzeldi/.local/bin' which is not on PATH.\n",
      "  Consider adding this directory to PATH or, if you prefer to suppress this warning, use --no-warn-script-location.\u001b[0m\n",
      "Successfully installed defusedxml-0.6.0 nbconvert-5.5.0\n",
      "\u001b[33mYou are using pip version 10.0.1, however version 20.2.3 is available.\n",
      "You should consider upgrading via the 'pip install --upgrade pip' command.\u001b[0m\n",
      "Collecting ipykernel==5.1.1\n",
      "  Using cached https://files.pythonhosted.org/packages/a0/35/dd97fbb48d4e6b5ae97307497e31e46691adc2feedb6279d29fc1c8ad9c1/ipykernel-5.1.1-py3-none-any.whl\n",
      "Requirement already satisfied: tornado>=4.2 in /gpfs/fs1/scinet/niagara/software/2018a/opt/base/anaconda3/5.1.0-hub/lib-orig/python3.6/site-packages (from ipykernel==5.1.1) (4.5.3)\n",
      "Requirement already satisfied: ipython>=5.0.0 in /gpfs/fs1/scinet/niagara/software/2018a/opt/base/anaconda3/5.1.0-hub/lib-orig/python3.6/site-packages (from ipykernel==5.1.1) (6.2.1)\n",
      "Requirement already satisfied: jupyter-client in /gpfs/fs1/scinet/niagara/software/2018a/opt/base/anaconda3/5.1.0-hub/lib-orig/python3.6/site-packages (from ipykernel==5.1.1) (5.2.2)\n",
      "Requirement already satisfied: traitlets>=4.1.0 in /gpfs/fs1/scinet/niagara/software/2018a/opt/base/anaconda3/5.1.0-hub/lib-orig/python3.6/site-packages (from ipykernel==5.1.1) (4.3.2)\n",
      "Requirement already satisfied: setuptools>=18.5 in /gpfs/fs1/scinet/niagara/software/2018a/opt/base/anaconda3/5.1.0-hub/lib-orig/python3.6/site-packages (from ipython>=5.0.0->ipykernel==5.1.1) (38.4.0)\n",
      "Requirement already satisfied: jedi>=0.10 in /gpfs/fs1/scinet/niagara/software/2018a/opt/base/anaconda3/5.1.0-hub/lib-orig/python3.6/site-packages (from ipython>=5.0.0->ipykernel==5.1.1) (0.11.1)\n",
      "Requirement already satisfied: decorator in /gpfs/fs1/scinet/niagara/software/2018a/opt/base/anaconda3/5.1.0-hub/lib-orig/python3.6/site-packages (from ipython>=5.0.0->ipykernel==5.1.1) (4.2.1)\n",
      "Requirement already satisfied: pickleshare in /gpfs/fs1/scinet/niagara/software/2018a/opt/base/anaconda3/5.1.0-hub/lib-orig/python3.6/site-packages (from ipython>=5.0.0->ipykernel==5.1.1) (0.7.4)\n",
      "Requirement already satisfied: simplegeneric>0.8 in /gpfs/fs1/scinet/niagara/software/2018a/opt/base/anaconda3/5.1.0-hub/lib-orig/python3.6/site-packages (from ipython>=5.0.0->ipykernel==5.1.1) (0.8.1)\n",
      "Requirement already satisfied: prompt_toolkit<2.0.0,>=1.0.4 in /gpfs/fs1/scinet/niagara/software/2018a/opt/base/anaconda3/5.1.0-hub/lib-orig/python3.6/site-packages (from ipython>=5.0.0->ipykernel==5.1.1) (1.0.15)\n",
      "Requirement already satisfied: pygments in /gpfs/fs1/scinet/niagara/software/2018a/opt/base/anaconda3/5.1.0-hub/lib-orig/python3.6/site-packages (from ipython>=5.0.0->ipykernel==5.1.1) (2.2.0)\n",
      "Requirement already satisfied: pexpect in /gpfs/fs1/scinet/niagara/software/2018a/opt/base/anaconda3/5.1.0-hub/lib-orig/python3.6/site-packages (from ipython>=5.0.0->ipykernel==5.1.1) (4.3.1)\n",
      "Requirement already satisfied: jupyter_core in /gpfs/fs1/scinet/niagara/software/2018a/opt/base/anaconda3/5.1.0-hub/lib-orig/python3.6/site-packages (from jupyter-client->ipykernel==5.1.1) (4.4.0)\n",
      "Requirement already satisfied: pyzmq>=13 in /gpfs/fs1/scinet/niagara/software/2018a/opt/base/anaconda3/5.1.0-hub/lib-orig/python3.6/site-packages (from jupyter-client->ipykernel==5.1.1) (16.0.3)\n",
      "Requirement already satisfied: python-dateutil>=2.1 in /gpfs/fs1/scinet/niagara/software/2018a/opt/base/anaconda3/5.1.0-hub/lib-orig/python3.6/site-packages (from jupyter-client->ipykernel==5.1.1) (2.6.1)\n",
      "Requirement already satisfied: ipython_genutils in /gpfs/fs1/scinet/niagara/software/2018a/opt/base/anaconda3/5.1.0-hub/lib-orig/python3.6/site-packages (from traitlets>=4.1.0->ipykernel==5.1.1) (0.2.0)\n",
      "Requirement already satisfied: six in /gpfs/fs1/scinet/niagara/software/2018a/opt/base/anaconda3/5.1.0-hub/lib-orig/python3.6/site-packages (from traitlets>=4.1.0->ipykernel==5.1.1) (1.11.0)\n",
      "Requirement already satisfied: parso==0.1.* in /gpfs/fs1/scinet/niagara/software/2018a/opt/base/anaconda3/5.1.0-hub/lib-orig/python3.6/site-packages (from jedi>=0.10->ipython>=5.0.0->ipykernel==5.1.1) (0.1.1)\n",
      "Requirement already satisfied: wcwidth in /gpfs/fs1/scinet/niagara/software/2018a/opt/base/anaconda3/5.1.0-hub/lib-orig/python3.6/site-packages (from prompt_toolkit<2.0.0,>=1.0.4->ipython>=5.0.0->ipykernel==5.1.1) (0.1.7)\n",
      "Installing collected packages: ipykernel\n",
      "Successfully installed ipykernel-5.1.1\n",
      "\u001b[33mYou are using pip version 10.0.1, however version 20.2.3 is available.\n",
      "You should consider upgrading via the 'pip install --upgrade pip' command.\u001b[0m\n",
      "Collecting notebook==5.7.8\n",
      "  Using cached https://files.pythonhosted.org/packages/f6/36/89ebfffc9dd8c8dbd81c1ffb53e3d4233ee666414c143959477cb07cc5f5/notebook-5.7.8-py2.py3-none-any.whl\n",
      "Requirement already satisfied: tornado<7,>=4.1 in /gpfs/fs1/scinet/niagara/software/2018a/opt/base/anaconda3/5.1.0-hub/lib-orig/python3.6/site-packages (from notebook==5.7.8) (4.5.3)\n",
      "Requirement already satisfied: ipykernel in /gpfs/fs1/scinet/niagara/software/2018a/opt/base/anaconda3/5.1.0-hub/lib-orig/python3.6/site-packages (from notebook==5.7.8) (4.8.2)\n",
      "Requirement already satisfied: jupyter-client>=5.2.0 in /gpfs/fs1/scinet/niagara/software/2018a/opt/base/anaconda3/5.1.0-hub/lib-orig/python3.6/site-packages (from notebook==5.7.8) (5.2.2)\n",
      "Requirement already satisfied: jinja2 in /gpfs/fs1/scinet/niagara/software/2018a/opt/base/anaconda3/5.1.0-hub/lib-orig/python3.6/site-packages (from notebook==5.7.8) (2.10)\n",
      "Requirement already satisfied: traitlets>=4.2.1 in /gpfs/fs1/scinet/niagara/software/2018a/opt/base/anaconda3/5.1.0-hub/lib-orig/python3.6/site-packages (from notebook==5.7.8) (4.3.2)\n",
      "Requirement already satisfied: Send2Trash in /gpfs/fs1/scinet/niagara/software/2018a/opt/base/anaconda3/5.1.0-hub/lib-orig/python3.6/site-packages (from notebook==5.7.8) (1.4.2)\n",
      "Collecting pyzmq>=17 (from notebook==5.7.8)\n",
      "  Using cached https://files.pythonhosted.org/packages/56/ff/34bf45e5cf8367edcf4946b26690f0982b3ec701b0a655edfe562d29e246/pyzmq-19.0.2-cp36-cp36m-manylinux1_x86_64.whl\n",
      "Requirement already satisfied: nbformat in /gpfs/fs1/scinet/niagara/software/2018a/opt/base/anaconda3/5.1.0-hub/lib-orig/python3.6/site-packages (from notebook==5.7.8) (4.4.0)\n",
      "Requirement already satisfied: terminado>=0.8.1 in /gpfs/fs1/scinet/niagara/software/2018a/opt/base/anaconda3/5.1.0-hub/lib-orig/python3.6/site-packages (from notebook==5.7.8) (0.8.1)\n",
      "Requirement already satisfied: nbconvert in /gpfs/fs1/scinet/niagara/software/2018a/opt/base/anaconda3/5.1.0-hub/lib-orig/python3.6/site-packages (from notebook==5.7.8) (5.3.1)\n",
      "Collecting prometheus-client (from notebook==5.7.8)\n",
      "  Using cached https://files.pythonhosted.org/packages/3f/0e/554a265ffdc56e1494ef08e18f765b0cdec78797f510c58c45cf37abb4f4/prometheus_client-0.8.0-py2.py3-none-any.whl\n",
      "Requirement already satisfied: jupyter-core>=4.4.0 in /gpfs/fs1/scinet/niagara/software/2018a/opt/base/anaconda3/5.1.0-hub/lib-orig/python3.6/site-packages (from notebook==5.7.8) (4.4.0)\n",
      "Requirement already satisfied: ipython-genutils in /gpfs/fs1/scinet/niagara/software/2018a/opt/base/anaconda3/5.1.0-hub/lib-orig/python3.6/site-packages (from notebook==5.7.8) (0.2.0)\n",
      "Requirement already satisfied: ipython>=4.0.0 in /gpfs/fs1/scinet/niagara/software/2018a/opt/base/anaconda3/5.1.0-hub/lib-orig/python3.6/site-packages (from ipykernel->notebook==5.7.8) (6.2.1)\n",
      "Requirement already satisfied: python-dateutil>=2.1 in /gpfs/fs1/scinet/niagara/software/2018a/opt/base/anaconda3/5.1.0-hub/lib-orig/python3.6/site-packages (from jupyter-client>=5.2.0->notebook==5.7.8) (2.6.1)\n",
      "Requirement already satisfied: MarkupSafe>=0.23 in /gpfs/fs1/scinet/niagara/software/2018a/opt/base/anaconda3/5.1.0-hub/lib-orig/python3.6/site-packages (from jinja2->notebook==5.7.8) (1.0)\n",
      "Requirement already satisfied: six in /gpfs/fs1/scinet/niagara/software/2018a/opt/base/anaconda3/5.1.0-hub/lib-orig/python3.6/site-packages (from traitlets>=4.2.1->notebook==5.7.8) (1.11.0)\n",
      "Requirement already satisfied: decorator in /gpfs/fs1/scinet/niagara/software/2018a/opt/base/anaconda3/5.1.0-hub/lib-orig/python3.6/site-packages (from traitlets>=4.2.1->notebook==5.7.8) (4.2.1)\n",
      "Requirement already satisfied: jsonschema!=2.5.0,>=2.4 in /gpfs/fs1/scinet/niagara/software/2018a/opt/base/anaconda3/5.1.0-hub/lib-orig/python3.6/site-packages (from nbformat->notebook==5.7.8) (2.6.0)\n",
      "Requirement already satisfied: mistune>=0.7.4 in /gpfs/fs1/scinet/niagara/software/2018a/opt/base/anaconda3/5.1.0-hub/lib-orig/python3.6/site-packages (from nbconvert->notebook==5.7.8) (0.8.3)\n",
      "Requirement already satisfied: pygments in /gpfs/fs1/scinet/niagara/software/2018a/opt/base/anaconda3/5.1.0-hub/lib-orig/python3.6/site-packages (from nbconvert->notebook==5.7.8) (2.2.0)\n",
      "Requirement already satisfied: entrypoints>=0.2.2 in /gpfs/fs1/scinet/niagara/software/2018a/opt/base/anaconda3/5.1.0-hub/lib-orig/python3.6/site-packages (from nbconvert->notebook==5.7.8) (0.2.3)\n",
      "Requirement already satisfied: bleach in /gpfs/fs1/scinet/niagara/software/2018a/opt/base/anaconda3/5.1.0-hub/lib-orig/python3.6/site-packages (from nbconvert->notebook==5.7.8) (1.5.0)\n",
      "Requirement already satisfied: pandocfilters>=1.4.1 in /gpfs/fs1/scinet/niagara/software/2018a/opt/base/anaconda3/5.1.0-hub/lib-orig/python3.6/site-packages (from nbconvert->notebook==5.7.8) (1.4.2)\n",
      "Requirement already satisfied: testpath in /gpfs/fs1/scinet/niagara/software/2018a/opt/base/anaconda3/5.1.0-hub/lib-orig/python3.6/site-packages (from nbconvert->notebook==5.7.8) (0.3.1)\n",
      "Requirement already satisfied: setuptools>=18.5 in /gpfs/fs1/scinet/niagara/software/2018a/opt/base/anaconda3/5.1.0-hub/lib-orig/python3.6/site-packages (from ipython>=4.0.0->ipykernel->notebook==5.7.8) (38.4.0)\n",
      "Requirement already satisfied: jedi>=0.10 in /gpfs/fs1/scinet/niagara/software/2018a/opt/base/anaconda3/5.1.0-hub/lib-orig/python3.6/site-packages (from ipython>=4.0.0->ipykernel->notebook==5.7.8) (0.11.1)\n",
      "Requirement already satisfied: pickleshare in /gpfs/fs1/scinet/niagara/software/2018a/opt/base/anaconda3/5.1.0-hub/lib-orig/python3.6/site-packages (from ipython>=4.0.0->ipykernel->notebook==5.7.8) (0.7.4)\n",
      "Requirement already satisfied: simplegeneric>0.8 in /gpfs/fs1/scinet/niagara/software/2018a/opt/base/anaconda3/5.1.0-hub/lib-orig/python3.6/site-packages (from ipython>=4.0.0->ipykernel->notebook==5.7.8) (0.8.1)\n",
      "Requirement already satisfied: prompt_toolkit<2.0.0,>=1.0.4 in /gpfs/fs1/scinet/niagara/software/2018a/opt/base/anaconda3/5.1.0-hub/lib-orig/python3.6/site-packages (from ipython>=4.0.0->ipykernel->notebook==5.7.8) (1.0.15)\n",
      "Requirement already satisfied: pexpect in /gpfs/fs1/scinet/niagara/software/2018a/opt/base/anaconda3/5.1.0-hub/lib-orig/python3.6/site-packages (from ipython>=4.0.0->ipykernel->notebook==5.7.8) (4.3.1)\n",
      "Requirement already satisfied: html5lib!=0.9999,!=0.99999,<0.99999999,>=0.999 in /gpfs/fs1/scinet/niagara/software/2018a/opt/base/anaconda3/5.1.0-hub/lib-orig/python3.6/site-packages (from bleach->nbconvert->notebook==5.7.8) (0.9999999)\n",
      "Requirement already satisfied: parso==0.1.* in /gpfs/fs1/scinet/niagara/software/2018a/opt/base/anaconda3/5.1.0-hub/lib-orig/python3.6/site-packages (from jedi>=0.10->ipython>=4.0.0->ipykernel->notebook==5.7.8) (0.1.1)\n",
      "Requirement already satisfied: wcwidth in /gpfs/fs1/scinet/niagara/software/2018a/opt/base/anaconda3/5.1.0-hub/lib-orig/python3.6/site-packages (from prompt_toolkit<2.0.0,>=1.0.4->ipython>=4.0.0->ipykernel->notebook==5.7.8) (0.1.7)\n"
     ]
    },
    {
     "name": "stdout",
     "output_type": "stream",
     "text": [
      "Installing collected packages: pyzmq, prometheus-client, notebook\n",
      "\u001b[33m  The scripts jupyter-bundlerextension, jupyter-nbextension, jupyter-notebook and jupyter-serverextension are installed in '/home/u/uhengart/ezzeldi/.local/bin' which is not on PATH.\n",
      "  Consider adding this directory to PATH or, if you prefer to suppress this warning, use --no-warn-script-location.\u001b[0m\n",
      "Successfully installed notebook-5.7.8 prometheus-client-0.8.0 pyzmq-19.0.2\n",
      "\u001b[33mYou are using pip version 10.0.1, however version 20.2.3 is available.\n",
      "You should consider upgrading via the 'pip install --upgrade pip' command.\u001b[0m\n",
      "Collecting jupyterlab_server==0.2.0\n",
      "  Using cached https://files.pythonhosted.org/packages/78/77/e8a9c300afbe24aa46abaf1091d9e7b82328559e99cf2d601e858bcb3e1a/jupyterlab_server-0.2.0-py3-none-any.whl\n",
      "Requirement already satisfied: jsonschema>=2.6.0 in /gpfs/fs1/scinet/niagara/software/2018a/opt/base/anaconda3/5.1.0-hub/lib-orig/python3.6/site-packages (from jupyterlab_server==0.2.0) (2.6.0)\n",
      "Requirement already satisfied: notebook>=4.2.0 in /gpfs/fs1/scinet/niagara/software/2018a/opt/base/anaconda3/5.1.0-hub/lib-orig/python3.6/site-packages (from jupyterlab_server==0.2.0) (5.4.0)\n",
      "Requirement already satisfied: jinja2 in /gpfs/fs1/scinet/niagara/software/2018a/opt/base/anaconda3/5.1.0-hub/lib-orig/python3.6/site-packages (from notebook>=4.2.0->jupyterlab_server==0.2.0) (2.10)\n",
      "Requirement already satisfied: tornado>=4 in /gpfs/fs1/scinet/niagara/software/2018a/opt/base/anaconda3/5.1.0-hub/lib-orig/python3.6/site-packages (from notebook>=4.2.0->jupyterlab_server==0.2.0) (4.5.3)\n",
      "Requirement already satisfied: ipython_genutils in /gpfs/fs1/scinet/niagara/software/2018a/opt/base/anaconda3/5.1.0-hub/lib-orig/python3.6/site-packages (from notebook>=4.2.0->jupyterlab_server==0.2.0) (0.2.0)\n",
      "Requirement already satisfied: traitlets>=4.2.1 in /gpfs/fs1/scinet/niagara/software/2018a/opt/base/anaconda3/5.1.0-hub/lib-orig/python3.6/site-packages (from notebook>=4.2.0->jupyterlab_server==0.2.0) (4.3.2)\n",
      "Requirement already satisfied: jupyter_core>=4.4.0 in /gpfs/fs1/scinet/niagara/software/2018a/opt/base/anaconda3/5.1.0-hub/lib-orig/python3.6/site-packages (from notebook>=4.2.0->jupyterlab_server==0.2.0) (4.4.0)\n",
      "Requirement already satisfied: jupyter_client>=5.2.0 in /gpfs/fs1/scinet/niagara/software/2018a/opt/base/anaconda3/5.1.0-hub/lib-orig/python3.6/site-packages (from notebook>=4.2.0->jupyterlab_server==0.2.0) (5.2.2)\n",
      "Requirement already satisfied: nbformat in /gpfs/fs1/scinet/niagara/software/2018a/opt/base/anaconda3/5.1.0-hub/lib-orig/python3.6/site-packages (from notebook>=4.2.0->jupyterlab_server==0.2.0) (4.4.0)\n",
      "Requirement already satisfied: nbconvert in /gpfs/fs1/scinet/niagara/software/2018a/opt/base/anaconda3/5.1.0-hub/lib-orig/python3.6/site-packages (from notebook>=4.2.0->jupyterlab_server==0.2.0) (5.3.1)\n",
      "Requirement already satisfied: ipykernel in /gpfs/fs1/scinet/niagara/software/2018a/opt/base/anaconda3/5.1.0-hub/lib-orig/python3.6/site-packages (from notebook>=4.2.0->jupyterlab_server==0.2.0) (4.8.2)\n",
      "Requirement already satisfied: Send2Trash in /gpfs/fs1/scinet/niagara/software/2018a/opt/base/anaconda3/5.1.0-hub/lib-orig/python3.6/site-packages (from notebook>=4.2.0->jupyterlab_server==0.2.0) (1.4.2)\n",
      "Requirement already satisfied: terminado>=0.8.1 in /gpfs/fs1/scinet/niagara/software/2018a/opt/base/anaconda3/5.1.0-hub/lib-orig/python3.6/site-packages (from notebook>=4.2.0->jupyterlab_server==0.2.0) (0.8.1)\n",
      "Requirement already satisfied: MarkupSafe>=0.23 in /gpfs/fs1/scinet/niagara/software/2018a/opt/base/anaconda3/5.1.0-hub/lib-orig/python3.6/site-packages (from jinja2->notebook>=4.2.0->jupyterlab_server==0.2.0) (1.0)\n",
      "Requirement already satisfied: six in /gpfs/fs1/scinet/niagara/software/2018a/opt/base/anaconda3/5.1.0-hub/lib-orig/python3.6/site-packages (from traitlets>=4.2.1->notebook>=4.2.0->jupyterlab_server==0.2.0) (1.11.0)\n",
      "Requirement already satisfied: decorator in /gpfs/fs1/scinet/niagara/software/2018a/opt/base/anaconda3/5.1.0-hub/lib-orig/python3.6/site-packages (from traitlets>=4.2.1->notebook>=4.2.0->jupyterlab_server==0.2.0) (4.2.1)\n",
      "Requirement already satisfied: pyzmq>=13 in /gpfs/fs1/scinet/niagara/software/2018a/opt/base/anaconda3/5.1.0-hub/lib-orig/python3.6/site-packages (from jupyter_client>=5.2.0->notebook>=4.2.0->jupyterlab_server==0.2.0) (16.0.3)\n",
      "Requirement already satisfied: python-dateutil>=2.1 in /gpfs/fs1/scinet/niagara/software/2018a/opt/base/anaconda3/5.1.0-hub/lib-orig/python3.6/site-packages (from jupyter_client>=5.2.0->notebook>=4.2.0->jupyterlab_server==0.2.0) (2.6.1)\n",
      "Requirement already satisfied: mistune>=0.7.4 in /gpfs/fs1/scinet/niagara/software/2018a/opt/base/anaconda3/5.1.0-hub/lib-orig/python3.6/site-packages (from nbconvert->notebook>=4.2.0->jupyterlab_server==0.2.0) (0.8.3)\n",
      "Requirement already satisfied: pygments in /gpfs/fs1/scinet/niagara/software/2018a/opt/base/anaconda3/5.1.0-hub/lib-orig/python3.6/site-packages (from nbconvert->notebook>=4.2.0->jupyterlab_server==0.2.0) (2.2.0)\n",
      "Requirement already satisfied: entrypoints>=0.2.2 in /gpfs/fs1/scinet/niagara/software/2018a/opt/base/anaconda3/5.1.0-hub/lib-orig/python3.6/site-packages (from nbconvert->notebook>=4.2.0->jupyterlab_server==0.2.0) (0.2.3)\n",
      "Requirement already satisfied: bleach in /gpfs/fs1/scinet/niagara/software/2018a/opt/base/anaconda3/5.1.0-hub/lib-orig/python3.6/site-packages (from nbconvert->notebook>=4.2.0->jupyterlab_server==0.2.0) (1.5.0)\n",
      "Requirement already satisfied: pandocfilters>=1.4.1 in /gpfs/fs1/scinet/niagara/software/2018a/opt/base/anaconda3/5.1.0-hub/lib-orig/python3.6/site-packages (from nbconvert->notebook>=4.2.0->jupyterlab_server==0.2.0) (1.4.2)\n",
      "Requirement already satisfied: testpath in /gpfs/fs1/scinet/niagara/software/2018a/opt/base/anaconda3/5.1.0-hub/lib-orig/python3.6/site-packages (from nbconvert->notebook>=4.2.0->jupyterlab_server==0.2.0) (0.3.1)\n",
      "Requirement already satisfied: ipython>=4.0.0 in /gpfs/fs1/scinet/niagara/software/2018a/opt/base/anaconda3/5.1.0-hub/lib-orig/python3.6/site-packages (from ipykernel->notebook>=4.2.0->jupyterlab_server==0.2.0) (6.2.1)\n",
      "Requirement already satisfied: html5lib!=0.9999,!=0.99999,<0.99999999,>=0.999 in /gpfs/fs1/scinet/niagara/software/2018a/opt/base/anaconda3/5.1.0-hub/lib-orig/python3.6/site-packages (from bleach->nbconvert->notebook>=4.2.0->jupyterlab_server==0.2.0) (0.9999999)\n",
      "Requirement already satisfied: setuptools>=18.5 in /gpfs/fs1/scinet/niagara/software/2018a/opt/base/anaconda3/5.1.0-hub/lib-orig/python3.6/site-packages (from ipython>=4.0.0->ipykernel->notebook>=4.2.0->jupyterlab_server==0.2.0) (38.4.0)\n",
      "Requirement already satisfied: jedi>=0.10 in /gpfs/fs1/scinet/niagara/software/2018a/opt/base/anaconda3/5.1.0-hub/lib-orig/python3.6/site-packages (from ipython>=4.0.0->ipykernel->notebook>=4.2.0->jupyterlab_server==0.2.0) (0.11.1)\n",
      "Requirement already satisfied: pickleshare in /gpfs/fs1/scinet/niagara/software/2018a/opt/base/anaconda3/5.1.0-hub/lib-orig/python3.6/site-packages (from ipython>=4.0.0->ipykernel->notebook>=4.2.0->jupyterlab_server==0.2.0) (0.7.4)\n",
      "Requirement already satisfied: simplegeneric>0.8 in /gpfs/fs1/scinet/niagara/software/2018a/opt/base/anaconda3/5.1.0-hub/lib-orig/python3.6/site-packages (from ipython>=4.0.0->ipykernel->notebook>=4.2.0->jupyterlab_server==0.2.0) (0.8.1)\n",
      "Requirement already satisfied: prompt_toolkit<2.0.0,>=1.0.4 in /gpfs/fs1/scinet/niagara/software/2018a/opt/base/anaconda3/5.1.0-hub/lib-orig/python3.6/site-packages (from ipython>=4.0.0->ipykernel->notebook>=4.2.0->jupyterlab_server==0.2.0) (1.0.15)\n",
      "Requirement already satisfied: pexpect in /gpfs/fs1/scinet/niagara/software/2018a/opt/base/anaconda3/5.1.0-hub/lib-orig/python3.6/site-packages (from ipython>=4.0.0->ipykernel->notebook>=4.2.0->jupyterlab_server==0.2.0) (4.3.1)\n",
      "Requirement already satisfied: parso==0.1.* in /gpfs/fs1/scinet/niagara/software/2018a/opt/base/anaconda3/5.1.0-hub/lib-orig/python3.6/site-packages (from jedi>=0.10->ipython>=4.0.0->ipykernel->notebook>=4.2.0->jupyterlab_server==0.2.0) (0.1.1)\n",
      "Requirement already satisfied: wcwidth in /gpfs/fs1/scinet/niagara/software/2018a/opt/base/anaconda3/5.1.0-hub/lib-orig/python3.6/site-packages (from prompt_toolkit<2.0.0,>=1.0.4->ipython>=4.0.0->ipykernel->notebook>=4.2.0->jupyterlab_server==0.2.0) (0.1.7)\n"
     ]
    },
    {
     "name": "stdout",
     "output_type": "stream",
     "text": [
      "Installing collected packages: jupyterlab-server\n",
      "Successfully installed jupyterlab-server-0.2.0\n",
      "\u001b[33mYou are using pip version 10.0.1, however version 20.2.3 is available.\n",
      "You should consider upgrading via the 'pip install --upgrade pip' command.\u001b[0m\n",
      "Collecting widgetsnbextension==3.4.2\n",
      "  Using cached https://files.pythonhosted.org/packages/8a/81/35789a3952afb48238289171728072d26d6e76649ddc8b3588657a2d78c1/widgetsnbextension-3.4.2-py2.py3-none-any.whl\n",
      "Requirement already satisfied: notebook>=4.4.1 in /gpfs/fs1/scinet/niagara/software/2018a/opt/base/anaconda3/5.1.0-hub/lib-orig/python3.6/site-packages (from widgetsnbextension==3.4.2) (5.4.0)\n",
      "Requirement already satisfied: jinja2 in /gpfs/fs1/scinet/niagara/software/2018a/opt/base/anaconda3/5.1.0-hub/lib-orig/python3.6/site-packages (from notebook>=4.4.1->widgetsnbextension==3.4.2) (2.10)\n",
      "Requirement already satisfied: tornado>=4 in /gpfs/fs1/scinet/niagara/software/2018a/opt/base/anaconda3/5.1.0-hub/lib-orig/python3.6/site-packages (from notebook>=4.4.1->widgetsnbextension==3.4.2) (4.5.3)\n",
      "Requirement already satisfied: ipython_genutils in /gpfs/fs1/scinet/niagara/software/2018a/opt/base/anaconda3/5.1.0-hub/lib-orig/python3.6/site-packages (from notebook>=4.4.1->widgetsnbextension==3.4.2) (0.2.0)\n",
      "Requirement already satisfied: traitlets>=4.2.1 in /gpfs/fs1/scinet/niagara/software/2018a/opt/base/anaconda3/5.1.0-hub/lib-orig/python3.6/site-packages (from notebook>=4.4.1->widgetsnbextension==3.4.2) (4.3.2)\n",
      "Requirement already satisfied: jupyter_core>=4.4.0 in /gpfs/fs1/scinet/niagara/software/2018a/opt/base/anaconda3/5.1.0-hub/lib-orig/python3.6/site-packages (from notebook>=4.4.1->widgetsnbextension==3.4.2) (4.4.0)\n",
      "Requirement already satisfied: jupyter_client>=5.2.0 in /gpfs/fs1/scinet/niagara/software/2018a/opt/base/anaconda3/5.1.0-hub/lib-orig/python3.6/site-packages (from notebook>=4.4.1->widgetsnbextension==3.4.2) (5.2.2)\n",
      "Requirement already satisfied: nbformat in /gpfs/fs1/scinet/niagara/software/2018a/opt/base/anaconda3/5.1.0-hub/lib-orig/python3.6/site-packages (from notebook>=4.4.1->widgetsnbextension==3.4.2) (4.4.0)\n",
      "Requirement already satisfied: nbconvert in /gpfs/fs1/scinet/niagara/software/2018a/opt/base/anaconda3/5.1.0-hub/lib-orig/python3.6/site-packages (from notebook>=4.4.1->widgetsnbextension==3.4.2) (5.3.1)\n",
      "Requirement already satisfied: ipykernel in /gpfs/fs1/scinet/niagara/software/2018a/opt/base/anaconda3/5.1.0-hub/lib-orig/python3.6/site-packages (from notebook>=4.4.1->widgetsnbextension==3.4.2) (4.8.2)\n",
      "Requirement already satisfied: Send2Trash in /gpfs/fs1/scinet/niagara/software/2018a/opt/base/anaconda3/5.1.0-hub/lib-orig/python3.6/site-packages (from notebook>=4.4.1->widgetsnbextension==3.4.2) (1.4.2)\n",
      "Requirement already satisfied: terminado>=0.8.1 in /gpfs/fs1/scinet/niagara/software/2018a/opt/base/anaconda3/5.1.0-hub/lib-orig/python3.6/site-packages (from notebook>=4.4.1->widgetsnbextension==3.4.2) (0.8.1)\n",
      "Requirement already satisfied: MarkupSafe>=0.23 in /gpfs/fs1/scinet/niagara/software/2018a/opt/base/anaconda3/5.1.0-hub/lib-orig/python3.6/site-packages (from jinja2->notebook>=4.4.1->widgetsnbextension==3.4.2) (1.0)\n",
      "Requirement already satisfied: six in /gpfs/fs1/scinet/niagara/software/2018a/opt/base/anaconda3/5.1.0-hub/lib-orig/python3.6/site-packages (from traitlets>=4.2.1->notebook>=4.4.1->widgetsnbextension==3.4.2) (1.11.0)\n",
      "Requirement already satisfied: decorator in /gpfs/fs1/scinet/niagara/software/2018a/opt/base/anaconda3/5.1.0-hub/lib-orig/python3.6/site-packages (from traitlets>=4.2.1->notebook>=4.4.1->widgetsnbextension==3.4.2) (4.2.1)\n",
      "Requirement already satisfied: pyzmq>=13 in /gpfs/fs1/scinet/niagara/software/2018a/opt/base/anaconda3/5.1.0-hub/lib-orig/python3.6/site-packages (from jupyter_client>=5.2.0->notebook>=4.4.1->widgetsnbextension==3.4.2) (16.0.3)\n",
      "Requirement already satisfied: python-dateutil>=2.1 in /gpfs/fs1/scinet/niagara/software/2018a/opt/base/anaconda3/5.1.0-hub/lib-orig/python3.6/site-packages (from jupyter_client>=5.2.0->notebook>=4.4.1->widgetsnbextension==3.4.2) (2.6.1)\n",
      "Requirement already satisfied: jsonschema!=2.5.0,>=2.4 in /gpfs/fs1/scinet/niagara/software/2018a/opt/base/anaconda3/5.1.0-hub/lib-orig/python3.6/site-packages (from nbformat->notebook>=4.4.1->widgetsnbextension==3.4.2) (2.6.0)\n",
      "Requirement already satisfied: mistune>=0.7.4 in /gpfs/fs1/scinet/niagara/software/2018a/opt/base/anaconda3/5.1.0-hub/lib-orig/python3.6/site-packages (from nbconvert->notebook>=4.4.1->widgetsnbextension==3.4.2) (0.8.3)\n",
      "Requirement already satisfied: pygments in /gpfs/fs1/scinet/niagara/software/2018a/opt/base/anaconda3/5.1.0-hub/lib-orig/python3.6/site-packages (from nbconvert->notebook>=4.4.1->widgetsnbextension==3.4.2) (2.2.0)\n",
      "Requirement already satisfied: entrypoints>=0.2.2 in /gpfs/fs1/scinet/niagara/software/2018a/opt/base/anaconda3/5.1.0-hub/lib-orig/python3.6/site-packages (from nbconvert->notebook>=4.4.1->widgetsnbextension==3.4.2) (0.2.3)\n",
      "Requirement already satisfied: bleach in /gpfs/fs1/scinet/niagara/software/2018a/opt/base/anaconda3/5.1.0-hub/lib-orig/python3.6/site-packages (from nbconvert->notebook>=4.4.1->widgetsnbextension==3.4.2) (1.5.0)\n",
      "Requirement already satisfied: pandocfilters>=1.4.1 in /gpfs/fs1/scinet/niagara/software/2018a/opt/base/anaconda3/5.1.0-hub/lib-orig/python3.6/site-packages (from nbconvert->notebook>=4.4.1->widgetsnbextension==3.4.2) (1.4.2)\n",
      "Requirement already satisfied: testpath in /gpfs/fs1/scinet/niagara/software/2018a/opt/base/anaconda3/5.1.0-hub/lib-orig/python3.6/site-packages (from nbconvert->notebook>=4.4.1->widgetsnbextension==3.4.2) (0.3.1)\n",
      "Requirement already satisfied: ipython>=4.0.0 in /gpfs/fs1/scinet/niagara/software/2018a/opt/base/anaconda3/5.1.0-hub/lib-orig/python3.6/site-packages (from ipykernel->notebook>=4.4.1->widgetsnbextension==3.4.2) (6.2.1)\n",
      "Requirement already satisfied: html5lib!=0.9999,!=0.99999,<0.99999999,>=0.999 in /gpfs/fs1/scinet/niagara/software/2018a/opt/base/anaconda3/5.1.0-hub/lib-orig/python3.6/site-packages (from bleach->nbconvert->notebook>=4.4.1->widgetsnbextension==3.4.2) (0.9999999)\n",
      "Requirement already satisfied: setuptools>=18.5 in /gpfs/fs1/scinet/niagara/software/2018a/opt/base/anaconda3/5.1.0-hub/lib-orig/python3.6/site-packages (from ipython>=4.0.0->ipykernel->notebook>=4.4.1->widgetsnbextension==3.4.2) (38.4.0)\n",
      "Requirement already satisfied: jedi>=0.10 in /gpfs/fs1/scinet/niagara/software/2018a/opt/base/anaconda3/5.1.0-hub/lib-orig/python3.6/site-packages (from ipython>=4.0.0->ipykernel->notebook>=4.4.1->widgetsnbextension==3.4.2) (0.11.1)\n",
      "Requirement already satisfied: pickleshare in /gpfs/fs1/scinet/niagara/software/2018a/opt/base/anaconda3/5.1.0-hub/lib-orig/python3.6/site-packages (from ipython>=4.0.0->ipykernel->notebook>=4.4.1->widgetsnbextension==3.4.2) (0.7.4)\n",
      "Requirement already satisfied: simplegeneric>0.8 in /gpfs/fs1/scinet/niagara/software/2018a/opt/base/anaconda3/5.1.0-hub/lib-orig/python3.6/site-packages (from ipython>=4.0.0->ipykernel->notebook>=4.4.1->widgetsnbextension==3.4.2) (0.8.1)\n",
      "Requirement already satisfied: prompt_toolkit<2.0.0,>=1.0.4 in /gpfs/fs1/scinet/niagara/software/2018a/opt/base/anaconda3/5.1.0-hub/lib-orig/python3.6/site-packages (from ipython>=4.0.0->ipykernel->notebook>=4.4.1->widgetsnbextension==3.4.2) (1.0.15)\n",
      "Requirement already satisfied: pexpect in /gpfs/fs1/scinet/niagara/software/2018a/opt/base/anaconda3/5.1.0-hub/lib-orig/python3.6/site-packages (from ipython>=4.0.0->ipykernel->notebook>=4.4.1->widgetsnbextension==3.4.2) (4.3.1)\n",
      "Requirement already satisfied: parso==0.1.* in /gpfs/fs1/scinet/niagara/software/2018a/opt/base/anaconda3/5.1.0-hub/lib-orig/python3.6/site-packages (from jedi>=0.10->ipython>=4.0.0->ipykernel->notebook>=4.4.1->widgetsnbextension==3.4.2) (0.1.1)\n",
      "Requirement already satisfied: wcwidth in /gpfs/fs1/scinet/niagara/software/2018a/opt/base/anaconda3/5.1.0-hub/lib-orig/python3.6/site-packages (from prompt_toolkit<2.0.0,>=1.0.4->ipython>=4.0.0->ipykernel->notebook>=4.4.1->widgetsnbextension==3.4.2) (0.1.7)\n",
      "\u001b[31mipywidgets 7.1.1 has requirement widgetsnbextension~=3.1.0, but you'll have widgetsnbextension 3.4.2 which is incompatible.\u001b[0m\n",
      "Installing collected packages: widgetsnbextension\n",
      "Successfully installed widgetsnbextension-3.4.2\n"
     ]
    },
    {
     "name": "stdout",
     "output_type": "stream",
     "text": [
      "\u001b[33mYou are using pip version 10.0.1, however version 20.2.3 is available.\n",
      "You should consider upgrading via the 'pip install --upgrade pip' command.\u001b[0m\n",
      "Collecting ipywidgets==7.4.2\n",
      "  Using cached https://files.pythonhosted.org/packages/30/9a/a008c7b1183fac9e52066d80a379b3c64eab535bd9d86cdc29a0b766fd82/ipywidgets-7.4.2-py2.py3-none-any.whl\n",
      "Requirement already satisfied: nbformat>=4.2.0 in /gpfs/fs1/scinet/niagara/software/2018a/opt/base/anaconda3/5.1.0-hub/lib-orig/python3.6/site-packages (from ipywidgets==7.4.2) (4.4.0)\n",
      "Collecting widgetsnbextension~=3.4.0 (from ipywidgets==7.4.2)\n",
      "  Using cached https://files.pythonhosted.org/packages/8a/81/35789a3952afb48238289171728072d26d6e76649ddc8b3588657a2d78c1/widgetsnbextension-3.4.2-py2.py3-none-any.whl\n",
      "Requirement already satisfied: traitlets>=4.3.1 in /gpfs/fs1/scinet/niagara/software/2018a/opt/base/anaconda3/5.1.0-hub/lib-orig/python3.6/site-packages (from ipywidgets==7.4.2) (4.3.2)\n",
      "Requirement already satisfied: ipykernel>=4.5.1 in /gpfs/fs1/scinet/niagara/software/2018a/opt/base/anaconda3/5.1.0-hub/lib-orig/python3.6/site-packages (from ipywidgets==7.4.2) (4.8.2)\n",
      "Requirement already satisfied: ipython>=4.0.0; python_version >= \"3.3\" in /gpfs/fs1/scinet/niagara/software/2018a/opt/base/anaconda3/5.1.0-hub/lib-orig/python3.6/site-packages (from ipywidgets==7.4.2) (6.2.1)\n",
      "Requirement already satisfied: ipython_genutils in /gpfs/fs1/scinet/niagara/software/2018a/opt/base/anaconda3/5.1.0-hub/lib-orig/python3.6/site-packages (from nbformat>=4.2.0->ipywidgets==7.4.2) (0.2.0)\n",
      "Requirement already satisfied: jsonschema!=2.5.0,>=2.4 in /gpfs/fs1/scinet/niagara/software/2018a/opt/base/anaconda3/5.1.0-hub/lib-orig/python3.6/site-packages (from nbformat>=4.2.0->ipywidgets==7.4.2) (2.6.0)\n",
      "Requirement already satisfied: jupyter_core in /gpfs/fs1/scinet/niagara/software/2018a/opt/base/anaconda3/5.1.0-hub/lib-orig/python3.6/site-packages (from nbformat>=4.2.0->ipywidgets==7.4.2) (4.4.0)\n",
      "Requirement already satisfied: notebook>=4.4.1 in /gpfs/fs1/scinet/niagara/software/2018a/opt/base/anaconda3/5.1.0-hub/lib-orig/python3.6/site-packages (from widgetsnbextension~=3.4.0->ipywidgets==7.4.2) (5.4.0)\n",
      "Requirement already satisfied: six in /gpfs/fs1/scinet/niagara/software/2018a/opt/base/anaconda3/5.1.0-hub/lib-orig/python3.6/site-packages (from traitlets>=4.3.1->ipywidgets==7.4.2) (1.11.0)\n",
      "Requirement already satisfied: decorator in /gpfs/fs1/scinet/niagara/software/2018a/opt/base/anaconda3/5.1.0-hub/lib-orig/python3.6/site-packages (from traitlets>=4.3.1->ipywidgets==7.4.2) (4.2.1)\n",
      "Requirement already satisfied: jupyter-client in /gpfs/fs1/scinet/niagara/software/2018a/opt/base/anaconda3/5.1.0-hub/lib-orig/python3.6/site-packages (from ipykernel>=4.5.1->ipywidgets==7.4.2) (5.2.2)\n",
      "Requirement already satisfied: tornado>=4.0 in /gpfs/fs1/scinet/niagara/software/2018a/opt/base/anaconda3/5.1.0-hub/lib-orig/python3.6/site-packages (from ipykernel>=4.5.1->ipywidgets==7.4.2) (4.5.3)\n",
      "Requirement already satisfied: setuptools>=18.5 in /gpfs/fs1/scinet/niagara/software/2018a/opt/base/anaconda3/5.1.0-hub/lib-orig/python3.6/site-packages (from ipython>=4.0.0; python_version >= \"3.3\"->ipywidgets==7.4.2) (38.4.0)\n",
      "Requirement already satisfied: jedi>=0.10 in /gpfs/fs1/scinet/niagara/software/2018a/opt/base/anaconda3/5.1.0-hub/lib-orig/python3.6/site-packages (from ipython>=4.0.0; python_version >= \"3.3\"->ipywidgets==7.4.2) (0.11.1)\n",
      "Requirement already satisfied: pickleshare in /gpfs/fs1/scinet/niagara/software/2018a/opt/base/anaconda3/5.1.0-hub/lib-orig/python3.6/site-packages (from ipython>=4.0.0; python_version >= \"3.3\"->ipywidgets==7.4.2) (0.7.4)\n",
      "Requirement already satisfied: simplegeneric>0.8 in /gpfs/fs1/scinet/niagara/software/2018a/opt/base/anaconda3/5.1.0-hub/lib-orig/python3.6/site-packages (from ipython>=4.0.0; python_version >= \"3.3\"->ipywidgets==7.4.2) (0.8.1)\n",
      "Requirement already satisfied: prompt_toolkit<2.0.0,>=1.0.4 in /gpfs/fs1/scinet/niagara/software/2018a/opt/base/anaconda3/5.1.0-hub/lib-orig/python3.6/site-packages (from ipython>=4.0.0; python_version >= \"3.3\"->ipywidgets==7.4.2) (1.0.15)\n",
      "Requirement already satisfied: pygments in /gpfs/fs1/scinet/niagara/software/2018a/opt/base/anaconda3/5.1.0-hub/lib-orig/python3.6/site-packages (from ipython>=4.0.0; python_version >= \"3.3\"->ipywidgets==7.4.2) (2.2.0)\n",
      "Requirement already satisfied: pexpect in /gpfs/fs1/scinet/niagara/software/2018a/opt/base/anaconda3/5.1.0-hub/lib-orig/python3.6/site-packages (from ipython>=4.0.0; python_version >= \"3.3\"->ipywidgets==7.4.2) (4.3.1)\n",
      "Requirement already satisfied: jinja2 in /gpfs/fs1/scinet/niagara/software/2018a/opt/base/anaconda3/5.1.0-hub/lib-orig/python3.6/site-packages (from notebook>=4.4.1->widgetsnbextension~=3.4.0->ipywidgets==7.4.2) (2.10)\n",
      "Requirement already satisfied: nbconvert in /gpfs/fs1/scinet/niagara/software/2018a/opt/base/anaconda3/5.1.0-hub/lib-orig/python3.6/site-packages (from notebook>=4.4.1->widgetsnbextension~=3.4.0->ipywidgets==7.4.2) (5.3.1)\n",
      "Requirement already satisfied: Send2Trash in /gpfs/fs1/scinet/niagara/software/2018a/opt/base/anaconda3/5.1.0-hub/lib-orig/python3.6/site-packages (from notebook>=4.4.1->widgetsnbextension~=3.4.0->ipywidgets==7.4.2) (1.4.2)\n",
      "Requirement already satisfied: terminado>=0.8.1 in /gpfs/fs1/scinet/niagara/software/2018a/opt/base/anaconda3/5.1.0-hub/lib-orig/python3.6/site-packages (from notebook>=4.4.1->widgetsnbextension~=3.4.0->ipywidgets==7.4.2) (0.8.1)\n",
      "Requirement already satisfied: pyzmq>=13 in /gpfs/fs1/scinet/niagara/software/2018a/opt/base/anaconda3/5.1.0-hub/lib-orig/python3.6/site-packages (from jupyter-client->ipykernel>=4.5.1->ipywidgets==7.4.2) (16.0.3)\n",
      "Requirement already satisfied: python-dateutil>=2.1 in /gpfs/fs1/scinet/niagara/software/2018a/opt/base/anaconda3/5.1.0-hub/lib-orig/python3.6/site-packages (from jupyter-client->ipykernel>=4.5.1->ipywidgets==7.4.2) (2.6.1)\n",
      "Requirement already satisfied: parso==0.1.* in /gpfs/fs1/scinet/niagara/software/2018a/opt/base/anaconda3/5.1.0-hub/lib-orig/python3.6/site-packages (from jedi>=0.10->ipython>=4.0.0; python_version >= \"3.3\"->ipywidgets==7.4.2) (0.1.1)\n",
      "Requirement already satisfied: wcwidth in /gpfs/fs1/scinet/niagara/software/2018a/opt/base/anaconda3/5.1.0-hub/lib-orig/python3.6/site-packages (from prompt_toolkit<2.0.0,>=1.0.4->ipython>=4.0.0; python_version >= \"3.3\"->ipywidgets==7.4.2) (0.1.7)\n",
      "Requirement already satisfied: MarkupSafe>=0.23 in /gpfs/fs1/scinet/niagara/software/2018a/opt/base/anaconda3/5.1.0-hub/lib-orig/python3.6/site-packages (from jinja2->notebook>=4.4.1->widgetsnbextension~=3.4.0->ipywidgets==7.4.2) (1.0)\n",
      "Requirement already satisfied: mistune>=0.7.4 in /gpfs/fs1/scinet/niagara/software/2018a/opt/base/anaconda3/5.1.0-hub/lib-orig/python3.6/site-packages (from nbconvert->notebook>=4.4.1->widgetsnbextension~=3.4.0->ipywidgets==7.4.2) (0.8.3)\n",
      "Requirement already satisfied: entrypoints>=0.2.2 in /gpfs/fs1/scinet/niagara/software/2018a/opt/base/anaconda3/5.1.0-hub/lib-orig/python3.6/site-packages (from nbconvert->notebook>=4.4.1->widgetsnbextension~=3.4.0->ipywidgets==7.4.2) (0.2.3)\n",
      "Requirement already satisfied: bleach in /gpfs/fs1/scinet/niagara/software/2018a/opt/base/anaconda3/5.1.0-hub/lib-orig/python3.6/site-packages (from nbconvert->notebook>=4.4.1->widgetsnbextension~=3.4.0->ipywidgets==7.4.2) (1.5.0)\n",
      "Requirement already satisfied: pandocfilters>=1.4.1 in /gpfs/fs1/scinet/niagara/software/2018a/opt/base/anaconda3/5.1.0-hub/lib-orig/python3.6/site-packages (from nbconvert->notebook>=4.4.1->widgetsnbextension~=3.4.0->ipywidgets==7.4.2) (1.4.2)\n",
      "Requirement already satisfied: testpath in /gpfs/fs1/scinet/niagara/software/2018a/opt/base/anaconda3/5.1.0-hub/lib-orig/python3.6/site-packages (from nbconvert->notebook>=4.4.1->widgetsnbextension~=3.4.0->ipywidgets==7.4.2) (0.3.1)\n",
      "Requirement already satisfied: html5lib!=0.9999,!=0.99999,<0.99999999,>=0.999 in /gpfs/fs1/scinet/niagara/software/2018a/opt/base/anaconda3/5.1.0-hub/lib-orig/python3.6/site-packages (from bleach->nbconvert->notebook>=4.4.1->widgetsnbextension~=3.4.0->ipywidgets==7.4.2) (0.9999999)\n",
      "Installing collected packages: widgetsnbextension, ipywidgets\n",
      "Successfully installed ipywidgets-7.4.2 widgetsnbextension-3.4.2\n",
      "\u001b[33mYou are using pip version 10.0.1, however version 20.2.3 is available.\n",
      "You should consider upgrading via the 'pip install --upgrade pip' command.\u001b[0m\n"
     ]
    },
    {
     "name": "stdout",
     "output_type": "stream",
     "text": [
      "Collecting jupyterlab==0.35.4\n",
      "  Using cached https://files.pythonhosted.org/packages/45/77/40f2a382508d78a3f9fc59b98d67edd5b2999f8441d3945bfd37d2351a4d/jupyterlab-0.35.4-py3-none-any.whl\n",
      "Requirement already satisfied: notebook>=4.3.1 in /gpfs/fs1/scinet/niagara/software/2018a/opt/base/anaconda3/5.1.0-hub/lib-orig/python3.6/site-packages (from jupyterlab==0.35.4) (5.4.0)\n",
      "Collecting jupyterlab-server<0.3.0,>=0.2.0 (from jupyterlab==0.35.4)\n",
      "  Using cached https://files.pythonhosted.org/packages/78/77/e8a9c300afbe24aa46abaf1091d9e7b82328559e99cf2d601e858bcb3e1a/jupyterlab_server-0.2.0-py3-none-any.whl\n",
      "Requirement already satisfied: jinja2 in /gpfs/fs1/scinet/niagara/software/2018a/opt/base/anaconda3/5.1.0-hub/lib-orig/python3.6/site-packages (from notebook>=4.3.1->jupyterlab==0.35.4) (2.10)\n",
      "Requirement already satisfied: tornado>=4 in /gpfs/fs1/scinet/niagara/software/2018a/opt/base/anaconda3/5.1.0-hub/lib-orig/python3.6/site-packages (from notebook>=4.3.1->jupyterlab==0.35.4) (4.5.3)\n",
      "Requirement already satisfied: ipython_genutils in /gpfs/fs1/scinet/niagara/software/2018a/opt/base/anaconda3/5.1.0-hub/lib-orig/python3.6/site-packages (from notebook>=4.3.1->jupyterlab==0.35.4) (0.2.0)\n",
      "Requirement already satisfied: traitlets>=4.2.1 in /gpfs/fs1/scinet/niagara/software/2018a/opt/base/anaconda3/5.1.0-hub/lib-orig/python3.6/site-packages (from notebook>=4.3.1->jupyterlab==0.35.4) (4.3.2)\n",
      "Requirement already satisfied: jupyter_core>=4.4.0 in /gpfs/fs1/scinet/niagara/software/2018a/opt/base/anaconda3/5.1.0-hub/lib-orig/python3.6/site-packages (from notebook>=4.3.1->jupyterlab==0.35.4) (4.4.0)\n",
      "Requirement already satisfied: jupyter_client>=5.2.0 in /gpfs/fs1/scinet/niagara/software/2018a/opt/base/anaconda3/5.1.0-hub/lib-orig/python3.6/site-packages (from notebook>=4.3.1->jupyterlab==0.35.4) (5.2.2)\n",
      "Requirement already satisfied: nbformat in /gpfs/fs1/scinet/niagara/software/2018a/opt/base/anaconda3/5.1.0-hub/lib-orig/python3.6/site-packages (from notebook>=4.3.1->jupyterlab==0.35.4) (4.4.0)\n",
      "Requirement already satisfied: nbconvert in /gpfs/fs1/scinet/niagara/software/2018a/opt/base/anaconda3/5.1.0-hub/lib-orig/python3.6/site-packages (from notebook>=4.3.1->jupyterlab==0.35.4) (5.3.1)\n",
      "Requirement already satisfied: ipykernel in /gpfs/fs1/scinet/niagara/software/2018a/opt/base/anaconda3/5.1.0-hub/lib-orig/python3.6/site-packages (from notebook>=4.3.1->jupyterlab==0.35.4) (4.8.2)\n",
      "Requirement already satisfied: Send2Trash in /gpfs/fs1/scinet/niagara/software/2018a/opt/base/anaconda3/5.1.0-hub/lib-orig/python3.6/site-packages (from notebook>=4.3.1->jupyterlab==0.35.4) (1.4.2)\n",
      "Requirement already satisfied: terminado>=0.8.1 in /gpfs/fs1/scinet/niagara/software/2018a/opt/base/anaconda3/5.1.0-hub/lib-orig/python3.6/site-packages (from notebook>=4.3.1->jupyterlab==0.35.4) (0.8.1)\n",
      "Requirement already satisfied: jsonschema>=2.6.0 in /gpfs/fs1/scinet/niagara/software/2018a/opt/base/anaconda3/5.1.0-hub/lib-orig/python3.6/site-packages (from jupyterlab-server<0.3.0,>=0.2.0->jupyterlab==0.35.4) (2.6.0)\n",
      "Requirement already satisfied: MarkupSafe>=0.23 in /gpfs/fs1/scinet/niagara/software/2018a/opt/base/anaconda3/5.1.0-hub/lib-orig/python3.6/site-packages (from jinja2->notebook>=4.3.1->jupyterlab==0.35.4) (1.0)\n",
      "Requirement already satisfied: six in /gpfs/fs1/scinet/niagara/software/2018a/opt/base/anaconda3/5.1.0-hub/lib-orig/python3.6/site-packages (from traitlets>=4.2.1->notebook>=4.3.1->jupyterlab==0.35.4) (1.11.0)\n",
      "Requirement already satisfied: decorator in /gpfs/fs1/scinet/niagara/software/2018a/opt/base/anaconda3/5.1.0-hub/lib-orig/python3.6/site-packages (from traitlets>=4.2.1->notebook>=4.3.1->jupyterlab==0.35.4) (4.2.1)\n",
      "Requirement already satisfied: pyzmq>=13 in /gpfs/fs1/scinet/niagara/software/2018a/opt/base/anaconda3/5.1.0-hub/lib-orig/python3.6/site-packages (from jupyter_client>=5.2.0->notebook>=4.3.1->jupyterlab==0.35.4) (16.0.3)\n",
      "Requirement already satisfied: python-dateutil>=2.1 in /gpfs/fs1/scinet/niagara/software/2018a/opt/base/anaconda3/5.1.0-hub/lib-orig/python3.6/site-packages (from jupyter_client>=5.2.0->notebook>=4.3.1->jupyterlab==0.35.4) (2.6.1)\n",
      "Requirement already satisfied: mistune>=0.7.4 in /gpfs/fs1/scinet/niagara/software/2018a/opt/base/anaconda3/5.1.0-hub/lib-orig/python3.6/site-packages (from nbconvert->notebook>=4.3.1->jupyterlab==0.35.4) (0.8.3)\n",
      "Requirement already satisfied: pygments in /gpfs/fs1/scinet/niagara/software/2018a/opt/base/anaconda3/5.1.0-hub/lib-orig/python3.6/site-packages (from nbconvert->notebook>=4.3.1->jupyterlab==0.35.4) (2.2.0)\n",
      "Requirement already satisfied: entrypoints>=0.2.2 in /gpfs/fs1/scinet/niagara/software/2018a/opt/base/anaconda3/5.1.0-hub/lib-orig/python3.6/site-packages (from nbconvert->notebook>=4.3.1->jupyterlab==0.35.4) (0.2.3)\n",
      "Requirement already satisfied: bleach in /gpfs/fs1/scinet/niagara/software/2018a/opt/base/anaconda3/5.1.0-hub/lib-orig/python3.6/site-packages (from nbconvert->notebook>=4.3.1->jupyterlab==0.35.4) (1.5.0)\n",
      "Requirement already satisfied: pandocfilters>=1.4.1 in /gpfs/fs1/scinet/niagara/software/2018a/opt/base/anaconda3/5.1.0-hub/lib-orig/python3.6/site-packages (from nbconvert->notebook>=4.3.1->jupyterlab==0.35.4) (1.4.2)\n",
      "Requirement already satisfied: testpath in /gpfs/fs1/scinet/niagara/software/2018a/opt/base/anaconda3/5.1.0-hub/lib-orig/python3.6/site-packages (from nbconvert->notebook>=4.3.1->jupyterlab==0.35.4) (0.3.1)\n",
      "Requirement already satisfied: ipython>=4.0.0 in /gpfs/fs1/scinet/niagara/software/2018a/opt/base/anaconda3/5.1.0-hub/lib-orig/python3.6/site-packages (from ipykernel->notebook>=4.3.1->jupyterlab==0.35.4) (6.2.1)\n",
      "Requirement already satisfied: html5lib!=0.9999,!=0.99999,<0.99999999,>=0.999 in /gpfs/fs1/scinet/niagara/software/2018a/opt/base/anaconda3/5.1.0-hub/lib-orig/python3.6/site-packages (from bleach->nbconvert->notebook>=4.3.1->jupyterlab==0.35.4) (0.9999999)\n",
      "Requirement already satisfied: setuptools>=18.5 in /gpfs/fs1/scinet/niagara/software/2018a/opt/base/anaconda3/5.1.0-hub/lib-orig/python3.6/site-packages (from ipython>=4.0.0->ipykernel->notebook>=4.3.1->jupyterlab==0.35.4) (38.4.0)\n",
      "Requirement already satisfied: jedi>=0.10 in /gpfs/fs1/scinet/niagara/software/2018a/opt/base/anaconda3/5.1.0-hub/lib-orig/python3.6/site-packages (from ipython>=4.0.0->ipykernel->notebook>=4.3.1->jupyterlab==0.35.4) (0.11.1)\n",
      "Requirement already satisfied: pickleshare in /gpfs/fs1/scinet/niagara/software/2018a/opt/base/anaconda3/5.1.0-hub/lib-orig/python3.6/site-packages (from ipython>=4.0.0->ipykernel->notebook>=4.3.1->jupyterlab==0.35.4) (0.7.4)\n",
      "Requirement already satisfied: simplegeneric>0.8 in /gpfs/fs1/scinet/niagara/software/2018a/opt/base/anaconda3/5.1.0-hub/lib-orig/python3.6/site-packages (from ipython>=4.0.0->ipykernel->notebook>=4.3.1->jupyterlab==0.35.4) (0.8.1)\n",
      "Requirement already satisfied: prompt_toolkit<2.0.0,>=1.0.4 in /gpfs/fs1/scinet/niagara/software/2018a/opt/base/anaconda3/5.1.0-hub/lib-orig/python3.6/site-packages (from ipython>=4.0.0->ipykernel->notebook>=4.3.1->jupyterlab==0.35.4) (1.0.15)\n",
      "Requirement already satisfied: pexpect in /gpfs/fs1/scinet/niagara/software/2018a/opt/base/anaconda3/5.1.0-hub/lib-orig/python3.6/site-packages (from ipython>=4.0.0->ipykernel->notebook>=4.3.1->jupyterlab==0.35.4) (4.3.1)\n",
      "Requirement already satisfied: parso==0.1.* in /gpfs/fs1/scinet/niagara/software/2018a/opt/base/anaconda3/5.1.0-hub/lib-orig/python3.6/site-packages (from jedi>=0.10->ipython>=4.0.0->ipykernel->notebook>=4.3.1->jupyterlab==0.35.4) (0.1.1)\n",
      "Requirement already satisfied: wcwidth in /gpfs/fs1/scinet/niagara/software/2018a/opt/base/anaconda3/5.1.0-hub/lib-orig/python3.6/site-packages (from prompt_toolkit<2.0.0,>=1.0.4->ipython>=4.0.0->ipykernel->notebook>=4.3.1->jupyterlab==0.35.4) (0.1.7)\n",
      "Installing collected packages: jupyterlab-server, jupyterlab\n",
      "\u001b[33m  The scripts jlpm, jupyter-lab, jupyter-labextension and jupyter-labhub are installed in '/home/u/uhengart/ezzeldi/.local/bin' which is not on PATH.\n",
      "  Consider adding this directory to PATH or, if you prefer to suppress this warning, use --no-warn-script-location.\u001b[0m\n",
      "Successfully installed jupyterlab-0.35.4 jupyterlab-server-0.2.0\n",
      "\u001b[33mYou are using pip version 10.0.1, however version 20.2.3 is available.\n",
      "You should consider upgrading via the 'pip install --upgrade pip' command.\u001b[0m\n"
     ]
    }
   ],
   "source": [
    "#!pip uninstall numpy --y\n",
    "\n",
    "'''\n",
    "!pip install --user dataclasses==0.6\n",
    "!pip install --user hdf5==1.10.4\n",
    "!pip install --user h5py==2.9.0\n",
    "!pip install --user keras-applications==1.0.8\n",
    "!pip install --user matplotlib==3.0.3\n",
    "!pip install --user mkl-service==2.0.2\n",
    "!pip install --user mkl_fft==1.0.12\n",
    "!pip install --user numpy==1.16.4\n",
    "!pip install --user numexpr==2.6.9\n",
    "!pip install --user pandas-0.24.2\n",
    "!pip install --user scipy-1.2.1\n",
    "!pip install --user tensorboard-1.13.1\n",
    "!pip install --user tensorflow-estimator==1.13.0\n",
    "!pip install --user keras-preprocessing==1.1.0\n",
    "!pip install --user patsy==0.5.1\n",
    "!pip install --user peakutils==1.3.2\n",
    "!pip install --user pytables==3.5.2\n",
    "!pip install --user scikit-learn==0.21.2\n",
    "!pip install --user keras-base==2.2.4\n",
    "!pip install --user statsmodels==0.9.0\n",
    "!pip install --user tensorflow-base==1.13.1\n",
    "!pip install --user seaborn==0.9.0\n",
    "!pip install --user tensorflow==1.13.1\n",
    "!pip install --user keras==2.2.4\n",
    "!pip install --user numpy-base==1.16.4\n",
    "!pip install --user tqdm==4.31.1\n",
    "\n",
    "!pip install --user absl-py==0.7.1\n",
    "!pip install --user gast==0.2.2\n",
    "'''\n",
    "\n",
    "\n",
    "\n",
    "!pip install --user tflow_select==2.3.0\n",
    "!pip install --user blas==1.0\n",
    "!pip install --user ca-certificates==2019.5.15\n",
    "!pip install --user icc_rt==2019.0.0\n",
    "!pip install --user intel-openmp==2019.4\n",
    "!pip install --user epoch==20160418\n",
    "!pip install --user pandoc==2.2.3.2\n",
    "!pip install --user vs2015_runtime==14.15.26706\n",
    "!pip install --user winpty==0.4.3\n",
    "!pip install --user libmklml==2019.0.3\n",
    "!pip install --user m2w64==gmp==6.1.0\n",
    "!pip install --user m2w64==libwinpthread\n",
    "!pip install --user mkl==2019.4\n",
    "!pip install --user nodejs==10.13.0\n",
    "!pip install --user vc==14.1\n",
    "!pip install --user bzip2==1.0.6\n",
    "!pip install --user ffmpeg==4.1.3\n",
    "!pip install --user graphviz==2.38\n",
    "!pip install --user icu==58.2\n",
    "!pip install --user jpeg==9b\n",
    "!pip install --user libsodium==1.0.16\n",
    "!pip install --user lz4==c==1.8.1.2\n",
    "!pip install --user lzo==2.10\n",
    "!pip install --user m2w64-gcc-libs-core==5.3.0\n",
    "!pip install --user openssl==1.1.1c\n",
    "!pip install --user snappy==1.1.7\n",
    "!pip install --user sqlite==3.28.0\n",
    "!pip install --user xz==5.2.4\n",
    "!pip install --user yaml==0.1.7\n",
    "!pip install --user zlib==1.2.11\n",
    "!pip install --user libpng==1.6.37\n",
    "!pip install --user libprotobuf==3.8.0\n",
    "!pip install --user m2w64-gcc-libgfortran==5.3.0\n",
    "!pip install --user python==3.6.8\n",
    "!pip install --user zeromq==4.3.1\n",
    "!pip install --user zstd==1.3.7\n",
    "!pip install --user appdirs==1.4.3\n",
    "!pip install --user astor==0.7.1\n",
    "!pip install --user attrs==19.1.0\n",
    "!pip install --user backcall==0.1.0\n",
    "!pip install --user blosc==1.16.3\n",
    "!pip install --user certifi==2019.6.16\n",
    "!pip install --user click==7.0\n",
    "!pip install --user colorama==0.4.1\n",
    "\n",
    "!pip install --user decorator==4.4.0\n",
    "!pip install --user defusedxml==0.6.0\n",
    "!pip install --user entrypoints==0.3\n",
    "!pip install --user freetype==2.9.1\n",
    "\n",
    "!pip install --user ipython_genutils==0.2.0\n",
    "!pip install --user joblib==0.13.2\n",
    "!pip install --user kiwisolver==1.1.0\n",
    "!pip install --user lazy-object-proxy==1.4.1\n",
    "!pip install --user m2w64-gcc-libs==5.3.0\n",
    "!pip install --user markupsafe==1.1.1\n",
    "!pip install --user mccabe==0.6.1\n",
    "!pip install --user mistune==0.8.4\n",
    "!pip install --user pandocfilters==1.4.2\n",
    "!pip install --user parso==0.4.0\n",
    "!pip install --user pickleshare==0.7.5\n",
    "!pip install --user prometheus_client==0.6.0\n",
    "!pip install --user pycodestyle==2.5.0\n",
    "!pip install --user pyflakes==2.1.1\n",
    "!pip install --user pyparsing==2.4.0\n",
    "!pip install --user pyreadline==2.1\n",
    "!pip install --user pytz==2019.1\n",
    "!pip install --user pyyaml==5.1\n",
    "!pip install --user pyzmq==18.0.0\n",
    "!pip install --user qt==5.9.7==vc14h73c81de_0\n",
    "!pip install --user send2trash==1.5.0\n",
    "!pip install --user sip==4.19.8\n",
    "!pip install --user six==1.12.0\n",
    "!pip install --user snowballstemmer==1.2.1\n",
    "!pip install --user termcolor==1.1.0\n",
    "!pip install --user testpath==0.4.2\n",
    "!pip install --user toml==0.10.0\n",
    "!pip install --user tornado==6.0.2\n",
    "!pip install --user typed==ast==1.3.4\n",
    "!pip install --user wcwidth==0.1.7\n",
    "!pip install --user webencodings==0.5.1\n",
    "!pip install --user werkzeug==0.15.4\n",
    "!pip install --user wincertstore==0.2\n",
    "!pip install --user wrapt==1.11.1\n",
    "!pip install --user black==19.3b0\n",
    "!pip install --user cycler==0.10.0\n",
    "!pip install --user jedi==0.13.3\n",
    "!pip install --user mkl_random==1.0.2\n",
    "!pip install --user mock==3.0.5\n",
    "!pip install --user pydocstyle==3.0.0\n",
    "!pip install --user pydot==1.4.1\n",
    "!pip install --user pyqt==5.9.2\n",
    "!pip install --user pyrsistent==0.14.11\n",
    "!pip install --user python==dateutil==2.8.0\n",
    "!pip install --user pywinpty==0.5.5000\n",
    "!pip install --user setuptools==41.0.1\n",
    "!pip install --user traitlets==4.3.2\n",
    "!pip install --user astroid==2.2.5\n",
    "!pip install --user bleach==3.1.0\n",
    "!pip install --user flake8==3.7.7\n",
    "!pip install --user grpcio==1.16.1\n",
    "!pip install --user isort==4.3.20\n",
    "!pip install --user jinja2==2.10.1\n",
    "!pip install --user jsonschema==3.0.1\n",
    "!pip install --user jupyter_core==4.4.0\n",
    "!pip install --user markdown==3.1.1\n",
    "!pip install --user protobuf==3.8.0\n",
    "!pip install --user pygments==2.4.2\n",
    "!pip install --user terminado==0.8.2\n",
    "!pip install --user wheel==0.33.4\n",
    "!pip install --user jupyter_client==5.2.4\n",
    "!pip install --user nbformat==4.4.0\n",
    "!pip install --user pip==19.1.1\n",
    "!pip install --user prompt_toolkit==2.0.9\n",
    "!pip install --user pylint==2.3.1\n",
    "!pip install --user ipython==7.5.0\n",
    "!pip install --user nbconvert==5.5.0\n",
    "!pip install --user ipykernel==5.1.1\n",
    "!pip install --user notebook==5.7.8\n",
    "!pip install --user jupyterlab_server==0.2.0\n",
    "!pip install --user widgetsnbextension==3.4.2\n",
    "!pip install --user ipywidgets==7.4.2\n",
    "!pip install --user jupyterlab==0.35.4\n"
   ]
  },
  {
   "cell_type": "code",
   "execution_count": 6,
   "metadata": {
    "nbpresent": {
     "id": "ccece0f0-d714-446c-9f47-77720e31e65e"
    },
    "scrolled": true
   },
   "outputs": [],
   "source": [
    "# Standard\n",
    "from pathlib import Path\n",
    "import os\n",
    "import sys\n",
    "import warnings\n",
    "import random\n",
    "import dataclasses\n",
    "import math\n",
    "import multiprocessing as mp\n",
    "\n",
    "# Extra\n",
    "import pandas as pd\n",
    "import numpy as np\n",
    "from sklearn import metrics\n",
    "from sklearn.svm import OneClassSVM\n",
    "from sklearn.model_selection import cross_validate, RandomizedSearchCV\n",
    "from sklearn.decomposition import PCA\n",
    "import statsmodels.stats.api as sms\n",
    "import tensorflow as tf\n",
    "from keras import backend as K\n",
    "from keras.models import Model\n",
    "from keras.layers import (\n",
    "    Dense,\n",
    "    Input,\n",
    "    Conv1D,\n",
    "    MaxPooling1D,\n",
    "    Flatten,\n",
    "    Lambda,\n",
    "    Conv2D,\n",
    "    MaxPooling2D,\n",
    "    Dropout,\n",
    "    BatchNormalization,\n",
    "    GlobalAveragePooling1D,\n",
    "    Activation\n",
    ")\n",
    "from keras.utils import plot_model\n",
    "from keras.optimizers import Adam, SGD,RMSprop\n",
    "from keras.models import load_model\n",
    "from keras.callbacks import Callback\n",
    "from tqdm.auto import tqdm\n",
    "import seaborn as sns\n",
    "import matplotlib.pyplot as plt\n",
    "from IPython.display import display\n",
    "\n",
    "# Custom\n",
    "module_path = os.path.abspath(os.path.join(\"..\"))  # supposed to be parent folder\n",
    "if module_path not in sys.path:\n",
    "    sys.path.append(module_path)\n",
    "from src.utility.dataset_loader_hdf5 import DatasetLoader\n",
    "\n",
    "# Global utitlity functions are loaded from separate notebook:\n",
    "%run utils.ipynb"
   ]
  },
  {
   "cell_type": "markdown",
   "metadata": {
    "nbpresent": {
     "id": "dd760530-b2b0-4a35-b3dc-ab9c03be43ce"
    }
   },
   "source": [
    "### 1.2 Configuration <a id='1.2'>&nbsp;</a>"
   ]
  },
  {
   "cell_type": "code",
   "execution_count": 7,
   "metadata": {
    "nbpresent": {
     "id": "37c48a73-4111-4a26-a699-16b3b0ceb5c2"
    }
   },
   "outputs": [],
   "source": [
    "# Configure Data Loading & Seed\n",
    "SEED = 712  # Used for every random function\n",
    "HMOG_HDF5 = Path.cwd().parent / \"data\" / \"processed\" / \"hmog_dataset.hdf5\"\n",
    "EXCLUDE_COLS = [\"sys_time\"]\n",
    "CORES = mp.cpu_count()\n",
    "\n",
    "# For plots and CSVs\n",
    "OUTPUT_PATH = Path.cwd() / \"output\" / \"chapter-6-1-4-siamese-cnn\"  # Cached data & csvs\n",
    "OUTPUT_PATH.mkdir(parents=True, exist_ok=True)\n",
    "REPORT_PATH = Path.cwd().parent / \"reports\" / \"figures\" # Figures for thesis\n",
    "REPORT_PATH.mkdir(parents=True, exist_ok=True)\n",
    "\n",
    "# Improve performance of Tensorflow (this improved speed _a_lot_ on my machine!!!)\n",
    "K.tf.set_random_seed(SEED)\n",
    "conf = K.tf.ConfigProto(\n",
    "    device_count={\"CPU\": CORES},\n",
    "    allow_soft_placement=True,\n",
    "    intra_op_parallelism_threads=CORES,\n",
    "    inter_op_parallelism_threads=CORES,\n",
    ")\n",
    "K.set_session(K.tf.Session(config=conf))\n",
    "\n",
    "# Plotting\n",
    "%matplotlib inline\n",
    "utils_set_output_style()\n",
    "\n",
    "# Silence various deprecation warnings...\n",
    "tf.logging.set_verbosity(tf.logging.ERROR)\n",
    "np.warnings.filterwarnings(\"ignore\")\n",
    "warnings.filterwarnings(\"ignore\")"
   ]
  },
  {
   "cell_type": "code",
   "execution_count": 8,
   "metadata": {
    "nbpresent": {
     "id": "c485bc99-2eea-480b-9dd9-7e152015618a"
    }
   },
   "outputs": [
    {
     "data": {
      "text/html": [
       "<style>.p-Widget.jp-OutputPrompt.jp-OutputArea-prompt:empty{padding: 0;border: 0;} div.output_subarea{padding:0;}</style>"
      ],
      "text/plain": [
       "<IPython.core.display.HTML object>"
      ]
     },
     "execution_count": 8,
     "metadata": {},
     "output_type": "execute_result"
    }
   ],
   "source": [
    "# Workaround to remove ugly spacing between tqdm progress bars:\n",
    "HTML(\"<style>.p-Widget.jp-OutputPrompt.jp-OutputArea-prompt:empty{padding: 0;border: 0;} div.output_subarea{padding:0;}</style>\")"
   ]
  },
  {
   "cell_type": "markdown",
   "metadata": {
    "nbpresent": {
     "id": "bf984374-17cd-417e-b344-99f86aa4d123"
    }
   },
   "source": [
    "### 1.3 Experiment Parameters <a id='1.3'>&nbsp;</a> \n",
    "Selection of parameters set that had been tested in this notebook. Select one of them to reproduce results."
   ]
  },
  {
   "cell_type": "code",
   "execution_count": 9,
   "metadata": {
    "nbpresent": {
     "id": "89602b6d-86c5-4a9e-bfa4-9513e24986d9"
    }
   },
   "outputs": [],
   "source": [
    "@dataclasses.dataclass\n",
    "class ExperimentParameters:\n",
    "    \"\"\"Contains all relevant parameters to run an experiment.\"\"\"\n",
    "\n",
    "    name: str  # Name of Experiments Parameter set. Used as identifier for charts etc.\n",
    "\n",
    "    # Data / Splitting:\n",
    "    frequency: int\n",
    "    feature_cols: list  # Columns used as features\n",
    "    max_subjects: int\n",
    "    exclude_subjects: list  # Don't load data from those users\n",
    "    n_valid_train_subjects: int\n",
    "    n_valid_test_subjects: int\n",
    "    n_test_train_subjects: int\n",
    "    n_test_test_subjects: int\n",
    "    seconds_per_subject_train: float\n",
    "    seconds_per_subject_test: float\n",
    "    task_types: list  # Limit scenarios to [1, 3, 5] for sitting or [2, 4, 6] for walking, or don't limit (None)\n",
    "\n",
    "    # Reshaping\n",
    "    window_size: int  # After resampling\n",
    "    step_width: int  # After resampling\n",
    "\n",
    "    # Normalization\n",
    "    scaler: str  # {\"std\", \"robust\", \"minmax\"}\n",
    "    scaler_scope: str  # {\"subject\", \"session\"}\n",
    "    scaler_global: bool  # scale training and testing sets at once (True), or fit scaler on training only (False)\n",
    "\n",
    "    # Siamese Network\n",
    "    max_pairs_per_session: int  # Max. number of pairs per session\n",
    "    margin: float  # Contrastive Loss Margin\n",
    "    model_variant: str  # {\"1d\", \"2d\"} Type of architecture\n",
    "    filters: list  # List of length 4, containing number of filters for conv layers\n",
    "    epochs_best: int  # Train epochs to for final model\n",
    "    epochs_max: int\n",
    "    batch_size: int\n",
    "    optimizer: str  # Optimizer to use for Siamese Network\n",
    "    optimizer_lr: float  # Learning Rate\n",
    "    optimizer_decay: float\n",
    "\n",
    "    # OCSVM\n",
    "    ocsvm_nu: float  # Best value found in random search, used for final model\n",
    "    ocsvm_gamma: float  # Best value found in random search, used for final model\n",
    "\n",
    "    # Calculated values\n",
    "    def __post_init__(self):\n",
    "        # HDF key of table:\n",
    "        self.table_name = f\"sensors_{self.frequency}hz\"\n",
    "\n",
    "        # Number of samples per _session_ used for training:\n",
    "        self.samples_per_subject_train = math.ceil(\n",
    "            (self.seconds_per_subject_train * 100)\n",
    "            / (100 / self.frequency)\n",
    "            / self.window_size\n",
    "        )\n",
    "\n",
    "        # Number of samples per _session_ used for testing:\n",
    "        self.samples_per_subject_test = math.ceil(\n",
    "            (self.seconds_per_subject_test * 100)\n",
    "            / (100 / self.frequency)\n",
    "            / self.window_size\n",
    "        )\n",
    "\n",
    "\n",
    "# INSTANCES\n",
    "# ===========================================================\n",
    "\n",
    "# NAIVE_MINMAX (2D Filters)\n",
    "# -----------------------------------------------------------\n",
    "NAIVE_MINMAX_2D = ExperimentParameters(\n",
    "    name=\"NAIVE-MINMAX-2D\",\n",
    "    # Data / Splitting\n",
    "    frequency=25,\n",
    "    feature_cols=[\n",
    "        \"acc_x\",\n",
    "        \"acc_y\",\n",
    "        \"acc_z\",\n",
    "        \"gyr_x\",\n",
    "        \"gyr_y\",\n",
    "        \"gyr_z\",\n",
    "        \"mag_x\",\n",
    "        \"mag_y\",\n",
    "        \"mag_z\",\n",
    "    ],\n",
    "    max_subjects=9,#0,\n",
    "    exclude_subjects=[\n",
    "        \"733162\",  # No 24 sessions\n",
    "        \"526319\",  # ^\n",
    "        \"796581\",  # ^\n",
    "        \"539502\",  # Least amount of sensor values\n",
    "        \"219303\",  # ^\n",
    "        \"737973\",  # ^\n",
    "        \"986737\",  # ^\n",
    "        \"256487\",  # Most amount of sensor values\n",
    "        \"389015\",  # ^\n",
    "        \"856401\",  # ^\n",
    "    ],\n",
    "    n_valid_train_subjects=4,#0,\n",
    "    n_valid_test_subjects=1,#0,\n",
    "    n_test_train_subjects=1,#0,\n",
    "    n_test_test_subjects=3,#0,\n",
    "    seconds_per_subject_train=67.5,\n",
    "    seconds_per_subject_test=67.5,\n",
    "    task_types=None,\n",
    "    # Reshaping\n",
    "    window_size=25,  # 1 sec\n",
    "    step_width=25,\n",
    "    # Normalization\n",
    "    scaler=\"minmax\",\n",
    "    scaler_scope=\"subject\",\n",
    "    scaler_global=True,\n",
    "    # Siamese Network\n",
    "    model_variant=\"2d\",\n",
    "    filters=[32, 64, 128, 32],\n",
    "    epochs_best=35,\n",
    "    epochs_max=40,\n",
    "    batch_size=200,\n",
    "    optimizer=\"sgd\",\n",
    "    optimizer_lr=0.01,\n",
    "    optimizer_decay=0,\n",
    "    max_pairs_per_session=60,  # => 4min\n",
    "    margin=0.2,\n",
    "    # OCSVM\n",
    "    ocsvm_nu=0.092,\n",
    "    ocsvm_gamma=1.151,\n",
    ")  # <END NAIVE_APPROACH>\n",
    "\n",
    "# VALID_MINMAX (2D)\n",
    "# -----------------------------------------------------------\n",
    "VALID_MINMAX_2D = dataclasses.replace(\n",
    "    NAIVE_MINMAX_2D,\n",
    "    name=\"VALID-MINMAX-2D\",\n",
    "    task_types=None,\n",
    "    scaler_global=False,\n",
    "    epochs_max=40,\n",
    "    ocsvm_nu=0.110,\n",
    "    ocsvm_gamma=59.636,\n",
    ")\n",
    "\n",
    "# NAIVE_ROBUST (2D)\n",
    "# -----------------------------------------------------------\n",
    "NAIVE_ROBUST_2D = dataclasses.replace(\n",
    "    NAIVE_MINMAX_2D,\n",
    "    name=\"NAIVE-ROBUST-2D\",\n",
    "    scaler=\"robust\",\n",
    "    optimizer=\"sgd\",\n",
    "    optimizer_lr=0.05, # Decreased, to avoid \"all zeros\" prediction\n",
    "    optimizer_decay=0.002,\n",
    "    epochs_best=5,\n",
    "    ocsvm_nu=0.214,\n",
    "    ocsvm_gamma=2.354,\n",
    ")\n",
    "\n",
    "# VALID_ROBUST (2D)\n",
    "# -----------------------------------------------------------\n",
    "VALID_ROBUST_2D = dataclasses.replace(\n",
    "    NAIVE_MINMAX_2D,\n",
    "    name=\"VALID-ROBUST-2D\",\n",
    "    scaler=\"robust\",\n",
    "    scaler_global=False,\n",
    "    epochs_best=6,\n",
    "    epochs_max=20,\n",
    "    optimizer=\"sgd\",\n",
    "    optimizer_lr=0.05,  # Decrease LR, to avoid \"all zeros\" prediction\n",
    "    optimizer_decay=0.002,\n",
    "    ocsvm_nu=0.190,\n",
    "    ocsvm_gamma=0.069,\n",
    ")\n",
    "\n",
    "# VALID_ROBUST (1D)\n",
    "# -----------------------------------------------------------\n",
    "VALID_ROBUST_1D = dataclasses.replace(\n",
    "    NAIVE_MINMAX_2D,\n",
    "    name=\"VALID-ROBUST-1D\",\n",
    "    scaler=\"robust\",\n",
    "    scaler_global=False,\n",
    "    model_variant=\"1d\", \n",
    "    filters=[32, 64, 128, 64],    \n",
    "    epochs_best=9,\n",
    "    epochs_max=20,\n",
    "    ocsvm_nu=0.156,\n",
    "    ocsvm_gamma=33.932,\n",
    ")\n",
    "\n",
    "# FCN_ROBUST (1D)\n",
    "# -----------------------------------------------------------\n",
    "VALID_FCN_ROBUST = dataclasses.replace(\n",
    "    NAIVE_MINMAX_2D,\n",
    "    name=\"VALID-FCN-ROBUST-FINAL\",\n",
    "    task_types=[2, 4, 6],\n",
    "    feature_cols=[\"acc_x\", \"acc_y\", \"acc_z\"], \n",
    "    frequency=25,\n",
    "    window_size=25*5,\n",
    "    step_width=25*5,\n",
    "    scaler=\"robust\",\n",
    "    scaler_global=False,\n",
    "    seconds_per_subject_train=60 * 10,\n",
    "    seconds_per_subject_test=60 * 10,\n",
    "    max_pairs_per_session=60 * 10,\n",
    "    model_variant=\"fcn\",\n",
    "    filters=[32, 64, 32],\n",
    "    optimizer=\"adam\",\n",
    "    optimizer_lr=0.001,\n",
    "    optimizer_decay=None,\n",
    "    batch_size=300,\n",
    "    margin=1,\n",
    "    epochs_best=40,\n",
    "    epochs_max=80,\n",
    "    ocsvm_nu=0.165,\n",
    "    ocsvm_gamma=8.296,\n",
    ")"
   ]
  },
  {
   "cell_type": "markdown",
   "metadata": {
    "nbpresent": {
     "id": "d0d55861-c93e-447f-8376-00088e0067ff"
    }
   },
   "source": [
    "### 1.4 Select Approach <a id='1.4'>&nbsp;</a> \n",
    "Select the parameters to use for current notebook execution here!"
   ]
  },
  {
   "cell_type": "code",
   "execution_count": 10,
   "metadata": {
    "nbpresent": {
     "id": "aacbc33c-afdc-42b2-a6e5-7b55d43df187"
    }
   },
   "outputs": [],
   "source": [
    "P = VALID_FCN_ROBUST"
   ]
  },
  {
   "cell_type": "markdown",
   "metadata": {
    "nbpresent": {
     "id": "d0bc5614-1788-4193-925b-0edc8804a7be"
    }
   },
   "source": [
    "**Overview of current Experiment Parameters:**"
   ]
  },
  {
   "cell_type": "code",
   "execution_count": 11,
   "metadata": {
    "nbpresent": {
     "id": "4ca7556c-e46b-4588-ad38-883e06ad94e0"
    }
   },
   "outputs": [
    {
     "data": {
      "text/html": [
       "<div>\n",
       "<style scoped>\n",
       "    .dataframe tbody tr th:only-of-type {\n",
       "        vertical-align: middle;\n",
       "    }\n",
       "\n",
       "    .dataframe tbody tr th {\n",
       "        vertical-align: top;\n",
       "    }\n",
       "\n",
       "    .dataframe thead th {\n",
       "        text-align: right;\n",
       "    }\n",
       "</style>\n",
       "<table border=\"1\" class=\"dataframe\">\n",
       "  <thead>\n",
       "    <tr style=\"text-align: right;\">\n",
       "      <th></th>\n",
       "      <th>Value</th>\n",
       "    </tr>\n",
       "  </thead>\n",
       "  <tbody>\n",
       "    <tr>\n",
       "      <th>batch_size</th>\n",
       "      <td>300</td>\n",
       "    </tr>\n",
       "    <tr>\n",
       "      <th>epochs_best</th>\n",
       "      <td>40</td>\n",
       "    </tr>\n",
       "    <tr>\n",
       "      <th>epochs_max</th>\n",
       "      <td>80</td>\n",
       "    </tr>\n",
       "    <tr>\n",
       "      <th>exclude_subjects</th>\n",
       "      <td>[733162, 526319, 796581, 539502, 219303, 73797...</td>\n",
       "    </tr>\n",
       "    <tr>\n",
       "      <th>feature_cols</th>\n",
       "      <td>[acc_x, acc_y, acc_z]</td>\n",
       "    </tr>\n",
       "    <tr>\n",
       "      <th>filters</th>\n",
       "      <td>[32, 64, 32]</td>\n",
       "    </tr>\n",
       "    <tr>\n",
       "      <th>frequency</th>\n",
       "      <td>25</td>\n",
       "    </tr>\n",
       "    <tr>\n",
       "      <th>margin</th>\n",
       "      <td>1</td>\n",
       "    </tr>\n",
       "    <tr>\n",
       "      <th>max_pairs_per_session</th>\n",
       "      <td>600</td>\n",
       "    </tr>\n",
       "    <tr>\n",
       "      <th>max_subjects</th>\n",
       "      <td>9</td>\n",
       "    </tr>\n",
       "    <tr>\n",
       "      <th>model_variant</th>\n",
       "      <td>fcn</td>\n",
       "    </tr>\n",
       "    <tr>\n",
       "      <th>n_test_test_subjects</th>\n",
       "      <td>3</td>\n",
       "    </tr>\n",
       "    <tr>\n",
       "      <th>n_test_train_subjects</th>\n",
       "      <td>1</td>\n",
       "    </tr>\n",
       "    <tr>\n",
       "      <th>n_valid_test_subjects</th>\n",
       "      <td>1</td>\n",
       "    </tr>\n",
       "    <tr>\n",
       "      <th>n_valid_train_subjects</th>\n",
       "      <td>4</td>\n",
       "    </tr>\n",
       "    <tr>\n",
       "      <th>name</th>\n",
       "      <td>VALID-FCN-ROBUST-FINAL</td>\n",
       "    </tr>\n",
       "    <tr>\n",
       "      <th>ocsvm_gamma</th>\n",
       "      <td>8.296</td>\n",
       "    </tr>\n",
       "    <tr>\n",
       "      <th>ocsvm_nu</th>\n",
       "      <td>0.165</td>\n",
       "    </tr>\n",
       "    <tr>\n",
       "      <th>optimizer</th>\n",
       "      <td>adam</td>\n",
       "    </tr>\n",
       "    <tr>\n",
       "      <th>optimizer_decay</th>\n",
       "      <td>None</td>\n",
       "    </tr>\n",
       "    <tr>\n",
       "      <th>optimizer_lr</th>\n",
       "      <td>0.001</td>\n",
       "    </tr>\n",
       "    <tr>\n",
       "      <th>scaler</th>\n",
       "      <td>robust</td>\n",
       "    </tr>\n",
       "    <tr>\n",
       "      <th>scaler_global</th>\n",
       "      <td>False</td>\n",
       "    </tr>\n",
       "    <tr>\n",
       "      <th>scaler_scope</th>\n",
       "      <td>subject</td>\n",
       "    </tr>\n",
       "    <tr>\n",
       "      <th>seconds_per_subject_test</th>\n",
       "      <td>600</td>\n",
       "    </tr>\n",
       "    <tr>\n",
       "      <th>seconds_per_subject_train</th>\n",
       "      <td>600</td>\n",
       "    </tr>\n",
       "    <tr>\n",
       "      <th>step_width</th>\n",
       "      <td>125</td>\n",
       "    </tr>\n",
       "    <tr>\n",
       "      <th>task_types</th>\n",
       "      <td>[2, 4, 6]</td>\n",
       "    </tr>\n",
       "    <tr>\n",
       "      <th>window_size</th>\n",
       "      <td>125</td>\n",
       "    </tr>\n",
       "  </tbody>\n",
       "</table>\n",
       "</div>"
      ],
      "text/plain": [
       "                                                                       Value\n",
       "batch_size                                                               300\n",
       "epochs_best                                                               40\n",
       "epochs_max                                                                80\n",
       "exclude_subjects           [733162, 526319, 796581, 539502, 219303, 73797...\n",
       "feature_cols                                           [acc_x, acc_y, acc_z]\n",
       "filters                                                         [32, 64, 32]\n",
       "frequency                                                                 25\n",
       "margin                                                                     1\n",
       "max_pairs_per_session                                                    600\n",
       "max_subjects                                                               9\n",
       "model_variant                                                            fcn\n",
       "n_test_test_subjects                                                       3\n",
       "n_test_train_subjects                                                      1\n",
       "n_valid_test_subjects                                                      1\n",
       "n_valid_train_subjects                                                     4\n",
       "name                                                  VALID-FCN-ROBUST-FINAL\n",
       "ocsvm_gamma                                                            8.296\n",
       "ocsvm_nu                                                               0.165\n",
       "optimizer                                                               adam\n",
       "optimizer_decay                                                         None\n",
       "optimizer_lr                                                           0.001\n",
       "scaler                                                                robust\n",
       "scaler_global                                                          False\n",
       "scaler_scope                                                         subject\n",
       "seconds_per_subject_test                                                 600\n",
       "seconds_per_subject_train                                                600\n",
       "step_width                                                               125\n",
       "task_types                                                         [2, 4, 6]\n",
       "window_size                                                              125"
      ]
     },
     "metadata": {},
     "output_type": "display_data"
    }
   ],
   "source": [
    "utils_ppp(P)"
   ]
  },
  {
   "cell_type": "markdown",
   "metadata": {
    "nbpresent": {
     "id": "79551935-7aa9-4d1c-b2aa-fdf8e2a9ffae"
    },
    "toc-hr-collapsed": false
   },
   "source": [
    "## 2. Initial Data Preparation <a id='2'>&nbsp;</a> "
   ]
  },
  {
   "cell_type": "markdown",
   "metadata": {
    "nbpresent": {
     "id": "ae06c19c-9ec6-4f3b-9e0b-b30f39796109"
    }
   },
   "source": [
    "### 2.1 Load Dataset <a id='2.1'>&nbsp;</a> "
   ]
  },
  {
   "cell_type": "code",
   "execution_count": 12,
   "metadata": {
    "nbpresent": {
     "id": "2d50dea6-2a7b-49d4-8556-fd3d02f75cf9"
    }
   },
   "outputs": [
    {
     "data": {
      "application/vnd.jupyter.widget-view+json": {
       "model_id": "e71b043219f04e31904cd63e8f4481ae",
       "version_major": 2,
       "version_minor": 0
      },
      "text/plain": [
       "HBox(children=(IntProgress(value=0, description='Loading sessions', max=108, style=ProgressStyle(description_w…"
      ]
     },
     "metadata": {},
     "output_type": "display_data"
    },
    {
     "name": "stdout",
     "output_type": "stream",
     "text": [
      "\n"
     ]
    },
    {
     "data": {
      "text/html": [
       "<div>\n",
       "<style scoped>\n",
       "    .dataframe tbody tr th:only-of-type {\n",
       "        vertical-align: middle;\n",
       "    }\n",
       "\n",
       "    .dataframe tbody tr th {\n",
       "        vertical-align: top;\n",
       "    }\n",
       "\n",
       "    .dataframe thead th {\n",
       "        text-align: right;\n",
       "    }\n",
       "</style>\n",
       "<table border=\"1\" class=\"dataframe\">\n",
       "  <thead>\n",
       "    <tr style=\"text-align: right;\">\n",
       "      <th></th>\n",
       "      <th>DataFrame</th>\n",
       "      <th>Memory (MB)</th>\n",
       "      <th>Rows</th>\n",
       "      <th>Columns</th>\n",
       "      <th>Subjects</th>\n",
       "      <th>Sessions</th>\n",
       "    </tr>\n",
       "  </thead>\n",
       "  <tbody>\n",
       "    <tr>\n",
       "      <th>0</th>\n",
       "      <td>all</td>\n",
       "      <td>157.81</td>\n",
       "      <td>1591100</td>\n",
       "      <td>12</td>\n",
       "      <td>9</td>\n",
       "      <td>108</td>\n",
       "    </tr>\n",
       "    <tr>\n",
       "      <th>1</th>\n",
       "      <td>index</td>\n",
       "      <td>0.08</td>\n",
       "      <td>2160</td>\n",
       "      <td>4</td>\n",
       "      <td>90</td>\n",
       "      <td>2160</td>\n",
       "    </tr>\n",
       "  </tbody>\n",
       "</table>\n",
       "</div>"
      ],
      "text/plain": [
       "  DataFrame  Memory (MB)     Rows  Columns  Subjects  Sessions\n",
       "0       all       157.81  1591100       12         9       108\n",
       "1     index         0.08     2160        4        90      2160"
      ]
     },
     "execution_count": 12,
     "metadata": {},
     "output_type": "execute_result"
    }
   ],
   "source": [
    "hmog = DatasetLoader(\n",
    "    hdf5_file=HMOG_HDF5,\n",
    "    table_name=P.table_name,\n",
    "    max_subjects=P.max_subjects,\n",
    "    task_types=P.task_types,\n",
    "    exclude_subjects=P.exclude_subjects,\n",
    "    exclude_cols=EXCLUDE_COLS,\n",
    "    seed=SEED,\n",
    ")\n",
    "hmog.data_summary()"
   ]
  },
  {
   "cell_type": "markdown",
   "metadata": {
    "nbpresent": {
     "id": "1c2b5466-0017-498a-8ea4-4af8e9de403a"
    }
   },
   "source": [
    "### 2.2 Normalize Features (if global) <a id='2.2'>&nbsp;</a> \n",
    "Used here for naive approach (before splitting into test and training sets). Otherwise it's used during generate_pairs() and respects train vs. test borders."
   ]
  },
  {
   "cell_type": "code",
   "execution_count": 13,
   "metadata": {
    "nbpresent": {
     "id": "cb291ae5-a163-427d-b16b-5a8344f9805c"
    }
   },
   "outputs": [
    {
     "name": "stdout",
     "output_type": "stream",
     "text": [
      "Skipped, normalize after splitting.\n"
     ]
    }
   ],
   "source": [
    "if P.scaler_global:\n",
    "    print(\"Normalize all data before splitting into train and test sets...\")\n",
    "    hmog.all, scalers = utils_custom_scale(\n",
    "        hmog.all,\n",
    "        scale_cols=P.feature_cols,        \n",
    "        feature_cols=P.feature_cols,\n",
    "        scaler_name=P.scaler,\n",
    "        scope=P.scaler_scope,\n",
    "        plot=True,\n",
    "    )\n",
    "else:\n",
    "    print(\"Skipped, normalize after splitting.\")"
   ]
  },
  {
   "cell_type": "markdown",
   "metadata": {
    "nbpresent": {
     "id": "efb9e2f9-a2c1-4821-adcf-71da1a0fdcab"
    }
   },
   "source": [
    "### 2.3 Split Dataset for Valid/Test <a id='2.3'>&nbsp;</a> \n",
    "In two splits: one used during hyperparameter optimization, and one used during testing.\n",
    "\n",
    "The split is done along the subjects: All sessions of a single subject will either be in the validation split or in the testing split, never in both."
   ]
  },
  {
   "cell_type": "code",
   "execution_count": 14,
   "metadata": {
    "nbpresent": {
     "id": "e6eb5416-e531-4e3d-882f-9cfd9289fa06"
    }
   },
   "outputs": [
    {
     "data": {
      "text/html": [
       "<div>\n",
       "<style scoped>\n",
       "    .dataframe tbody tr th:only-of-type {\n",
       "        vertical-align: middle;\n",
       "    }\n",
       "\n",
       "    .dataframe tbody tr th {\n",
       "        vertical-align: top;\n",
       "    }\n",
       "\n",
       "    .dataframe thead th {\n",
       "        text-align: right;\n",
       "    }\n",
       "</style>\n",
       "<table border=\"1\" class=\"dataframe\">\n",
       "  <thead>\n",
       "    <tr style=\"text-align: right;\">\n",
       "      <th></th>\n",
       "      <th>DataFrame</th>\n",
       "      <th>Memory (MB)</th>\n",
       "      <th>Rows</th>\n",
       "      <th>Columns</th>\n",
       "      <th>Subjects</th>\n",
       "      <th>Sessions</th>\n",
       "    </tr>\n",
       "  </thead>\n",
       "  <tbody>\n",
       "    <tr>\n",
       "      <th>0</th>\n",
       "      <td>index</td>\n",
       "      <td>0.08</td>\n",
       "      <td>2160</td>\n",
       "      <td>4</td>\n",
       "      <td>90</td>\n",
       "      <td>2160</td>\n",
       "    </tr>\n",
       "    <tr>\n",
       "      <th>1</th>\n",
       "      <td>valid_train</td>\n",
       "      <td>74.68</td>\n",
       "      <td>752999</td>\n",
       "      <td>12</td>\n",
       "      <td>4</td>\n",
       "      <td>48</td>\n",
       "    </tr>\n",
       "    <tr>\n",
       "      <th>2</th>\n",
       "      <td>valid_test</td>\n",
       "      <td>15.18</td>\n",
       "      <td>153088</td>\n",
       "      <td>12</td>\n",
       "      <td>1</td>\n",
       "      <td>12</td>\n",
       "    </tr>\n",
       "    <tr>\n",
       "      <th>3</th>\n",
       "      <td>test_train</td>\n",
       "      <td>18.86</td>\n",
       "      <td>190169</td>\n",
       "      <td>12</td>\n",
       "      <td>1</td>\n",
       "      <td>12</td>\n",
       "    </tr>\n",
       "    <tr>\n",
       "      <th>4</th>\n",
       "      <td>test_test</td>\n",
       "      <td>49.08</td>\n",
       "      <td>494844</td>\n",
       "      <td>12</td>\n",
       "      <td>3</td>\n",
       "      <td>36</td>\n",
       "    </tr>\n",
       "  </tbody>\n",
       "</table>\n",
       "</div>"
      ],
      "text/plain": [
       "     DataFrame  Memory (MB)    Rows  Columns  Subjects  Sessions\n",
       "0        index         0.08    2160        4        90      2160\n",
       "1  valid_train        74.68  752999       12         4        48\n",
       "2   valid_test        15.18  153088       12         1        12\n",
       "3   test_train        18.86  190169       12         1        12\n",
       "4    test_test        49.08  494844       12         3        36"
      ]
     },
     "execution_count": 14,
     "metadata": {},
     "output_type": "execute_result"
    }
   ],
   "source": [
    "hmog.split_train_valid_train_test(\n",
    "    n_valid_train=P.n_valid_train_subjects,\n",
    "    n_valid_test=P.n_valid_test_subjects,\n",
    "    n_test_train=P.n_test_train_subjects,\n",
    "    n_test_test=P.n_test_test_subjects,\n",
    ")\n",
    "hmog.data_summary()"
   ]
  },
  {
   "cell_type": "markdown",
   "metadata": {
    "nbpresent": {
     "id": "4a008e0c-8d61-423a-9518-55314603ed5f"
    }
   },
   "source": [
    "### 2.4 Normalize features (if not global) <a id='2.4'>&nbsp;</a> "
   ]
  },
  {
   "cell_type": "code",
   "execution_count": 15,
   "metadata": {
    "nbpresent": {
     "id": "e4f6ff3e-3a67-48ce-81d1-0e06dfbca2b3"
    }
   },
   "outputs": [
    {
     "name": "stdout",
     "output_type": "stream",
     "text": [
      "Scaling Data for Siamese Network only...\n",
      "Training Data:\n",
      "Before Scaling:\n"
     ]
    },
    {
     "data": {
      "image/png": "[encoded data removed]",
      "text/plain": [
       "<Figure size 985.14x360 with 1 Axes>"
      ]
     },
     "metadata": {},
     "output_type": "display_data"
    },
    {
     "data": {
      "application/vnd.jupyter.widget-view+json": {
       "model_id": "9e7bc5c61fdd42d7afe241a8fbf33ab6",
       "version_major": 2,
       "version_minor": 0
      },
      "text/plain": [
       "HBox(children=(IntProgress(value=0, description='subjects', max=4, style=ProgressStyle(description_width='init…"
      ]
     },
     "metadata": {},
     "output_type": "display_data"
    },
    {
     "name": "stdout",
     "output_type": "stream",
     "text": [
      "\r",
      "After Scaling:\n"
     ]
    },
    {
     "data": {
      "image/png": "[encoded data removed]",
      "text/plain": [
       "<Figure size 985.14x360 with 1 Axes>"
      ]
     },
     "metadata": {},
     "output_type": "display_data"
    },
    {
     "name": "stdout",
     "output_type": "stream",
     "text": [
      "Validation Data:\n",
      "Before Scaling:\n"
     ]
    },
    {
     "data": {
      "image/png": "[encoded data removed]",
      "text/plain": [
       "<Figure size 985.14x360 with 1 Axes>"
      ]
     },
     "metadata": {},
     "output_type": "display_data"
    },
    {
     "data": {
      "application/vnd.jupyter.widget-view+json": {
       "model_id": "496f773b673e4786b42a8c66be737685",
       "version_major": 2,
       "version_minor": 0
      },
      "text/plain": [
       "HBox(children=(IntProgress(value=0, description='subjects', max=1, style=ProgressStyle(description_width='init…"
      ]
     },
     "metadata": {},
     "output_type": "display_data"
    },
    {
     "name": "stdout",
     "output_type": "stream",
     "text": [
      "\r",
      "After Scaling:\n"
     ]
    },
    {
     "data": {
      "image/png": "[encoded data removed]",
      "text/plain": [
       "<Figure size 985.14x360 with 1 Axes>"
      ]
     },
     "metadata": {},
     "output_type": "display_data"
    }
   ],
   "source": [
    "if not P.scaler_global:\n",
    "    print(\"Scaling Data for Siamese Network only...\")\n",
    "    print(\"Training Data:\")\n",
    "    hmog.valid_train, _ = utils_custom_scale(\n",
    "        hmog.valid_train,\n",
    "        scale_cols=P.feature_cols,\n",
    "        feature_cols=P.feature_cols,\n",
    "        scaler_name=P.scaler,\n",
    "        scope=P.scaler_scope,\n",
    "        plot=True,        \n",
    "    )\n",
    "    print(\"Validation Data:\")\n",
    "    hmog.valid_test, _ = utils_custom_scale(\n",
    "        hmog.valid_test,\n",
    "        scale_cols=P.feature_cols,        \n",
    "        feature_cols=P.feature_cols,\n",
    "        scaler_name=P.scaler,\n",
    "        scope=P.scaler_scope,\n",
    "        plot=True,        \n",
    "    )\n",
    "else:\n",
    "    print(\"Skipped, already normalized.\")    "
   ]
  },
  {
   "cell_type": "markdown",
   "metadata": {
    "nbpresent": {
     "id": "7f2760b3-b0c8-42d1-8278-e878c42fce78"
    }
   },
   "source": [
    "### 2.5 Check Splits <a id='2.5'>&nbsp;</a> "
   ]
  },
  {
   "cell_type": "code",
   "execution_count": 16,
   "metadata": {
    "nbpresent": {
     "id": "67f5b0ac-19c0-467a-a66a-8488e474f04e"
    }
   },
   "outputs": [
    {
     "name": "stdout",
     "output_type": "stream",
     "text": [
      "Unique subjects: 4\n",
      "Unique sessions: 48\n",
      "\n",
      "Head:\n"
     ]
    },
    {
     "data": {
      "text/html": [
       "<div>\n",
       "<style scoped>\n",
       "    .dataframe tbody tr th:only-of-type {\n",
       "        vertical-align: middle;\n",
       "    }\n",
       "\n",
       "    .dataframe tbody tr th {\n",
       "        vertical-align: top;\n",
       "    }\n",
       "\n",
       "    .dataframe thead th {\n",
       "        text-align: right;\n",
       "    }\n",
       "</style>\n",
       "<table border=\"1\" class=\"dataframe\">\n",
       "  <thead>\n",
       "    <tr style=\"text-align: right;\">\n",
       "      <th></th>\n",
       "      <th>acc_x</th>\n",
       "      <th>acc_y</th>\n",
       "      <th>acc_z</th>\n",
       "      <th>gyr_x</th>\n",
       "      <th>gyr_y</th>\n",
       "      <th>gyr_z</th>\n",
       "      <th>mag_x</th>\n",
       "      <th>mag_y</th>\n",
       "      <th>mag_z</th>\n",
       "      <th>subject</th>\n",
       "      <th>session</th>\n",
       "      <th>task_type</th>\n",
       "    </tr>\n",
       "  </thead>\n",
       "  <tbody>\n",
       "    <tr>\n",
       "      <th>0</th>\n",
       "      <td>-0.087220</td>\n",
       "      <td>-0.552028</td>\n",
       "      <td>0.856074</td>\n",
       "      <td>-0.077475</td>\n",
       "      <td>-0.044569</td>\n",
       "      <td>-0.019363</td>\n",
       "      <td>-27.751167</td>\n",
       "      <td>15.160111</td>\n",
       "      <td>-2.113555</td>\n",
       "      <td>579284</td>\n",
       "      <td>579284_session_1</td>\n",
       "      <td>4</td>\n",
       "    </tr>\n",
       "    <tr>\n",
       "      <th>1</th>\n",
       "      <td>-0.243804</td>\n",
       "      <td>-0.261379</td>\n",
       "      <td>0.690688</td>\n",
       "      <td>0.021356</td>\n",
       "      <td>0.016582</td>\n",
       "      <td>-0.022128</td>\n",
       "      <td>-28.052944</td>\n",
       "      <td>14.979074</td>\n",
       "      <td>-2.555037</td>\n",
       "      <td>579284</td>\n",
       "      <td>579284_session_1</td>\n",
       "      <td>4</td>\n",
       "    </tr>\n",
       "    <tr>\n",
       "      <th>2</th>\n",
       "      <td>-0.240554</td>\n",
       "      <td>-0.004920</td>\n",
       "      <td>0.877820</td>\n",
       "      <td>0.120188</td>\n",
       "      <td>0.077733</td>\n",
       "      <td>-0.024893</td>\n",
       "      <td>-28.354722</td>\n",
       "      <td>14.798037</td>\n",
       "      <td>-2.996518</td>\n",
       "      <td>579284</td>\n",
       "      <td>579284_session_1</td>\n",
       "      <td>4</td>\n",
       "    </tr>\n",
       "    <tr>\n",
       "      <th>3</th>\n",
       "      <td>0.016995</td>\n",
       "      <td>0.018300</td>\n",
       "      <td>0.789253</td>\n",
       "      <td>0.219019</td>\n",
       "      <td>0.138883</td>\n",
       "      <td>-0.027658</td>\n",
       "      <td>-28.656500</td>\n",
       "      <td>14.617000</td>\n",
       "      <td>-3.437999</td>\n",
       "      <td>579284</td>\n",
       "      <td>579284_session_1</td>\n",
       "      <td>4</td>\n",
       "    </tr>\n",
       "    <tr>\n",
       "      <th>4</th>\n",
       "      <td>0.188349</td>\n",
       "      <td>0.208645</td>\n",
       "      <td>0.959635</td>\n",
       "      <td>0.317851</td>\n",
       "      <td>0.200034</td>\n",
       "      <td>-0.030423</td>\n",
       "      <td>-28.958277</td>\n",
       "      <td>14.435963</td>\n",
       "      <td>-3.879481</td>\n",
       "      <td>579284</td>\n",
       "      <td>579284_session_1</td>\n",
       "      <td>4</td>\n",
       "    </tr>\n",
       "  </tbody>\n",
       "</table>\n",
       "</div>"
      ],
      "text/plain": [
       "      acc_x     acc_y     acc_z     gyr_x     gyr_y     gyr_z      mag_x      mag_y     mag_z subject           session  task_type\n",
       "0 -0.087220 -0.552028  0.856074 -0.077475 -0.044569 -0.019363 -27.751167  15.160111 -2.113555  579284  579284_session_1          4\n",
       "1 -0.243804 -0.261379  0.690688  0.021356  0.016582 -0.022128 -28.052944  14.979074 -2.555037  579284  579284_session_1          4\n",
       "2 -0.240554 -0.004920  0.877820  0.120188  0.077733 -0.024893 -28.354722  14.798037 -2.996518  579284  579284_session_1          4\n",
       "3  0.016995  0.018300  0.789253  0.219019  0.138883 -0.027658 -28.656500  14.617000 -3.437999  579284  579284_session_1          4\n",
       "4  0.188349  0.208645  0.959635  0.317851  0.200034 -0.030423 -28.958277  14.435963 -3.879481  579284  579284_session_1          4"
      ]
     },
     "metadata": {},
     "output_type": "display_data"
    },
    {
     "name": "stdout",
     "output_type": "stream",
     "text": [
      "\n",
      "\n",
      "Sessions' Task Types per subject:\n"
     ]
    },
    {
     "data": {
      "text/html": [
       "<div>\n",
       "<style scoped>\n",
       "    .dataframe tbody tr th:only-of-type {\n",
       "        vertical-align: middle;\n",
       "    }\n",
       "\n",
       "    .dataframe tbody tr th {\n",
       "        vertical-align: top;\n",
       "    }\n",
       "\n",
       "    .dataframe thead th {\n",
       "        text-align: right;\n",
       "    }\n",
       "</style>\n",
       "<table border=\"1\" class=\"dataframe\">\n",
       "  <thead>\n",
       "    <tr style=\"text-align: right;\">\n",
       "      <th>subject</th>\n",
       "      <th>326223</th>\n",
       "      <th>538363</th>\n",
       "      <th>579284</th>\n",
       "      <th>621276</th>\n",
       "    </tr>\n",
       "  </thead>\n",
       "  <tbody>\n",
       "    <tr>\n",
       "      <th>2</th>\n",
       "      <td>4</td>\n",
       "      <td>4</td>\n",
       "      <td>4</td>\n",
       "      <td>4</td>\n",
       "    </tr>\n",
       "    <tr>\n",
       "      <th>4</th>\n",
       "      <td>4</td>\n",
       "      <td>4</td>\n",
       "      <td>4</td>\n",
       "      <td>4</td>\n",
       "    </tr>\n",
       "    <tr>\n",
       "      <th>6</th>\n",
       "      <td>4</td>\n",
       "      <td>4</td>\n",
       "      <td>4</td>\n",
       "      <td>4</td>\n",
       "    </tr>\n",
       "  </tbody>\n",
       "</table>\n",
       "</div>"
      ],
      "text/plain": [
       "subject  326223  538363  579284  621276\n",
       "2             4       4       4       4\n",
       "4             4       4       4       4\n",
       "6             4       4       4       4"
      ]
     },
     "metadata": {},
     "output_type": "display_data"
    }
   ],
   "source": [
    "utils_split_report(hmog.valid_train)"
   ]
  },
  {
   "cell_type": "code",
   "execution_count": 17,
   "metadata": {
    "nbpresent": {
     "id": "fad3b9a6-5817-48c0-a546-2571d6bff61b"
    }
   },
   "outputs": [
    {
     "name": "stdout",
     "output_type": "stream",
     "text": [
      "Unique subjects: 1\n",
      "Unique sessions: 12\n",
      "\n",
      "Head:\n"
     ]
    },
    {
     "data": {
      "text/html": [
       "<div>\n",
       "<style scoped>\n",
       "    .dataframe tbody tr th:only-of-type {\n",
       "        vertical-align: middle;\n",
       "    }\n",
       "\n",
       "    .dataframe tbody tr th {\n",
       "        vertical-align: top;\n",
       "    }\n",
       "\n",
       "    .dataframe thead th {\n",
       "        text-align: right;\n",
       "    }\n",
       "</style>\n",
       "<table border=\"1\" class=\"dataframe\">\n",
       "  <thead>\n",
       "    <tr style=\"text-align: right;\">\n",
       "      <th></th>\n",
       "      <th>acc_x</th>\n",
       "      <th>acc_y</th>\n",
       "      <th>acc_z</th>\n",
       "      <th>gyr_x</th>\n",
       "      <th>gyr_y</th>\n",
       "      <th>gyr_z</th>\n",
       "      <th>mag_x</th>\n",
       "      <th>mag_y</th>\n",
       "      <th>mag_z</th>\n",
       "      <th>subject</th>\n",
       "      <th>session</th>\n",
       "      <th>task_type</th>\n",
       "    </tr>\n",
       "  </thead>\n",
       "  <tbody>\n",
       "    <tr>\n",
       "      <th>0</th>\n",
       "      <td>0.005691</td>\n",
       "      <td>-1.691680</td>\n",
       "      <td>0.346385</td>\n",
       "      <td>1.483116</td>\n",
       "      <td>-0.146439</td>\n",
       "      <td>-0.277330</td>\n",
       "      <td>-14.219101</td>\n",
       "      <td>-12.695351</td>\n",
       "      <td>-25.110316</td>\n",
       "      <td>863985</td>\n",
       "      <td>863985_session_1</td>\n",
       "      <td>4</td>\n",
       "    </tr>\n",
       "    <tr>\n",
       "      <th>1</th>\n",
       "      <td>-0.053653</td>\n",
       "      <td>-1.702157</td>\n",
       "      <td>0.521470</td>\n",
       "      <td>1.380316</td>\n",
       "      <td>-0.093861</td>\n",
       "      <td>-0.209721</td>\n",
       "      <td>-13.827368</td>\n",
       "      <td>-12.376284</td>\n",
       "      <td>-25.332494</td>\n",
       "      <td>863985</td>\n",
       "      <td>863985_session_1</td>\n",
       "      <td>4</td>\n",
       "    </tr>\n",
       "    <tr>\n",
       "      <th>2</th>\n",
       "      <td>-0.139472</td>\n",
       "      <td>-1.677118</td>\n",
       "      <td>0.534387</td>\n",
       "      <td>1.277516</td>\n",
       "      <td>-0.041283</td>\n",
       "      <td>-0.142111</td>\n",
       "      <td>-13.435634</td>\n",
       "      <td>-12.057217</td>\n",
       "      <td>-25.554672</td>\n",
       "      <td>863985</td>\n",
       "      <td>863985_session_1</td>\n",
       "      <td>4</td>\n",
       "    </tr>\n",
       "    <tr>\n",
       "      <th>3</th>\n",
       "      <td>-0.227497</td>\n",
       "      <td>-1.649120</td>\n",
       "      <td>0.533790</td>\n",
       "      <td>1.174716</td>\n",
       "      <td>0.011295</td>\n",
       "      <td>-0.074501</td>\n",
       "      <td>-13.043901</td>\n",
       "      <td>-11.738151</td>\n",
       "      <td>-25.776850</td>\n",
       "      <td>863985</td>\n",
       "      <td>863985_session_1</td>\n",
       "      <td>4</td>\n",
       "    </tr>\n",
       "    <tr>\n",
       "      <th>4</th>\n",
       "      <td>-0.315522</td>\n",
       "      <td>-1.621121</td>\n",
       "      <td>0.533193</td>\n",
       "      <td>1.071916</td>\n",
       "      <td>0.063873</td>\n",
       "      <td>-0.006892</td>\n",
       "      <td>-12.652167</td>\n",
       "      <td>-11.419084</td>\n",
       "      <td>-25.999027</td>\n",
       "      <td>863985</td>\n",
       "      <td>863985_session_1</td>\n",
       "      <td>4</td>\n",
       "    </tr>\n",
       "  </tbody>\n",
       "</table>\n",
       "</div>"
      ],
      "text/plain": [
       "      acc_x     acc_y     acc_z     gyr_x     gyr_y     gyr_z      mag_x      mag_y      mag_z subject           session  task_type\n",
       "0  0.005691 -1.691680  0.346385  1.483116 -0.146439 -0.277330 -14.219101 -12.695351 -25.110316  863985  863985_session_1          4\n",
       "1 -0.053653 -1.702157  0.521470  1.380316 -0.093861 -0.209721 -13.827368 -12.376284 -25.332494  863985  863985_session_1          4\n",
       "2 -0.139472 -1.677118  0.534387  1.277516 -0.041283 -0.142111 -13.435634 -12.057217 -25.554672  863985  863985_session_1          4\n",
       "3 -0.227497 -1.649120  0.533790  1.174716  0.011295 -0.074501 -13.043901 -11.738151 -25.776850  863985  863985_session_1          4\n",
       "4 -0.315522 -1.621121  0.533193  1.071916  0.063873 -0.006892 -12.652167 -11.419084 -25.999027  863985  863985_session_1          4"
      ]
     },
     "metadata": {},
     "output_type": "display_data"
    },
    {
     "name": "stdout",
     "output_type": "stream",
     "text": [
      "\n",
      "\n",
      "Sessions' Task Types per subject:\n"
     ]
    },
    {
     "data": {
      "text/html": [
       "<div>\n",
       "<style scoped>\n",
       "    .dataframe tbody tr th:only-of-type {\n",
       "        vertical-align: middle;\n",
       "    }\n",
       "\n",
       "    .dataframe tbody tr th {\n",
       "        vertical-align: top;\n",
       "    }\n",
       "\n",
       "    .dataframe thead th {\n",
       "        text-align: right;\n",
       "    }\n",
       "</style>\n",
       "<table border=\"1\" class=\"dataframe\">\n",
       "  <thead>\n",
       "    <tr style=\"text-align: right;\">\n",
       "      <th>subject</th>\n",
       "      <th>863985</th>\n",
       "    </tr>\n",
       "  </thead>\n",
       "  <tbody>\n",
       "    <tr>\n",
       "      <th>2</th>\n",
       "      <td>4</td>\n",
       "    </tr>\n",
       "    <tr>\n",
       "      <th>4</th>\n",
       "      <td>4</td>\n",
       "    </tr>\n",
       "    <tr>\n",
       "      <th>6</th>\n",
       "      <td>4</td>\n",
       "    </tr>\n",
       "  </tbody>\n",
       "</table>\n",
       "</div>"
      ],
      "text/plain": [
       "subject  863985\n",
       "2             4\n",
       "4             4\n",
       "6             4"
      ]
     },
     "metadata": {},
     "output_type": "display_data"
    }
   ],
   "source": [
    "utils_split_report(hmog.valid_test)"
   ]
  },
  {
   "cell_type": "code",
   "execution_count": 18,
   "metadata": {
    "nbpresent": {
     "id": "a3600c30-e43b-4b3f-892a-f52c9507eb69"
    }
   },
   "outputs": [
    {
     "name": "stdout",
     "output_type": "stream",
     "text": [
      "Unique subjects: 1\n",
      "Unique sessions: 12\n",
      "\n",
      "Head:\n"
     ]
    },
    {
     "data": {
      "text/html": [
       "<div>\n",
       "<style scoped>\n",
       "    .dataframe tbody tr th:only-of-type {\n",
       "        vertical-align: middle;\n",
       "    }\n",
       "\n",
       "    .dataframe tbody tr th {\n",
       "        vertical-align: top;\n",
       "    }\n",
       "\n",
       "    .dataframe thead th {\n",
       "        text-align: right;\n",
       "    }\n",
       "</style>\n",
       "<table border=\"1\" class=\"dataframe\">\n",
       "  <thead>\n",
       "    <tr style=\"text-align: right;\">\n",
       "      <th></th>\n",
       "      <th>acc_x</th>\n",
       "      <th>acc_y</th>\n",
       "      <th>acc_z</th>\n",
       "      <th>gyr_x</th>\n",
       "      <th>gyr_y</th>\n",
       "      <th>gyr_z</th>\n",
       "      <th>mag_x</th>\n",
       "      <th>mag_y</th>\n",
       "      <th>mag_z</th>\n",
       "      <th>subject</th>\n",
       "      <th>session</th>\n",
       "      <th>task_type</th>\n",
       "    </tr>\n",
       "  </thead>\n",
       "  <tbody>\n",
       "    <tr>\n",
       "      <th>0</th>\n",
       "      <td>0.099382</td>\n",
       "      <td>6.780607</td>\n",
       "      <td>5.686733</td>\n",
       "      <td>-0.122020</td>\n",
       "      <td>-0.067959</td>\n",
       "      <td>-0.192728</td>\n",
       "      <td>2.450000</td>\n",
       "      <td>-35.971874</td>\n",
       "      <td>-27.142000</td>\n",
       "      <td>913228</td>\n",
       "      <td>913228_session_10</td>\n",
       "      <td>2</td>\n",
       "    </tr>\n",
       "    <tr>\n",
       "      <th>1</th>\n",
       "      <td>0.168844</td>\n",
       "      <td>6.705050</td>\n",
       "      <td>5.695278</td>\n",
       "      <td>-0.037893</td>\n",
       "      <td>-0.178587</td>\n",
       "      <td>-0.176568</td>\n",
       "      <td>2.553653</td>\n",
       "      <td>-35.900816</td>\n",
       "      <td>-27.092969</td>\n",
       "      <td>913228</td>\n",
       "      <td>913228_session_10</td>\n",
       "      <td>2</td>\n",
       "    </tr>\n",
       "    <tr>\n",
       "      <th>2</th>\n",
       "      <td>0.237525</td>\n",
       "      <td>6.624257</td>\n",
       "      <td>5.704385</td>\n",
       "      <td>-0.049652</td>\n",
       "      <td>-0.223401</td>\n",
       "      <td>-0.200069</td>\n",
       "      <td>2.581898</td>\n",
       "      <td>-36.118123</td>\n",
       "      <td>-27.014520</td>\n",
       "      <td>913228</td>\n",
       "      <td>913228_session_10</td>\n",
       "      <td>2</td>\n",
       "    </tr>\n",
       "    <tr>\n",
       "      <th>3</th>\n",
       "      <td>0.306206</td>\n",
       "      <td>6.543465</td>\n",
       "      <td>5.713493</td>\n",
       "      <td>-0.061411</td>\n",
       "      <td>-0.268214</td>\n",
       "      <td>-0.223570</td>\n",
       "      <td>2.610143</td>\n",
       "      <td>-36.335429</td>\n",
       "      <td>-26.936071</td>\n",
       "      <td>913228</td>\n",
       "      <td>913228_session_10</td>\n",
       "      <td>2</td>\n",
       "    </tr>\n",
       "    <tr>\n",
       "      <th>4</th>\n",
       "      <td>0.374886</td>\n",
       "      <td>6.462672</td>\n",
       "      <td>5.722600</td>\n",
       "      <td>-0.073170</td>\n",
       "      <td>-0.313028</td>\n",
       "      <td>-0.247072</td>\n",
       "      <td>2.638388</td>\n",
       "      <td>-36.552735</td>\n",
       "      <td>-26.857622</td>\n",
       "      <td>913228</td>\n",
       "      <td>913228_session_10</td>\n",
       "      <td>2</td>\n",
       "    </tr>\n",
       "  </tbody>\n",
       "</table>\n",
       "</div>"
      ],
      "text/plain": [
       "      acc_x     acc_y     acc_z     gyr_x     gyr_y     gyr_z     mag_x      mag_y      mag_z subject            session  task_type\n",
       "0  0.099382  6.780607  5.686733 -0.122020 -0.067959 -0.192728  2.450000 -35.971874 -27.142000  913228  913228_session_10          2\n",
       "1  0.168844  6.705050  5.695278 -0.037893 -0.178587 -0.176568  2.553653 -35.900816 -27.092969  913228  913228_session_10          2\n",
       "2  0.237525  6.624257  5.704385 -0.049652 -0.223401 -0.200069  2.581898 -36.118123 -27.014520  913228  913228_session_10          2\n",
       "3  0.306206  6.543465  5.713493 -0.061411 -0.268214 -0.223570  2.610143 -36.335429 -26.936071  913228  913228_session_10          2\n",
       "4  0.374886  6.462672  5.722600 -0.073170 -0.313028 -0.247072  2.638388 -36.552735 -26.857622  913228  913228_session_10          2"
      ]
     },
     "metadata": {},
     "output_type": "display_data"
    },
    {
     "name": "stdout",
     "output_type": "stream",
     "text": [
      "\n",
      "\n",
      "Sessions' Task Types per subject:\n"
     ]
    },
    {
     "data": {
      "text/html": [
       "<div>\n",
       "<style scoped>\n",
       "    .dataframe tbody tr th:only-of-type {\n",
       "        vertical-align: middle;\n",
       "    }\n",
       "\n",
       "    .dataframe tbody tr th {\n",
       "        vertical-align: top;\n",
       "    }\n",
       "\n",
       "    .dataframe thead th {\n",
       "        text-align: right;\n",
       "    }\n",
       "</style>\n",
       "<table border=\"1\" class=\"dataframe\">\n",
       "  <thead>\n",
       "    <tr style=\"text-align: right;\">\n",
       "      <th>subject</th>\n",
       "      <th>913228</th>\n",
       "    </tr>\n",
       "  </thead>\n",
       "  <tbody>\n",
       "    <tr>\n",
       "      <th>2</th>\n",
       "      <td>4</td>\n",
       "    </tr>\n",
       "    <tr>\n",
       "      <th>4</th>\n",
       "      <td>4</td>\n",
       "    </tr>\n",
       "    <tr>\n",
       "      <th>6</th>\n",
       "      <td>4</td>\n",
       "    </tr>\n",
       "  </tbody>\n",
       "</table>\n",
       "</div>"
      ],
      "text/plain": [
       "subject  913228\n",
       "2             4\n",
       "4             4\n",
       "6             4"
      ]
     },
     "metadata": {},
     "output_type": "display_data"
    }
   ],
   "source": [
    "utils_split_report(hmog.test_train)"
   ]
  },
  {
   "cell_type": "code",
   "execution_count": 19,
   "metadata": {
    "nbpresent": {
     "id": "07ffb6be-e397-4441-8c6f-8b548a7233df"
    }
   },
   "outputs": [
    {
     "name": "stdout",
     "output_type": "stream",
     "text": [
      "Unique subjects: 3\n",
      "Unique sessions: 36\n",
      "\n",
      "Head:\n"
     ]
    },
    {
     "data": {
      "text/html": [
       "<div>\n",
       "<style scoped>\n",
       "    .dataframe tbody tr th:only-of-type {\n",
       "        vertical-align: middle;\n",
       "    }\n",
       "\n",
       "    .dataframe tbody tr th {\n",
       "        vertical-align: top;\n",
       "    }\n",
       "\n",
       "    .dataframe thead th {\n",
       "        text-align: right;\n",
       "    }\n",
       "</style>\n",
       "<table border=\"1\" class=\"dataframe\">\n",
       "  <thead>\n",
       "    <tr style=\"text-align: right;\">\n",
       "      <th></th>\n",
       "      <th>acc_x</th>\n",
       "      <th>acc_y</th>\n",
       "      <th>acc_z</th>\n",
       "      <th>gyr_x</th>\n",
       "      <th>gyr_y</th>\n",
       "      <th>gyr_z</th>\n",
       "      <th>mag_x</th>\n",
       "      <th>mag_y</th>\n",
       "      <th>mag_z</th>\n",
       "      <th>subject</th>\n",
       "      <th>session</th>\n",
       "      <th>task_type</th>\n",
       "    </tr>\n",
       "  </thead>\n",
       "  <tbody>\n",
       "    <tr>\n",
       "      <th>0</th>\n",
       "      <td>-1.656289</td>\n",
       "      <td>2.911100</td>\n",
       "      <td>9.107593</td>\n",
       "      <td>1.280081</td>\n",
       "      <td>1.351130</td>\n",
       "      <td>1.173459</td>\n",
       "      <td>9.418839</td>\n",
       "      <td>21.752000</td>\n",
       "      <td>3.928839</td>\n",
       "      <td>220962</td>\n",
       "      <td>220962_session_11</td>\n",
       "      <td>4</td>\n",
       "    </tr>\n",
       "    <tr>\n",
       "      <th>1</th>\n",
       "      <td>-1.667728</td>\n",
       "      <td>2.918415</td>\n",
       "      <td>9.166783</td>\n",
       "      <td>0.644309</td>\n",
       "      <td>1.182558</td>\n",
       "      <td>0.872620</td>\n",
       "      <td>10.034030</td>\n",
       "      <td>20.695000</td>\n",
       "      <td>4.320530</td>\n",
       "      <td>220962</td>\n",
       "      <td>220962_session_11</td>\n",
       "      <td>4</td>\n",
       "    </tr>\n",
       "    <tr>\n",
       "      <th>2</th>\n",
       "      <td>-1.679167</td>\n",
       "      <td>2.925731</td>\n",
       "      <td>9.225973</td>\n",
       "      <td>-0.041081</td>\n",
       "      <td>0.998688</td>\n",
       "      <td>0.545740</td>\n",
       "      <td>10.214500</td>\n",
       "      <td>20.695000</td>\n",
       "      <td>4.657001</td>\n",
       "      <td>220962</td>\n",
       "      <td>220962_session_11</td>\n",
       "      <td>4</td>\n",
       "    </tr>\n",
       "    <tr>\n",
       "      <th>3</th>\n",
       "      <td>-1.690606</td>\n",
       "      <td>2.933047</td>\n",
       "      <td>9.285163</td>\n",
       "      <td>-0.726471</td>\n",
       "      <td>0.814818</td>\n",
       "      <td>0.218860</td>\n",
       "      <td>10.394971</td>\n",
       "      <td>20.695000</td>\n",
       "      <td>4.993471</td>\n",
       "      <td>220962</td>\n",
       "      <td>220962_session_11</td>\n",
       "      <td>4</td>\n",
       "    </tr>\n",
       "    <tr>\n",
       "      <th>4</th>\n",
       "      <td>-1.702045</td>\n",
       "      <td>2.940362</td>\n",
       "      <td>9.344353</td>\n",
       "      <td>-1.411860</td>\n",
       "      <td>0.630948</td>\n",
       "      <td>-0.108020</td>\n",
       "      <td>10.574328</td>\n",
       "      <td>20.730629</td>\n",
       "      <td>5.308912</td>\n",
       "      <td>220962</td>\n",
       "      <td>220962_session_11</td>\n",
       "      <td>4</td>\n",
       "    </tr>\n",
       "  </tbody>\n",
       "</table>\n",
       "</div>"
      ],
      "text/plain": [
       "      acc_x     acc_y     acc_z     gyr_x     gyr_y     gyr_z      mag_x      mag_y     mag_z subject            session  task_type\n",
       "0 -1.656289  2.911100  9.107593  1.280081  1.351130  1.173459   9.418839  21.752000  3.928839  220962  220962_session_11          4\n",
       "1 -1.667728  2.918415  9.166783  0.644309  1.182558  0.872620  10.034030  20.695000  4.320530  220962  220962_session_11          4\n",
       "2 -1.679167  2.925731  9.225973 -0.041081  0.998688  0.545740  10.214500  20.695000  4.657001  220962  220962_session_11          4\n",
       "3 -1.690606  2.933047  9.285163 -0.726471  0.814818  0.218860  10.394971  20.695000  4.993471  220962  220962_session_11          4\n",
       "4 -1.702045  2.940362  9.344353 -1.411860  0.630948 -0.108020  10.574328  20.730629  5.308912  220962  220962_session_11          4"
      ]
     },
     "metadata": {},
     "output_type": "display_data"
    },
    {
     "name": "stdout",
     "output_type": "stream",
     "text": [
      "\n",
      "\n",
      "Sessions' Task Types per subject:\n"
     ]
    },
    {
     "data": {
      "text/html": [
       "<div>\n",
       "<style scoped>\n",
       "    .dataframe tbody tr th:only-of-type {\n",
       "        vertical-align: middle;\n",
       "    }\n",
       "\n",
       "    .dataframe tbody tr th {\n",
       "        vertical-align: top;\n",
       "    }\n",
       "\n",
       "    .dataframe thead th {\n",
       "        text-align: right;\n",
       "    }\n",
       "</style>\n",
       "<table border=\"1\" class=\"dataframe\">\n",
       "  <thead>\n",
       "    <tr style=\"text-align: right;\">\n",
       "      <th>subject</th>\n",
       "      <th>220962</th>\n",
       "      <th>396697</th>\n",
       "      <th>675397</th>\n",
       "    </tr>\n",
       "  </thead>\n",
       "  <tbody>\n",
       "    <tr>\n",
       "      <th>2</th>\n",
       "      <td>4</td>\n",
       "      <td>4</td>\n",
       "      <td>4</td>\n",
       "    </tr>\n",
       "    <tr>\n",
       "      <th>4</th>\n",
       "      <td>4</td>\n",
       "      <td>4</td>\n",
       "      <td>4</td>\n",
       "    </tr>\n",
       "    <tr>\n",
       "      <th>6</th>\n",
       "      <td>4</td>\n",
       "      <td>4</td>\n",
       "      <td>4</td>\n",
       "    </tr>\n",
       "  </tbody>\n",
       "</table>\n",
       "</div>"
      ],
      "text/plain": [
       "subject  220962  396697  675397\n",
       "2             4       4       4\n",
       "4             4       4       4\n",
       "6             4       4       4"
      ]
     },
     "metadata": {},
     "output_type": "display_data"
    }
   ],
   "source": [
    "utils_split_report(hmog.test_test)"
   ]
  },
  {
   "cell_type": "markdown",
   "metadata": {
    "nbpresent": {
     "id": "6f2581e0-4128-45fd-b835-6f16219dead5"
    },
    "toc-hr-collapsed": true
   },
   "source": [
    "### 2.6 Reshape Features  <a id='2.6'>&nbsp;</a> "
   ]
  },
  {
   "cell_type": "markdown",
   "metadata": {
    "nbpresent": {
     "id": "c5b6fef6-83e7-43fb-a2d2-d64ff3384034"
    }
   },
   "source": [
    "**Reshape & cache Set for Training Siamese Network:**"
   ]
  },
  {
   "cell_type": "code",
   "execution_count": 21,
   "metadata": {
    "nbpresent": {
     "id": "66d866c0-0c30-4064-9d7f-2df0d7ec9a96"
    }
   },
   "outputs": [
    {
     "data": {
      "application/vnd.jupyter.widget-view+json": {
       "model_id": "e67261bdcc40435f9f42ce2ac5c6896a",
       "version_major": 2,
       "version_minor": 0
      },
      "text/plain": [
       "HBox(children=(IntProgress(value=0, description='Session', max=48, style=ProgressStyle(description_width='init…"
      ]
     },
     "metadata": {},
     "output_type": "display_data"
    },
    {
     "name": "stdout",
     "output_type": "stream",
     "text": [
      "\r",
      "Validation data after reshaping:\n"
     ]
    },
    {
     "data": {
      "text/html": [
       "<div>\n",
       "<style scoped>\n",
       "    .dataframe tbody tr th:only-of-type {\n",
       "        vertical-align: middle;\n",
       "    }\n",
       "\n",
       "    .dataframe tbody tr th {\n",
       "        vertical-align: top;\n",
       "    }\n",
       "\n",
       "    .dataframe thead th {\n",
       "        text-align: right;\n",
       "    }\n",
       "</style>\n",
       "<table border=\"1\" class=\"dataframe\">\n",
       "  <thead>\n",
       "    <tr style=\"text-align: right;\">\n",
       "      <th></th>\n",
       "      <th>X</th>\n",
       "      <th>subject</th>\n",
       "      <th>session</th>\n",
       "      <th>task_type</th>\n",
       "    </tr>\n",
       "  </thead>\n",
       "  <tbody>\n",
       "    <tr>\n",
       "      <th>0</th>\n",
       "      <td>[[-0.3140159266809338, -0.030662052943453002, ...</td>\n",
       "      <td>326223</td>\n",
       "      <td>326223_session_1</td>\n",
       "      <td>6</td>\n",
       "    </tr>\n",
       "    <tr>\n",
       "      <th>1</th>\n",
       "      <td>[[0.22493398721581895, -0.5365488785402647, 0....</td>\n",
       "      <td>326223</td>\n",
       "      <td>326223_session_1</td>\n",
       "      <td>6</td>\n",
       "    </tr>\n",
       "    <tr>\n",
       "      <th>2</th>\n",
       "      <td>[[-1.6474706271372588, -0.16910334657871942, -...</td>\n",
       "      <td>326223</td>\n",
       "      <td>326223_session_1</td>\n",
       "      <td>6</td>\n",
       "    </tr>\n",
       "    <tr>\n",
       "      <th>3</th>\n",
       "      <td>[[0.0755299132960448, 0.19274095517445353, -0....</td>\n",
       "      <td>326223</td>\n",
       "      <td>326223_session_1</td>\n",
       "      <td>6</td>\n",
       "    </tr>\n",
       "    <tr>\n",
       "      <th>4</th>\n",
       "      <td>[[0.013535064360445792, 0.11791750456454221, -...</td>\n",
       "      <td>326223</td>\n",
       "      <td>326223_session_1</td>\n",
       "      <td>6</td>\n",
       "    </tr>\n",
       "  </tbody>\n",
       "</table>\n",
       "</div>"
      ],
      "text/plain": [
       "                                                   X subject           session  task_type\n",
       "0  [[-0.3140159266809338, -0.030662052943453002, ...  326223  326223_session_1          6\n",
       "1  [[0.22493398721581895, -0.5365488785402647, 0....  326223  326223_session_1          6\n",
       "2  [[-1.6474706271372588, -0.16910334657871942, -...  326223  326223_session_1          6\n",
       "3  [[0.0755299132960448, 0.19274095517445353, -0....  326223  326223_session_1          6\n",
       "4  [[0.013535064360445792, 0.11791750456454221, -...  326223  326223_session_1          6"
      ]
     },
     "metadata": {},
     "output_type": "display_data"
    }
   ],
   "source": [
    "df_siamese_train = utils_reshape_features(\n",
    "    hmog.valid_train,\n",
    "    feature_cols=P.feature_cols,\n",
    "    window_size=P.window_size,\n",
    "    step_width=P.step_width,\n",
    ")\n",
    "\n",
    "# Clean memory\n",
    "#del hmog.train\n",
    "#%reset_selective -f hmog.train\n",
    "\n",
    "print(\"Validation data after reshaping:\")\n",
    "display(df_siamese_train.head())\n",
    "\n",
    "# Store iterim data\n",
    "#df_siamese_train.to_msgpack(OUTPUT_PATH / \"df_siamese_train.msg\")\n",
    "df_siamese_train.to_parquet('df_siamese_train.parquet.gzip',compression='gzip') \n",
    "\n",
    "# Clean memory\n",
    "%reset_selective -f df_siamese_train"
   ]
  },
  {
   "cell_type": "markdown",
   "metadata": {
    "nbpresent": {
     "id": "bba34af3-0e24-43e2-bfdd-1c2d6ae2a650"
    }
   },
   "source": [
    "**Reshape & cache Set for Validating Siamese Network:** (also used to optimize OCSVM)"
   ]
  },
  {
   "cell_type": "code",
   "execution_count": 22,
   "metadata": {
    "nbpresent": {
     "id": "e942d06d-108d-4d09-a76c-ec93c8972cc9"
    }
   },
   "outputs": [
    {
     "data": {
      "application/vnd.jupyter.widget-view+json": {
       "model_id": "554c6b05c2b545a5a9e7c7d75e04f1a2",
       "version_major": 2,
       "version_minor": 0
      },
      "text/plain": [
       "HBox(children=(IntProgress(value=0, description='Session', max=12, style=ProgressStyle(description_width='init…"
      ]
     },
     "metadata": {},
     "output_type": "display_data"
    },
    {
     "name": "stdout",
     "output_type": "stream",
     "text": [
      "\r",
      "Testing data after reshaping:\n"
     ]
    },
    {
     "data": {
      "text/html": [
       "<div>\n",
       "<style scoped>\n",
       "    .dataframe tbody tr th:only-of-type {\n",
       "        vertical-align: middle;\n",
       "    }\n",
       "\n",
       "    .dataframe tbody tr th {\n",
       "        vertical-align: top;\n",
       "    }\n",
       "\n",
       "    .dataframe thead th {\n",
       "        text-align: right;\n",
       "    }\n",
       "</style>\n",
       "<table border=\"1\" class=\"dataframe\">\n",
       "  <thead>\n",
       "    <tr style=\"text-align: right;\">\n",
       "      <th></th>\n",
       "      <th>X</th>\n",
       "      <th>subject</th>\n",
       "      <th>session</th>\n",
       "      <th>task_type</th>\n",
       "    </tr>\n",
       "  </thead>\n",
       "  <tbody>\n",
       "    <tr>\n",
       "      <th>0</th>\n",
       "      <td>[[0.005691054010759006, -1.6916796380130485, 0...</td>\n",
       "      <td>863985</td>\n",
       "      <td>863985_session_1</td>\n",
       "      <td>4</td>\n",
       "    </tr>\n",
       "    <tr>\n",
       "      <th>1</th>\n",
       "      <td>[[-0.05761786795254269, -1.3738875100254715, 0...</td>\n",
       "      <td>863985</td>\n",
       "      <td>863985_session_1</td>\n",
       "      <td>4</td>\n",
       "    </tr>\n",
       "    <tr>\n",
       "      <th>2</th>\n",
       "      <td>[[-0.7721341506839173, -1.0838558723664153, 0....</td>\n",
       "      <td>863985</td>\n",
       "      <td>863985_session_1</td>\n",
       "      <td>4</td>\n",
       "    </tr>\n",
       "    <tr>\n",
       "      <th>3</th>\n",
       "      <td>[[-0.4754876778736294, 0.15733684050289817, -0...</td>\n",
       "      <td>863985</td>\n",
       "      <td>863985_session_1</td>\n",
       "      <td>4</td>\n",
       "    </tr>\n",
       "    <tr>\n",
       "      <th>4</th>\n",
       "      <td>[[0.3389690520678466, -1.3216184365452766, 0.3...</td>\n",
       "      <td>863985</td>\n",
       "      <td>863985_session_1</td>\n",
       "      <td>4</td>\n",
       "    </tr>\n",
       "  </tbody>\n",
       "</table>\n",
       "</div>"
      ],
      "text/plain": [
       "                                                   X subject           session  task_type\n",
       "0  [[0.005691054010759006, -1.6916796380130485, 0...  863985  863985_session_1          4\n",
       "1  [[-0.05761786795254269, -1.3738875100254715, 0...  863985  863985_session_1          4\n",
       "2  [[-0.7721341506839173, -1.0838558723664153, 0....  863985  863985_session_1          4\n",
       "3  [[-0.4754876778736294, 0.15733684050289817, -0...  863985  863985_session_1          4\n",
       "4  [[0.3389690520678466, -1.3216184365452766, 0.3...  863985  863985_session_1          4"
      ]
     },
     "metadata": {},
     "output_type": "display_data"
    }
   ],
   "source": [
    "df_siamese_valid = utils_reshape_features(\n",
    "    hmog.valid_test,\n",
    "    feature_cols=P.feature_cols,\n",
    "    window_size=P.window_size,\n",
    "    step_width=P.step_width,\n",
    ")\n",
    "\n",
    "del hmog.valid\n",
    "%reset_selective -f hmog.valid\n",
    "\n",
    "print(\"Testing data after reshaping:\")\n",
    "display(df_siamese_valid.head())\n",
    "\n",
    "# Store iterim data\n",
    "#df_siamese_valid.to_msgpack(OUTPUT_PATH / \"df_siamese_valid.msg\")\n",
    "df_siamese_valid.to_parquet('df_siamese_valid.parquet.gzip',compression='gzip') \n",
    "\n",
    "# Clean memory\n",
    "%reset_selective -f df_siamese_valid"
   ]
  },
  {
   "cell_type": "markdown",
   "metadata": {
    "nbpresent": {
     "id": "98d58f05-0dc7-43aa-89d4-7c9336205005"
    }
   },
   "source": [
    "**Reshape & cache Set for Training/Validation OCSVM:**"
   ]
  },
  {
   "cell_type": "code",
   "execution_count": 23,
   "metadata": {
    "nbpresent": {
     "id": "2b142b37-27a7-48c7-bdc5-436341c2bb25"
    }
   },
   "outputs": [
    {
     "data": {
      "application/vnd.jupyter.widget-view+json": {
       "model_id": "c6569fd7e4c74f46908a1ae28d05443d",
       "version_major": 2,
       "version_minor": 0
      },
      "text/plain": [
       "HBox(children=(IntProgress(value=0, description='Session', max=12, style=ProgressStyle(description_width='init…"
      ]
     },
     "metadata": {},
     "output_type": "display_data"
    },
    {
     "name": "stdout",
     "output_type": "stream",
     "text": [
      "\r",
      "Testing data after reshaping:\n"
     ]
    },
    {
     "data": {
      "text/html": [
       "<div>\n",
       "<style scoped>\n",
       "    .dataframe tbody tr th:only-of-type {\n",
       "        vertical-align: middle;\n",
       "    }\n",
       "\n",
       "    .dataframe tbody tr th {\n",
       "        vertical-align: top;\n",
       "    }\n",
       "\n",
       "    .dataframe thead th {\n",
       "        text-align: right;\n",
       "    }\n",
       "</style>\n",
       "<table border=\"1\" class=\"dataframe\">\n",
       "  <thead>\n",
       "    <tr style=\"text-align: right;\">\n",
       "      <th></th>\n",
       "      <th>X</th>\n",
       "      <th>subject</th>\n",
       "      <th>session</th>\n",
       "      <th>task_type</th>\n",
       "    </tr>\n",
       "  </thead>\n",
       "  <tbody>\n",
       "    <tr>\n",
       "      <th>0</th>\n",
       "      <td>[[0.09938241748921309, 6.7806074578339866, 5.6...</td>\n",
       "      <td>913228</td>\n",
       "      <td>913228_session_10</td>\n",
       "      <td>2</td>\n",
       "    </tr>\n",
       "    <tr>\n",
       "      <th>1</th>\n",
       "      <td>[[-1.4975767426381965, 4.370154254822879, 7.42...</td>\n",
       "      <td>913228</td>\n",
       "      <td>913228_session_10</td>\n",
       "      <td>2</td>\n",
       "    </tr>\n",
       "    <tr>\n",
       "      <th>2</th>\n",
       "      <td>[[-0.6207209578630872, 5.871204933343471, 6.50...</td>\n",
       "      <td>913228</td>\n",
       "      <td>913228_session_10</td>\n",
       "      <td>2</td>\n",
       "    </tr>\n",
       "    <tr>\n",
       "      <th>3</th>\n",
       "      <td>[[-0.2907007541140527, 4.7420626154043966, 8.5...</td>\n",
       "      <td>913228</td>\n",
       "      <td>913228_session_10</td>\n",
       "      <td>2</td>\n",
       "    </tr>\n",
       "    <tr>\n",
       "      <th>4</th>\n",
       "      <td>[[0.19050295951417412, 4.896432294316865, 7.58...</td>\n",
       "      <td>913228</td>\n",
       "      <td>913228_session_10</td>\n",
       "      <td>2</td>\n",
       "    </tr>\n",
       "  </tbody>\n",
       "</table>\n",
       "</div>"
      ],
      "text/plain": [
       "                                                   X subject            session  task_type\n",
       "0  [[0.09938241748921309, 6.7806074578339866, 5.6...  913228  913228_session_10          2\n",
       "1  [[-1.4975767426381965, 4.370154254822879, 7.42...  913228  913228_session_10          2\n",
       "2  [[-0.6207209578630872, 5.871204933343471, 6.50...  913228  913228_session_10          2\n",
       "3  [[-0.2907007541140527, 4.7420626154043966, 8.5...  913228  913228_session_10          2\n",
       "4  [[0.19050295951417412, 4.896432294316865, 7.58...  913228  913228_session_10          2"
      ]
     },
     "metadata": {},
     "output_type": "display_data"
    }
   ],
   "source": [
    "df_ocsvm_train_valid = utils_reshape_features(\n",
    "    hmog.test_train,\n",
    "    feature_cols=P.feature_cols,\n",
    "    window_size=P.window_size,\n",
    "    step_width=P.step_width,\n",
    ")\n",
    "\n",
    "del hmog.test_train\n",
    "%reset_selective -f hmog.test_train\n",
    "\n",
    "print(\"Testing data after reshaping:\")\n",
    "display(df_ocsvm_train_valid.head())\n",
    "\n",
    "# Store iterim data\n",
    "#df_ocsvm_train_valid.to_msgpack(OUTPUT_PATH / \"df_ocsvm_train_valid.msg\")\n",
    "df_ocsvm_train_valid.to_parquet('df_ocsvm_train_valid.parquet.gzip',compression='gzip')\n",
    "\n",
    "# Clean memory\n",
    "%reset_selective -f df_ocsvm_train_valid"
   ]
  },
  {
   "cell_type": "markdown",
   "metadata": {
    "nbpresent": {
     "id": "e6946ad2-0110-4848-9db7-bd9a2968b55c"
    }
   },
   "source": [
    "**Reshape & cache Set for Training/Testing OCSVM:**"
   ]
  },
  {
   "cell_type": "code",
   "execution_count": 24,
   "metadata": {
    "nbpresent": {
     "id": "8c55b673-5107-46d5-9f5a-b34da2146010"
    }
   },
   "outputs": [
    {
     "data": {
      "application/vnd.jupyter.widget-view+json": {
       "model_id": "74fa26b471a6467baad8d8891667dd06",
       "version_major": 2,
       "version_minor": 0
      },
      "text/plain": [
       "HBox(children=(IntProgress(value=0, description='Session', max=36, style=ProgressStyle(description_width='init…"
      ]
     },
     "metadata": {},
     "output_type": "display_data"
    },
    {
     "name": "stdout",
     "output_type": "stream",
     "text": [
      "\r",
      "Testing data after reshaping:\n"
     ]
    },
    {
     "data": {
      "text/html": [
       "<div>\n",
       "<style scoped>\n",
       "    .dataframe tbody tr th:only-of-type {\n",
       "        vertical-align: middle;\n",
       "    }\n",
       "\n",
       "    .dataframe tbody tr th {\n",
       "        vertical-align: top;\n",
       "    }\n",
       "\n",
       "    .dataframe thead th {\n",
       "        text-align: right;\n",
       "    }\n",
       "</style>\n",
       "<table border=\"1\" class=\"dataframe\">\n",
       "  <thead>\n",
       "    <tr style=\"text-align: right;\">\n",
       "      <th></th>\n",
       "      <th>X</th>\n",
       "      <th>subject</th>\n",
       "      <th>session</th>\n",
       "      <th>task_type</th>\n",
       "    </tr>\n",
       "  </thead>\n",
       "  <tbody>\n",
       "    <tr>\n",
       "      <th>0</th>\n",
       "      <td>[[-1.6562887125000003, 2.9110997625, 9.1075932...</td>\n",
       "      <td>220962</td>\n",
       "      <td>220962_session_11</td>\n",
       "      <td>4</td>\n",
       "    </tr>\n",
       "    <tr>\n",
       "      <th>1</th>\n",
       "      <td>[[6.506063556585327, -0.9355338502341114, 7.57...</td>\n",
       "      <td>220962</td>\n",
       "      <td>220962_session_11</td>\n",
       "      <td>4</td>\n",
       "    </tr>\n",
       "    <tr>\n",
       "      <th>2</th>\n",
       "      <td>[[1.925739229866161, 0.17324507296863026, 9.10...</td>\n",
       "      <td>220962</td>\n",
       "      <td>220962_session_11</td>\n",
       "      <td>4</td>\n",
       "    </tr>\n",
       "    <tr>\n",
       "      <th>3</th>\n",
       "      <td>[[3.540076652887364, -1.2548110219707334, 8.64...</td>\n",
       "      <td>220962</td>\n",
       "      <td>220962_session_11</td>\n",
       "      <td>4</td>\n",
       "    </tr>\n",
       "    <tr>\n",
       "      <th>4</th>\n",
       "      <td>[[3.161760990909091, 1.3153961590909091, 9.921...</td>\n",
       "      <td>220962</td>\n",
       "      <td>220962_session_11</td>\n",
       "      <td>4</td>\n",
       "    </tr>\n",
       "  </tbody>\n",
       "</table>\n",
       "</div>"
      ],
      "text/plain": [
       "                                                   X subject            session  task_type\n",
       "0  [[-1.6562887125000003, 2.9110997625, 9.1075932...  220962  220962_session_11          4\n",
       "1  [[6.506063556585327, -0.9355338502341114, 7.57...  220962  220962_session_11          4\n",
       "2  [[1.925739229866161, 0.17324507296863026, 9.10...  220962  220962_session_11          4\n",
       "3  [[3.540076652887364, -1.2548110219707334, 8.64...  220962  220962_session_11          4\n",
       "4  [[3.161760990909091, 1.3153961590909091, 9.921...  220962  220962_session_11          4"
      ]
     },
     "metadata": {},
     "output_type": "display_data"
    }
   ],
   "source": [
    "df_ocsvm_train_test = utils_reshape_features(\n",
    "    hmog.test_test,\n",
    "    feature_cols=P.feature_cols,\n",
    "    window_size=P.window_size,\n",
    "    step_width=P.step_width,\n",
    ")\n",
    "\n",
    "del hmog.test_test\n",
    "%reset_selective -f hmog.test_test\n",
    "\n",
    "print(\"Testing data after reshaping:\")\n",
    "display(df_ocsvm_train_test.head())\n",
    "\n",
    "# Store iterim data\n",
    "#df_ocsvm_train_test.to_msgpack(OUTPUT_PATH / \"df_ocsvm_train_test.msg\")\n",
    "\n",
    "df_ocsvm_train_test.to_parquet('df_ocsvm_train_test.parquet.gzip',compression='gzip')\n",
    "\n",
    "# Clean memory\n",
    "%reset_selective -f df_ocsvm_train_test\n",
    "%reset_selective -f df_"
   ]
  },
  {
   "cell_type": "markdown",
   "metadata": {
    "nbpresent": {
     "id": "6ed0a127-155b-49cf-af53-6dd31e3b70f3"
    },
    "toc-hr-collapsed": false
   },
   "source": [
    "## 3. Generate Scenario Pairs <a id='3'>&nbsp;</a> "
   ]
  },
  {
   "cell_type": "markdown",
   "metadata": {
    "nbpresent": {
     "id": "ebb6bc69-df47-4419-85f4-b12dba381861"
    }
   },
   "source": [
    "### 3.1 Load cached Data <a id='3.1'>&nbsp;</a> "
   ]
  },
  {
   "cell_type": "code",
   "execution_count": 25,
   "metadata": {
    "nbpresent": {
     "id": "8628dd8b-e507-4f15-a761-0c847101f492"
    }
   },
   "outputs": [],
   "source": [
    "#df_siamese_train = pd.read_msgpack(OUTPUT_PATH / \"df_siamese_train.msg\")\n",
    "#df_siamese_valid = pd.read_msgpack(OUTPUT_PATH / \"df_siamese_valid.msg\")\n",
    "\n",
    "df_siamese_train = pd.read_parquet('df_siamese_train.parquet.gzip') \n",
    "df_siamese_valid = pd.read_parquet('df_siamese_valid.parquet.gzip') "
   ]
  },
  {
   "cell_type": "markdown",
   "metadata": {
    "nbpresent": {
     "id": "23023f0d-95ac-489f-919d-0c5802758683"
    }
   },
   "source": [
    "### 3.2 Build positive/negative Pairs  <a id='3.2'>&nbsp;</a> "
   ]
  },
  {
   "cell_type": "code",
   "execution_count": 26,
   "metadata": {
    "nbpresent": {
     "id": "2ee82b79-c104-4009-a8f7-3f5425109d00"
    }
   },
   "outputs": [],
   "source": [
    "def build_pairs(df):\n",
    "    # Limit samples per subject to sample of shortest session\n",
    "    df = df.groupby(\"session\", group_keys=False).apply(\n",
    "        lambda x: x.sample(min(len(x), P.max_pairs_per_session), random_state=SEED)\n",
    "    )\n",
    "    df_pairs = None\n",
    "\n",
    "    # Split samples subject wise 50:50\n",
    "    # ---------------\n",
    "    df_positives = None\n",
    "    df_negatives = None\n",
    "\n",
    "    for subject in df[\"subject\"].unique():\n",
    "        # Shuffle\n",
    "        df_subj = df[df[\"subject\"] == subject].sample(frac=1, random_state=SEED)\n",
    "\n",
    "        # Make rows even\n",
    "        if len(df_subj) % 2 != 0:\n",
    "            df_subj = df_subj.iloc[:-1]\n",
    "\n",
    "        half = len(df_subj) // 2\n",
    "\n",
    "        df_positives = pd.concat([df_positives, df_subj.iloc[:half]])\n",
    "        df_negatives = pd.concat([df_negatives, df_subj.iloc[half:]])\n",
    "\n",
    "    # Positive Pairs\n",
    "    # ---------------\n",
    "    df_positive_left = None\n",
    "    df_positive_right = None\n",
    "\n",
    "    for subject in df_positives[\"subject\"].unique():\n",
    "        df_subj = df[df[\"subject\"] == subject]\n",
    "        # Make rows even\n",
    "        if len(df_subj) % 2 != 0:\n",
    "            df_subj = df_subj.iloc[:-1]\n",
    "\n",
    "        # Split in half\n",
    "        half = len(df_subj) // 2\n",
    "        df_positive_left = pd.concat([df_positive_left, df_subj.iloc[:half]])\n",
    "        df_positive_right = pd.concat([df_positive_right, df_subj.iloc[half:]])\n",
    "\n",
    "    df_positive_left = df_positive_left.reset_index(drop=True)\n",
    "    df_positive_right = df_positive_right.reset_index(drop=True)\n",
    "    df_positive_left.columns = [\"left_\" + c for c in df_positive_left.columns]\n",
    "    df_positive_right.columns = [\"right_\" + c for c in df_positive_right.columns]\n",
    "\n",
    "    df_positives = pd.concat(\n",
    "        [df_positive_left, df_positive_right],\n",
    "        axis=1,\n",
    "        sort=False,\n",
    "        join_axes=[df_positive_left.index],\n",
    "    )\n",
    "\n",
    "    # Negative Pairs\n",
    "    # ---------------\n",
    "    # Make rows even\n",
    "    if len(df_negatives) % 2 != 0:\n",
    "        df_negatives = df_negatives.iloc[:-1]\n",
    "\n",
    "    # Split in half\n",
    "    half = len(df_negatives) // 2\n",
    "    df_negative_left = df_negatives.iloc[half:].reset_index(drop=True)\n",
    "    df_negative_right = df_negatives.iloc[:half].reset_index(drop=True)\n",
    "\n",
    "    # Name columns\n",
    "    df_negative_left.columns = [\"left_\" + c for c in df_negative_left.columns]\n",
    "    df_negative_right.columns = [\"right_\" + c for c in df_negative_right.columns]\n",
    "\n",
    "    # Combine\n",
    "    df_negatives = pd.concat(\n",
    "        [df_negative_left, df_negative_right],\n",
    "        axis=1,\n",
    "        sort=False,\n",
    "        join_axes=[df_negative_left.index],\n",
    "    )\n",
    "\n",
    "    # Combine both Pairs\n",
    "    # ---------------\n",
    "    # Balance pairs\n",
    "    min_len = min(len(df_positives), len(df_negatives))\n",
    "    df_positives = df_positives.sample(n=min_len, random_state=SEED)\n",
    "    df_negatives = df_negatives.sample(n=min_len, random_state=SEED)\n",
    "\n",
    "    # Combine\n",
    "    df_pairs = pd.concat([df_positives, df_negatives], sort=False)\n",
    "\n",
    "    # Shuffle\n",
    "    df_pairs = df_pairs.sample(frac=1, random_state=SEED).reset_index(drop=True)\n",
    "\n",
    "    # Set Label\n",
    "    df_pairs[\"label\"] = np.where(\n",
    "        df_pairs[\"left_subject\"] == df_pairs[\"right_subject\"], 1, 0\n",
    "    )\n",
    "\n",
    "    return df_pairs"
   ]
  },
  {
   "cell_type": "code",
   "execution_count": 27,
   "metadata": {
    "nbpresent": {
     "id": "a3fc7efe-b4be-45ea-9b3b-980ea6995666"
    },
    "scrolled": true
   },
   "outputs": [
    {
     "name": "stdout",
     "output_type": "stream",
     "text": [
      "Sample per session before reduction:\n",
      " \n"
     ]
    },
    {
     "data": {
      "text/plain": [
       "621276_session_1    286\n",
       "621276_session_9    245\n",
       "579284_session_3    205\n",
       "Name: session, dtype: int64"
      ]
     },
     "metadata": {},
     "output_type": "display_data"
    },
    {
     "data": {
      "text/plain": [
       "863985_session_1     171\n",
       "863985_session_13    130\n",
       "863985_session_17    117\n",
       "Name: session, dtype: int64"
      ]
     },
     "metadata": {},
     "output_type": "display_data"
    },
    {
     "name": "stdout",
     "output_type": "stream",
     "text": [
      "\n",
      "\n",
      "Sample per session after reduction:\n",
      "\n"
     ]
    },
    {
     "data": {
      "text/plain": [
       "621276_session_11    120\n",
       "621276_session_2     120\n",
       "579284_session_1     120\n",
       "Name: session, dtype: int64"
      ]
     },
     "metadata": {},
     "output_type": "display_data"
    },
    {
     "data": {
      "text/plain": [
       "863985_session_1     120\n",
       "863985_session_13    120\n",
       "863985_session_17    117\n",
       "Name: session, dtype: int64"
      ]
     },
     "metadata": {},
     "output_type": "display_data"
    }
   ],
   "source": [
    "# Reduce observations/samples per\n",
    "print(\"Sample per session before reduction:\\n \")\n",
    "display(df_siamese_train[\"session\"].value_counts().head(3))\n",
    "display(df_siamese_valid[\"session\"].value_counts().head(3))\n",
    "\n",
    "df_siamese_train = df_siamese_train.groupby(\"session\", group_keys=False).apply(\n",
    "    lambda x: x.sample(n=min(len(x), P.samples_per_subject_train), random_state=SEED)\n",
    ")\n",
    "\n",
    "df_siamese_valid = df_siamese_valid.groupby(\"session\", group_keys=False).apply(\n",
    "    lambda x: x.sample(n=min(len(x), P.samples_per_subject_test), random_state=SEED)\n",
    ")\n",
    "\n",
    "print(\"\\n\\nSample per session after reduction:\\n\")\n",
    "display(df_siamese_train[\"session\"].value_counts().head(3))\n",
    "display(df_siamese_valid[\"session\"].value_counts().head(3))"
   ]
  },
  {
   "cell_type": "code",
   "execution_count": 28,
   "metadata": {
    "nbpresent": {
     "id": "13e6c294-8b56-47f0-ab1a-3a57dc8ca68f"
    }
   },
   "outputs": [],
   "source": [
    "df_siamese_train_pairs = build_pairs(df_siamese_train)\n",
    "df_siamese_valid_pairs = build_pairs(df_siamese_valid)"
   ]
  },
  {
   "cell_type": "markdown",
   "metadata": {
    "nbpresent": {
     "id": "eddd77fa-81a6-4015-ac22-715cd2e1b4f2"
    }
   },
   "source": [
    "### 3.3 Inspect Pairs <a id='3.3'>&nbsp;</a> "
   ]
  },
  {
   "cell_type": "code",
   "execution_count": 29,
   "metadata": {
    "nbpresent": {
     "id": "6d390502-fb52-4f01-bc37-c9d188c16f5e"
    }
   },
   "outputs": [
    {
     "name": "stdout",
     "output_type": "stream",
     "text": [
      "DataFrame Info:\n",
      "<class 'pandas.core.frame.DataFrame'>\n",
      "RangeIndex: 2496 entries, 0 to 2495\n",
      "Data columns (total 9 columns):\n",
      "left_X             2496 non-null object\n",
      "left_subject       2496 non-null object\n",
      "left_session       2496 non-null object\n",
      "left_task_type     2496 non-null int64\n",
      "right_X            2496 non-null object\n",
      "right_subject      2496 non-null object\n",
      "right_session      2496 non-null object\n",
      "right_task_type    2496 non-null int64\n",
      "label              2496 non-null int64\n",
      "dtypes: int64(3), object(6)\n",
      "memory usage: 175.6+ KB\n"
     ]
    },
    {
     "data": {
      "text/plain": [
       "None"
      ]
     },
     "metadata": {},
     "output_type": "display_data"
    },
    {
     "name": "stdout",
     "output_type": "stream",
     "text": [
      "\n",
      "\n",
      "Head:\n"
     ]
    },
    {
     "data": {
      "text/html": [
       "<div>\n",
       "<style scoped>\n",
       "    .dataframe tbody tr th:only-of-type {\n",
       "        vertical-align: middle;\n",
       "    }\n",
       "\n",
       "    .dataframe tbody tr th {\n",
       "        vertical-align: top;\n",
       "    }\n",
       "\n",
       "    .dataframe thead th {\n",
       "        text-align: right;\n",
       "    }\n",
       "</style>\n",
       "<table border=\"1\" class=\"dataframe\">\n",
       "  <thead>\n",
       "    <tr style=\"text-align: right;\">\n",
       "      <th></th>\n",
       "      <th>left_X</th>\n",
       "      <th>left_subject</th>\n",
       "      <th>left_session</th>\n",
       "      <th>left_task_type</th>\n",
       "      <th>right_X</th>\n",
       "      <th>right_subject</th>\n",
       "      <th>right_session</th>\n",
       "      <th>right_task_type</th>\n",
       "      <th>label</th>\n",
       "    </tr>\n",
       "  </thead>\n",
       "  <tbody>\n",
       "    <tr>\n",
       "      <th>0</th>\n",
       "      <td>[[-0.40804360324783473, 1.4743651238623097, -0...</td>\n",
       "      <td>579284</td>\n",
       "      <td>579284_session_15</td>\n",
       "      <td>2</td>\n",
       "      <td>[[1.1515443850116662, -0.39412385208405815, -0...</td>\n",
       "      <td>579284</td>\n",
       "      <td>579284_session_5</td>\n",
       "      <td>2</td>\n",
       "      <td>1</td>\n",
       "    </tr>\n",
       "    <tr>\n",
       "      <th>1</th>\n",
       "      <td>[[-0.25868603920634725, 0.21324111081756722, -...</td>\n",
       "      <td>538363</td>\n",
       "      <td>538363_session_24</td>\n",
       "      <td>6</td>\n",
       "      <td>[[-1.454461219361541, 0.2610688192914961, -0.1...</td>\n",
       "      <td>538363</td>\n",
       "      <td>538363_session_9</td>\n",
       "      <td>2</td>\n",
       "      <td>1</td>\n",
       "    </tr>\n",
       "    <tr>\n",
       "      <th>2</th>\n",
       "      <td>[[-0.8238346508253178, -0.22992444137207366, 0...</td>\n",
       "      <td>621276</td>\n",
       "      <td>621276_session_9</td>\n",
       "      <td>4</td>\n",
       "      <td>[[0.7479060345082706, -0.6285493696424529, 0.2...</td>\n",
       "      <td>538363</td>\n",
       "      <td>538363_session_5</td>\n",
       "      <td>4</td>\n",
       "      <td>0</td>\n",
       "    </tr>\n",
       "    <tr>\n",
       "      <th>3</th>\n",
       "      <td>[[0.3723013267557476, -0.5875598805666664, 0.4...</td>\n",
       "      <td>326223</td>\n",
       "      <td>326223_session_19</td>\n",
       "      <td>4</td>\n",
       "      <td>[[-0.038941680931756636, 0.6048408062469061, -...</td>\n",
       "      <td>326223</td>\n",
       "      <td>326223_session_5</td>\n",
       "      <td>6</td>\n",
       "      <td>1</td>\n",
       "    </tr>\n",
       "    <tr>\n",
       "      <th>4</th>\n",
       "      <td>[[0.27685141292107135, -0.5844267361282741, 0....</td>\n",
       "      <td>621276</td>\n",
       "      <td>621276_session_13</td>\n",
       "      <td>2</td>\n",
       "      <td>[[0.5865177774380806, 0.24274438749309943, -0....</td>\n",
       "      <td>621276</td>\n",
       "      <td>621276_session_24</td>\n",
       "      <td>6</td>\n",
       "      <td>1</td>\n",
       "    </tr>\n",
       "  </tbody>\n",
       "</table>\n",
       "</div>"
      ],
      "text/plain": [
       "                                              left_X left_subject       left_session  left_task_type                                            right_X right_subject      right_session  right_task_type  label\n",
       "0  [[-0.40804360324783473, 1.4743651238623097, -0...       579284  579284_session_15               2  [[1.1515443850116662, -0.39412385208405815, -0...        579284   579284_session_5                2      1\n",
       "1  [[-0.25868603920634725, 0.21324111081756722, -...       538363  538363_session_24               6  [[-1.454461219361541, 0.2610688192914961, -0.1...        538363   538363_session_9                2      1\n",
       "2  [[-0.8238346508253178, -0.22992444137207366, 0...       621276   621276_session_9               4  [[0.7479060345082706, -0.6285493696424529, 0.2...        538363   538363_session_5                4      0\n",
       "3  [[0.3723013267557476, -0.5875598805666664, 0.4...       326223  326223_session_19               4  [[-0.038941680931756636, 0.6048408062469061, -...        326223   326223_session_5                6      1\n",
       "4  [[0.27685141292107135, -0.5844267361282741, 0....       621276  621276_session_13               2  [[0.5865177774380806, 0.24274438749309943, -0....        621276  621276_session_24                6      1"
      ]
     },
     "metadata": {},
     "output_type": "display_data"
    },
    {
     "name": "stdout",
     "output_type": "stream",
     "text": [
      "\n",
      "\n",
      "Any NaN values?\n"
     ]
    },
    {
     "data": {
      "text/plain": [
       "left_X             0\n",
       "left_subject       0\n",
       "left_session       0\n",
       "left_task_type     0\n",
       "right_X            0\n",
       "right_subject      0\n",
       "right_session      0\n",
       "right_task_type    0\n",
       "label              0\n",
       "dtype: int64"
      ]
     },
     "metadata": {},
     "output_type": "display_data"
    },
    {
     "name": "stdout",
     "output_type": "stream",
     "text": [
      "\n",
      "\n",
      "\n",
      "Distribution of Samples per Subjects in training Data\n"
     ]
    },
    {
     "data": {
      "image/png": "[encoded data removed]",
      "text/plain": [
       "<Figure size 985.14x360 with 2 Axes>"
      ]
     },
     "metadata": {},
     "output_type": "display_data"
    }
   ],
   "source": [
    "print(\"DataFrame Info:\")\n",
    "display(df_siamese_train_pairs.info())\n",
    "\n",
    "print(\"\\n\\nHead:\")\n",
    "display(df_siamese_train_pairs.head(5))\n",
    "\n",
    "print(\"\\n\\nAny NaN values?\")\n",
    "display(df_siamese_train_pairs.isnull().sum(axis = 0))\n",
    "\n",
    "df_left_sub = df_siamese_train_pairs.groupby(\"left_subject\")[\"left_subject\"].count()\n",
    "df_right_sub = df_siamese_train_pairs.groupby(\"right_subject\")[\"right_subject\"].count()\n",
    "df_temp = pd.concat([df_left_sub, df_right_sub])\n",
    "\n",
    "print(\"\\n\\n\\nDistribution of Samples per Subjects in training Data\")\n",
    "\n",
    "fig, axes = plt.subplots(\n",
    "    ncols=2, nrows=1, figsize=(5.473, 2), dpi=180, gridspec_kw={\"width_ratios\": [1, 5]}\n",
    ")\n",
    "df_siamese_train_pairs[\"label\"].value_counts().rename(\n",
    "    index={0: \"Negative\\nPairs\", 1: \"Positive\\nPairs\"}\n",
    ").plot.bar(ax=axes[0], rot=0, color=MAGENTA)\n",
    "axes[0].tick_params(axis=\"x\", which=\"major\", pad=7)\n",
    "df_temp.groupby(df_temp.index).sum().plot.bar(ax=axes[1], width=0.6)\n",
    "fig.tight_layout()\n",
    "\n",
    "utils_save_plot(plt, REPORT_PATH / f\"buech2019-siamese-{P.name.lower()}-pair-dist.pdf\")"
   ]
  },
  {
   "cell_type": "markdown",
   "metadata": {
    "nbpresent": {
     "id": "0e527561-c38b-404e-8089-f84705c55c6f"
    }
   },
   "source": [
    "### 3.4 Cache Pairs <a id='3.4'>&nbsp;</a> "
   ]
  },
  {
   "cell_type": "code",
   "execution_count": 30,
   "metadata": {
    "nbpresent": {
     "id": "a8b3d23f-ab23-4433-925c-e66f058bf8ae"
    }
   },
   "outputs": [],
   "source": [
    "#df_siamese_train_pairs.to_msgpack(OUTPUT_PATH / \"df_siamese_train_pairs.msg\")\n",
    "#df_siamese_valid_pairs.to_msgpack(OUTPUT_PATH / \"df_siamese_valid_pairs.msg\")#\n",
    "\n",
    "\n",
    "df_siamese_train_pairs.to_parquet('df_siamese_train_pairs.parquet.gzip',compression='gzip')\n",
    "df_siamese_valid_pairs.to_parquet('df_siamese_valid_pairs.parquet.gzip',compression='gzip')"
   ]
  },
  {
   "cell_type": "code",
   "execution_count": 31,
   "metadata": {
    "nbpresent": {
     "id": "591a18ea-ebc7-4bb1-8384-3d491e6deaa8"
    }
   },
   "outputs": [],
   "source": [
    "# Clean Memory\n",
    "#%reset_selective -f df_"
   ]
  },
  {
   "cell_type": "markdown",
   "metadata": {
    "nbpresent": {
     "id": "26b4711f-d2c4-4338-8d69-f337ef6b013f"
    },
    "toc-hr-collapsed": false
   },
   "source": [
    "## 4. Siamese Network <a id='4'>&nbsp;</a> "
   ]
  },
  {
   "cell_type": "markdown",
   "metadata": {
    "nbpresent": {
     "id": "3a180b1c-ad74-4e17-be07-c5e3fed5f0f6"
    }
   },
   "source": [
    "### 4.1 Load cached Pairs <a id='4.1'>&nbsp;</a> "
   ]
  },
  {
   "cell_type": "code",
   "execution_count": 32,
   "metadata": {
    "nbpresent": {
     "id": "b654880d-dc01-4be1-8582-26f773126a34"
    }
   },
   "outputs": [],
   "source": [
    "#df_siamese_train_pairs = pd.read_msgpack(OUTPUT_PATH / \"df_siamese_train_pairs.msg\")\n",
    "#df_siamese_valid_pairs = pd.read_msgpack(OUTPUT_PATH / \"df_siamese_valid_pairs.msg\")\n",
    "df_siamese_valid_pairs = pd.read_parquet('df_siamese_valid_pairs.parquet.gzip') \n",
    "df_siamese_train_pairs = pd.read_parquet('df_siamese_train_pairs.parquet.gzip') "
   ]
  },
  {
   "cell_type": "markdown",
   "metadata": {
    "nbpresent": {
     "id": "151529fa-69ed-4976-af61-3ba21d875caf"
    },
    "toc-hr-collapsed": false
   },
   "source": [
    "### 4.2 Build Model <a id='4.2'>&nbsp;</a> "
   ]
  },
  {
   "cell_type": "markdown",
   "metadata": {
    "nbpresent": {
     "id": "e50ba372-030a-4f3f-bb58-7fba2c1b164a"
    }
   },
   "source": [
    "#### Distance Function"
   ]
  },
  {
   "cell_type": "code",
   "execution_count": 33,
   "metadata": {
    "nbpresent": {
     "id": "108cbd1b-98ab-453b-8fb3-83f5ea9d8143"
    }
   },
   "outputs": [],
   "source": [
    "def k_euclidean_dist(t):\n",
    "    x = t[0]\n",
    "    y = t[1]    \n",
    "    return K.sqrt(K.sum(K.square(x - y), axis=-1, keepdims=True))"
   ]
  },
  {
   "cell_type": "markdown",
   "metadata": {
    "nbpresent": {
     "id": "507cf397-5211-42b9-9292-47859f517539"
    }
   },
   "source": [
    "#### Loss Function"
   ]
  },
  {
   "cell_type": "code",
   "execution_count": 34,
   "metadata": {
    "nbpresent": {
     "id": "af6f9c43-1601-4345-b69d-fd535debfd15"
    }
   },
   "outputs": [],
   "source": [
    "def k_contrastive_loss(y_true, dist):\n",
    "    \"\"\"Contrastive loss from Hadsell-et-al.'06\n",
    "    http://yann.lecun.com/exdb/publis/pdf/hadsell-chopra-lecun-06.pdf\n",
    "    \"\"\"\n",
    "    margin = P.margin\n",
    "    return K.mean(y_true * K.square(dist) + (1 - y_true) * K.square(K.maximum(margin - dist, 0)))"
   ]
  },
  {
   "cell_type": "markdown",
   "metadata": {
    "nbpresent": {
     "id": "043e9d7c-9075-481c-b515-aaa980910627"
    }
   },
   "source": [
    "Sanity check contrastive loss function:"
   ]
  },
  {
   "cell_type": "code",
   "execution_count": 35,
   "metadata": {
    "nbpresent": {
     "id": "03dc2d78-5670-490f-8b43-7548f447b932"
    }
   },
   "outputs": [],
   "source": [
    "def contrastive_loss_test(y_true, dist):\n",
    "    \"\"\"Test function above using implementation with numpy instead tensors.\"\"\"\n",
    "    margin = P.margin\n",
    "    return y_true * np.square(dist) + (1 - y_true) * np.square(np.max(margin - dist, 0))"
   ]
  },
  {
   "cell_type": "code",
   "execution_count": 36,
   "metadata": {
    "nbpresent": {
     "id": "b9fba174-3db5-4473-a647-22d526681127"
    }
   },
   "outputs": [
    {
     "name": "stdout",
     "output_type": "stream",
     "text": [
      "Positive: class=1, distance=0,     loss: 0\n",
      "Positive: class=1, distance=0.01,  loss: 0.0001\n",
      "Positive: class=1, distance=0.3,   loss: 0.09\n",
      "Positive: class=1, distance=0.5,   loss: 0.25\n",
      "Positive: class=1, distance=1,     loss: 1\n"
     ]
    }
   ],
   "source": [
    "print(\"Positive: class=1, distance=0,     loss:\", contrastive_loss_test(1, 0))\n",
    "print(\"Positive: class=1, distance=0.01,  loss:\", contrastive_loss_test(1, 0.01))\n",
    "print(\"Positive: class=1, distance=0.3,   loss:\", contrastive_loss_test(1, 0.3))\n",
    "print(\"Positive: class=1, distance=0.5,   loss:\", contrastive_loss_test(1, 0.5))\n",
    "print(\"Positive: class=1, distance=1,     loss:\", contrastive_loss_test(1, 1))"
   ]
  },
  {
   "cell_type": "code",
   "execution_count": 37,
   "metadata": {
    "nbpresent": {
     "id": "69d1b824-349a-4cd0-aebc-0e6f08e3d6ae"
    }
   },
   "outputs": [
    {
     "name": "stdout",
     "output_type": "stream",
     "text": [
      "Negative: class=0, distance=0,     loss: 1\n",
      "Negative: class=0, distance=0.01,  loss: 0.9801\n",
      "Negative: class=0, distance=0.3,   loss: 0.48999999999999994\n",
      "Negative: class=0, distance=0.5,   loss: 0.25\n",
      "Negative: class=0, distance=5,     loss: 0\n"
     ]
    }
   ],
   "source": [
    "print(\"Negative: class=0, distance=0,     loss:\", contrastive_loss_test(0, 0))\n",
    "print(\"Negative: class=0, distance=0.01,  loss:\", contrastive_loss_test(0, 0.01))\n",
    "print(\"Negative: class=0, distance=0.3,   loss:\", contrastive_loss_test(0, 0.3))\n",
    "print(\"Negative: class=0, distance=0.5,   loss:\", contrastive_loss_test(0, 0.5))\n",
    "print(\"Negative: class=0, distance=5,     loss:\", contrastive_loss_test(0, 1))"
   ]
  },
  {
   "cell_type": "markdown",
   "metadata": {
    "nbpresent": {
     "id": "7c879c50-7c13-40aa-a08d-aa2312bc588f"
    }
   },
   "source": [
    "#### Siamese Model with 2D Filters, as derived from Centeno et al. (2018)"
   ]
  },
  {
   "cell_type": "code",
   "execution_count": 38,
   "metadata": {
    "nbpresent": {
     "id": "0f0a766f-5aeb-40d3-8d1d-cfa24530c524"
    }
   },
   "outputs": [],
   "source": [
    "def build_model_2d(input_shape, filters):\n",
    "    \"\"\"\n",
    "        Siamese CNN architecture with 3D input and 2D filters\n",
    "    \"\"\"\n",
    "    # Define the tensors for the two input images\n",
    "    left_inputs = Input(input_shape, name=\"left_inputs\")\n",
    "    right_inputs = Input(input_shape, name=\"right_inputs\")\n",
    "\n",
    "    # Convolutional Neural Network\n",
    "    inputs = Input(input_shape, name=\"input\")\n",
    "    x = Conv2D(filters[0], (7, 7), padding=\"same\", activation=\"tanh\", name=\"conv1\")(inputs)\n",
    "    x = MaxPooling2D(pool_size=(2, 2), padding=\"same\", name=\"mp1\")(x)\n",
    "    x = Conv2D(filters[1], (5, 5), padding=\"same\", activation=\"tanh\", name=\"conv2\")(x)\n",
    "    x = MaxPooling2D(pool_size=(2, 2), padding=\"same\", name=\"mp2\")(x)\n",
    "    x = Conv2D(filters[2], (3, 3), padding=\"same\", activation=\"tanh\", name=\"conv3\")(x)\n",
    "    x = MaxPooling2D(pool_size=(2, 2), padding=\"same\", name=\"mp3\")(x)\n",
    "    x = Conv2D(filters[3], (3, 3), padding=\"same\", activation=\"tanh\", name=\"conv4\")(x)\n",
    "    x = MaxPooling2D(pool_size=(2, 2), padding=\"same\", name=\"mp4\")(x)\n",
    "    x = Flatten(name=\"flat\")(x)\n",
    "    \n",
    "    # Basemodel instance\n",
    "    basemodel = Model(inputs, x, name=\"basemodel\")\n",
    "\n",
    "    # using same instance of \"basemodel\" to share weights between left/right networks\n",
    "    encoded_l = basemodel(left_inputs)\n",
    "    encoded_r = basemodel(right_inputs)\n",
    "\n",
    "    # Add a customized layer to compute the distance between the encodings\n",
    "    distance_layer = Lambda(k_euclidean_dist, name=\"distance\")([encoded_l, encoded_r])\n",
    "\n",
    "    # Combine into one net\n",
    "    siamese_net = Model(inputs=[left_inputs, right_inputs], outputs=distance_layer)\n",
    "\n",
    "    # return the model\n",
    "    return siamese_net, basemodel"
   ]
  },
  {
   "cell_type": "markdown",
   "metadata": {
    "nbpresent": {
     "id": "e5b67dcc-3087-4d15-b2fc-54342f7d4996"
    }
   },
   "source": [
    "#### Siamese Model with 1D Filters, similar than Centeno et al. (2018)"
   ]
  },
  {
   "cell_type": "code",
   "execution_count": 39,
   "metadata": {
    "nbpresent": {
     "id": "508e8834-a112-4fb3-ad23-bc703f35c66e"
    }
   },
   "outputs": [],
   "source": [
    "def build_model_1d(input_shape, filters):\n",
    "    \"\"\"\n",
    "        Model architecture\n",
    "    \"\"\"\n",
    "    # Define the tensors for the two input images\n",
    "    left_inputs = Input(input_shape, name=\"left_inputs\")\n",
    "    right_inputs = Input(input_shape, name=\"right_inputs\")\n",
    "\n",
    "    # Convolutional Neural Network\n",
    "    inputs = Input(input_shape, name=\"input\")\n",
    "    x = Conv1D(filters[0], 7, activation=\"elu\", padding=\"same\", name=\"conv1\")(inputs)\n",
    "    x = MaxPooling1D(pool_size=2, name=\"mp1\")(x)\n",
    "    x = Conv1D(filters[1], 5, activation=\"elu\", padding=\"same\", name=\"conv2\")(x)\n",
    "    x = MaxPooling1D(pool_size=2, name=\"mp2\")(x)\n",
    "    x = Conv1D(filters[2], 3, activation=\"elu\", padding=\"same\", name=\"conv3\")(x)\n",
    "    x = MaxPooling1D(pool_size=2, name=\"mp3\")(x)\n",
    "    x = Conv1D(filters[3], 3, activation=\"elu\", padding=\"same\", name=\"conv4\")(x)\n",
    "    x = MaxPooling1D(pool_size=2, name=\"mp5\")(x)\n",
    "    x = Flatten(name=\"flat\")(x)\n",
    "\n",
    "    # Generate the encodings (feature vectors) for the two images\n",
    "    basemodel = Model(inputs, x, name=\"basemodel\")\n",
    "\n",
    "    # using same instance of \"basemodel\" to share weights between left/right networks\n",
    "    encoded_l = basemodel(left_inputs)\n",
    "    encoded_r = basemodel(right_inputs)\n",
    "\n",
    "    # Add a customized layer to compute the absolute difference between the encodings\n",
    "    distance_layer = Lambda(k_euclidean_dist, name=\"distance\")([encoded_l, encoded_r])\n",
    "\n",
    "    siamese_net = Model(inputs=[left_inputs, right_inputs], outputs=distance_layer)\n",
    "\n",
    "    # return the model\n",
    "    return siamese_net, basemodel"
   ]
  },
  {
   "cell_type": "markdown",
   "metadata": {
    "nbpresent": {
     "id": "33049007-6113-4962-bb74-4df54a6869db"
    }
   },
   "source": [
    "#### Siamese Model with FCN architecture"
   ]
  },
  {
   "cell_type": "code",
   "execution_count": 40,
   "metadata": {
    "nbpresent": {
     "id": "032855e2-8cfd-4de5-8090-96109f3a8320"
    }
   },
   "outputs": [],
   "source": [
    "def build_model_fcn(input_shape, filters):\n",
    "    # Define the tensors for the two input images\n",
    "    print(input_shape)\n",
    "    left_inputs = Input(input_shape, name=\"left_inputs\")\n",
    "    right_inputs = Input(input_shape, name=\"right_inputs\")\n",
    "\n",
    "    # Convolutional Neural Network\n",
    "    inputs = Input(input_shape, name=\"input\")\n",
    "    x = Conv1D(\n",
    "        filters=filters[0],\n",
    "        kernel_size=8,\n",
    "        strides=1,\n",
    "        activation=None,\n",
    "        padding=\"same\",\n",
    "        name=\"conv1\",\n",
    "    )(inputs)\n",
    "    x = BatchNormalization()(x)\n",
    "    x = Activation(\"relu\")(x)\n",
    "    x = Dropout(0.1, name=\"drop1\")(x)\n",
    "    x = Conv1D(\n",
    "        filters=filters[1],\n",
    "        kernel_size=5,\n",
    "        strides=1,\n",
    "        activation=None,\n",
    "        padding=\"same\",\n",
    "        name=\"conv2\",\n",
    "    )(x)\n",
    "    x = BatchNormalization()(x)\n",
    "    x = Activation(\"relu\")(x)\n",
    "    x = Dropout(0.1, name=\"drop2\")(x)\n",
    "    x = Conv1D(\n",
    "        filters=filters[2],\n",
    "        kernel_size=3,\n",
    "        strides=1,\n",
    "        activation=None,\n",
    "        padding=\"same\",\n",
    "        name=\"conv3\",\n",
    "    )(x)\n",
    "    x = BatchNormalization()(x)\n",
    "    x = Activation(\"relu\")(x)\n",
    "    x = GlobalAveragePooling1D()(x)\n",
    "    x = Dense(32, activation=\"sigmoid\", name=\"dense\")(x) # <--- !!!!!!!!!!!!\n",
    "\n",
    "    # Basemodel instance\n",
    "    basemodel = Model(inputs, x, name=\"basemodel\")\n",
    "\n",
    "    # using same instance of \"basemodel\" to share weights between left/right networks\n",
    "    encoded_l = basemodel(left_inputs)\n",
    "    encoded_r = basemodel(right_inputs)\n",
    "\n",
    "    # Add a customized layer to compute the distance between the encodings\n",
    "    distance_layer = Lambda(k_euclidean_dist, name=\"distance\")([encoded_l, encoded_r])\n",
    "\n",
    "    # Combine into one net\n",
    "    siamese_net = Model(inputs=[left_inputs, right_inputs], outputs=distance_layer)\n",
    "\n",
    "    # return the model\n",
    "    return siamese_net, basemodel"
   ]
  },
  {
   "cell_type": "code",
   "execution_count": 41,
   "metadata": {
    "nbpresent": {
     "id": "a7607f40-41cb-45eb-aea0-a4bac69e2115"
    }
   },
   "outputs": [],
   "source": [
    "def get_model(name, window_size, feature_cols, filters):\n",
    "    print(f\"Using Model variant {name}...\")\n",
    "    if name == \"1d\":\n",
    "        model, basemodel = build_model_1d((window_size, len(feature_cols)), filters)\n",
    "    elif name == \"2d\":\n",
    "        model, basemodel = build_model_2d((window_size, len(feature_cols), 1), filters)\n",
    "    elif name == \"fcn\":\n",
    "        model, basemodel = build_model_fcn((window_size, len(feature_cols)), filters)\n",
    "    else:\n",
    "        raise BaseException(\"Error: Not a valid model name: {1d, 2d, fcn}\")\n",
    "\n",
    "    return model, basemodel"
   ]
  },
  {
   "cell_type": "markdown",
   "metadata": {
    "nbpresent": {
     "id": "883c8afc-d4c5-4493-9e53-7bf2cb8b10c9"
    }
   },
   "source": [
    "**Inspect model architecture:**"
   ]
  },
  {
   "cell_type": "code",
   "execution_count": 42,
   "metadata": {
    "nbpresent": {
     "id": "280a5155-faa1-4f83-967f-22e43f27af4a"
    },
    "scrolled": true
   },
   "outputs": [
    {
     "name": "stdout",
     "output_type": "stream",
     "text": [
      "Using Model variant fcn...\n",
      "(125, 3)\n",
      "_________________________________________________________________\n",
      "Layer (type)                 Output Shape              Param #   \n",
      "=================================================================\n",
      "input (InputLayer)           (None, 125, 3)            0         \n",
      "_________________________________________________________________\n",
      "conv1 (Conv1D)               (None, 125, 32)           800       \n",
      "_________________________________________________________________\n",
      "batch_normalization_1 (Batch (None, 125, 32)           128       \n",
      "_________________________________________________________________\n",
      "activation_1 (Activation)    (None, 125, 32)           0         \n",
      "_________________________________________________________________\n",
      "drop1 (Dropout)              (None, 125, 32)           0         \n",
      "_________________________________________________________________\n",
      "conv2 (Conv1D)               (None, 125, 64)           10304     \n",
      "_________________________________________________________________\n",
      "batch_normalization_2 (Batch (None, 125, 64)           256       \n",
      "_________________________________________________________________\n",
      "activation_2 (Activation)    (None, 125, 64)           0         \n",
      "_________________________________________________________________\n",
      "drop2 (Dropout)              (None, 125, 64)           0         \n",
      "_________________________________________________________________\n",
      "conv3 (Conv1D)               (None, 125, 32)           6176      \n",
      "_________________________________________________________________\n",
      "batch_normalization_3 (Batch (None, 125, 32)           128       \n",
      "_________________________________________________________________\n",
      "activation_3 (Activation)    (None, 125, 32)           0         \n",
      "_________________________________________________________________\n",
      "global_average_pooling1d_1 ( (None, 32)                0         \n",
      "_________________________________________________________________\n",
      "dense (Dense)                (None, 32)                1056      \n",
      "=================================================================\n",
      "Total params: 18,848\n",
      "Trainable params: 18,592\n",
      "Non-trainable params: 256\n",
      "_________________________________________________________________\n",
      "__________________________________________________________________________________________________\n",
      "Layer (type)                    Output Shape         Param #     Connected to                     \n",
      "==================================================================================================\n",
      "left_inputs (InputLayer)        (None, 125, 3)       0                                            \n",
      "__________________________________________________________________________________________________\n",
      "right_inputs (InputLayer)       (None, 125, 3)       0                                            \n",
      "__________________________________________________________________________________________________\n",
      "basemodel (Model)               (None, 32)           18848       left_inputs[0][0]                \n",
      "                                                                 right_inputs[0][0]               \n",
      "__________________________________________________________________________________________________\n",
      "distance (Lambda)               (None, 1)            0           basemodel[1][0]                  \n",
      "                                                                 basemodel[2][0]                  \n",
      "==================================================================================================\n",
      "Total params: 18,848\n",
      "Trainable params: 18,592\n",
      "Non-trainable params: 256\n",
      "__________________________________________________________________________________________________\n"
     ]
    }
   ],
   "source": [
    "temp_model, temp_basemodel = get_model(P.model_variant, P.window_size, P.feature_cols, P.filters)\n",
    "\n",
    "temp_basemodel.summary()\n",
    "temp_model.summary()"
   ]
  },
  {
   "cell_type": "markdown",
   "metadata": {
    "nbpresent": {
     "id": "ed68c605-2161-46c0-94ea-b79125e4a8c6"
    }
   },
   "source": [
    "### 4.3 Prepare Features <a id='4.3'>&nbsp;</a> "
   ]
  },
  {
   "cell_type": "code",
   "execution_count": 43,
   "metadata": {
    "nbpresent": {
     "id": "6c1f7ec6-78d2-48c9-bf77-32fddda621f9"
    }
   },
   "outputs": [],
   "source": [
    "def prep_X_y_pair(df):\n",
    "    \n",
    "    # @Iman\n",
    "    # this is necessary to avoid creating an np.array of np.array's\n",
    "    # instead of a 3D array\n",
    "    X_left = np.array([np.stack(x) for x in np.stack(df[\"left_X\"].values)])\n",
    "    X_right = np.array([np.stack(x) for x in np.stack(df[\"right_X\"].values)])\n",
    "    \n",
    "    # X_left = np.stack(list(df[\"left_X\"].values))\n",
    "    # X_right = np.stack(list(df[\"right_X\"].values))\n",
    "    \n",
    "    X = [X_left, X_right]\n",
    "    y = df[\"label\"].values\n",
    "    \n",
    "    return X, y"
   ]
  },
  {
   "cell_type": "code",
   "execution_count": 44,
   "metadata": {
    "nbpresent": {
     "id": "b50f895a-8e2d-4106-81f5-66e8f0618d15"
    }
   },
   "outputs": [
    {
     "name": "stdout",
     "output_type": "stream",
     "text": [
      "Training samples:   2496, shape: (2496, 125, 3), class balance: (array([0, 1]), array([1248, 1248]))\n",
      "Validation samples: 578, shape: (578, 125, 3), class balance: (array([1]), array([578]))\n"
     ]
    }
   ],
   "source": [
    "X_train, y_train = prep_X_y_pair(df_siamese_train_pairs)\n",
    "X_valid, y_valid = prep_X_y_pair(df_siamese_valid_pairs)\n",
    "\n",
    "# 2D Filter Model needs flat 4th dimension\n",
    "if P.model_variant == \"2d\":\n",
    "    X_train[0] = X_train[0].reshape((*X_train[0].shape, 1))\n",
    "    X_train[1] = X_train[1].reshape((*X_train[1].shape, 1))\n",
    "    X_valid[0] = X_valid[0].reshape((*X_valid[0].shape, 1))\n",
    "    X_valid[1] = X_valid[1].reshape((*X_valid[1].shape, 1))\n",
    "\n",
    "print(\n",
    "    f\"Training samples:   {y_train.shape[0]}, shape: {X_train[0].shape},\"\n",
    "    + f\" class balance: {np.unique(y_train, return_counts=True)}\"\n",
    ")\n",
    "print(\n",
    "    f\"Validation samples: {y_valid.shape[0]}, shape: {X_valid[0].shape},\"\n",
    "    + f\" class balance: {np.unique(y_valid, return_counts=True)}\"\n",
    ")"
   ]
  },
  {
   "cell_type": "markdown",
   "metadata": {
    "nbpresent": {
     "id": "5c871ad1-1ae8-4a45-b984-2fae880ac99f"
    }
   },
   "source": [
    "### 4.4 Search optimal Epoch <a id='4.4'>&nbsp;</a> "
   ]
  },
  {
   "cell_type": "code",
   "execution_count": 45,
   "metadata": {
    "nbpresent": {
     "id": "5490c79b-6270-48c2-b6c8-7d1776ecba2f"
    }
   },
   "outputs": [],
   "source": [
    "class MetricsCallback(Callback):\n",
    "    \"\"\"\n",
    "    Custom Keras Callback function.\n",
    "    \n",
    "    Used to predict and plot distances for positive and negative pairs\n",
    "    after each n-th epoch, along with some 'classification' metrics. \n",
    "    'Classification' here means to ability to distinguish between positive \n",
    "    and negative pairs using a threshold for the distance.\n",
    "    \n",
    "    Arguments:\n",
    "        payload {tuple}           -- Datasets used for evaluation: (X_valid, y_valid, X_train, y_train)\n",
    "        epoch_evaluate_freq {int} -- Frequency for evaluation. After every n-th epoch, \n",
    "                                     the results are evaluated and printed\n",
    "        save_plots {boolean}      -- Do you want to save plots as PDF? Path is configured via global\n",
    "                                     parameter REPORT_PATH.\n",
    "    \"\"\"\n",
    "\n",
    "    def __init__(self, payload, epoch_evaluate_freq=1, save_plots=False):\n",
    "\n",
    "        self.X_valid, self.y_valid, self.X_train, self.y_train = payload\n",
    "        self.save_plots = save_plots\n",
    "        self.epoch_evaluate_freq = epoch_evaluate_freq\n",
    "\n",
    "        # Do we have train and valid set?\n",
    "        self.sets = []\n",
    "        if self.X_train:\n",
    "            self.sets.append([self.X_train, self.y_train, \"Train\"])\n",
    "        if self.X_valid:\n",
    "            self.sets.append([self.X_valid, self.y_valid, \"Valid\"])\n",
    "\n",
    "    def on_train_begin(self, logs={}):\n",
    "        print(32 * \"=\" + f\"[ Initial State ]\" + 32 * \"=\", end=\"\")\n",
    "        for X, y, desc in self.sets:\n",
    "            self.evaluate(X, y, logs, desc, -1)\n",
    "\n",
    "    def on_train_end(self, logs={}):\n",
    "        print(32 * \"=\" + f\"[ Final State ]\" + 32 * \"=\", end=\"\")\n",
    "        for X, y, desc in self.sets:\n",
    "            self.evaluate(X, y, logs, desc, -1)\n",
    "\n",
    "    def on_epoch_end(self, epoch, logs={}):\n",
    "        print(32 * \"=\" + f\"[   Epoch {epoch}   ]\" + 32 * \"=\", end=\"\")\n",
    "        if epoch % self.epoch_evaluate_freq == 0:  # Evaluate only every n-th epoch\n",
    "            for X, y, desc in self.sets:\n",
    "                self.evaluate(X, y, logs, desc, epoch)\n",
    "        else:\n",
    "            print(f\"\\n{ ', '.join([k + ': ' + f'{v:.3f}' for k,v in logs.items()]) }\")\n",
    "\n",
    "    def evaluate(self, X, y, logs, desc, epoch):\n",
    "        # Predict\n",
    "        y_score = self.model.predict(X)\n",
    "        y_score_neg = y_score * -1  # lower distance means closer to positive class\n",
    "\n",
    "        # Calc Metrics\n",
    "        roc_val = metrics.roc_auc_score(y, y_score_neg)\n",
    "        eer_val, thres = utils_eer(y, y_score_neg, True)\n",
    "        y_pred = np.where(y_score_neg > thres, 1, 0)\n",
    "        acc_val = metrics.accuracy_score(y, y_pred)\n",
    "        f1_val = metrics.f1_score(y, y_pred)\n",
    "\n",
    "        print(\n",
    "            f\"\\n{desc.upper()}: roc_auc: {roc_val:.4f}, \"\n",
    "            + f\"eer: {eer_val:.4f}, thres: {thres*-1:.4f} => \"\n",
    "            + f\"acc: {acc_val:.4f}, f1: {f1_val:.4f}\\n\"\n",
    "            + f\"{ ', '.join([k + ': ' + f'{v:.3f}' for k,v in logs.items()]) }\"\n",
    "        )\n",
    "\n",
    "        # Plot distances\n",
    "        mask = np.where(y == 1, True, False)\n",
    "        dist_positive = y_score[mask]\n",
    "        dist_negative = y_score[~mask]\n",
    "        plt = utils_plot_distance_hist(\n",
    "            dist_positive, dist_negative, thres * -1, desc=desc, margin=P.margin\n",
    "        )\n",
    "\n",
    "        if self.save_plots:\n",
    "            utils_save_plot(\n",
    "                plt,\n",
    "                REPORT_PATH\n",
    "                / f\"buech2019-siamese-{P.name.lower()}-epoch-{epoch+1}-{desc.lower()}.pdf\",\n",
    "            )\n",
    "\n",
    "        plt.show()"
   ]
  },
  {
   "cell_type": "code",
   "execution_count": 46,
   "metadata": {
    "nbpresent": {
     "id": "ad0731e9-be79-4851-ac42-42e1311afe44"
    }
   },
   "outputs": [],
   "source": [
    "def get_optimizer(name, lr=None, decay=None):\n",
    "    if name == \"sgd\":\n",
    "        lr = lr if lr != None else 0.01\n",
    "        decay = decay if decay != None else 0\n",
    "        optimizer = SGD(lr=lr, decay=decay)\n",
    "    elif name == \"adam\":\n",
    "        lr = lr if lr != None else 0.001\n",
    "        decay = decay if decay != None else 0\n",
    "        optimizer = Adam(lr=lr, decay=decay)\n",
    "    elif name == \"rmsprop\":\n",
    "        lr = lr if lr != None else 0.001\n",
    "        optimizer = RMSprop(lr=lr)\n",
    "    else:\n",
    "        raise BaseException(\"Error: Not a valid model name: 1d or 2d.\")\n",
    "    return optimizer"
   ]
  },
  {
   "cell_type": "code",
   "execution_count": 47,
   "metadata": {
    "nbpresent": {
     "id": "3a49ed05-5f18-48c9-b922-c27ac42e4a54"
    },
    "scrolled": true
   },
   "outputs": [
    {
     "name": "stdout",
     "output_type": "stream",
     "text": [
      "Using Model variant fcn...\n",
      "(125, 3)\n",
      "Train on 2496 samples, validate on 578 samples\n",
      "================================[ Initial State ]================================\n",
      "TRAIN: roc_auc: 0.4912, eer: 0.5060, thres: 0.0694 => acc: 0.4936, f1: 0.4936\n",
      "\n"
     ]
    },
    {
     "data": {
      "image/png": "[encoded data removed]",
      "text/plain": [
       "<Figure size 985.14x108 with 1 Axes>"
      ]
     },
     "metadata": {},
     "output_type": "display_data"
    },
    {
     "ename": "ValueError",
     "evalue": "Only one class present in y_true. ROC AUC score is not defined in that case.",
     "output_type": "error",
     "traceback": [
      "\u001b[0;31m---------------------------------------------------------------------------\u001b[0m",
      "\u001b[0;31mValueError\u001b[0m                                Traceback (most recent call last)",
      "\u001b[0;32m<ipython-input-47-7a47b61c9135>\u001b[0m in \u001b[0;36m<module>\u001b[0;34m\u001b[0m\n\u001b[1;32m     17\u001b[0m     \u001b[0mverbose\u001b[0m\u001b[0;34m=\u001b[0m\u001b[0;36m1\u001b[0m\u001b[0;34m,\u001b[0m\u001b[0;34m\u001b[0m\u001b[0;34m\u001b[0m\u001b[0m\n\u001b[1;32m     18\u001b[0m     \u001b[0mvalidation_data\u001b[0m\u001b[0;34m=\u001b[0m\u001b[0;34m(\u001b[0m\u001b[0mX_valid\u001b[0m\u001b[0;34m,\u001b[0m \u001b[0my_valid\u001b[0m\u001b[0;34m)\u001b[0m\u001b[0;34m,\u001b[0m\u001b[0;34m\u001b[0m\u001b[0;34m\u001b[0m\u001b[0m\n\u001b[0;32m---> 19\u001b[0;31m     \u001b[0mcallbacks\u001b[0m\u001b[0;34m=\u001b[0m\u001b[0;34m[\u001b[0m\u001b[0mMetricsCallback\u001b[0m\u001b[0;34m(\u001b[0m\u001b[0;34m(\u001b[0m\u001b[0mX_valid\u001b[0m\u001b[0;34m,\u001b[0m \u001b[0my_valid\u001b[0m\u001b[0;34m,\u001b[0m \u001b[0mX_train\u001b[0m\u001b[0;34m,\u001b[0m \u001b[0my_train\u001b[0m\u001b[0;34m)\u001b[0m\u001b[0;34m,\u001b[0m \u001b[0mepoch_evaluate_freq\u001b[0m\u001b[0;34m=\u001b[0m\u001b[0;36m5\u001b[0m\u001b[0;34m,\u001b[0m \u001b[0msave_plots\u001b[0m\u001b[0;34m=\u001b[0m\u001b[0;32mTrue\u001b[0m\u001b[0;34m)\u001b[0m\u001b[0;34m]\u001b[0m\u001b[0;34m,\u001b[0m\u001b[0;34m\u001b[0m\u001b[0;34m\u001b[0m\u001b[0m\n\u001b[0m\u001b[1;32m     20\u001b[0m )\n\u001b[1;32m     21\u001b[0m \u001b[0;34m\u001b[0m\u001b[0m\n",
      "\u001b[0;32m~/.local/lib/python3.6/site-packages/keras/engine/training.py\u001b[0m in \u001b[0;36mfit\u001b[0;34m(self, x, y, batch_size, epochs, verbose, callbacks, validation_split, validation_data, shuffle, class_weight, sample_weight, initial_epoch, steps_per_epoch, validation_steps, **kwargs)\u001b[0m\n\u001b[1;32m   1037\u001b[0m                                         \u001b[0minitial_epoch\u001b[0m\u001b[0;34m=\u001b[0m\u001b[0minitial_epoch\u001b[0m\u001b[0;34m,\u001b[0m\u001b[0;34m\u001b[0m\u001b[0;34m\u001b[0m\u001b[0m\n\u001b[1;32m   1038\u001b[0m                                         \u001b[0msteps_per_epoch\u001b[0m\u001b[0;34m=\u001b[0m\u001b[0msteps_per_epoch\u001b[0m\u001b[0;34m,\u001b[0m\u001b[0;34m\u001b[0m\u001b[0;34m\u001b[0m\u001b[0m\n\u001b[0;32m-> 1039\u001b[0;31m                                         validation_steps=validation_steps)\n\u001b[0m\u001b[1;32m   1040\u001b[0m \u001b[0;34m\u001b[0m\u001b[0m\n\u001b[1;32m   1041\u001b[0m     def evaluate(self, x=None, y=None,\n",
      "\u001b[0;32m~/.local/lib/python3.6/site-packages/keras/engine/training_arrays.py\u001b[0m in \u001b[0;36mfit_loop\u001b[0;34m(model, f, ins, out_labels, batch_size, epochs, verbose, callbacks, val_f, val_ins, shuffle, callback_metrics, initial_epoch, steps_per_epoch, validation_steps)\u001b[0m\n\u001b[1;32m    125\u001b[0m         \u001b[0;34m'metrics'\u001b[0m\u001b[0;34m:\u001b[0m \u001b[0mcallback_metrics\u001b[0m \u001b[0;32mor\u001b[0m \u001b[0;34m[\u001b[0m\u001b[0;34m]\u001b[0m\u001b[0;34m,\u001b[0m\u001b[0;34m\u001b[0m\u001b[0;34m\u001b[0m\u001b[0m\n\u001b[1;32m    126\u001b[0m     })\n\u001b[0;32m--> 127\u001b[0;31m     \u001b[0mcallbacks\u001b[0m\u001b[0;34m.\u001b[0m\u001b[0mon_train_begin\u001b[0m\u001b[0;34m(\u001b[0m\u001b[0;34m)\u001b[0m\u001b[0;34m\u001b[0m\u001b[0;34m\u001b[0m\u001b[0m\n\u001b[0m\u001b[1;32m    128\u001b[0m     \u001b[0mcallback_model\u001b[0m\u001b[0;34m.\u001b[0m\u001b[0mstop_training\u001b[0m \u001b[0;34m=\u001b[0m \u001b[0;32mFalse\u001b[0m\u001b[0;34m\u001b[0m\u001b[0;34m\u001b[0m\u001b[0m\n\u001b[1;32m    129\u001b[0m     \u001b[0;32mfor\u001b[0m \u001b[0mcbk\u001b[0m \u001b[0;32min\u001b[0m \u001b[0mcallbacks\u001b[0m\u001b[0;34m:\u001b[0m\u001b[0;34m\u001b[0m\u001b[0;34m\u001b[0m\u001b[0m\n",
      "\u001b[0;32m~/.local/lib/python3.6/site-packages/keras/callbacks.py\u001b[0m in \u001b[0;36mon_train_begin\u001b[0;34m(self, logs)\u001b[0m\n\u001b[1;32m    130\u001b[0m         \u001b[0mlogs\u001b[0m \u001b[0;34m=\u001b[0m \u001b[0mlogs\u001b[0m \u001b[0;32mor\u001b[0m \u001b[0;34m{\u001b[0m\u001b[0;34m}\u001b[0m\u001b[0;34m\u001b[0m\u001b[0;34m\u001b[0m\u001b[0m\n\u001b[1;32m    131\u001b[0m         \u001b[0;32mfor\u001b[0m \u001b[0mcallback\u001b[0m \u001b[0;32min\u001b[0m \u001b[0mself\u001b[0m\u001b[0;34m.\u001b[0m\u001b[0mcallbacks\u001b[0m\u001b[0;34m:\u001b[0m\u001b[0;34m\u001b[0m\u001b[0;34m\u001b[0m\u001b[0m\n\u001b[0;32m--> 132\u001b[0;31m             \u001b[0mcallback\u001b[0m\u001b[0;34m.\u001b[0m\u001b[0mon_train_begin\u001b[0m\u001b[0;34m(\u001b[0m\u001b[0mlogs\u001b[0m\u001b[0;34m)\u001b[0m\u001b[0;34m\u001b[0m\u001b[0;34m\u001b[0m\u001b[0m\n\u001b[0m\u001b[1;32m    133\u001b[0m \u001b[0;34m\u001b[0m\u001b[0m\n\u001b[1;32m    134\u001b[0m     \u001b[0;32mdef\u001b[0m \u001b[0mon_train_end\u001b[0m\u001b[0;34m(\u001b[0m\u001b[0mself\u001b[0m\u001b[0;34m,\u001b[0m \u001b[0mlogs\u001b[0m\u001b[0;34m=\u001b[0m\u001b[0;32mNone\u001b[0m\u001b[0;34m)\u001b[0m\u001b[0;34m:\u001b[0m\u001b[0;34m\u001b[0m\u001b[0;34m\u001b[0m\u001b[0m\n",
      "\u001b[0;32m<ipython-input-45-5045b55804eb>\u001b[0m in \u001b[0;36mon_train_begin\u001b[0;34m(self, logs)\u001b[0m\n\u001b[1;32m     32\u001b[0m         \u001b[0mprint\u001b[0m\u001b[0;34m(\u001b[0m\u001b[0;36m32\u001b[0m \u001b[0;34m*\u001b[0m \u001b[0;34m\"=\"\u001b[0m \u001b[0;34m+\u001b[0m \u001b[0;34mf\"[ Initial State ]\"\u001b[0m \u001b[0;34m+\u001b[0m \u001b[0;36m32\u001b[0m \u001b[0;34m*\u001b[0m \u001b[0;34m\"=\"\u001b[0m\u001b[0;34m,\u001b[0m \u001b[0mend\u001b[0m\u001b[0;34m=\u001b[0m\u001b[0;34m\"\"\u001b[0m\u001b[0;34m)\u001b[0m\u001b[0;34m\u001b[0m\u001b[0;34m\u001b[0m\u001b[0m\n\u001b[1;32m     33\u001b[0m         \u001b[0;32mfor\u001b[0m \u001b[0mX\u001b[0m\u001b[0;34m,\u001b[0m \u001b[0my\u001b[0m\u001b[0;34m,\u001b[0m \u001b[0mdesc\u001b[0m \u001b[0;32min\u001b[0m \u001b[0mself\u001b[0m\u001b[0;34m.\u001b[0m\u001b[0msets\u001b[0m\u001b[0;34m:\u001b[0m\u001b[0;34m\u001b[0m\u001b[0;34m\u001b[0m\u001b[0m\n\u001b[0;32m---> 34\u001b[0;31m             \u001b[0mself\u001b[0m\u001b[0;34m.\u001b[0m\u001b[0mevaluate\u001b[0m\u001b[0;34m(\u001b[0m\u001b[0mX\u001b[0m\u001b[0;34m,\u001b[0m \u001b[0my\u001b[0m\u001b[0;34m,\u001b[0m \u001b[0mlogs\u001b[0m\u001b[0;34m,\u001b[0m \u001b[0mdesc\u001b[0m\u001b[0;34m,\u001b[0m \u001b[0;34m-\u001b[0m\u001b[0;36m1\u001b[0m\u001b[0;34m)\u001b[0m\u001b[0;34m\u001b[0m\u001b[0;34m\u001b[0m\u001b[0m\n\u001b[0m\u001b[1;32m     35\u001b[0m \u001b[0;34m\u001b[0m\u001b[0m\n\u001b[1;32m     36\u001b[0m     \u001b[0;32mdef\u001b[0m \u001b[0mon_train_end\u001b[0m\u001b[0;34m(\u001b[0m\u001b[0mself\u001b[0m\u001b[0;34m,\u001b[0m \u001b[0mlogs\u001b[0m\u001b[0;34m=\u001b[0m\u001b[0;34m{\u001b[0m\u001b[0;34m}\u001b[0m\u001b[0;34m)\u001b[0m\u001b[0;34m:\u001b[0m\u001b[0;34m\u001b[0m\u001b[0;34m\u001b[0m\u001b[0m\n",
      "\u001b[0;32m<ipython-input-45-5045b55804eb>\u001b[0m in \u001b[0;36mevaluate\u001b[0;34m(self, X, y, logs, desc, epoch)\u001b[0m\n\u001b[1;32m     53\u001b[0m \u001b[0;34m\u001b[0m\u001b[0m\n\u001b[1;32m     54\u001b[0m         \u001b[0;31m# Calc Metrics\u001b[0m\u001b[0;34m\u001b[0m\u001b[0;34m\u001b[0m\u001b[0;34m\u001b[0m\u001b[0m\n\u001b[0;32m---> 55\u001b[0;31m         \u001b[0mroc_val\u001b[0m \u001b[0;34m=\u001b[0m \u001b[0mmetrics\u001b[0m\u001b[0;34m.\u001b[0m\u001b[0mroc_auc_score\u001b[0m\u001b[0;34m(\u001b[0m\u001b[0my\u001b[0m\u001b[0;34m,\u001b[0m \u001b[0my_score_neg\u001b[0m\u001b[0;34m)\u001b[0m\u001b[0;34m\u001b[0m\u001b[0;34m\u001b[0m\u001b[0m\n\u001b[0m\u001b[1;32m     56\u001b[0m         \u001b[0meer_val\u001b[0m\u001b[0;34m,\u001b[0m \u001b[0mthres\u001b[0m \u001b[0;34m=\u001b[0m \u001b[0mutils_eer\u001b[0m\u001b[0;34m(\u001b[0m\u001b[0my\u001b[0m\u001b[0;34m,\u001b[0m \u001b[0my_score_neg\u001b[0m\u001b[0;34m,\u001b[0m \u001b[0;32mTrue\u001b[0m\u001b[0;34m)\u001b[0m\u001b[0;34m\u001b[0m\u001b[0;34m\u001b[0m\u001b[0m\n\u001b[1;32m     57\u001b[0m         \u001b[0my_pred\u001b[0m \u001b[0;34m=\u001b[0m \u001b[0mnp\u001b[0m\u001b[0;34m.\u001b[0m\u001b[0mwhere\u001b[0m\u001b[0;34m(\u001b[0m\u001b[0my_score_neg\u001b[0m \u001b[0;34m>\u001b[0m \u001b[0mthres\u001b[0m\u001b[0;34m,\u001b[0m \u001b[0;36m1\u001b[0m\u001b[0;34m,\u001b[0m \u001b[0;36m0\u001b[0m\u001b[0;34m)\u001b[0m\u001b[0;34m\u001b[0m\u001b[0;34m\u001b[0m\u001b[0m\n",
      "\u001b[0;32m~/.local/lib/python3.6/site-packages/sklearn/metrics/ranking.py\u001b[0m in \u001b[0;36mroc_auc_score\u001b[0;34m(y_true, y_score, average, sample_weight, max_fpr)\u001b[0m\n\u001b[1;32m    353\u001b[0m     return _average_binary_score(\n\u001b[1;32m    354\u001b[0m         \u001b[0m_binary_roc_auc_score\u001b[0m\u001b[0;34m,\u001b[0m \u001b[0my_true\u001b[0m\u001b[0;34m,\u001b[0m \u001b[0my_score\u001b[0m\u001b[0;34m,\u001b[0m \u001b[0maverage\u001b[0m\u001b[0;34m,\u001b[0m\u001b[0;34m\u001b[0m\u001b[0;34m\u001b[0m\u001b[0m\n\u001b[0;32m--> 355\u001b[0;31m         sample_weight=sample_weight)\n\u001b[0m\u001b[1;32m    356\u001b[0m \u001b[0;34m\u001b[0m\u001b[0m\n\u001b[1;32m    357\u001b[0m \u001b[0;34m\u001b[0m\u001b[0m\n",
      "\u001b[0;32m~/.local/lib/python3.6/site-packages/sklearn/metrics/base.py\u001b[0m in \u001b[0;36m_average_binary_score\u001b[0;34m(binary_metric, y_true, y_score, average, sample_weight)\u001b[0m\n\u001b[1;32m     74\u001b[0m \u001b[0;34m\u001b[0m\u001b[0m\n\u001b[1;32m     75\u001b[0m     \u001b[0;32mif\u001b[0m \u001b[0my_type\u001b[0m \u001b[0;34m==\u001b[0m \u001b[0;34m\"binary\"\u001b[0m\u001b[0;34m:\u001b[0m\u001b[0;34m\u001b[0m\u001b[0;34m\u001b[0m\u001b[0m\n\u001b[0;32m---> 76\u001b[0;31m         \u001b[0;32mreturn\u001b[0m \u001b[0mbinary_metric\u001b[0m\u001b[0;34m(\u001b[0m\u001b[0my_true\u001b[0m\u001b[0;34m,\u001b[0m \u001b[0my_score\u001b[0m\u001b[0;34m,\u001b[0m \u001b[0msample_weight\u001b[0m\u001b[0;34m=\u001b[0m\u001b[0msample_weight\u001b[0m\u001b[0;34m)\u001b[0m\u001b[0;34m\u001b[0m\u001b[0;34m\u001b[0m\u001b[0m\n\u001b[0m\u001b[1;32m     77\u001b[0m \u001b[0;34m\u001b[0m\u001b[0m\n\u001b[1;32m     78\u001b[0m     \u001b[0mcheck_consistent_length\u001b[0m\u001b[0;34m(\u001b[0m\u001b[0my_true\u001b[0m\u001b[0;34m,\u001b[0m \u001b[0my_score\u001b[0m\u001b[0;34m,\u001b[0m \u001b[0msample_weight\u001b[0m\u001b[0;34m)\u001b[0m\u001b[0;34m\u001b[0m\u001b[0;34m\u001b[0m\u001b[0m\n",
      "\u001b[0;32m~/.local/lib/python3.6/site-packages/sklearn/metrics/ranking.py\u001b[0m in \u001b[0;36m_binary_roc_auc_score\u001b[0;34m(y_true, y_score, sample_weight)\u001b[0m\n\u001b[1;32m    321\u001b[0m     \u001b[0;32mdef\u001b[0m \u001b[0m_binary_roc_auc_score\u001b[0m\u001b[0;34m(\u001b[0m\u001b[0my_true\u001b[0m\u001b[0;34m,\u001b[0m \u001b[0my_score\u001b[0m\u001b[0;34m,\u001b[0m \u001b[0msample_weight\u001b[0m\u001b[0;34m=\u001b[0m\u001b[0;32mNone\u001b[0m\u001b[0;34m)\u001b[0m\u001b[0;34m:\u001b[0m\u001b[0;34m\u001b[0m\u001b[0;34m\u001b[0m\u001b[0m\n\u001b[1;32m    322\u001b[0m         \u001b[0;32mif\u001b[0m \u001b[0mlen\u001b[0m\u001b[0;34m(\u001b[0m\u001b[0mnp\u001b[0m\u001b[0;34m.\u001b[0m\u001b[0munique\u001b[0m\u001b[0;34m(\u001b[0m\u001b[0my_true\u001b[0m\u001b[0;34m)\u001b[0m\u001b[0;34m)\u001b[0m \u001b[0;34m!=\u001b[0m \u001b[0;36m2\u001b[0m\u001b[0;34m:\u001b[0m\u001b[0;34m\u001b[0m\u001b[0;34m\u001b[0m\u001b[0m\n\u001b[0;32m--> 323\u001b[0;31m             raise ValueError(\"Only one class present in y_true. ROC AUC score \"\n\u001b[0m\u001b[1;32m    324\u001b[0m                              \"is not defined in that case.\")\n\u001b[1;32m    325\u001b[0m \u001b[0;34m\u001b[0m\u001b[0m\n",
      "\u001b[0;31mValueError\u001b[0m: Only one class present in y_true. ROC AUC score is not defined in that case."
     ]
    }
   ],
   "source": [
    "# Select model architecture\n",
    "model, basemodel = get_model(P.model_variant, P.window_size, P.feature_cols, P.filters)\n",
    "\n",
    "# Select Optimizer\n",
    "optimizer = get_optimizer(P.optimizer, P.optimizer_lr)\n",
    "\n",
    "# Compile\n",
    "warnings.filterwarnings(\"ignore\")\n",
    "model.compile(loss=k_contrastive_loss, optimizer=optimizer)\n",
    "\n",
    "# Train\n",
    "history = model.fit(\n",
    "    x=X_train,\n",
    "    y=y_train,\n",
    "    batch_size=P.batch_size,\n",
    "    epochs=P.epochs_max,\n",
    "    verbose=1,\n",
    "    validation_data=(X_valid, y_valid),\n",
    "    callbacks=[MetricsCallback((X_valid, y_valid, X_train, y_train), epoch_evaluate_freq=5, save_plots=True)],\n",
    ")\n",
    "\n",
    "print(\"Training History:\")\n",
    "plt = utils_plot_training_loss(history)\n",
    "utils_save_plot(\n",
    "    plt, REPORT_PATH / f\"buech2019-siamese-{P.name.lower()}-epoch-trainloss.pdf\"\n",
    ")\n",
    "plt.show()"
   ]
  },
  {
   "cell_type": "markdown",
   "metadata": {
    "nbpresent": {
     "id": "c9036ff1-f11a-4728-9692-f4d936a378c5"
    },
    "toc-hr-collapsed": true
   },
   "source": [
    "### 4.5 Check Distances <a id='4.5'>&nbsp;</a> "
   ]
  },
  {
   "cell_type": "code",
   "execution_count": null,
   "metadata": {
    "nbpresent": {
     "id": "8b7d0dd3-8623-4dd7-aa6f-65355467d5bc"
    }
   },
   "outputs": [],
   "source": [
    "# Predic validation set\n",
    "dists = model.predict(X_valid)\n",
    "\n",
    "# Stats\n",
    "print(f\"Mean distance: {dists.mean():.5f}\")\n",
    "print(f\"Max distance: {dists.max():.5f}\")\n",
    "print(f\"Min distance: {dists.min():.5f}\\n\")\n",
    "\n",
    "# Histrogram\n",
    "print(\"\\nHistogram of Pair Distances:\")\n",
    "eer_val, thres = utils_eer(y_valid, dists, True)\n",
    "mask = np.where(y_valid == 1, True, False)\n",
    "dist_positive = dists[mask]\n",
    "dist_negative = dists[~mask]\n",
    "plt = utils_plot_distance_hist(dist_positive, dist_negative, thres, \"Valid\")\n",
    "plt.show()"
   ]
  },
  {
   "cell_type": "markdown",
   "metadata": {
    "nbpresent": {
     "id": "ca6e8c4a-47d1-4244-91fe-835f3eaaa84e"
    }
   },
   "source": [
    "### 4.6 Rebuild and train to optimal Epoch  <a id='4.6'>&nbsp;</a> \n",
    "Now, that we know the learning curve, we can rebuild the model and train it until the best Epoch.\n",
    "\n",
    "Also, we will include the validation data to have more training data. \n",
    "\n",
    "**Note:** This also means, that the training metrics are not valid anymore, because we don't have any validation data left to test against..."
   ]
  },
  {
   "cell_type": "code",
   "execution_count": null,
   "metadata": {
    "nbpresent": {
     "id": "21059070-5b34-4390-9602-0e23e5925fb2"
    }
   },
   "outputs": [],
   "source": [
    "# Concat train & valid data\n",
    "X_train_valid = [[], []]\n",
    "X_train_valid[0] = np.vstack([X_train[0], X_valid[0]])\n",
    "X_train_valid[1] = np.vstack([X_train[1], X_valid[1]])\n",
    "y_train_valid = np.hstack([y_train, y_valid])\n",
    "\n",
    "# Select model architecture\n",
    "model, basemodel = get_model(P.model_variant, P.window_size, P.feature_cols, P.filters)\n",
    "\n",
    "# Select Optimizer\n",
    "optimizer = get_optimizer(P.optimizer, P.optimizer_lr)\n",
    "    \n",
    "# Compile\n",
    "model.compile(loss=k_contrastive_loss, optimizer=optimizer)\n",
    "\n",
    "# Train\n",
    "history = model.fit(\n",
    "    x=X_train_valid,\n",
    "    y=y_train_valid,\n",
    "    batch_size=P.batch_size,\n",
    "    epochs=P.epochs_best,\n",
    "    verbose=0,\n",
    "    callbacks=[MetricsCallback((None, None, X_train, y_train), epoch_evaluate_freq=10, save_plots=False)],\n",
    ")"
   ]
  },
  {
   "cell_type": "markdown",
   "metadata": {
    "nbpresent": {
     "id": "156b2cb0-998a-464b-928a-e297dd143d5e"
    }
   },
   "source": [
    "### 4.7 Cache model <a id='4.7'>&nbsp;</a> "
   ]
  },
  {
   "cell_type": "code",
   "execution_count": null,
   "metadata": {
    "nbpresent": {
     "id": "8ecfb034-13e8-4509-852a-7b2c2a647021"
    }
   },
   "outputs": [],
   "source": [
    "model.save(str((OUTPUT_PATH / f\"{P.name}_model.h5\").resolve()))"
   ]
  },
  {
   "cell_type": "code",
   "execution_count": null,
   "metadata": {
    "nbpresent": {
     "id": "143981c8-1ab3-4d86-bcec-be35e74b29ba"
    }
   },
   "outputs": [],
   "source": [
    "# Clean Memory\n",
    "#%reset_selective -f df_\n",
    "#%reset_selective -f X_\n",
    "#%reset_selective -f y_"
   ]
  },
  {
   "cell_type": "markdown",
   "metadata": {
    "nbpresent": {
     "id": "3d430318-df4e-4779-824b-58497f7e27f3"
    },
    "toc-hr-collapsed": false
   },
   "source": [
    "## 5. Visualize Deep Features <a id='5'>&nbsp;</a> "
   ]
  },
  {
   "cell_type": "markdown",
   "metadata": {
    "nbpresent": {
     "id": "dd33c9e7-debd-417c-a768-0e9241436bba"
    }
   },
   "source": [
    "### 5.1 Load cached Data <a id='5.1'>&nbsp;</a> "
   ]
  },
  {
   "cell_type": "code",
   "execution_count": null,
   "metadata": {
    "nbpresent": {
     "id": "87016a7c-4f2a-4620-9605-8ea8bfdb0347"
    }
   },
   "outputs": [],
   "source": [
    "#df_siamese_valid = pd.read_msgpack(OUTPUT_PATH / \"df_siamese_valid.msg\")\n",
    "#df_siamese_train = pd.read_msgpack(OUTPUT_PATH / \"df_siamese_train.msg\")\n",
    "#df_ocsvm_train_valid = pd.read_msgpack(OUTPUT_PATH / \"df_ocsvm_train_valid.msg\")\n",
    "\n",
    "\n",
    "df_siamese_valid = pd.read_parquet('df_siamese_valid.parquet.gzip') \n",
    "df_siamese_train = pd.read_parquet('df_siamese_train.parquet.gzip') \n",
    "df_ocsvm_train_valid = pd.read_parquet('df_ocsvm_train_valid.parquet.gzip') "
   ]
  },
  {
   "cell_type": "markdown",
   "metadata": {
    "nbpresent": {
     "id": "b80ee4c8-18a2-4001-b3ef-1c62789189f5"
    }
   },
   "source": [
    "### 5.2 Extract CNN from Siamese Model <a id='5.2'>&nbsp;</a> \n",
    "I do this by redirecting inputs and outputs.\n",
    "\n",
    "However, the network still needs a pair as input (I wasn't able to change this). This slows down a little bit the prediction (as the input is predicted twice), but doesn't change the results."
   ]
  },
  {
   "cell_type": "code",
   "execution_count": null,
   "metadata": {
    "nbpresent": {
     "id": "6028f086-3b24-451b-8efb-e563854c4270"
    }
   },
   "outputs": [],
   "source": [
    "def load_deep_feature_model(model_path):\n",
    "    # Copy of function from above. It's just more convenient for partially \n",
    "    # executing the notebook.\n",
    "    def k_contrastive_loss(y_true, dist):\n",
    "        \"\"\"Contrastive loss from Hadsell-et-al.'06\n",
    "        http://yann.lecun.com/exdb/publis/pdf/hadsell-chopra-lecun-06.pdf\n",
    "        \"\"\"\n",
    "        margin = P.margin\n",
    "        return K.mean(\n",
    "            y_true * K.square(dist)\n",
    "            + (1 - y_true) * K.square(K.maximum(margin - dist, 0))\n",
    "        )\n",
    "    \n",
    "    # Load Trained Siamese Network\n",
    "    model = load_model(\n",
    "        str(model_path.resolve()),\n",
    "        custom_objects={\"k_contrastive_loss\": k_contrastive_loss},\n",
    "    )\n",
    "\n",
    "    # Extract one of the child networks\n",
    "    deep_feature_model = Model(\n",
    "        inputs=model.get_input_at(0),  # get_layer(\"left_inputs\").input,\n",
    "        outputs=model.get_layer(\"basemodel\").get_output_at(1),\n",
    "    )\n",
    "    \n",
    "    return deep_feature_model"
   ]
  },
  {
   "cell_type": "code",
   "execution_count": null,
   "metadata": {
    "nbpresent": {
     "id": "9ac27031-7e26-49f6-9721-5a7248dcd2bc"
    }
   },
   "outputs": [],
   "source": [
    "deep_feature_model = load_deep_feature_model(OUTPUT_PATH / f\"{P.name}_model.h5\")\n",
    "deep_feature_model.summary()"
   ]
  },
  {
   "cell_type": "markdown",
   "metadata": {
    "nbpresent": {
     "id": "e614050c-ed44-48ba-8e04-9fbeb64c0850"
    },
    "toc-hr-collapsed": true
   },
   "source": [
    "### 5.3 Test Generation of Deep Features <a id='5.3'>&nbsp;</a> "
   ]
  },
  {
   "cell_type": "code",
   "execution_count": null,
   "metadata": {
    "nbpresent": {
     "id": "7508b28d-04a9-4a71-a715-243fc334b5c7"
    }
   },
   "outputs": [],
   "source": [
    "def prep_X_y_single(df):\n",
    "    X = np.stack(list(df[\"X\"].values))\n",
    "    y = df[\"label\"].values\n",
    "    return X, y"
   ]
  },
  {
   "cell_type": "code",
   "execution_count": null,
   "metadata": {
    "nbpresent": {
     "id": "91402e40-2f32-49f5-b8c9-19ad30c2c3ce"
    }
   },
   "outputs": [],
   "source": [
    "def transform_to_sample_by_subject(df):\n",
    "    sample_by_subject = []\n",
    "    df[\"label\"] = 1\n",
    "    for subj in df[\"subject\"].unique():\n",
    "        df_subj = df[df[\"subject\"] == subj]\n",
    "        X_sub, y_sub = prep_X_y_single(df_subj)\n",
    "        sample_by_subject.append((X_sub, y_sub, subj))\n",
    "    return sample_by_subject"
   ]
  },
  {
   "cell_type": "markdown",
   "metadata": {
    "nbpresent": {
     "id": "bb7067c8-6433-4d3f-b7d7-abc317875349"
    }
   },
   "source": [
    "#### Select subset (for plotting) and transform features"
   ]
  },
  {
   "cell_type": "code",
   "execution_count": null,
   "metadata": {
    "nbpresent": {
     "id": "90268cda-360e-49a3-b414-166c848687ff"
    }
   },
   "outputs": [],
   "source": [
    "# Concat Valid & Train (both were used for last Training)\n",
    "df_train_temp = pd.concat([df_siamese_valid, df_siamese_train])\n",
    "df_test_temp = df_ocsvm_train_valid\n",
    "\n",
    "# Select data from 20 subjects of the TRAINING SET\n",
    "random.seed(SEED)\n",
    "ten_subjects = random.sample(df_train_temp[\"subject\"].unique().tolist(), 20)\n",
    "df_train_temp = df_train_temp[df_train_temp[\"subject\"].isin(ten_subjects)].copy()\n",
    "df_train_temp = df_train_temp.groupby(\"subject\").apply(lambda x: x.sample(n=300, random_state=SEED))  # Plot only subset of samples\n",
    "\n",
    "# Select data from 10 subjects of the TEST SET (not included in training)\n",
    "random.seed(SEED)\n",
    "ten_subjects = random.sample(df_test_temp[\"subject\"].unique().tolist(), 10)\n",
    "df_test_temp = df_test_temp[df_ocsvm_train_valid[\"subject\"].isin(ten_subjects)].copy()\n",
    "df_test_temp = df_test_temp.groupby(\"subject\").apply(lambda x: x.sample(n=300, random_state=SEED))  # Plot only subset of samples\n",
    "\n",
    "# Transform Samples\n",
    "samples_train = transform_to_sample_by_subject(df_train_temp)\n",
    "samples_test = transform_to_sample_by_subject(df_test_temp)\n",
    "\n",
    "print(f\"First subject: {samples_train[0][2]}\")\n",
    "print(f\"y shape: {samples_train[0][1].shape}\")\n",
    "print(f\"X shape: {samples_train[0][0].shape}\")"
   ]
  },
  {
   "cell_type": "markdown",
   "metadata": {
    "nbpresent": {
     "id": "d61eb20a-c979-46e3-a516-1ac2e2d0e9cd"
    }
   },
   "source": [
    "#### Predict Deep Features"
   ]
  },
  {
   "cell_type": "code",
   "execution_count": null,
   "metadata": {
    "nbpresent": {
     "id": "92974c1f-c98d-400a-9e91-1b928d903e12"
    }
   },
   "outputs": [],
   "source": [
    "deep_features_train = None\n",
    "for X, y, subj in samples_train:  \n",
    "    if P.model_variant == \"2d\":\n",
    "        X = X.reshape((*X.shape, 1))\n",
    "    pred = deep_feature_model.predict([X, X])\n",
    "    df_features = pd.DataFrame(pred)\n",
    "    df_features[\"subject\"] = subj\n",
    "    deep_features_train = pd.concat([deep_features_train, df_features])\n",
    "        \n",
    "deep_features_test = None\n",
    "for X, y, subj in samples_test:  \n",
    "    if P.model_variant == \"2d\":\n",
    "        X = X.reshape((*X.shape, 1))\n",
    "    pred = deep_feature_model.predict([X, X])\n",
    "    df_features = pd.DataFrame(pred)\n",
    "    df_features[\"subject\"] = subj\n",
    "    deep_features_test = pd.concat([deep_features_test, df_features])\n",
    "        \n",
    "display(deep_features_train.head(3))\n",
    "display(deep_features_test.head(3))"
   ]
  },
  {
   "cell_type": "markdown",
   "metadata": {
    "nbpresent": {
     "id": "9a5ca719-8288-4029-aa18-edd0382b1069"
    }
   },
   "source": [
    "### 5.4 Visualize in 2D using PCA <a id='5.4'>&nbsp;</a> "
   ]
  },
  {
   "cell_type": "code",
   "execution_count": null,
   "metadata": {
    "nbpresent": {
     "id": "0e88e1b6-828d-4e54-b8b8-3d23034d8458"
    }
   },
   "outputs": [],
   "source": [
    "def plot_pca(df):\n",
    "    # PCA\n",
    "    pca = PCA(n_components=2)\n",
    "    deep_transformed = pca.fit_transform(df.drop(columns=[\"subject\"]).values)\n",
    "\n",
    "    # Create df with data needed for chart only\n",
    "    df_viz = df.copy()\n",
    "    df_viz[\"PCA0\"] = deep_transformed[:, 0]\n",
    "    df_viz[\"PCA1\"] = deep_transformed[:, 1]\n",
    "    df_viz.drop(\n",
    "        columns=[c for c in df_viz.columns if c not in [\"PCA0\", \"PCA1\", \"subject\"]]\n",
    "    )\n",
    "\n",
    "    # Generate color index for every subject\n",
    "    df_viz[\"Subject\"] = pd.Categorical(df_viz[\"subject\"])\n",
    "    df_viz[\"colors\"] = df_viz[\"Subject\"].cat.codes\n",
    "\n",
    "    if len(df_viz[\"Subject\"].unique()) <= 10:\n",
    "        pal = sns.color_palette(\"tab10\")\n",
    "    else:\n",
    "        pal = sns.color_palette(\"tab20\")\n",
    "        \n",
    "    # Actual plot\n",
    "    fig = plt.figure(figsize=(5.473 / 1.5, 5.473 / 2), dpi=180)\n",
    "    sns.scatterplot(\n",
    "        x=\"PCA0\",\n",
    "        y=\"PCA1\",\n",
    "        data=df_viz,\n",
    "        hue=\"Subject\",\n",
    "        legend=\"full\",\n",
    "        palette=pal,\n",
    "        s=2,\n",
    "        linewidth=0,\n",
    "        alpha=0.6,\n",
    "    )\n",
    "    plt.legend(bbox_to_anchor=(1.05, 1), loc=2, borderaxespad=0, fontsize=5)\n",
    "    fig.tight_layout()\n",
    "    return plt"
   ]
  },
  {
   "cell_type": "code",
   "execution_count": null,
   "metadata": {
    "nbpresent": {
     "id": "c121d806-e388-4cfd-aecf-7b7eec2b6d21"
    }
   },
   "outputs": [],
   "source": [
    "plot_pca(deep_features_train)\n",
    "utils_save_plot(plt, REPORT_PATH / f\"buech2019-siamese-{P.name.lower()}-pca-train.pdf\")"
   ]
  },
  {
   "cell_type": "code",
   "execution_count": null,
   "metadata": {
    "nbpresent": {
     "id": "271c03c8-0193-4ac4-b375-7c72bd17aecc"
    }
   },
   "outputs": [],
   "source": [
    "plot_pca(deep_features_test)\n",
    "utils_save_plot(plt, REPORT_PATH / f\"buech2019-siamese-{P.name.lower()}-pca-test.pdf\")"
   ]
  },
  {
   "cell_type": "code",
   "execution_count": null,
   "metadata": {
    "nbpresent": {
     "id": "436b990b-711a-4856-9e28-708a67df954a"
    }
   },
   "outputs": [],
   "source": [
    "### Cleanup memory\n",
    "%reset_selective -f df_\n",
    "%reset_selective -f X_\n",
    "%reset_selective -f y_\n",
    "%reset_selective -f pca"
   ]
  },
  {
   "cell_type": "markdown",
   "metadata": {
    "nbpresent": {
     "id": "ed8e571d-3308-4acb-abec-6e681d242ced"
    },
    "toc-hr-collapsed": false
   },
   "source": [
    "## 6. OCSVM <a id='6'>&nbsp;</a> "
   ]
  },
  {
   "cell_type": "markdown",
   "metadata": {
    "nbpresent": {
     "id": "99a8a135-7013-43eb-be43-70986b68b0b9"
    }
   },
   "source": [
    "### 6.1 Load cached Data <a id='6.1'>&nbsp;</a> "
   ]
  },
  {
   "cell_type": "code",
   "execution_count": null,
   "metadata": {
    "nbpresent": {
     "id": "cca40809-d287-49d6-a1fe-ca077b1d2299"
    }
   },
   "outputs": [],
   "source": [
    "#df_ocsvm_train_valid = pd.read_msgpack(OUTPUT_PATH / \"df_ocsvm_train_valid.msg\")\n",
    "\n",
    "df_ocsvm_train_valid = pd.read_parquet('df_ocsvm_train_valid.parquet.gzip') \n",
    "\n",
    "df_ocsvm_train_valid.head()"
   ]
  },
  {
   "cell_type": "markdown",
   "metadata": {
    "nbpresent": {
     "id": "960f4f40-128d-41f3-86d5-e007c820ff59"
    }
   },
   "source": [
    "### 6.2 Load trained Siamese Model <a id='6.2'>&nbsp;</a> "
   ]
  },
  {
   "cell_type": "markdown",
   "metadata": {
    "nbpresent": {
     "id": "1095700e-65b6-4326-b95a-ccdfdbae5c76"
    }
   },
   "source": [
    "**Helper methods to load model:**"
   ]
  },
  {
   "cell_type": "code",
   "execution_count": null,
   "metadata": {
    "nbpresent": {
     "id": "087e613a-57d3-4504-99a0-49a72bec290c"
    }
   },
   "outputs": [],
   "source": [
    "def load_deep_feature_model(model_path):\n",
    "    warnings.filterwarnings(\"ignore\")  # Silence depr. warnings\n",
    "\n",
    "    # Copy of function from above. It's just more convenient for partially executing the notebook.\n",
    "    def k_contrastive_loss(y_true, dist):\n",
    "        \"\"\"Contrastive loss from Hadsell-et-al.'06\n",
    "        http://yann.lecun.com/exdb/publis/pdf/hadsell-chopra-lecun-06.pdf\n",
    "        \"\"\"\n",
    "        margin = P.margin\n",
    "        return K.mean(\n",
    "            y_true * K.square(dist)\n",
    "            + (1 - y_true) * K.square(K.maximum(margin - dist, 0))\n",
    "        )\n",
    "\n",
    "    # Load Trained Siamese Network\n",
    "    model = load_model(\n",
    "        str(model_path.resolve()),\n",
    "        custom_objects={\"k_contrastive_loss\": k_contrastive_loss},\n",
    "    )\n",
    "\n",
    "    # Extract one of the child networks\n",
    "    deep_feature_model = Model(\n",
    "        inputs=model.get_input_at(0),  # get_layer(\"left_inputs\").input,\n",
    "        outputs=model.get_layer(\"basemodel\").get_output_at(1),\n",
    "    )\n",
    "\n",
    "    return deep_feature_model"
   ]
  },
  {
   "cell_type": "markdown",
   "metadata": {
    "nbpresent": {
     "id": "095254f0-fbbb-46c6-a299-a11b8104fa50"
    }
   },
   "source": [
    "**Sanity Check:**"
   ]
  },
  {
   "cell_type": "markdown",
   "metadata": {
    "nbpresent": {
     "id": "a1eafebe-e6a2-429b-85e5-6a1230fb8b06"
    }
   },
   "source": [
    "### 6.3 Search for Parameters <a id='6.3'>&nbsp;</a> "
   ]
  },
  {
   "cell_type": "code",
   "execution_count": null,
   "metadata": {
    "nbpresent": {
     "id": "2dbd56f5-a0e5-44d6-ad45-e6189ce7cf53"
    }
   },
   "outputs": [],
   "source": [
    "df_ocsvm_train_valid.head()"
   ]
  },
  {
   "cell_type": "code",
   "execution_count": null,
   "metadata": {
    "nbpresent": {
     "id": "ea2875b5-ee04-4752-858b-19b329fa376c"
    }
   },
   "outputs": [],
   "source": [
    "param_dist = {\"gamma\": np.logspace(-3, 3), \"nu\": np.linspace(0.0001, 0.3)}\n",
    "\n",
    "# Load Siamese CNN Model\n",
    "deep_feature_model = load_deep_feature_model(OUTPUT_PATH / f\"{P.name}_model.h5\")\n",
    "\n",
    "df_results = None  # Will be filled with randomsearch scores\n",
    "\n",
    "for run in tqdm(range(3)):\n",
    "    for df_cv_scenarios, owner, impostors in tqdm(\n",
    "        utils_generate_cv_scenarios(\n",
    "            df_ocsvm_train_valid,\n",
    "            samples_per_subject_train=P.samples_per_subject_train,\n",
    "            samples_per_subject_test=P.samples_per_subject_test,\n",
    "            seed=SEED + run,\n",
    "            scaler=P.scaler,\n",
    "            scaler_global=P.scaler_global,\n",
    "            scaler_scope=P.scaler_scope,\n",
    "            deep_model=deep_feature_model,\n",
    "            model_variant=P.model_variant,\n",
    "            feature_cols=P.feature_cols,\n",
    "        ),\n",
    "        desc=\"Owner\",\n",
    "        total=df_ocsvm_train_valid[\"subject\"].nunique(),\n",
    "        leave=False,\n",
    "    ):\n",
    "\n",
    "        X = np.array(df_cv_scenarios[\"X\"].values.tolist())\n",
    "        y = df_cv_scenarios[\"label\"].values\n",
    "\n",
    "        train_valid_cv = utils_create_cv_splits(df_cv_scenarios[\"mask\"].values, SEED)\n",
    "\n",
    "        model = OneClassSVM(kernel=\"rbf\")\n",
    "\n",
    "        warnings.filterwarnings(\"ignore\")\n",
    "        random_search = RandomizedSearchCV(\n",
    "            model,\n",
    "            param_distributions=param_dist,\n",
    "            cv=train_valid_cv,\n",
    "            n_iter=80,\n",
    "            n_jobs=CORES,\n",
    "            refit=False,\n",
    "            scoring={\"eer\": utils_eer_scorer, \"accuracy\": \"accuracy\"},\n",
    "            verbose=0,\n",
    "            return_train_score=False,\n",
    "            iid=False,\n",
    "            error_score=np.nan,\n",
    "            random_state=SEED,\n",
    "        )\n",
    "\n",
    "        random_search.fit(X, y)\n",
    "\n",
    "        df_report = utils_cv_report(random_search, owner, impostors)\n",
    "        df_report[\"run\"] = run\n",
    "        df_results = pd.concat([df_results, df_report], sort=False)\n",
    "\n",
    "df_results.to_csv(OUTPUT_PATH / f\"{P.name}_random_search_results.csv\", index=False)"
   ]
  },
  {
   "cell_type": "markdown",
   "metadata": {
    "nbpresent": {
     "id": "3689ddaf-11e7-41c9-9537-d0b79485afed"
    },
    "toc-hr-collapsed": false
   },
   "source": [
    "### 6.4 Inspect Search Results <a id='6.4'>&nbsp;</a> \n",
    "**Raw Results & Stats:**"
   ]
  },
  {
   "cell_type": "code",
   "execution_count": null,
   "metadata": {
    "nbpresent": {
     "id": "8969e47a-54ce-43b3-a60c-4814f3837074"
    }
   },
   "outputs": [],
   "source": [
    "df_results = pd.read_csv(OUTPUT_PATH / f\"{P.name}_random_search_results.csv\")\n",
    "print(\"Best results for each owner:\")\n",
    "\n",
    "display(\n",
    "    df_results[df_results[\"rank_test_eer\"] <= 1][\n",
    "        [\n",
    "            \"owner\",\n",
    "            \"param_nu\",\n",
    "            \"param_gamma\",\n",
    "            \"rank_test_eer\",\n",
    "            \"mean_test_eer\",\n",
    "            \"std_test_eer\",\n",
    "            \"mean_test_accuracy\",\n",
    "            \"std_test_accuracy\",\n",
    "        ]\n",
    "    ].sort_values(\"mean_test_eer\").head(10)\n",
    ")\n",
    "\n",
    "print(\"\\n\\n\\nMost relevant statistics:\")\n",
    "display(\n",
    "    df_results[df_results[\"rank_test_eer\"] <= 1][\n",
    "        [\n",
    "            \"mean_fit_time\",\n",
    "            \"param_nu\",\n",
    "            \"param_gamma\",\n",
    "            \"mean_test_accuracy\",\n",
    "            \"std_test_accuracy\",\n",
    "            \"mean_test_eer\",\n",
    "            \"std_test_eer\",\n",
    "        ]\n",
    "    ].describe()\n",
    ")"
   ]
  },
  {
   "cell_type": "markdown",
   "metadata": {
    "nbpresent": {
     "id": "b769fcb8-8c53-45a9-9bf4-588517d52547"
    }
   },
   "source": [
    "**Plot parameters of top n of 30 results for every Owner:**"
   ]
  },
  {
   "cell_type": "code",
   "execution_count": null,
   "metadata": {
    "nbpresent": {
     "id": "9818fadd-b97a-4917-98b0-87743e2139d1"
    }
   },
   "outputs": [],
   "source": [
    "utils_plot_randomsearch_results(df_results, 1)\n",
    "utils_save_plot(plt, REPORT_PATH / f\"buech2019-siamese-{P.name.lower()}-parameters.pdf\")"
   ]
  },
  {
   "cell_type": "markdown",
   "metadata": {
    "nbpresent": {
     "id": "f6ce5288-7e4c-4c11-9f0c-ace6931f4cc1"
    }
   },
   "source": [
    "## 7. Testing <a id='7'>&nbsp;</a> "
   ]
  },
  {
   "cell_type": "markdown",
   "metadata": {
    "nbpresent": {
     "id": "09146013-4dc7-4c4c-a019-89bba21b0f90"
    }
   },
   "source": [
    "### 7.1 Load cached Data <a id='7.1'>&nbsp;</a> \n",
    "During testing, a split with different users than used for hyperparameter optimization is used:"
   ]
  },
  {
   "cell_type": "code",
   "execution_count": null,
   "metadata": {
    "nbpresent": {
     "id": "13668107-e01b-49ba-bcd2-adc54e177a24"
    }
   },
   "outputs": [],
   "source": [
    "df_ocsvm_train_test = pd.read_msgpack(OUTPUT_PATH / \"df_ocsvm_train_test.msg\")"
   ]
  },
  {
   "cell_type": "markdown",
   "metadata": {
    "nbpresent": {
     "id": "5e457d1a-1d00-4448-bb1e-0df5984042f7"
    }
   },
   "source": [
    "### 7.2 Evaluate Authentication Performance <a id='7.2'>&nbsp;</a> \n",
    "- Using Testing Split, Scenario Cross Validation, and multiple runs to lower impact of random session/sample selection."
   ]
  },
  {
   "cell_type": "code",
   "execution_count": null,
   "metadata": {
    "nbpresent": {
     "id": "98c0d2a6-e940-4490-ba7c-9dc66d0e2861"
    }
   },
   "outputs": [],
   "source": [
    "# Load Siamese CNN Model\n",
    "deep_feature_model = load_deep_feature_model(OUTPUT_PATH / f\"{P.name}_model.h5\")\n",
    "\n",
    "df_results = None  # Will be filled with cv scores\n",
    "for i in tqdm(range(5), desc=\"Run\", leave=False):  # Run whole test 5 times\n",
    "    for df_cv_scenarios, owner, impostors in tqdm(\n",
    "        utils_generate_cv_scenarios(\n",
    "            df_ocsvm_train_test,\n",
    "            samples_per_subject_train=P.samples_per_subject_train,\n",
    "            samples_per_subject_test=P.samples_per_subject_test,\n",
    "            seed=SEED,\n",
    "            scaler=P.scaler,\n",
    "            scaler_global=P.scaler_global,\n",
    "            scaler_scope=P.scaler_scope,\n",
    "            deep_model=deep_feature_model,\n",
    "            model_variant=P.model_variant,\n",
    "            feature_cols=P.feature_cols,\n",
    "        ),\n",
    "        desc=\"Owner\",\n",
    "        total=df_ocsvm_train_test[\"subject\"].nunique(),\n",
    "        leave=False,\n",
    "    ):\n",
    "\n",
    "        X = np.array(df_cv_scenarios[\"X\"].values.tolist())\n",
    "        y = df_cv_scenarios[\"label\"].values\n",
    "\n",
    "        train_test_cv = utils_create_cv_splits(df_cv_scenarios[\"mask\"].values, SEED)\n",
    "\n",
    "        model = OneClassSVM(kernel=\"rbf\", nu=P.ocsvm_nu, gamma=P.ocsvm_gamma)\n",
    "\n",
    "        warnings.filterwarnings(\"ignore\")\n",
    "        scores = cross_validate(\n",
    "            model,\n",
    "            X,\n",
    "            y,\n",
    "            cv=train_test_cv,\n",
    "            scoring={\"eer\": utils_eer_scorer, \"accuracy\": \"accuracy\"},\n",
    "            n_jobs=CORES,\n",
    "            verbose=0,\n",
    "            return_train_score=True,\n",
    "        )\n",
    "        df_score = pd.DataFrame(scores)\n",
    "        df_score[\"owner\"] = owner\n",
    "        df_score[\"train_eer\"] = df_score[\"train_eer\"].abs()  # Revert scorer's signflip\n",
    "        df_score[\"test_eer\"] = df_score[\"test_eer\"].abs()\n",
    "        df_results = pd.concat([df_results, df_score], axis=0)\n",
    "\n",
    "df_results.to_csv(OUTPUT_PATH / f\"{P.name}_test_results.csv\", index=False)\n",
    "df_results.head()"
   ]
  },
  {
   "cell_type": "markdown",
   "metadata": {
    "nbpresent": {
     "id": "df25b43c-cbb4-45d5-83cb-ca0d29efbf8a"
    }
   },
   "source": [
    "**Load Results from \"EER & Accuracy\" evaluation & prepare for plotting:**"
   ]
  },
  {
   "cell_type": "code",
   "execution_count": null,
   "metadata": {
    "nbpresent": {
     "id": "669fee7e-ad1f-47c5-8e34-50b686721e71"
    }
   },
   "outputs": [],
   "source": [
    "df_results = pd.read_csv(OUTPUT_PATH / f\"{P.name}_test_results.csv\")\n",
    "df_plot = df_results.rename(\n",
    "    columns={\"test_accuracy\": \"Test Accuracy\", \"test_eer\": \"Test EER\", \"owner\": \"Owner\"}\n",
    ").astype({\"Owner\": str})"
   ]
  },
  {
   "cell_type": "markdown",
   "metadata": {
    "nbpresent": {
     "id": "6b4b4a91-8c31-42d6-9a03-5314c241deff"
    }
   },
   "source": [
    "**Plot Distribution of Accuracy per subject:**"
   ]
  },
  {
   "cell_type": "code",
   "execution_count": null,
   "metadata": {
    "nbpresent": {
     "id": "baca1490-e75f-43d8-9b70-b48fd6c655c1"
    }
   },
   "outputs": [],
   "source": [
    "fig = utils_plot_acc_eer_dist(df_plot, \"Test Accuracy\")\n",
    "utils_save_plot(plt, REPORT_PATH / f\"buech2019-siamese-{P.name.lower()}-acc.pdf\")"
   ]
  },
  {
   "cell_type": "markdown",
   "metadata": {
    "nbpresent": {
     "id": "051670cd-6ba6-4f2f-87ca-e47241243fdd"
    }
   },
   "source": [
    "**Plot Distribution of EER per subject:**"
   ]
  },
  {
   "cell_type": "code",
   "execution_count": null,
   "metadata": {
    "nbpresent": {
     "id": "e07c9412-4617-4d75-b846-0bb346c06600"
    }
   },
   "outputs": [],
   "source": [
    "fig = utils_plot_acc_eer_dist(df_plot, \"Test EER\")\n",
    "utils_save_plot(plt, REPORT_PATH / f\"buech2019-siamese-{P.name.lower()}-eer.pdf\")"
   ]
  },
  {
   "cell_type": "markdown",
   "metadata": {
    "nbpresent": {
     "id": "622d5482-95b4-4740-a49a-b4662bfc5889"
    }
   },
   "source": [
    "### 7.3 Evaluate increasing Training Set Size (Training Delay) <a id='7.3'>&nbsp;</a> "
   ]
  },
  {
   "cell_type": "code",
   "execution_count": null,
   "metadata": {
    "nbpresent": {
     "id": "83057af0-4ffb-42a4-8acb-e0106c793e62"
    }
   },
   "outputs": [],
   "source": [
    "training_set_sizes = [1, 2, 3, 4, 10, 30, 60, 90, 125, 175, 250, 375]  # In samples\n",
    "\n",
    "deep_feature_model = load_deep_feature_model(OUTPUT_PATH / f\"{P.name}_model.h5\")\n",
    "\n",
    "df_results = None  # Will be filled with cv scores\n",
    "for i in tqdm(range(5), desc=\"Run\", leave=False):  # Run whole test 5 times\n",
    "    for n_train_samples in tqdm(training_set_sizes, desc=\"Train Size\", leave=False):\n",
    "        for df_cv_scenarios, owner, impostors in tqdm(\n",
    "            utils_generate_cv_scenarios(\n",
    "                df_ocsvm_train_test,\n",
    "                samples_per_subject_train=P.samples_per_subject_train,\n",
    "                samples_per_subject_test=P.samples_per_subject_test,\n",
    "                limit_train_samples=n_train_samples,  # samples overall\n",
    "                seed=SEED + i,\n",
    "                scaler=P.scaler,\n",
    "                scaler_global=P.scaler_global,\n",
    "                scaler_scope=P.scaler_scope,\n",
    "                deep_model=deep_feature_model,\n",
    "                model_variant=P.model_variant,\n",
    "                feature_cols=P.feature_cols,\n",
    "            ),\n",
    "            desc=\"Owner\",\n",
    "            total=df_ocsvm_train_test[\"subject\"].nunique(),\n",
    "            leave=False,\n",
    "        ):\n",
    "            X = np.array(df_cv_scenarios[\"X\"].values.tolist())\n",
    "            y = df_cv_scenarios[\"label\"].values\n",
    "\n",
    "            train_test_cv = utils_create_cv_splits(df_cv_scenarios[\"mask\"].values, SEED)\n",
    "\n",
    "            model = OneClassSVM(kernel=\"rbf\", nu=P.ocsvm_nu, gamma=P.ocsvm_gamma)\n",
    "\n",
    "            warnings.filterwarnings(\"ignore\")\n",
    "            scores = cross_validate(\n",
    "                model,\n",
    "                X,\n",
    "                y,\n",
    "                cv=train_test_cv,\n",
    "                scoring={\"eer\": utils_eer_scorer},\n",
    "                n_jobs=CORES,\n",
    "                verbose=0,\n",
    "                return_train_score=True,\n",
    "            )\n",
    "            df_score = pd.DataFrame(scores)\n",
    "            df_score[\"owner\"] = owner\n",
    "            df_score[\"train_samples\"] = n_train_samples\n",
    "            df_score[\"train_eer\"] = df_score[\n",
    "                \"train_eer\"\n",
    "            ].abs()  # Revert scorer's signflip\n",
    "            df_score[\"test_eer\"] = df_score[\"test_eer\"].abs()\n",
    "            df_results = pd.concat([df_results, df_score], axis=0)\n",
    "\n",
    "df_results.to_csv(OUTPUT_PATH / f\"{P.name}_train_delay_results.csv\", index=False)\n",
    "df_results.head()"
   ]
  },
  {
   "cell_type": "markdown",
   "metadata": {
    "nbpresent": {
     "id": "4e894b47-b180-4147-a100-fd6ec4b35118"
    }
   },
   "source": [
    "**Load Results from \"Training set size\" evaluation & prepare for plotting:**"
   ]
  },
  {
   "cell_type": "code",
   "execution_count": null,
   "metadata": {
    "nbpresent": {
     "id": "c70ba9ce-8850-4cc5-9eff-5c41f3c487a9"
    }
   },
   "outputs": [],
   "source": [
    "df_results = pd.read_csv(OUTPUT_PATH / f\"{P.name}_train_delay_results.csv\")\n",
    "df_plot = (\n",
    "    df_results[[\"test_eer\", \"owner\", \"train_samples\"]]\n",
    "    .groupby([\"owner\", \"train_samples\"], as_index=False)\n",
    "    .mean()\n",
    "    .astype({\"owner\": \"category\"})\n",
    "    .rename(\n",
    "        columns={\n",
    "            \"test_eer\": \"Test EER\",\n",
    "            \"owner\": \"Owner\",\n",
    "        }\n",
    "    )\n",
    ")\n",
    "df_plot[\"Training Data in Seconds\"] = df_plot[\"train_samples\"] * P.window_size / P.frequency"
   ]
  },
  {
   "cell_type": "markdown",
   "metadata": {
    "nbpresent": {
     "id": "dbff47ac-e0a2-497a-9c27-99de7a76f15f"
    }
   },
   "source": [
    "**Plot EER with increasing number of training samples:**"
   ]
  },
  {
   "cell_type": "code",
   "execution_count": null,
   "metadata": {
    "nbpresent": {
     "id": "b00ee2b3-0264-4685-bdc3-d086602daf29"
    }
   },
   "outputs": [],
   "source": [
    "utils_plot_training_delay(df_plot)\n",
    "utils_save_plot(plt, REPORT_PATH / f\"buech2019-siamese-{P.name.lower()}-train-size.pdf\")"
   ]
  },
  {
   "cell_type": "markdown",
   "metadata": {
    "nbpresent": {
     "id": "13e67659-43c7-4a9c-8302-c7529a6a7b80"
    }
   },
   "source": [
    "### 7.4 Evaluate increasing Test Set Sizes (Detection Delay)<a id='7.4'>&nbsp;</a> "
   ]
  },
  {
   "cell_type": "code",
   "execution_count": null,
   "metadata": {
    "nbpresent": {
     "id": "023409be-64c3-401d-a040-750052ee4caf"
    }
   },
   "outputs": [],
   "source": [
    "# Load Siamese CNN Model\n",
    "deep_feature_model = load_deep_feature_model(OUTPUT_PATH / f\"{P.name}_model.h5\")\n",
    "\n",
    "df_results = None  # Will be filled with cv scores\n",
    "for i in tqdm(range(50), desc=\"Run\", leave=False):  # Run whole test 5 times\n",
    "    for df_cv_scenarios, owner, impostors in tqdm(\n",
    "        utils_generate_cv_scenarios(\n",
    "            df_ocsvm_train_test,\n",
    "            samples_per_subject_train=P.samples_per_subject_train,\n",
    "            samples_per_subject_test=P.samples_per_subject_test,\n",
    "            limit_test_samples=1,  # Samples overall\n",
    "            seed=SEED + i,\n",
    "            scaler=P.scaler,\n",
    "            scaler_global=P.scaler_global,\n",
    "            scaler_scope=P.scaler_scope,\n",
    "            deep_model=deep_feature_model,\n",
    "            model_variant=P.model_variant,\n",
    "            feature_cols=P.feature_cols,\n",
    "        ),\n",
    "        desc=\"Owner\",\n",
    "        total=df_ocsvm_train_test[\"subject\"].nunique(),\n",
    "        leave=False,\n",
    "    ):\n",
    "        X = np.array(df_cv_scenarios[\"X\"].values.tolist())\n",
    "        y = df_cv_scenarios[\"label\"].values\n",
    "\n",
    "        train_test_cv = utils_create_cv_splits(df_cv_scenarios[\"mask\"].values, SEED)\n",
    "\n",
    "        model = OneClassSVM(kernel=\"rbf\", nu=P.ocsvm_nu, gamma=P.ocsvm_gamma)\n",
    "\n",
    "        warnings.filterwarnings(\"ignore\")\n",
    "        scores = cross_validate(\n",
    "            model,\n",
    "            X,\n",
    "            y,\n",
    "            cv=train_test_cv,\n",
    "            scoring={\"eer\": utils_eer_scorer},\n",
    "            n_jobs=CORES,\n",
    "            verbose=0,\n",
    "            return_train_score=True,\n",
    "        )\n",
    "        df_score = pd.DataFrame(scores)\n",
    "        df_score[\"owner\"] = owner\n",
    "        df_score[\"run\"] = i\n",
    "        df_score[\"train_eer\"] = df_score[\"train_eer\"].abs()  # Revert scorer's signflip\n",
    "        df_score[\"test_eer\"] = df_score[\"test_eer\"].abs()\n",
    "        df_results = pd.concat([df_results, df_score], axis=0)\n",
    "\n",
    "df_results.to_csv(OUTPUT_PATH / f\"{P.name}_detect_delay_results.csv\", index=False)\n",
    "df_results.head()"
   ]
  },
  {
   "cell_type": "markdown",
   "metadata": {
    "nbpresent": {
     "id": "e677138d-e130-410c-8f58-da66fe8098f4"
    }
   },
   "source": [
    "**Load Results from \"Detection Delay\" evaluation & prepare for plotting:**"
   ]
  },
  {
   "cell_type": "code",
   "execution_count": null,
   "metadata": {
    "nbpresent": {
     "id": "8e20c303-f3e8-4efe-a022-649f4fb8d8f4"
    }
   },
   "outputs": [],
   "source": [
    "df_results = pd.read_csv(OUTPUT_PATH / f\"{P.name}_detect_delay_results.csv\")\n",
    "df_results[\"owner\"] = df_results[\"owner\"].astype(str)\n",
    "df_plot = df_results.copy()"
   ]
  },
  {
   "cell_type": "markdown",
   "metadata": {
    "nbpresent": {
     "id": "f01f8bc4-3073-4022-8dd1-0deb5013bd14"
    }
   },
   "source": [
    "**Plot Expanding Mean EER and confidence interval:**"
   ]
  },
  {
   "cell_type": "code",
   "execution_count": null,
   "metadata": {
    "nbpresent": {
     "id": "0b3bee72-7dd3-4e8a-bb33-4aada3b2d8f7"
    }
   },
   "outputs": [],
   "source": [
    "utils_plot_detect_delay(df_plot, factor=P.window_size / P.frequency, xlim=160)\n",
    "utils_save_plot(\n",
    "    plt, REPORT_PATH / f\"buech2019-siamese-{P.name.lower()}-detection-delay.pdf\"\n",
    ")"
   ]
  },
  {
   "cell_type": "code",
   "execution_count": null,
   "metadata": {
    "nbpresent": {
     "id": "1277117b-c90c-4ad6-8f60-2cae53d3f20b"
    }
   },
   "outputs": [],
   "source": []
  }
 ],
 "metadata": {
  "kernelspec": {
   "display_name": "contauth",
   "language": "python",
   "name": "contauth"
  }
 },
 "nbformat": 4,
 "nbformat_minor": 2
}
