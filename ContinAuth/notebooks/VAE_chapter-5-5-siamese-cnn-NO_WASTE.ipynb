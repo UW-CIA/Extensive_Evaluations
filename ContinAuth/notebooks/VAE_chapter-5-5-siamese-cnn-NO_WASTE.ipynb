{
 "cells": [
  {
   "cell_type": "markdown",
   "metadata": {},
   "source": [
    "# Siamese CNN & vae\n",
    "\n",
    "*Created by Holger Buech, Q1/2019*\n",
    "\n",
    "**Description**   \n",
    "\n",
    "Reimplemenation of an approach to Continuous Authentication described by [1]. It leverages a Siamese CNN to generate Deep Features, which are then used as input for an OCSVM authentication classifier.  \n",
    "\n",
    "**Purpose**\n",
    "\n",
    "- Verify results of [1]\n",
    "- Test the approach with upfront global subject wise normalization (NAIVE_APPROACH)\n",
    "- Change the normalization setting to be more realistic: Training data is normalized upfront again, but the Testing data is normalized using a single scaler fitted on training data only. (VALID_APPROACH)\n",
    "- Identify parameters performing better in a valid setup than the parameters proposed by [1]. (ALTERNATIVE_APPROACH) \n",
    "\n",
    "**Data Sources**   \n",
    "\n",
    "- [H-MOG Dataset](http://www.cs.wm.edu/~qyang/hmog.html)  \n",
    "  (Downloaded beforehand using  [./src/data/make_dataset.py](./src/data/make_dataset.py), stored in [./data/external/hmog_dataset/](./data/external/hmog_dataset/) and converted to [./data/processed/hmog_dataset.hdf5](./data/processed/hmog_dataset.hdf5))\n",
    "\n",
    "**References**   \n",
    "\n",
    "- [1] Centeno, M. P. et al. (2018): Mobile Based Continuous Authentication Using Deep Features. Proceedings of the 2^nd International Workshop on Embedded and Mobile Deep Learning (EMDL), 2018, 19-24.\n",
    "\n",
    "**Table of Contents**\n",
    "\n",
    "**1 - [Preparations](#1)**   \n",
    "1.1 - [Imports](#1.1)   \n",
    "1.2 - [Configuration](#1.2)   \n",
    "1.3 - [Experiment Parameters](#1.3)   \n",
    "1.4 - [Select Approach](#1.4)   \n",
    "\n",
    "**2 - [Initial Data Prepratation](#2)**   \n",
    "2.1 - [Load Dataset](#2.1)   \n",
    "2.2 - [Normalize Features (if global)](#2.2)   \n",
    "2.3 - [Split Dataset for Valid/Test](#2.3)   \n",
    "2.4 - [Normalize Features (if not global)](#2.4)   \n",
    "2.5 - [Check Splits](#2.5)   \n",
    "2.6 - [Reshape Features](#2.6)     \n",
    "\n",
    "**3 - [Generate Scenario Pairs](#3)**    \n",
    "3.1 - [Load cached Data](#3.1)  \n",
    "3.2 - [Build positive/negative Pairs](#3.2)  \n",
    "3.3 - [Inspect Pairs](#3.3)  \n",
    "3.4 - [Cache Pairs](#3.4)  \n",
    "\n",
    "**4 - [Siamese Network](#4)**  \n",
    "4.1 - [Load cached Pairs](#4.1)   \n",
    "4.2 - [Build Model](#4.2)   \n",
    "4.3 - [Prepare Features](#4.3)   \n",
    "4.4 - [Search optimal Epoch](#4.4)   \n",
    "4.5 - [Check Distances](#4.5)   \n",
    "4.6 - [Rebuild and train to optimal Epoch](#4.6)   \n",
    "4.7 - [Cache Model](#4.7)   \n",
    "\n",
    "**5 - [Visualize Deep Features](#5)**   \n",
    "5.1 - [Load cached Data](#5.1)  \n",
    "5.2 - [Extract CNN from Siamese Model](#5.2)  \n",
    "5.3 - [Test Generation of Deep Features](#5.3)  \n",
    "5.4 - [Visualize in 2D using PCA](#5.4)  \n",
    "\n",
    "**6 - [OCSVM](#6)**  \n",
    "6.1 - [Load cached Data](#6.1)  \n",
    "6.2 - [Load trained Siamese Model](#6.2)  \n",
    "6.3 - [Search for Parameters](#6.3)  \n",
    "6.4 - [Inspect Search Results](#6.4) \n",
    "\n",
    "**7 - [Testing](#7)**  \n",
    "7.1 - [Load cached Data](#7.1)  \n",
    "7.2 - [Evaluate Auth Performance](#7.2)  \n",
    "7.3 - [Evaluate increasing Training Set Size (Training Delay)](#7.3)  \n",
    "7.4 - [Evaluate increasing Test Set Sizes (Detection Delay)](#7.4)  \n",
    "\n",
    "**8 - [Report Results](#8)**  "
   ]
  },
  {
   "cell_type": "markdown",
   "metadata": {
    "toc-hr-collapsed": false
   },
   "source": [
    "## 1. Preparations <a id='1'>&nbsp;</a> "
   ]
  },
  {
   "cell_type": "markdown",
   "metadata": {},
   "source": [
    "### 1.1 Imports <a id='1.1'>&nbsp;</a> \n",
    "**Note:** The custom `DatasetLoader` is a helper class for easier loading and subsetting data from the datasets."
   ]
  },
  {
   "cell_type": "code",
   "execution_count": 2,
   "metadata": {},
   "outputs": [],
   "source": [
    "# Standard\n",
    "from pathlib import Path\n",
    "import os\n",
    "import sys\n",
    "import warnings\n",
    "import random\n",
    "import dataclasses\n",
    "import math\n",
    "import multiprocessing as mp\n",
    "\n",
    "# Extra\n",
    "import pandas as pd\n",
    "import numpy as np\n",
    "from sklearn import metrics\n",
    "from sklearn.model_selection import cross_validate, RandomizedSearchCV\n",
    "from sklearn.decomposition import PCA\n",
    "import statsmodels.stats.api as sms\n",
    "import tensorflow as tf\n",
    "from keras import backend as K\n",
    "from keras.models import Model\n",
    "from keras.layers import (\n",
    "    Dense,\n",
    "    Input,\n",
    "    Conv1D,\n",
    "    MaxPooling1D,\n",
    "    Flatten,\n",
    "    Lambda,\n",
    "    Conv2D,\n",
    "    MaxPooling2D,\n",
    "    Dropout,\n",
    "    BatchNormalization,\n",
    "    GlobalAveragePooling1D,\n",
    "    Activation\n",
    ")\n",
    "from keras.utils import plot_model\n",
    "from keras.optimizers import Adam, SGD,RMSprop\n",
    "from keras.models import load_model\n",
    "from keras.callbacks import Callback\n",
    "from tqdm.auto import tqdm\n",
    "import seaborn as sns\n",
    "import matplotlib.pyplot as plt\n",
    "from IPython.display import display\n",
    "\n",
    "# Custom\n",
    "module_path = os.path.abspath(os.path.join(\"..\"))  # supposed to be parent folder\n",
    "if module_path not in sys.path:\n",
    "    sys.path.append(module_path)\n",
    "from src.utility.dataset_loader_hdf5 import DatasetLoader\n",
    "\n",
    "# Global utitlity functions are loaded from separate notebook:\n",
    "%run utils.ipynb"
   ]
  },
  {
   "cell_type": "markdown",
   "metadata": {},
   "source": [
    "### 1.2 Configuration <a id='1.2'>&nbsp;</a>"
   ]
  },
  {
   "cell_type": "code",
   "execution_count": 3,
   "metadata": {},
   "outputs": [],
   "source": [
    "# Configure Data Loading & Seed\n",
    "SEED = 712  # Used for every random function\n",
    "HMOG_HDF5 = Path.cwd().parent / \"data\" / \"processed\" / \"hmog_dataset.hdf5\"\n",
    "EXCLUDE_COLS = [\"sys_time\"]\n",
    "CORES = mp.cpu_count()\n",
    "\n",
    "# For plots and CSVs\n",
    "OUTPUT_PATH = Path.cwd() / \"output\" / \"chapter-6-1-4-siamese-cnn\"  # Cached data & csvs\n",
    "OUTPUT_PATH.mkdir(parents=True, exist_ok=True)\n",
    "REPORT_PATH = Path.cwd().parent / \"reports\" / \"figures\" # Figures for thesis\n",
    "REPORT_PATH.mkdir(parents=True, exist_ok=True)\n",
    "\n",
    "# Improve performance of Tensorflow (this improved speed _a_lot_ on my machine!!!)\n",
    "K.tf.set_random_seed(SEED)\n",
    "conf = K.tf.ConfigProto(\n",
    "    device_count={\"CPU\": CORES},\n",
    "    allow_soft_placement=True,\n",
    "    intra_op_parallelism_threads=CORES,\n",
    "    inter_op_parallelism_threads=CORES,\n",
    ")\n",
    "K.set_session(K.tf.Session(config=conf))\n",
    "\n",
    "# Plotting\n",
    "%matplotlib inline\n",
    "utils_set_output_style()\n",
    "\n",
    "# Silence various deprecation warnings...\n",
    "tf.logging.set_verbosity(tf.logging.ERROR)\n",
    "np.warnings.filterwarnings(\"ignore\")\n",
    "warnings.filterwarnings(\"ignore\")"
   ]
  },
  {
   "cell_type": "code",
   "execution_count": 4,
   "metadata": {},
   "outputs": [
    {
     "data": {
      "text/html": [
       "<style>.p-Widget.jp-OutputPrompt.jp-OutputArea-prompt:empty{padding: 0;border: 0;} div.output_subarea{padding:0;}</style>"
      ],
      "text/plain": [
       "<IPython.core.display.HTML object>"
      ]
     },
     "execution_count": 4,
     "metadata": {},
     "output_type": "execute_result"
    }
   ],
   "source": [
    "# Workaround to remove ugly spacing between tqdm progress bars:\n",
    "HTML(\"<style>.p-Widget.jp-OutputPrompt.jp-OutputArea-prompt:empty{padding: 0;border: 0;} div.output_subarea{padding:0;}</style>\")"
   ]
  },
  {
   "cell_type": "markdown",
   "metadata": {},
   "source": [
    "### 1.3 Experiment Parameters <a id='1.3'>&nbsp;</a> \n",
    "Selection of parameters set that had been tested in this notebook. Select one of them to reproduce results."
   ]
  },
  {
   "cell_type": "code",
   "execution_count": 5,
   "metadata": {},
   "outputs": [],
   "source": [
    "@dataclasses.dataclass\n",
    "class ExperimentParameters:\n",
    "    \"\"\"Contains all relevant parameters to run an experiment.\"\"\"\n",
    "\n",
    "    name: str  # Name of Experiments Parameter set. Used as identifier for charts etc.\n",
    "\n",
    "    # Data / Splitting:\n",
    "    frequency: int\n",
    "    feature_cols: list  # Columns used as features\n",
    "    max_subjects: int\n",
    "    exclude_subjects: list  # Don't load data from those users\n",
    "    n_valid_train_subjects: int\n",
    "    n_valid_test_subjects: int\n",
    "    n_test_train_subjects: int\n",
    "    n_test_test_subjects: int\n",
    "    seconds_per_subject_train: float\n",
    "    seconds_per_subject_test: float\n",
    "    task_types: list  # Limit scenarios to [1, 3, 5] for sitting or [2, 4, 6] for walking, or don't limit (None)\n",
    "\n",
    "    # Reshaping\n",
    "    window_size: int  # After resampling\n",
    "    step_width: int  # After resampling\n",
    "\n",
    "    # Normalization\n",
    "    scaler: str  # {\"std\", \"robust\", \"minmax\"}\n",
    "    scaler_scope: str  # {\"subject\", \"session\"}\n",
    "    scaler_global: bool  # scale training and testing sets at once (True), or fit scaler on training only (False)\n",
    "\n",
    "    # Siamese Network\n",
    "    max_pairs_per_session: int  # Max. number of pairs per session\n",
    "    margin: float  # Contrastive Loss Margin\n",
    "    model_variant: str  # {\"1d\", \"2d\"} Type of architecture\n",
    "    filters: list  # List of length 4, containing number of filters for conv layers\n",
    "    epochs_best: int  # Train epochs to for final model\n",
    "    epochs_max: int\n",
    "    batch_size: int\n",
    "    optimizer: str  # Optimizer to use for Siamese Network\n",
    "    optimizer_lr: float  # Learning Rate\n",
    "    optimizer_decay: float\n",
    "\n",
    "    # OCSVM\n",
    "    ocsvm_nu: float  # Best value found in random search, used for final model\n",
    "    ocsvm_gamma: float  # Best value found in random search, used for final model\n",
    "\n",
    "    # Calculated values\n",
    "    def __post_init__(self):\n",
    "        # HDF key of table:\n",
    "        self.table_name = f\"sensors_{self.frequency}hz\"\n",
    "\n",
    "        # Number of samples per _session_ used for training:\n",
    "        self.samples_per_subject_train = math.ceil(\n",
    "            (self.seconds_per_subject_train * 100)\n",
    "            / (100 / self.frequency)\n",
    "            / self.window_size\n",
    "        )\n",
    "\n",
    "        # Number of samples per _session_ used for testing:\n",
    "        self.samples_per_subject_test = math.ceil(\n",
    "            (self.seconds_per_subject_test * 100)\n",
    "            / (100 / self.frequency)\n",
    "            / self.window_size\n",
    "        )\n",
    "\n",
    "\n",
    "# INSTANCES\n",
    "# ===========================================================\n",
    "\n",
    "# NAIVE_MINMAX (2D Filters)\n",
    "# -----------------------------------------------------------\n",
    "NAIVE_MINMAX_2D = ExperimentParameters(\n",
    "    name=\"NAIVE-MINMAX-2D\",\n",
    "    # Data / Splitting\n",
    "    frequency=25,\n",
    "    feature_cols=[\n",
    "        \"acc_x\",\n",
    "        \"acc_y\",\n",
    "        \"acc_z\",\n",
    "        \"gyr_x\",\n",
    "        \"gyr_y\",\n",
    "        \"gyr_z\",\n",
    "        \"mag_x\",\n",
    "        \"mag_y\",\n",
    "        \"mag_z\",\n",
    "    ],\n",
    "    max_subjects=90,\n",
    "    exclude_subjects=[\n",
    "        \"733162\",  # No 24 sessions\n",
    "        \"526319\",  # ^\n",
    "        \"796581\",  # ^\n",
    "        \"539502\",  # Least amount of sensor values\n",
    "        \"219303\",  # ^\n",
    "        \"737973\",  # ^\n",
    "        \"986737\",  # ^\n",
    "        \"256487\",  # Most amount of sensor values\n",
    "        \"389015\",  # ^\n",
    "        \"856401\",  # ^\n",
    "    ],\n",
    "    n_valid_train_subjects=40,\n",
    "    n_valid_test_subjects=10,\n",
    "    n_test_train_subjects=10,\n",
    "    n_test_test_subjects=30,\n",
    "    seconds_per_subject_train=67.5,\n",
    "    seconds_per_subject_test=67.5,\n",
    "    task_types=None,\n",
    "    # Reshaping\n",
    "    window_size=25,  # 1 sec\n",
    "    step_width=25,\n",
    "    # Normalization\n",
    "    scaler=\"minmax\",\n",
    "    scaler_scope=\"subject\",\n",
    "    scaler_global=True,\n",
    "    # Siamese Network\n",
    "    model_variant=\"2d\",\n",
    "    filters=[32, 64, 128, 32],\n",
    "    epochs_best=35,\n",
    "    epochs_max=40,\n",
    "    batch_size=200,\n",
    "    optimizer=\"sgd\",\n",
    "    optimizer_lr=0.01,\n",
    "    optimizer_decay=0,\n",
    "    max_pairs_per_session=60,  # => 4min\n",
    "    margin=0.2,\n",
    "    # OCSVM\n",
    "    ocsvm_nu=0.092,\n",
    "    ocsvm_gamma=1.151,\n",
    ")  # <END NAIVE_APPROACH>\n",
    "\n",
    "# VALID_MINMAX (2D)\n",
    "# -----------------------------------------------------------\n",
    "VALID_MINMAX_2D = dataclasses.replace(\n",
    "    NAIVE_MINMAX_2D,\n",
    "    name=\"VALID-MINMAX-2D\",\n",
    "    task_types=None,\n",
    "    scaler_global=False,\n",
    "    epochs_max=40,\n",
    "    ocsvm_nu=0.110,\n",
    "    ocsvm_gamma=59.636,\n",
    ")\n",
    "\n",
    "# NAIVE_ROBUST (2D)\n",
    "# -----------------------------------------------------------\n",
    "NAIVE_ROBUST_2D = dataclasses.replace(\n",
    "    NAIVE_MINMAX_2D,\n",
    "    name=\"NAIVE-ROBUST-2D\",\n",
    "    scaler=\"robust\",\n",
    "    optimizer=\"sgd\",\n",
    "    optimizer_lr=0.05, # Decreased, to avoid \"all zeros\" prediction\n",
    "    optimizer_decay=0.002,\n",
    "    epochs_best=5,\n",
    "    ocsvm_nu=0.214,\n",
    "    ocsvm_gamma=2.354,\n",
    ")\n",
    "\n",
    "# VALID_ROBUST (2D)\n",
    "# -----------------------------------------------------------\n",
    "VALID_ROBUST_2D = dataclasses.replace(\n",
    "    NAIVE_MINMAX_2D,\n",
    "    name=\"VALID-ROBUST-2D\",\n",
    "    scaler=\"robust\",\n",
    "    scaler_global=False,\n",
    "    epochs_best=6,\n",
    "    epochs_max=20,\n",
    "    optimizer=\"sgd\",\n",
    "    optimizer_lr=0.05,  # Decrease LR, to avoid \"all zeros\" prediction\n",
    "    optimizer_decay=0.002,\n",
    "    ocsvm_nu=0.190,\n",
    "    ocsvm_gamma=0.069,\n",
    ")\n",
    "\n",
    "# VALID_ROBUST (1D)\n",
    "# -----------------------------------------------------------\n",
    "VALID_ROBUST_1D = dataclasses.replace(\n",
    "    NAIVE_MINMAX_2D,\n",
    "    name=\"VALID-ROBUST-1D\",\n",
    "    scaler=\"robust\",\n",
    "    scaler_global=False,\n",
    "    model_variant=\"1d\", \n",
    "    filters=[32, 64, 128, 64],    \n",
    "    epochs_best=9,\n",
    "    epochs_max=20,\n",
    "    ocsvm_nu=0.156,\n",
    "    ocsvm_gamma=33.932,\n",
    ")\n",
    "\n",
    "# FCN_ROBUST (1D)\n",
    "# -----------------------------------------------------------\n",
    "VALID_FCN_ROBUST = dataclasses.replace(\n",
    "    NAIVE_MINMAX_2D,\n",
    "    name=\"VALID-FCN-ROBUST-FINAL\",\n",
    "    task_types=[2, 4, 6],\n",
    "    feature_cols=[\"acc_x\", \"acc_y\", \"acc_z\"], \n",
    "    frequency=25,\n",
    "    window_size=25*5,\n",
    "    step_width=25*5,\n",
    "    scaler=\"robust\",\n",
    "    scaler_global=False,\n",
    "    seconds_per_subject_train=60 * 10,\n",
    "    seconds_per_subject_test=60 * 10,\n",
    "    max_pairs_per_session=60 * 10,\n",
    "    model_variant=\"fcn\",\n",
    "    filters=[32, 64, 32],\n",
    "    optimizer=\"adam\",\n",
    "    optimizer_lr=0.001,\n",
    "    optimizer_decay=None,\n",
    "    batch_size=300,\n",
    "    margin=1,\n",
    "    epochs_best=40,\n",
    "    epochs_max=80,\n",
    "    ocsvm_nu=0.165,\n",
    "    ocsvm_gamma=8.296,\n",
    ")"
   ]
  },
  {
   "cell_type": "markdown",
   "metadata": {},
   "source": [
    "### 1.4 Select Approach <a id='1.4'>&nbsp;</a> \n",
    "Select the parameters to use for current notebook execution here!"
   ]
  },
  {
   "cell_type": "code",
   "execution_count": 6,
   "metadata": {},
   "outputs": [],
   "source": [
    "P = VALID_FCN_ROBUST"
   ]
  },
  {
   "cell_type": "markdown",
   "metadata": {},
   "source": [
    "**Overview of current Experiment Parameters:**"
   ]
  },
  {
   "cell_type": "code",
   "execution_count": 7,
   "metadata": {},
   "outputs": [
    {
     "data": {
      "text/html": [
       "<div>\n",
       "<style scoped>\n",
       "    .dataframe tbody tr th:only-of-type {\n",
       "        vertical-align: middle;\n",
       "    }\n",
       "\n",
       "    .dataframe tbody tr th {\n",
       "        vertical-align: top;\n",
       "    }\n",
       "\n",
       "    .dataframe thead th {\n",
       "        text-align: right;\n",
       "    }\n",
       "</style>\n",
       "<table border=\"1\" class=\"dataframe\">\n",
       "  <thead>\n",
       "    <tr style=\"text-align: right;\">\n",
       "      <th></th>\n",
       "      <th>Value</th>\n",
       "    </tr>\n",
       "  </thead>\n",
       "  <tbody>\n",
       "    <tr>\n",
       "      <th>batch_size</th>\n",
       "      <td>300</td>\n",
       "    </tr>\n",
       "    <tr>\n",
       "      <th>epochs_best</th>\n",
       "      <td>40</td>\n",
       "    </tr>\n",
       "    <tr>\n",
       "      <th>epochs_max</th>\n",
       "      <td>80</td>\n",
       "    </tr>\n",
       "    <tr>\n",
       "      <th>exclude_subjects</th>\n",
       "      <td>[733162, 526319, 796581, 539502, 219303, 73797...</td>\n",
       "    </tr>\n",
       "    <tr>\n",
       "      <th>feature_cols</th>\n",
       "      <td>[acc_x, acc_y, acc_z]</td>\n",
       "    </tr>\n",
       "    <tr>\n",
       "      <th>filters</th>\n",
       "      <td>[32, 64, 32]</td>\n",
       "    </tr>\n",
       "    <tr>\n",
       "      <th>frequency</th>\n",
       "      <td>25</td>\n",
       "    </tr>\n",
       "    <tr>\n",
       "      <th>margin</th>\n",
       "      <td>1</td>\n",
       "    </tr>\n",
       "    <tr>\n",
       "      <th>max_pairs_per_session</th>\n",
       "      <td>600</td>\n",
       "    </tr>\n",
       "    <tr>\n",
       "      <th>max_subjects</th>\n",
       "      <td>90</td>\n",
       "    </tr>\n",
       "    <tr>\n",
       "      <th>model_variant</th>\n",
       "      <td>fcn</td>\n",
       "    </tr>\n",
       "    <tr>\n",
       "      <th>n_test_test_subjects</th>\n",
       "      <td>30</td>\n",
       "    </tr>\n",
       "    <tr>\n",
       "      <th>n_test_train_subjects</th>\n",
       "      <td>10</td>\n",
       "    </tr>\n",
       "    <tr>\n",
       "      <th>n_valid_test_subjects</th>\n",
       "      <td>10</td>\n",
       "    </tr>\n",
       "    <tr>\n",
       "      <th>n_valid_train_subjects</th>\n",
       "      <td>40</td>\n",
       "    </tr>\n",
       "    <tr>\n",
       "      <th>name</th>\n",
       "      <td>VALID-FCN-ROBUST-FINAL</td>\n",
       "    </tr>\n",
       "    <tr>\n",
       "      <th>ocsvm_gamma</th>\n",
       "      <td>8.296</td>\n",
       "    </tr>\n",
       "    <tr>\n",
       "      <th>ocsvm_nu</th>\n",
       "      <td>0.165</td>\n",
       "    </tr>\n",
       "    <tr>\n",
       "      <th>optimizer</th>\n",
       "      <td>adam</td>\n",
       "    </tr>\n",
       "    <tr>\n",
       "      <th>optimizer_decay</th>\n",
       "      <td>None</td>\n",
       "    </tr>\n",
       "    <tr>\n",
       "      <th>optimizer_lr</th>\n",
       "      <td>0.001</td>\n",
       "    </tr>\n",
       "    <tr>\n",
       "      <th>scaler</th>\n",
       "      <td>robust</td>\n",
       "    </tr>\n",
       "    <tr>\n",
       "      <th>scaler_global</th>\n",
       "      <td>False</td>\n",
       "    </tr>\n",
       "    <tr>\n",
       "      <th>scaler_scope</th>\n",
       "      <td>subject</td>\n",
       "    </tr>\n",
       "    <tr>\n",
       "      <th>seconds_per_subject_test</th>\n",
       "      <td>600</td>\n",
       "    </tr>\n",
       "    <tr>\n",
       "      <th>seconds_per_subject_train</th>\n",
       "      <td>600</td>\n",
       "    </tr>\n",
       "    <tr>\n",
       "      <th>step_width</th>\n",
       "      <td>125</td>\n",
       "    </tr>\n",
       "    <tr>\n",
       "      <th>task_types</th>\n",
       "      <td>[2, 4, 6]</td>\n",
       "    </tr>\n",
       "    <tr>\n",
       "      <th>window_size</th>\n",
       "      <td>125</td>\n",
       "    </tr>\n",
       "  </tbody>\n",
       "</table>\n",
       "</div>"
      ],
      "text/plain": [
       "                                                                       Value\n",
       "batch_size                                                               300\n",
       "epochs_best                                                               40\n",
       "epochs_max                                                                80\n",
       "exclude_subjects           [733162, 526319, 796581, 539502, 219303, 73797...\n",
       "feature_cols                                           [acc_x, acc_y, acc_z]\n",
       "filters                                                         [32, 64, 32]\n",
       "frequency                                                                 25\n",
       "margin                                                                     1\n",
       "max_pairs_per_session                                                    600\n",
       "max_subjects                                                              90\n",
       "model_variant                                                            fcn\n",
       "n_test_test_subjects                                                      30\n",
       "n_test_train_subjects                                                     10\n",
       "n_valid_test_subjects                                                     10\n",
       "n_valid_train_subjects                                                    40\n",
       "name                                                  VALID-FCN-ROBUST-FINAL\n",
       "ocsvm_gamma                                                            8.296\n",
       "ocsvm_nu                                                               0.165\n",
       "optimizer                                                               adam\n",
       "optimizer_decay                                                         None\n",
       "optimizer_lr                                                           0.001\n",
       "scaler                                                                robust\n",
       "scaler_global                                                          False\n",
       "scaler_scope                                                         subject\n",
       "seconds_per_subject_test                                                 600\n",
       "seconds_per_subject_train                                                600\n",
       "step_width                                                               125\n",
       "task_types                                                         [2, 4, 6]\n",
       "window_size                                                              125"
      ]
     },
     "metadata": {},
     "output_type": "display_data"
    }
   ],
   "source": [
    "utils_ppp(P)"
   ]
  },
  {
   "cell_type": "markdown",
   "metadata": {
    "toc-hr-collapsed": false
   },
   "source": [
    "## 2. Initial Data Preparation <a id='2'>&nbsp;</a> "
   ]
  },
  {
   "cell_type": "markdown",
   "metadata": {},
   "source": [
    "### 2.1 Load Dataset <a id='2.1'>&nbsp;</a> "
   ]
  },
  {
   "cell_type": "code",
   "execution_count": 8,
   "metadata": {},
   "outputs": [
    {
     "data": {
      "application/vnd.jupyter.widget-view+json": {
       "model_id": "3c8d0954ed4c4f97a3e214cb3ff8bf03",
       "version_major": 2,
       "version_minor": 0
      },
      "text/plain": [
       "HBox(children=(IntProgress(value=0, description='Loading sessions', max=1080, style=ProgressStyle(description_…"
      ]
     },
     "metadata": {},
     "output_type": "display_data"
    },
    {
     "name": "stdout",
     "output_type": "stream",
     "text": [
      "\n"
     ]
    },
    {
     "data": {
      "text/html": [
       "<div>\n",
       "<style scoped>\n",
       "    .dataframe tbody tr th:only-of-type {\n",
       "        vertical-align: middle;\n",
       "    }\n",
       "\n",
       "    .dataframe tbody tr th {\n",
       "        vertical-align: top;\n",
       "    }\n",
       "\n",
       "    .dataframe thead th {\n",
       "        text-align: right;\n",
       "    }\n",
       "</style>\n",
       "<table border=\"1\" class=\"dataframe\">\n",
       "  <thead>\n",
       "    <tr style=\"text-align: right;\">\n",
       "      <th></th>\n",
       "      <th>DataFrame</th>\n",
       "      <th>Memory (MB)</th>\n",
       "      <th>Rows</th>\n",
       "      <th>Columns</th>\n",
       "      <th>Subjects</th>\n",
       "      <th>Sessions</th>\n",
       "    </tr>\n",
       "  </thead>\n",
       "  <tbody>\n",
       "    <tr>\n",
       "      <th>0</th>\n",
       "      <td>all</td>\n",
       "      <td>1437.64</td>\n",
       "      <td>14494937</td>\n",
       "      <td>12</td>\n",
       "      <td>90</td>\n",
       "      <td>1080</td>\n",
       "    </tr>\n",
       "    <tr>\n",
       "      <th>1</th>\n",
       "      <td>index</td>\n",
       "      <td>0.08</td>\n",
       "      <td>2160</td>\n",
       "      <td>4</td>\n",
       "      <td>90</td>\n",
       "      <td>2160</td>\n",
       "    </tr>\n",
       "  </tbody>\n",
       "</table>\n",
       "</div>"
      ],
      "text/plain": [
       "  DataFrame  Memory (MB)      Rows  Columns  Subjects  Sessions\n",
       "0       all      1437.64  14494937       12        90      1080\n",
       "1     index         0.08      2160        4        90      2160"
      ]
     },
     "execution_count": 8,
     "metadata": {},
     "output_type": "execute_result"
    }
   ],
   "source": [
    "hmog = DatasetLoader(\n",
    "    hdf5_file=HMOG_HDF5,\n",
    "    table_name=P.table_name,\n",
    "    max_subjects=P.max_subjects,\n",
    "    task_types=P.task_types,\n",
    "    exclude_subjects=P.exclude_subjects,\n",
    "    exclude_cols=EXCLUDE_COLS,\n",
    "    seed=SEED,\n",
    ")\n",
    "hmog.data_summary()"
   ]
  },
  {
   "cell_type": "markdown",
   "metadata": {},
   "source": [
    "### 2.2 Normalize Features (if global) <a id='2.2'>&nbsp;</a> \n",
    "Used here for naive approach (before splitting into test and training sets). Otherwise it's used during generate_pairs() and respects train vs. test borders."
   ]
  },
  {
   "cell_type": "code",
   "execution_count": 9,
   "metadata": {},
   "outputs": [
    {
     "name": "stdout",
     "output_type": "stream",
     "text": [
      "Skipped, normalize after splitting.\n"
     ]
    }
   ],
   "source": [
    "if P.scaler_global:\n",
    "    print(\"Normalize all data before splitting into train and test sets...\")\n",
    "    hmog.all, scalers = utils_custom_scale(\n",
    "        hmog.all,\n",
    "        scale_cols=P.feature_cols,        \n",
    "        feature_cols=P.feature_cols,\n",
    "        scaler_name=P.scaler,\n",
    "        scope=P.scaler_scope,\n",
    "        plot=True,\n",
    "    )\n",
    "else:\n",
    "    print(\"Skipped, normalize after splitting.\")"
   ]
  },
  {
   "cell_type": "markdown",
   "metadata": {},
   "source": [
    "### 2.3 Split Dataset for Valid/Test <a id='2.3'>&nbsp;</a> \n",
    "In two splits: one used during hyperparameter optimization, and one used during testing.\n",
    "\n",
    "The split is done along the subjects: All sessions of a single subject will either be in the validation split or in the testing split, never in both."
   ]
  },
  {
   "cell_type": "code",
   "execution_count": 10,
   "metadata": {},
   "outputs": [
    {
     "data": {
      "text/html": [
       "<div>\n",
       "<style scoped>\n",
       "    .dataframe tbody tr th:only-of-type {\n",
       "        vertical-align: middle;\n",
       "    }\n",
       "\n",
       "    .dataframe tbody tr th {\n",
       "        vertical-align: top;\n",
       "    }\n",
       "\n",
       "    .dataframe thead th {\n",
       "        text-align: right;\n",
       "    }\n",
       "</style>\n",
       "<table border=\"1\" class=\"dataframe\">\n",
       "  <thead>\n",
       "    <tr style=\"text-align: right;\">\n",
       "      <th></th>\n",
       "      <th>DataFrame</th>\n",
       "      <th>Memory (MB)</th>\n",
       "      <th>Rows</th>\n",
       "      <th>Columns</th>\n",
       "      <th>Subjects</th>\n",
       "      <th>Sessions</th>\n",
       "    </tr>\n",
       "  </thead>\n",
       "  <tbody>\n",
       "    <tr>\n",
       "      <th>0</th>\n",
       "      <td>index</td>\n",
       "      <td>0.08</td>\n",
       "      <td>2160</td>\n",
       "      <td>4</td>\n",
       "      <td>90</td>\n",
       "      <td>2160</td>\n",
       "    </tr>\n",
       "    <tr>\n",
       "      <th>1</th>\n",
       "      <td>valid_train</td>\n",
       "      <td>652.12</td>\n",
       "      <td>6575003</td>\n",
       "      <td>12</td>\n",
       "      <td>40</td>\n",
       "      <td>480</td>\n",
       "    </tr>\n",
       "    <tr>\n",
       "      <th>2</th>\n",
       "      <td>valid_test</td>\n",
       "      <td>148.80</td>\n",
       "      <td>1500294</td>\n",
       "      <td>12</td>\n",
       "      <td>10</td>\n",
       "      <td>120</td>\n",
       "    </tr>\n",
       "    <tr>\n",
       "      <th>3</th>\n",
       "      <td>test_train</td>\n",
       "      <td>160.42</td>\n",
       "      <td>1617398</td>\n",
       "      <td>12</td>\n",
       "      <td>10</td>\n",
       "      <td>120</td>\n",
       "    </tr>\n",
       "    <tr>\n",
       "      <th>4</th>\n",
       "      <td>test_test</td>\n",
       "      <td>476.30</td>\n",
       "      <td>4802242</td>\n",
       "      <td>12</td>\n",
       "      <td>30</td>\n",
       "      <td>360</td>\n",
       "    </tr>\n",
       "  </tbody>\n",
       "</table>\n",
       "</div>"
      ],
      "text/plain": [
       "     DataFrame  Memory (MB)     Rows  Columns  Subjects  Sessions\n",
       "0        index         0.08     2160        4        90      2160\n",
       "1  valid_train       652.12  6575003       12        40       480\n",
       "2   valid_test       148.80  1500294       12        10       120\n",
       "3   test_train       160.42  1617398       12        10       120\n",
       "4    test_test       476.30  4802242       12        30       360"
      ]
     },
     "execution_count": 10,
     "metadata": {},
     "output_type": "execute_result"
    }
   ],
   "source": [
    "hmog.split_train_valid_train_test(\n",
    "    n_valid_train=P.n_valid_train_subjects,\n",
    "    n_valid_test=P.n_valid_test_subjects,\n",
    "    n_test_train=P.n_test_train_subjects,\n",
    "    n_test_test=P.n_test_test_subjects,\n",
    ")\n",
    "hmog.data_summary()"
   ]
  },
  {
   "cell_type": "markdown",
   "metadata": {},
   "source": [
    "### 2.4 Normalize features (if not global) <a id='2.4'>&nbsp;</a> "
   ]
  },
  {
   "cell_type": "code",
   "execution_count": 11,
   "metadata": {},
   "outputs": [
    {
     "name": "stdout",
     "output_type": "stream",
     "text": [
      "Scaling Data for Siamese Network only...\n",
      "Training Data:\n",
      "Before Scaling:\n"
     ]
    },
    {
     "data": {
      "image/png": "[encoded data removed]",
      "text/plain": [
       "<Figure size 985.14x360 with 1 Axes>"
      ]
     },
     "metadata": {},
     "output_type": "display_data"
    },
    {
     "data": {
      "application/vnd.jupyter.widget-view+json": {
       "model_id": "",
       "version_major": 2,
       "version_minor": 0
      },
      "text/plain": [
       "HBox(children=(IntProgress(value=0, description='subjects', max=40, style=ProgressStyle(description_width='ini…"
      ]
     },
     "metadata": {},
     "output_type": "display_data"
    },
    {
     "name": "stdout",
     "output_type": "stream",
     "text": [
      "After Scaling:\n"
     ]
    },
    {
     "data": {
      "image/png": "[encoded data removed]",
      "text/plain": [
       "<Figure size 985.14x360 with 1 Axes>"
      ]
     },
     "metadata": {},
     "output_type": "display_data"
    },
    {
     "name": "stdout",
     "output_type": "stream",
     "text": [
      "Validation Data:\n",
      "Before Scaling:\n"
     ]
    },
    {
     "data": {
      "image/png": "[encoded data removed]",
      "text/plain": [
       "<Figure size 985.14x360 with 1 Axes>"
      ]
     },
     "metadata": {},
     "output_type": "display_data"
    },
    {
     "data": {
      "application/vnd.jupyter.widget-view+json": {
       "model_id": "",
       "version_major": 2,
       "version_minor": 0
      },
      "text/plain": [
       "HBox(children=(IntProgress(value=0, description='subjects', max=10, style=ProgressStyle(description_width='ini…"
      ]
     },
     "metadata": {},
     "output_type": "display_data"
    },
    {
     "name": "stdout",
     "output_type": "stream",
     "text": [
      "\r",
      "After Scaling:\n"
     ]
    },
    {
     "data": {
      "image/png": "[encoded data removed]",
      "text/plain": [
       "<Figure size 985.14x360 with 1 Axes>"
      ]
     },
     "metadata": {},
     "output_type": "display_data"
    }
   ],
   "source": [
    "if not P.scaler_global:\n",
    "    print(\"Scaling Data for Siamese Network only...\")\n",
    "    print(\"Training Data:\")\n",
    "    hmog.valid_train, _ = utils_custom_scale(\n",
    "        hmog.valid_train,\n",
    "        scale_cols=P.feature_cols,\n",
    "        feature_cols=P.feature_cols,\n",
    "        scaler_name=P.scaler,\n",
    "        scope=P.scaler_scope,\n",
    "        plot=True,        \n",
    "    )\n",
    "    print(\"Validation Data:\")\n",
    "    hmog.valid_test, _ = utils_custom_scale(\n",
    "        hmog.valid_test,\n",
    "        scale_cols=P.feature_cols,        \n",
    "        feature_cols=P.feature_cols,\n",
    "        scaler_name=P.scaler,\n",
    "        scope=P.scaler_scope,\n",
    "        plot=True,        \n",
    "    )\n",
    "else:\n",
    "    print(\"Skipped, already normalized.\")    "
   ]
  },
  {
   "cell_type": "markdown",
   "metadata": {},
   "source": [
    "### 2.5 Check Splits <a id='2.5'>&nbsp;</a> "
   ]
  },
  {
   "cell_type": "markdown",
   "metadata": {
    "toc-hr-collapsed": true
   },
   "source": [
    "### 2.6 Reshape Features  <a id='2.6'>&nbsp;</a> "
   ]
  },
  {
   "cell_type": "markdown",
   "metadata": {},
   "source": [
    "**Reshape & cache Set for Training Siamese Network:**"
   ]
  },
  {
   "cell_type": "markdown",
   "metadata": {},
   "source": [
    "**Reshape & cache Set for Validating Siamese Network:** (also used to optimize OCSVM)"
   ]
  },
  {
   "cell_type": "markdown",
   "metadata": {},
   "source": [
    "**Reshape & cache Set for Training/Validation OCSVM:**"
   ]
  },
  {
   "cell_type": "markdown",
   "metadata": {},
   "source": [
    "**Reshape & cache Set for Training/Testing OCSVM:**"
   ]
  },
  {
   "cell_type": "markdown",
   "metadata": {
    "toc-hr-collapsed": false
   },
   "source": [
    "## 3. Generate Scenario Pairs <a id='3'>&nbsp;</a> "
   ]
  },
  {
   "cell_type": "markdown",
   "metadata": {},
   "source": [
    "### 3.1 Load cached Data <a id='3.1'>&nbsp;</a> "
   ]
  },
  {
   "cell_type": "code",
   "execution_count": 12,
   "metadata": {},
   "outputs": [],
   "source": [
    "df_siamese_train = pd.read_msgpack(OUTPUT_PATH / \"df_siamese_train.msg\")\n",
    "df_siamese_valid = pd.read_msgpack(OUTPUT_PATH / \"df_siamese_valid.msg\")"
   ]
  },
  {
   "cell_type": "markdown",
   "metadata": {},
   "source": [
    "### 3.2 Build positive/negative Pairs  <a id='3.2'>&nbsp;</a> "
   ]
  },
  {
   "cell_type": "markdown",
   "metadata": {},
   "source": [
    "### 3.3 Inspect Pairs <a id='3.3'>&nbsp;</a> "
   ]
  },
  {
   "cell_type": "markdown",
   "metadata": {},
   "source": [
    "### 3.4 Cache Pairs <a id='3.4'>&nbsp;</a> "
   ]
  },
  {
   "cell_type": "markdown",
   "metadata": {
    "toc-hr-collapsed": false
   },
   "source": [
    "## 4. Siamese Network <a id='4'>&nbsp;</a> "
   ]
  },
  {
   "cell_type": "markdown",
   "metadata": {},
   "source": [
    "### 4.1 Load cached Pairs <a id='4.1'>&nbsp;</a> "
   ]
  },
  {
   "cell_type": "code",
   "execution_count": 13,
   "metadata": {},
   "outputs": [],
   "source": [
    "df_siamese_train_pairs = pd.read_msgpack(OUTPUT_PATH / \"df_siamese_train_pairs.msg\")\n",
    "df_siamese_valid_pairs = pd.read_msgpack(OUTPUT_PATH / \"df_siamese_valid_pairs.msg\")"
   ]
  },
  {
   "cell_type": "markdown",
   "metadata": {
    "toc-hr-collapsed": false
   },
   "source": [
    "### 4.2 Build Model <a id='4.2'>&nbsp;</a> "
   ]
  },
  {
   "cell_type": "markdown",
   "metadata": {},
   "source": [
    "#### Distance Function"
   ]
  },
  {
   "cell_type": "markdown",
   "metadata": {},
   "source": [
    "Sanity check contrastive loss function:"
   ]
  },
  {
   "cell_type": "markdown",
   "metadata": {},
   "source": [
    "#### Siamese Model with 2D Filters, as derived from Centeno et al. (2018)"
   ]
  },
  {
   "cell_type": "code",
   "execution_count": 14,
   "metadata": {},
   "outputs": [],
   "source": [
    "def build_model_2d(input_shape, filters):\n",
    "    \"\"\"\n",
    "        Siamese CNN architecture with 3D input and 2D filters\n",
    "    \"\"\"\n",
    "    # Define the tensors for the two input images\n",
    "    left_inputs = Input(input_shape, name=\"left_inputs\")\n",
    "    right_inputs = Input(input_shape, name=\"right_inputs\")\n",
    "\n",
    "    # Convolutional Neural Network\n",
    "    inputs = Input(input_shape, name=\"input\")\n",
    "    x = Conv2D(filters[0], (7, 7), padding=\"same\", activation=\"tanh\", name=\"conv1\")(inputs)\n",
    "    x = MaxPooling2D(pool_size=(2, 2), padding=\"same\", name=\"mp1\")(x)\n",
    "    x = Conv2D(filters[1], (5, 5), padding=\"same\", activation=\"tanh\", name=\"conv2\")(x)\n",
    "    x = MaxPooling2D(pool_size=(2, 2), padding=\"same\", name=\"mp2\")(x)\n",
    "    x = Conv2D(filters[2], (3, 3), padding=\"same\", activation=\"tanh\", name=\"conv3\")(x)\n",
    "    x = MaxPooling2D(pool_size=(2, 2), padding=\"same\", name=\"mp3\")(x)\n",
    "    x = Conv2D(filters[3], (3, 3), padding=\"same\", activation=\"tanh\", name=\"conv4\")(x)\n",
    "    x = MaxPooling2D(pool_size=(2, 2), padding=\"same\", name=\"mp4\")(x)\n",
    "    x = Flatten(name=\"flat\")(x)\n",
    "    \n",
    "    # Basemodel instance\n",
    "    basemodel = Model(inputs, x, name=\"basemodel\")\n",
    "\n",
    "    # using same instance of \"basemodel\" to share weights between left/right networks\n",
    "    encoded_l = basemodel(left_inputs)\n",
    "    encoded_r = basemodel(right_inputs)\n",
    "\n",
    "    # Add a customized layer to compute the distance between the encodings\n",
    "    distance_layer = Lambda(k_euclidean_dist, name=\"distance\")([encoded_l, encoded_r])\n",
    "\n",
    "    # Combine into one net\n",
    "    siamese_net = Model(inputs=[left_inputs, right_inputs], outputs=distance_layer)\n",
    "\n",
    "    # return the model\n",
    "    return siamese_net, basemodel"
   ]
  },
  {
   "cell_type": "markdown",
   "metadata": {},
   "source": [
    "#### Siamese Model with 1D Filters, similar than Centeno et al. (2018)"
   ]
  },
  {
   "cell_type": "code",
   "execution_count": 15,
   "metadata": {},
   "outputs": [],
   "source": [
    "def build_model_1d(input_shape, filters):\n",
    "    \"\"\"\n",
    "        Model architecture\n",
    "    \"\"\"\n",
    "    # Define the tensors for the two input images\n",
    "    left_inputs = Input(input_shape, name=\"left_inputs\")\n",
    "    right_inputs = Input(input_shape, name=\"right_inputs\")\n",
    "\n",
    "    # Convolutional Neural Network\n",
    "    inputs = Input(input_shape, name=\"input\")\n",
    "    x = Conv1D(filters[0], 7, activation=\"elu\", padding=\"same\", name=\"conv1\")(inputs)\n",
    "    x = MaxPooling1D(pool_size=2, name=\"mp1\")(x)\n",
    "    x = Conv1D(filters[1], 5, activation=\"elu\", padding=\"same\", name=\"conv2\")(x)\n",
    "    x = MaxPooling1D(pool_size=2, name=\"mp2\")(x)\n",
    "    x = Conv1D(filters[2], 3, activation=\"elu\", padding=\"same\", name=\"conv3\")(x)\n",
    "    x = MaxPooling1D(pool_size=2, name=\"mp3\")(x)\n",
    "    x = Conv1D(filters[3], 3, activation=\"elu\", padding=\"same\", name=\"conv4\")(x)\n",
    "    x = MaxPooling1D(pool_size=2, name=\"mp5\")(x)\n",
    "    x = Flatten(name=\"flat\")(x)\n",
    "\n",
    "    # Generate the encodings (feature vectors) for the two images\n",
    "    basemodel = Model(inputs, x, name=\"basemodel\")\n",
    "\n",
    "    # using same instance of \"basemodel\" to share weights between left/right networks\n",
    "    encoded_l = basemodel(left_inputs)\n",
    "    encoded_r = basemodel(right_inputs)\n",
    "\n",
    "    # Add a customized layer to compute the absolute difference between the encodings\n",
    "    distance_layer = Lambda(k_euclidean_dist, name=\"distance\")([encoded_l, encoded_r])\n",
    "\n",
    "    siamese_net = Model(inputs=[left_inputs, right_inputs], outputs=distance_layer)\n",
    "\n",
    "    # return the model\n",
    "    return siamese_net, basemodel"
   ]
  },
  {
   "cell_type": "markdown",
   "metadata": {},
   "source": [
    "#### Siamese Model with FCN architecture"
   ]
  },
  {
   "cell_type": "code",
   "execution_count": 16,
   "metadata": {},
   "outputs": [],
   "source": [
    "def build_model_fcn(input_shape, filters):\n",
    "    # Define the tensors for the two input images\n",
    "    left_inputs = Input(input_shape, name=\"left_inputs\")\n",
    "    right_inputs = Input(input_shape, name=\"right_inputs\")\n",
    "\n",
    "    # Convolutional Neural Network\n",
    "    inputs = Input(input_shape, name=\"input\")\n",
    "    x = Conv1D(\n",
    "        filters=filters[0],\n",
    "        kernel_size=8,\n",
    "        strides=1,\n",
    "        activation=None,\n",
    "        padding=\"same\",\n",
    "        name=\"conv1\",\n",
    "    )(inputs)\n",
    "    x = BatchNormalization()(x)\n",
    "    x = Activation(\"relu\")(x)\n",
    "    x = Dropout(0.1, name=\"drop1\")(x)\n",
    "    x = Conv1D(\n",
    "        filters=filters[1],\n",
    "        kernel_size=5,\n",
    "        strides=1,\n",
    "        activation=None,\n",
    "        padding=\"same\",\n",
    "        name=\"conv2\",\n",
    "    )(x)\n",
    "    x = BatchNormalization()(x)\n",
    "    x = Activation(\"relu\")(x)\n",
    "    x = Dropout(0.1, name=\"drop2\")(x)\n",
    "    x = Conv1D(\n",
    "        filters=filters[2],\n",
    "        kernel_size=3,\n",
    "        strides=1,\n",
    "        activation=None,\n",
    "        padding=\"same\",\n",
    "        name=\"conv3\",\n",
    "    )(x)\n",
    "    x = BatchNormalization()(x)\n",
    "    x = Activation(\"relu\")(x)\n",
    "    x = GlobalAveragePooling1D()(x)\n",
    "    x = Dense(32, activation=\"sigmoid\", name=\"dense\")(x) # <--- !!!!!!!!!!!!\n",
    "\n",
    "    # Basemodel instance\n",
    "    basemodel = Model(inputs, x, name=\"basemodel\")\n",
    "\n",
    "    # using same instance of \"basemodel\" to share weights between left/right networks\n",
    "    encoded_l = basemodel(left_inputs)\n",
    "    encoded_r = basemodel(right_inputs)\n",
    "\n",
    "    # Add a customized layer to compute the distance between the encodings\n",
    "    distance_layer = Lambda(k_euclidean_dist, name=\"distance\")([encoded_l, encoded_r])\n",
    "\n",
    "    # Combine into one net\n",
    "    siamese_net = Model(inputs=[left_inputs, right_inputs], outputs=distance_layer)\n",
    "\n",
    "    # return the model\n",
    "    return siamese_net, basemodel"
   ]
  },
  {
   "cell_type": "code",
   "execution_count": 17,
   "metadata": {},
   "outputs": [],
   "source": [
    "def get_model(name, window_size, feature_cols, filters):\n",
    "    print(f\"Using Model variant {name}...\")\n",
    "    if name == \"1d\":\n",
    "        model, basemodel = build_model_1d((window_size, len(feature_cols)), filters)\n",
    "    elif name == \"2d\":\n",
    "        model, basemodel = build_model_2d((window_size, len(feature_cols), 1), filters)\n",
    "    elif name == \"fcn\":\n",
    "        model, basemodel = build_model_fcn((window_size, len(feature_cols)), filters)\n",
    "    else:\n",
    "        raise BaseException(\"Error: Not a valid model name: {1d, 2d, fcn}\")\n",
    "\n",
    "    return model, basemodel"
   ]
  },
  {
   "cell_type": "markdown",
   "metadata": {},
   "source": [
    "**Inspect model architecture:**"
   ]
  },
  {
   "cell_type": "markdown",
   "metadata": {},
   "source": [
    "### 4.3 Prepare Features <a id='4.3'>&nbsp;</a> "
   ]
  },
  {
   "cell_type": "code",
   "execution_count": 18,
   "metadata": {},
   "outputs": [],
   "source": [
    "def prep_X_y_pair(df):\n",
    "    \n",
    "    X_left = np.stack(list(df[\"left_X\"].values))\n",
    "    X_right = np.stack(list(df[\"right_X\"].values))\n",
    "    \n",
    "    X = [X_left, X_right]\n",
    "    y = df[\"label\"].values\n",
    "    \n",
    "    return X, y"
   ]
  },
  {
   "cell_type": "code",
   "execution_count": 19,
   "metadata": {},
   "outputs": [
    {
     "name": "stdout",
     "output_type": "stream",
     "text": [
      "Training samples:   23202, shape: (23202, 125, 3), class balance: (array([0, 1]), array([11601, 11601]))\n",
      "Validation samples: 5584, shape: (5584, 125, 3), class balance: (array([0, 1]), array([2792, 2792]))\n"
     ]
    }
   ],
   "source": [
    "X_train, y_train = prep_X_y_pair(df_siamese_train_pairs)\n",
    "X_valid, y_valid = prep_X_y_pair(df_siamese_valid_pairs)\n",
    "\n",
    "# 2D Filter Model needs flat 4th dimension\n",
    "if P.model_variant == \"2d\":\n",
    "    X_train[0] = X_train[0].reshape((*X_train[0].shape, 1))\n",
    "    X_train[1] = X_train[1].reshape((*X_train[1].shape, 1))\n",
    "    X_valid[0] = X_valid[0].reshape((*X_valid[0].shape, 1))\n",
    "    X_valid[1] = X_valid[1].reshape((*X_valid[1].shape, 1))\n",
    "\n",
    "print(\n",
    "    f\"Training samples:   {y_train.shape[0]}, shape: {X_train[0].shape},\"\n",
    "    + f\" class balance: {np.unique(y_train, return_counts=True)}\"\n",
    ")\n",
    "print(\n",
    "    f\"Validation samples: {y_valid.shape[0]}, shape: {X_valid[0].shape},\"\n",
    "    + f\" class balance: {np.unique(y_valid, return_counts=True)}\"\n",
    ")"
   ]
  },
  {
   "cell_type": "markdown",
   "metadata": {},
   "source": [
    "### 4.4 Search optimal Epoch <a id='4.4'>&nbsp;</a> "
   ]
  },
  {
   "cell_type": "code",
   "execution_count": 20,
   "metadata": {},
   "outputs": [],
   "source": [
    "class MetricsCallback(Callback):\n",
    "    \"\"\"\n",
    "    Custom Keras Callback function.\n",
    "    \n",
    "    Used to predict and plot distances for positive and negative pairs\n",
    "    after each n-th epoch, along with some 'classification' metrics. \n",
    "    'Classification' here means to ability to distinguish between positive \n",
    "    and negative pairs using a threshold for the distance.\n",
    "    \n",
    "    Arguments:\n",
    "        payload {tuple}           -- Datasets used for evaluation: (X_valid, y_valid, X_train, y_train)\n",
    "        epoch_evaluate_freq {int} -- Frequency for evaluation. After every n-th epoch, \n",
    "                                     the results are evaluated and printed\n",
    "        save_plots {boolean}      -- Do you want to save plots as PDF? Path is configured via global\n",
    "                                     parameter REPORT_PATH.\n",
    "    \"\"\"\n",
    "\n",
    "    def __init__(self, payload, epoch_evaluate_freq=1, save_plots=False):\n",
    "\n",
    "        self.X_valid, self.y_valid, self.X_train, self.y_train = payload\n",
    "        self.save_plots = save_plots\n",
    "        self.epoch_evaluate_freq = epoch_evaluate_freq\n",
    "\n",
    "        # Do we have train and valid set?\n",
    "        self.sets = []\n",
    "        if self.X_train:\n",
    "            self.sets.append([self.X_train, self.y_train, \"Train\"])\n",
    "        if self.X_valid:\n",
    "            self.sets.append([self.X_valid, self.y_valid, \"Valid\"])\n",
    "\n",
    "    def on_train_begin(self, logs={}):\n",
    "        print(32 * \"=\" + f\"[ Initial State ]\" + 32 * \"=\", end=\"\")\n",
    "        for X, y, desc in self.sets:\n",
    "            self.evaluate(X, y, logs, desc, -1)\n",
    "\n",
    "    def on_train_end(self, logs={}):\n",
    "        print(32 * \"=\" + f\"[ Final State ]\" + 32 * \"=\", end=\"\")\n",
    "        for X, y, desc in self.sets:\n",
    "            self.evaluate(X, y, logs, desc, -1)\n",
    "\n",
    "    def on_epoch_end(self, epoch, logs={}):\n",
    "        print(32 * \"=\" + f\"[   Epoch {epoch}   ]\" + 32 * \"=\", end=\"\")\n",
    "        if epoch % self.epoch_evaluate_freq == 0:  # Evaluate only every n-th epoch\n",
    "            for X, y, desc in self.sets:\n",
    "                self.evaluate(X, y, logs, desc, epoch)\n",
    "        else:\n",
    "            print(f\"\\n{ ', '.join([k + ': ' + f'{v:.3f}' for k,v in logs.items()]) }\")\n",
    "\n",
    "    def evaluate(self, X, y, logs, desc, epoch):\n",
    "        # Predict\n",
    "        y_score = self.model.predict(X)\n",
    "        y_score_neg = y_score * -1  # lower distance means closer to positive class\n",
    "\n",
    "        # Calc Metrics\n",
    "        roc_val = metrics.roc_auc_score(y, y_score_neg)\n",
    "        eer_val, thres = utils_eer(y, y_score_neg, True)\n",
    "        y_pred = np.where(y_score_neg > thres, 1, 0)\n",
    "        acc_val = metrics.accuracy_score(y, y_pred)\n",
    "        f1_val = metrics.f1_score(y, y_pred)\n",
    "\n",
    "        print(\n",
    "            f\"\\n{desc.upper()}: roc_auc: {roc_val:.4f}, \"\n",
    "            + f\"eer: {eer_val:.4f}, thres: {thres*-1:.4f} => \"\n",
    "            + f\"acc: {acc_val:.4f}, f1: {f1_val:.4f}\\n\"\n",
    "            + f\"{ ', '.join([k + ': ' + f'{v:.3f}' for k,v in logs.items()]) }\"\n",
    "        )\n",
    "\n",
    "        # Plot distances\n",
    "        mask = np.where(y == 1, True, False)\n",
    "        dist_positive = y_score[mask]\n",
    "        dist_negative = y_score[~mask]\n",
    "        plt = utils_plot_distance_hist(\n",
    "            dist_positive, dist_negative, thres * -1, desc=desc, margin=P.margin\n",
    "        )\n",
    "\n",
    "        if self.save_plots:\n",
    "            utils_save_plot(\n",
    "                plt,\n",
    "                REPORT_PATH\n",
    "                / f\"buech2019-siamese-{P.name.lower()}-epoch-{epoch+1}-{desc.lower()}.pdf\",\n",
    "            )\n",
    "\n",
    "        plt.show()"
   ]
  },
  {
   "cell_type": "code",
   "execution_count": 21,
   "metadata": {},
   "outputs": [],
   "source": [
    "def get_optimizer(name, lr=None, decay=None):\n",
    "    if name == \"sgd\":\n",
    "        lr = lr if lr != None else 0.01\n",
    "        decay = decay if decay != None else 0\n",
    "        optimizer = SGD(lr=lr, decay=decay)\n",
    "    elif name == \"adam\":\n",
    "        lr = lr if lr != None else 0.001\n",
    "        decay = decay if decay != None else 0\n",
    "        optimizer = Adam(lr=lr, decay=decay)\n",
    "    elif name == \"rmsprop\":\n",
    "        lr = lr if lr != None else 0.001\n",
    "        optimizer = RMSprop(lr=lr)\n",
    "    else:\n",
    "        raise BaseException(\"Error: Not a valid model name: 1d or 2d.\")\n",
    "    return optimizer"
   ]
  },
  {
   "cell_type": "markdown",
   "metadata": {
    "toc-hr-collapsed": true
   },
   "source": [
    "### 4.5 Check Distances <a id='4.5'>&nbsp;</a> "
   ]
  },
  {
   "cell_type": "markdown",
   "metadata": {},
   "source": [
    "### 4.6 Rebuild and train to optimal Epoch  <a id='4.6'>&nbsp;</a> \n",
    "Now, that we know the learning curve, we can rebuild the model and train it until the best Epoch.\n",
    "\n",
    "Also, we will include the validation data to have more training data. \n",
    "\n",
    "**Note:** This also means, that the training metrics are not valid anymore, because we don't have any validation data left to test against..."
   ]
  },
  {
   "cell_type": "markdown",
   "metadata": {},
   "source": [
    "### 4.7 Cache model <a id='4.7'>&nbsp;</a> "
   ]
  },
  {
   "cell_type": "markdown",
   "metadata": {
    "toc-hr-collapsed": false
   },
   "source": [
    "## 5. Visualize Deep Features <a id='5'>&nbsp;</a> "
   ]
  },
  {
   "cell_type": "markdown",
   "metadata": {},
   "source": [
    "### 5.1 Load cached Data <a id='5.1'>&nbsp;</a> "
   ]
  },
  {
   "cell_type": "code",
   "execution_count": 22,
   "metadata": {},
   "outputs": [],
   "source": [
    "df_siamese_valid = pd.read_msgpack(OUTPUT_PATH / \"df_siamese_valid.msg\")\n",
    "df_siamese_train = pd.read_msgpack(OUTPUT_PATH / \"df_siamese_train.msg\")\n",
    "\n",
    "df_ocsvm_train_valid = pd.read_msgpack(OUTPUT_PATH / \"df_ocsvm_train_valid.msg\")"
   ]
  },
  {
   "cell_type": "markdown",
   "metadata": {},
   "source": [
    "### 5.2 Extract CNN from Siamese Model <a id='5.2'>&nbsp;</a> \n",
    "I do this by redirecting inputs and outputs.\n",
    "\n",
    "However, the network still needs a pair as input (I wasn't able to change this). This slows down a little bit the prediction (as the input is predicted twice), but doesn't change the results."
   ]
  },
  {
   "cell_type": "code",
   "execution_count": 23,
   "metadata": {},
   "outputs": [],
   "source": [
    "def load_deep_feature_model(model_path):\n",
    "    # Copy of function from above. It's just more convenient for partially \n",
    "    # executing the notebook.\n",
    "    def k_contrastive_loss(y_true, dist):\n",
    "        \"\"\"Contrastive loss from Hadsell-et-al.'06\n",
    "        http://yann.lecun.com/exdb/publis/pdf/hadsell-chopra-lecun-06.pdf\n",
    "        \"\"\"\n",
    "        margin = P.margin\n",
    "        return K.mean(\n",
    "            y_true * K.square(dist)\n",
    "            + (1 - y_true) * K.square(K.maximum(margin - dist, 0))\n",
    "        )\n",
    "    \n",
    "    # Load Trained Siamese Network\n",
    "    model = load_model(\n",
    "        str(model_path.resolve()),\n",
    "        custom_objects={\"k_contrastive_loss\": k_contrastive_loss},\n",
    "    )\n",
    "\n",
    "    # Extract one of the child networks\n",
    "    deep_feature_model = Model(\n",
    "        inputs=model.get_input_at(0),  # get_layer(\"left_inputs\").input,\n",
    "        outputs=model.get_layer(\"basemodel\").get_output_at(1),\n",
    "    )\n",
    "    \n",
    "    return deep_feature_model"
   ]
  },
  {
   "cell_type": "code",
   "execution_count": 24,
   "metadata": {},
   "outputs": [
    {
     "name": "stdout",
     "output_type": "stream",
     "text": [
      "_________________________________________________________________\n",
      "Layer (type)                 Output Shape              Param #   \n",
      "=================================================================\n",
      "left_inputs (InputLayer)     (None, 125, 3)            0         \n",
      "_________________________________________________________________\n",
      "basemodel (Model)            (None, 32)                18848     \n",
      "=================================================================\n",
      "Total params: 18,848\n",
      "Trainable params: 18,592\n",
      "Non-trainable params: 256\n",
      "_________________________________________________________________\n"
     ]
    }
   ],
   "source": [
    "deep_feature_model = load_deep_feature_model(OUTPUT_PATH / f\"{P.name}_model.h5\")\n",
    "deep_feature_model.summary()"
   ]
  },
  {
   "cell_type": "markdown",
   "metadata": {
    "toc-hr-collapsed": true
   },
   "source": [
    "### 5.3 Test Generation of Deep Features <a id='5.3'>&nbsp;</a> "
   ]
  },
  {
   "cell_type": "code",
   "execution_count": 25,
   "metadata": {},
   "outputs": [],
   "source": [
    "def prep_X_y_single(df):\n",
    "    X = np.stack(list(df[\"X\"].values))\n",
    "    y = df[\"label\"].values\n",
    "    return X, y"
   ]
  },
  {
   "cell_type": "code",
   "execution_count": 26,
   "metadata": {},
   "outputs": [],
   "source": [
    "def transform_to_sample_by_subject(df):\n",
    "    sample_by_subject = []\n",
    "    df[\"label\"] = 1\n",
    "    for subj in df[\"subject\"].unique():\n",
    "        df_subj = df[df[\"subject\"] == subj]\n",
    "        X_sub, y_sub = prep_X_y_single(df_subj)\n",
    "        sample_by_subject.append((X_sub, y_sub, subj))\n",
    "    return sample_by_subject"
   ]
  },
  {
   "cell_type": "markdown",
   "metadata": {},
   "source": [
    "#### Select subset (for plotting) and transform features"
   ]
  },
  {
   "cell_type": "markdown",
   "metadata": {},
   "source": [
    "#### Predict Deep Features"
   ]
  },
  {
   "cell_type": "markdown",
   "metadata": {},
   "source": [
    "### 5.4 Visualize in 2D using PCA <a id='5.4'>&nbsp;</a> "
   ]
  },
  {
   "cell_type": "markdown",
   "metadata": {
    "toc-hr-collapsed": false
   },
   "source": [
    "## 6. OCSVM <a id='6'>&nbsp;</a> "
   ]
  },
  {
   "cell_type": "markdown",
   "metadata": {},
   "source": [
    "### 6.1 Load cached Data <a id='6.1'>&nbsp;</a> "
   ]
  },
  {
   "cell_type": "code",
   "execution_count": 27,
   "metadata": {},
   "outputs": [
    {
     "data": {
      "text/html": [
       "<div>\n",
       "<style scoped>\n",
       "    .dataframe tbody tr th:only-of-type {\n",
       "        vertical-align: middle;\n",
       "    }\n",
       "\n",
       "    .dataframe tbody tr th {\n",
       "        vertical-align: top;\n",
       "    }\n",
       "\n",
       "    .dataframe thead th {\n",
       "        text-align: right;\n",
       "    }\n",
       "</style>\n",
       "<table border=\"1\" class=\"dataframe\">\n",
       "  <thead>\n",
       "    <tr style=\"text-align: right;\">\n",
       "      <th></th>\n",
       "      <th>X</th>\n",
       "      <th>subject</th>\n",
       "      <th>session</th>\n",
       "      <th>task_type</th>\n",
       "    </tr>\n",
       "  </thead>\n",
       "  <tbody>\n",
       "    <tr>\n",
       "      <th>0</th>\n",
       "      <td>((-8.607810569636623, 0.9955167241816556, -1.9...</td>\n",
       "      <td>186676</td>\n",
       "      <td>186676_session_1</td>\n",
       "      <td>4</td>\n",
       "    </tr>\n",
       "    <tr>\n",
       "      <th>1</th>\n",
       "      <td>((-0.3209477333333335, 3.128859958333334, 9.44...</td>\n",
       "      <td>186676</td>\n",
       "      <td>186676_session_1</td>\n",
       "      <td>4</td>\n",
       "    </tr>\n",
       "    <tr>\n",
       "      <th>2</th>\n",
       "      <td>((-2.057314, 4.621461133928572, 7.006203626785...</td>\n",
       "      <td>186676</td>\n",
       "      <td>186676_session_1</td>\n",
       "      <td>4</td>\n",
       "    </tr>\n",
       "    <tr>\n",
       "      <th>3</th>\n",
       "      <td>((0.534176783756579, 6.0081232518346415, 8.295...</td>\n",
       "      <td>186676</td>\n",
       "      <td>186676_session_1</td>\n",
       "      <td>4</td>\n",
       "    </tr>\n",
       "    <tr>\n",
       "      <th>4</th>\n",
       "      <td>((-1.53348510239776, 5.71207867121504, 8.14309...</td>\n",
       "      <td>186676</td>\n",
       "      <td>186676_session_1</td>\n",
       "      <td>4</td>\n",
       "    </tr>\n",
       "  </tbody>\n",
       "</table>\n",
       "</div>"
      ],
      "text/plain": [
       "                                                   X subject           session  task_type\n",
       "0  ((-8.607810569636623, 0.9955167241816556, -1.9...  186676  186676_session_1          4\n",
       "1  ((-0.3209477333333335, 3.128859958333334, 9.44...  186676  186676_session_1          4\n",
       "2  ((-2.057314, 4.621461133928572, 7.006203626785...  186676  186676_session_1          4\n",
       "3  ((0.534176783756579, 6.0081232518346415, 8.295...  186676  186676_session_1          4\n",
       "4  ((-1.53348510239776, 5.71207867121504, 8.14309...  186676  186676_session_1          4"
      ]
     },
     "execution_count": 27,
     "metadata": {},
     "output_type": "execute_result"
    }
   ],
   "source": [
    "df_ocsvm_train_valid = pd.read_msgpack(OUTPUT_PATH / \"df_ocsvm_train_valid.msg\")\n",
    "df_ocsvm_train_valid.head()"
   ]
  },
  {
   "cell_type": "markdown",
   "metadata": {},
   "source": [
    "### 6.2 Load trained Siamese Model <a id='6.2'>&nbsp;</a> "
   ]
  },
  {
   "cell_type": "markdown",
   "metadata": {},
   "source": [
    "**Helper methods to load model:**"
   ]
  },
  {
   "cell_type": "code",
   "execution_count": 28,
   "metadata": {},
   "outputs": [],
   "source": [
    "def load_deep_feature_model(model_path):\n",
    "    warnings.filterwarnings(\"ignore\")  # Silence depr. warnings\n",
    "\n",
    "    # Copy of function from above. It's just more convenient for partially executing the notebook.\n",
    "    def k_contrastive_loss(y_true, dist):\n",
    "        \"\"\"Contrastive loss from Hadsell-et-al.'06\n",
    "        http://yann.lecun.com/exdb/publis/pdf/hadsell-chopra-lecun-06.pdf\n",
    "        \"\"\"\n",
    "        margin = P.margin\n",
    "        return K.mean(\n",
    "            y_true * K.square(dist)\n",
    "            + (1 - y_true) * K.square(K.maximum(margin - dist, 0))\n",
    "        )\n",
    "\n",
    "    # Load Trained Siamese Network\n",
    "    model = load_model(\n",
    "        str(model_path.resolve()),\n",
    "        custom_objects={\"k_contrastive_loss\": k_contrastive_loss},\n",
    "    )\n",
    "\n",
    "    # Extract one of the child networks\n",
    "    deep_feature_model = Model(\n",
    "        inputs=model.get_input_at(0),  # get_layer(\"left_inputs\").input,\n",
    "        outputs=model.get_layer(\"basemodel\").get_output_at(1),\n",
    "    )\n",
    "\n",
    "    return deep_feature_model"
   ]
  },
  {
   "cell_type": "markdown",
   "metadata": {},
   "source": [
    "**Sanity Check:**"
   ]
  },
  {
   "cell_type": "markdown",
   "metadata": {},
   "source": [
    "### 6.3 Search for Parameters <a id='6.3'>&nbsp;</a> "
   ]
  },
  {
   "cell_type": "code",
   "execution_count": 29,
   "metadata": {},
   "outputs": [
    {
     "data": {
      "text/html": [
       "<div>\n",
       "<style scoped>\n",
       "    .dataframe tbody tr th:only-of-type {\n",
       "        vertical-align: middle;\n",
       "    }\n",
       "\n",
       "    .dataframe tbody tr th {\n",
       "        vertical-align: top;\n",
       "    }\n",
       "\n",
       "    .dataframe thead th {\n",
       "        text-align: right;\n",
       "    }\n",
       "</style>\n",
       "<table border=\"1\" class=\"dataframe\">\n",
       "  <thead>\n",
       "    <tr style=\"text-align: right;\">\n",
       "      <th></th>\n",
       "      <th>X</th>\n",
       "      <th>subject</th>\n",
       "      <th>session</th>\n",
       "      <th>task_type</th>\n",
       "    </tr>\n",
       "  </thead>\n",
       "  <tbody>\n",
       "    <tr>\n",
       "      <th>0</th>\n",
       "      <td>((-8.607810569636623, 0.9955167241816556, -1.9...</td>\n",
       "      <td>186676</td>\n",
       "      <td>186676_session_1</td>\n",
       "      <td>4</td>\n",
       "    </tr>\n",
       "    <tr>\n",
       "      <th>1</th>\n",
       "      <td>((-0.3209477333333335, 3.128859958333334, 9.44...</td>\n",
       "      <td>186676</td>\n",
       "      <td>186676_session_1</td>\n",
       "      <td>4</td>\n",
       "    </tr>\n",
       "    <tr>\n",
       "      <th>2</th>\n",
       "      <td>((-2.057314, 4.621461133928572, 7.006203626785...</td>\n",
       "      <td>186676</td>\n",
       "      <td>186676_session_1</td>\n",
       "      <td>4</td>\n",
       "    </tr>\n",
       "    <tr>\n",
       "      <th>3</th>\n",
       "      <td>((0.534176783756579, 6.0081232518346415, 8.295...</td>\n",
       "      <td>186676</td>\n",
       "      <td>186676_session_1</td>\n",
       "      <td>4</td>\n",
       "    </tr>\n",
       "    <tr>\n",
       "      <th>4</th>\n",
       "      <td>((-1.53348510239776, 5.71207867121504, 8.14309...</td>\n",
       "      <td>186676</td>\n",
       "      <td>186676_session_1</td>\n",
       "      <td>4</td>\n",
       "    </tr>\n",
       "  </tbody>\n",
       "</table>\n",
       "</div>"
      ],
      "text/plain": [
       "                                                   X subject           session  task_type\n",
       "0  ((-8.607810569636623, 0.9955167241816556, -1.9...  186676  186676_session_1          4\n",
       "1  ((-0.3209477333333335, 3.128859958333334, 9.44...  186676  186676_session_1          4\n",
       "2  ((-2.057314, 4.621461133928572, 7.006203626785...  186676  186676_session_1          4\n",
       "3  ((0.534176783756579, 6.0081232518346415, 8.295...  186676  186676_session_1          4\n",
       "4  ((-1.53348510239776, 5.71207867121504, 8.14309...  186676  186676_session_1          4"
      ]
     },
     "execution_count": 29,
     "metadata": {},
     "output_type": "execute_result"
    }
   ],
   "source": [
    "df_ocsvm_train_valid.head()"
   ]
  },
  {
   "cell_type": "markdown",
   "metadata": {
    "toc-hr-collapsed": false
   },
   "source": [
    "### 6.4 Inspect Search Results <a id='6.4'>&nbsp;</a> \n",
    "**Raw Results & Stats:**"
   ]
  },
  {
   "cell_type": "code",
   "execution_count": 74,
   "metadata": {},
   "outputs": [],
   "source": [
    "def trans_for_pyod (y) : \n",
    "    for i in range(len(y)): \n",
    "        if y[i] == -1: \n",
    "            y[i]=1\n",
    "        elif y[i] == 1:\n",
    "            y[i] = 0 \n",
    "    return y "
   ]
  },
  {
   "cell_type": "code",
   "execution_count": null,
   "metadata": {},
   "outputs": [
    {
     "data": {
      "application/vnd.jupyter.widget-view+json": {
       "model_id": "d15bde650470495dbfd75eac18942f55",
       "version_major": 2,
       "version_minor": 0
      },
      "text/plain": [
       "HBox(children=(IntProgress(value=0, max=1), HTML(value='')))"
      ]
     },
     "metadata": {},
     "output_type": "display_data"
    },
    {
     "data": {
      "application/vnd.jupyter.widget-view+json": {
       "model_id": "",
       "version_major": 2,
       "version_minor": 0
      },
      "text/plain": [
       "HBox(children=(IntProgress(value=0, description='Owner', max=10, style=ProgressStyle(description_width='initia…"
      ]
     },
     "metadata": {},
     "output_type": "display_data"
    },
    {
     "data": {
      "application/vnd.jupyter.widget-view+json": {
       "model_id": "",
       "version_major": 2,
       "version_minor": 0
      },
      "text/plain": [
       "HBox(children=(IntProgress(value=0, description='subjects', max=1, style=ProgressStyle(description_width='init…"
      ]
     },
     "metadata": {},
     "output_type": "display_data"
    },
    {
     "name": "stdout",
     "output_type": "stream",
     "text": [
      "[32, 16, 1] [1, 16, 32]\n"
     ]
    },
    {
     "data": {
      "application/vnd.jupyter.widget-view+json": {
       "model_id": "",
       "version_major": 2,
       "version_minor": 0
      },
      "text/plain": [
       "HBox(children=(IntProgress(value=0, description='subjects', max=1, style=ProgressStyle(description_width='init…"
      ]
     },
     "metadata": {},
     "output_type": "display_data"
    },
    {
     "name": "stdout",
     "output_type": "stream",
     "text": [
      "[32, 16, 1] [1, 16, 32]\n"
     ]
    },
    {
     "data": {
      "application/vnd.jupyter.widget-view+json": {
       "model_id": "",
       "version_major": 2,
       "version_minor": 0
      },
      "text/plain": [
       "HBox(children=(IntProgress(value=0, description='subjects', max=1, style=ProgressStyle(description_width='init…"
      ]
     },
     "metadata": {},
     "output_type": "display_data"
    },
    {
     "name": "stdout",
     "output_type": "stream",
     "text": [
      "[32, 16, 1] [1, 16, 32]\n"
     ]
    },
    {
     "data": {
      "application/vnd.jupyter.widget-view+json": {
       "model_id": "",
       "version_major": 2,
       "version_minor": 0
      },
      "text/plain": [
       "HBox(children=(IntProgress(value=0, description='subjects', max=1, style=ProgressStyle(description_width='init…"
      ]
     },
     "metadata": {},
     "output_type": "display_data"
    },
    {
     "name": "stdout",
     "output_type": "stream",
     "text": [
      "[32, 16, 1] [1, 16, 32]\n"
     ]
    },
    {
     "data": {
      "application/vnd.jupyter.widget-view+json": {
       "model_id": "",
       "version_major": 2,
       "version_minor": 0
      },
      "text/plain": [
       "HBox(children=(IntProgress(value=0, description='subjects', max=1, style=ProgressStyle(description_width='init…"
      ]
     },
     "metadata": {},
     "output_type": "display_data"
    },
    {
     "name": "stdout",
     "output_type": "stream",
     "text": [
      "[32, 16, 1] [1, 16, 32]\n"
     ]
    },
    {
     "data": {
      "application/vnd.jupyter.widget-view+json": {
       "model_id": "",
       "version_major": 2,
       "version_minor": 0
      },
      "text/plain": [
       "HBox(children=(IntProgress(value=0, description='subjects', max=1, style=ProgressStyle(description_width='init…"
      ]
     },
     "metadata": {},
     "output_type": "display_data"
    },
    {
     "name": "stdout",
     "output_type": "stream",
     "text": [
      "[32, 16, 1] [1, 16, 32]\n"
     ]
    },
    {
     "data": {
      "application/vnd.jupyter.widget-view+json": {
       "model_id": "",
       "version_major": 2,
       "version_minor": 0
      },
      "text/plain": [
       "HBox(children=(IntProgress(value=0, description='subjects', max=1, style=ProgressStyle(description_width='init…"
      ]
     },
     "metadata": {},
     "output_type": "display_data"
    },
    {
     "name": "stdout",
     "output_type": "stream",
     "text": [
      "[32, 16, 1] [1, 16, 32]\n"
     ]
    },
    {
     "data": {
      "application/vnd.jupyter.widget-view+json": {
       "model_id": "",
       "version_major": 2,
       "version_minor": 0
      },
      "text/plain": [
       "HBox(children=(IntProgress(value=0, description='subjects', max=1, style=ProgressStyle(description_width='init…"
      ]
     },
     "metadata": {},
     "output_type": "display_data"
    },
    {
     "name": "stdout",
     "output_type": "stream",
     "text": [
      "[32, 16, 1] [1, 16, 32]\n"
     ]
    },
    {
     "data": {
      "application/vnd.jupyter.widget-view+json": {
       "model_id": "",
       "version_major": 2,
       "version_minor": 0
      },
      "text/plain": [
       "HBox(children=(IntProgress(value=0, description='subjects', max=1, style=ProgressStyle(description_width='init…"
      ]
     },
     "metadata": {},
     "output_type": "display_data"
    },
    {
     "name": "stdout",
     "output_type": "stream",
     "text": [
      "[32, 16, 1] [1, 16, 32]\n"
     ]
    },
    {
     "data": {
      "application/vnd.jupyter.widget-view+json": {
       "model_id": "",
       "version_major": 2,
       "version_minor": 0
      },
      "text/plain": [
       "HBox(children=(IntProgress(value=0, description='subjects', max=1, style=ProgressStyle(description_width='init…"
      ]
     },
     "metadata": {},
     "output_type": "display_data"
    },
    {
     "name": "stdout",
     "output_type": "stream",
     "text": [
      "[32, 16, 1] [1, 16, 32]\n"
     ]
    },
    {
     "data": {
      "application/vnd.jupyter.widget-view+json": {
       "model_id": "bc462e213a234586918f734810594636",
       "version_major": 2,
       "version_minor": 0
      },
      "text/plain": [
       "HBox(children=(IntProgress(value=0, max=1), HTML(value='')))"
      ]
     },
     "metadata": {},
     "output_type": "display_data"
    },
    {
     "data": {
      "application/vnd.jupyter.widget-view+json": {
       "model_id": "8a7187d0aec24645bf2e3a26ec1e20f5",
       "version_major": 2,
       "version_minor": 0
      },
      "text/plain": [
       "HBox(children=(IntProgress(value=0, description='Owner', max=10, style=ProgressStyle(description_width='initia…"
      ]
     },
     "metadata": {},
     "output_type": "display_data"
    },
    {
     "data": {
      "application/vnd.jupyter.widget-view+json": {
       "model_id": "",
       "version_major": 2,
       "version_minor": 0
      },
      "text/plain": [
       "HBox(children=(IntProgress(value=0, description='subjects', max=1, style=ProgressStyle(description_width='init…"
      ]
     },
     "metadata": {},
     "output_type": "display_data"
    },
    {
     "name": "stdout",
     "output_type": "stream",
     "text": [
      "[32, 16, 2] [2, 16, 32]\n"
     ]
    },
    {
     "data": {
      "application/vnd.jupyter.widget-view+json": {
       "model_id": "",
       "version_major": 2,
       "version_minor": 0
      },
      "text/plain": [
       "HBox(children=(IntProgress(value=0, description='subjects', max=1, style=ProgressStyle(description_width='init…"
      ]
     },
     "metadata": {},
     "output_type": "display_data"
    },
    {
     "name": "stdout",
     "output_type": "stream",
     "text": [
      "[32, 16, 2] [2, 16, 32]\n"
     ]
    }
   ],
   "source": [
    "from pyod.models.vae import VAE\n",
    "from keras import losses\n",
    "from keras import activations\n",
    "\n",
    "param_dist = {\n",
    "                #\"l2_regularizer\" :  np.linspace(1, 0,5) ,\n",
    "                \"contamination\" :   np.linspace(.5, 0,5) ,\n",
    "                \"dropout_rate\" :  [.25,.5,0] ,\n",
    "                \"optimizer\" : ['sgd'], \n",
    "    \n",
    "                \"batch_size\" :  [32],#,16,64],\n",
    "                #\"epochs\" : np.linspace(600, 100,3),\n",
    "                #\"gamma\" : np.linspace(2, 0,5) , \n",
    "                \"capacity\" : np.linspace(1, 0,3) , \n",
    "                #\"loss\": [losses.mse, losses.msle, losses.poisson, losses.mape, losses.mae, losses.kld] , \n",
    "                #\"output_activation\": [ activations.relu, activations.sigmoid, activations.softmax, activations.softplus,\n",
    "                #                      activations.softsign, activations.tanh, activations.selu, activations.elu, activations.exponential],\n",
    "                #\"hidden_activation\": [ activations.relu, activations.sigmoid, activations.softmax, activations.softplus,\n",
    "                #                      activations.softsign, activations.tanh, activations.selu, activations.elu, activations.exponential]\n",
    "\n",
    "                 }\n",
    "\n",
    "\n",
    "# Load Siamese CNN Model\n",
    "deep_feature_model = load_deep_feature_model(OUTPUT_PATH / f\"{P.name}_model.h5\")\n",
    "\n",
    "encoder_architectures = [\n",
    "  #  [32,24,16,8,4,2,1],\n",
    "  #  [32,16,8,4,2,1],\n",
    "  #  [32,16,8,4,1],\n",
    "   # [32,2],\n",
    "    #[16,1],\n",
    "  #  [64,1],\n",
    "##    [32,16,8,4,2],\n",
    "##    [32,16,8,4],\n",
    "    [32,16,8,2],\n",
    "    [32,16,2],\n",
    "    [32,16,1],\n",
    "    #[32,4],\n",
    "    #[32,2]\n",
    "]\n",
    "#all_df_reports=[] \n",
    "for enc in encoder_architectures[::-1]: \n",
    "    df_results = None  # Will be filled with randomsearch scores\n",
    "    for run in tqdm(range(1)):\n",
    "        for df_cv_scenarios, owner, impostors in tqdm(\n",
    "            utils_generate_cv_scenarios(\n",
    "                df_ocsvm_train_valid,\n",
    "                samples_per_subject_train=P.samples_per_subject_train,\n",
    "                samples_per_subject_test=P.samples_per_subject_test,\n",
    "                seed=SEED + run,\n",
    "                scaler=P.scaler,\n",
    "                scaler_global=P.scaler_global,\n",
    "                scaler_scope=P.scaler_scope,\n",
    "                deep_model=deep_feature_model,\n",
    "                model_variant=P.model_variant,\n",
    "                feature_cols=P.feature_cols,\n",
    "            ),\n",
    "            desc=\"Owner\",\n",
    "            total=df_ocsvm_train_valid[\"subject\"].nunique(),\n",
    "            leave=False,\n",
    "        ):\n",
    "\n",
    "            X = np.array(df_cv_scenarios[\"X\"].values.tolist())\n",
    "            y = df_cv_scenarios[\"label\"].values\n",
    "            y=trans_for_pyod(y)\n",
    "\n",
    "            train_valid_cv = utils_create_cv_splits(df_cv_scenarios[\"mask\"].values, SEED)\n",
    "\n",
    "            dec=enc[::-1]\n",
    "\n",
    "            print(      enc,dec)\n",
    "            model = VAE(enc,dec,\n",
    "                           output_activation=activations.softmax,optimizer='adam',loss=losses.mse,l2_regularizer=.5,\n",
    "                           hidden_activation=activations.tanh,gamma=1.5,dropout_rate=.25,epochs=400,\n",
    "                           contamination=.5,capacity=1,batch_size=32) \n",
    "\n",
    "            warnings.filterwarnings(\"ignore\")\n",
    "            random_search = RandomizedSearchCV(\n",
    "                model,\n",
    "                param_distributions=param_dist,\n",
    "                cv=train_valid_cv,\n",
    "                n_iter=80,\n",
    "                n_jobs=CORES,\n",
    "                refit=False,\n",
    "                scoring={\"eer\": utils_eer_scorer, \"accuracy\": \"accuracy\"},\n",
    "                verbose=0,\n",
    "                return_train_score=False,\n",
    "                iid=False,\n",
    "                error_score=np.nan,\n",
    "                random_state=SEED,\n",
    "            )\n",
    "\n",
    "            random_search.fit(X, y)\n",
    "\n",
    "            df_report = utils_cv_report(random_search, owner, impostors)\n",
    "            df_report[\"run\"] = run\n",
    "            df_results = pd.concat([df_results, df_report], sort=False)\n",
    "        all_df_reports.append([enc,df_results])\n",
    "        df_results.to_csv(OUTPUT_PATH / f\"{P.name+str(enc)}__VAE_ez__random_search_results_again.csv\", index=False)"
   ]
  },
  {
   "cell_type": "code",
   "execution_count": null,
   "metadata": {},
   "outputs": [],
   "source": [
    "\n",
    "print(\"Best results for each owner: transofrm Y to 0/1 instd -1/1 & contam is .5 32,2\")\n",
    "\n",
    "\n",
    "display(\n",
    "    df_results[df_results[\"rank_test_eer\"] <= 1][\n",
    "        [\n",
    "            \"owner\",\n",
    "            \"rank_test_eer\",\n",
    "            \"mean_test_eer\",\n",
    "            \"std_test_eer\",\n",
    "            \"mean_test_accuracy\",\n",
    "            \"std_test_accuracy\",\n",
    "        ]\n",
    "    ].sort_values(\"mean_test_eer\").head(10)\n",
    ")\n",
    "\n",
    "print(\"\\n\\n\\nMost relevant statistics:\")\n",
    "display(\n",
    "    df_results[df_results[\"rank_test_eer\"] <= 1][\n",
    "        [\n",
    "            \"mean_fit_time\",\n",
    "            \"mean_test_accuracy\",\n",
    "            \"std_test_accuracy\",\n",
    "            \"mean_test_eer\",\n",
    "            \"std_test_eer\",\n",
    "        ]\n",
    "    ].describe()\n",
    ")"
   ]
  },
  {
   "cell_type": "code",
   "execution_count": 94,
   "metadata": {},
   "outputs": [
    {
     "name": "stdout",
     "output_type": "stream",
     "text": [
      "Best results for each owner: transofrm Y to 0/1 instd -1/1 & contam is .5 32,2\n",
      "                          output_activation=activations.softmax,optimizer='adam',loss=losses.mse,l2_regularizer=.5,\n",
      "                           hidden_activation=activations.tanh,gamma=1.5,dropout_rate=.25,epochs=400,\n",
      "                           contamination=.5,capacity=1,batch_size=32) \n"
     ]
    },
    {
     "data": {
      "text/html": [
       "<div>\n",
       "<style scoped>\n",
       "    .dataframe tbody tr th:only-of-type {\n",
       "        vertical-align: middle;\n",
       "    }\n",
       "\n",
       "    .dataframe tbody tr th {\n",
       "        vertical-align: top;\n",
       "    }\n",
       "\n",
       "    .dataframe thead th {\n",
       "        text-align: right;\n",
       "    }\n",
       "</style>\n",
       "<table border=\"1\" class=\"dataframe\">\n",
       "  <thead>\n",
       "    <tr style=\"text-align: right;\">\n",
       "      <th></th>\n",
       "      <th>owner</th>\n",
       "      <th>rank_test_eer</th>\n",
       "      <th>mean_test_eer</th>\n",
       "      <th>std_test_eer</th>\n",
       "      <th>mean_test_accuracy</th>\n",
       "      <th>std_test_accuracy</th>\n",
       "    </tr>\n",
       "  </thead>\n",
       "  <tbody>\n",
       "    <tr>\n",
       "      <th>4</th>\n",
       "      <td>879155</td>\n",
       "      <td>1.0</td>\n",
       "      <td>0.307259</td>\n",
       "      <td>0.035869</td>\n",
       "      <td>0.732804</td>\n",
       "      <td>0.059155</td>\n",
       "    </tr>\n",
       "    <tr>\n",
       "      <th>19</th>\n",
       "      <td>879155</td>\n",
       "      <td>1.0</td>\n",
       "      <td>0.307259</td>\n",
       "      <td>0.035869</td>\n",
       "      <td>0.732804</td>\n",
       "      <td>0.059155</td>\n",
       "    </tr>\n",
       "    <tr>\n",
       "      <th>33</th>\n",
       "      <td>879155</td>\n",
       "      <td>1.0</td>\n",
       "      <td>0.307259</td>\n",
       "      <td>0.035869</td>\n",
       "      <td>0.731481</td>\n",
       "      <td>0.058620</td>\n",
       "    </tr>\n",
       "    <tr>\n",
       "      <th>34</th>\n",
       "      <td>879155</td>\n",
       "      <td>1.0</td>\n",
       "      <td>0.307259</td>\n",
       "      <td>0.035869</td>\n",
       "      <td>0.732804</td>\n",
       "      <td>0.059155</td>\n",
       "    </tr>\n",
       "    <tr>\n",
       "      <th>35</th>\n",
       "      <td>879155</td>\n",
       "      <td>1.0</td>\n",
       "      <td>0.307259</td>\n",
       "      <td>0.035869</td>\n",
       "      <td>0.732804</td>\n",
       "      <td>0.059155</td>\n",
       "    </tr>\n",
       "    <tr>\n",
       "      <th>10</th>\n",
       "      <td>264325</td>\n",
       "      <td>1.0</td>\n",
       "      <td>0.354433</td>\n",
       "      <td>0.126519</td>\n",
       "      <td>0.661376</td>\n",
       "      <td>0.135516</td>\n",
       "    </tr>\n",
       "    <tr>\n",
       "      <th>25</th>\n",
       "      <td>264325</td>\n",
       "      <td>1.0</td>\n",
       "      <td>0.354433</td>\n",
       "      <td>0.126519</td>\n",
       "      <td>0.661376</td>\n",
       "      <td>0.135516</td>\n",
       "    </tr>\n",
       "    <tr>\n",
       "      <th>26</th>\n",
       "      <td>264325</td>\n",
       "      <td>1.0</td>\n",
       "      <td>0.354433</td>\n",
       "      <td>0.126519</td>\n",
       "      <td>0.661376</td>\n",
       "      <td>0.135516</td>\n",
       "    </tr>\n",
       "    <tr>\n",
       "      <th>39</th>\n",
       "      <td>264325</td>\n",
       "      <td>1.0</td>\n",
       "      <td>0.354433</td>\n",
       "      <td>0.126519</td>\n",
       "      <td>0.660053</td>\n",
       "      <td>0.136327</td>\n",
       "    </tr>\n",
       "    <tr>\n",
       "      <th>40</th>\n",
       "      <td>264325</td>\n",
       "      <td>1.0</td>\n",
       "      <td>0.354433</td>\n",
       "      <td>0.126519</td>\n",
       "      <td>0.661376</td>\n",
       "      <td>0.135516</td>\n",
       "    </tr>\n",
       "  </tbody>\n",
       "</table>\n",
       "</div>"
      ],
      "text/plain": [
       "     owner  rank_test_eer  mean_test_eer  std_test_eer  mean_test_accuracy  std_test_accuracy\n",
       "4   879155            1.0       0.307259      0.035869            0.732804           0.059155\n",
       "19  879155            1.0       0.307259      0.035869            0.732804           0.059155\n",
       "33  879155            1.0       0.307259      0.035869            0.731481           0.058620\n",
       "34  879155            1.0       0.307259      0.035869            0.732804           0.059155\n",
       "35  879155            1.0       0.307259      0.035869            0.732804           0.059155\n",
       "10  264325            1.0       0.354433      0.126519            0.661376           0.135516\n",
       "25  264325            1.0       0.354433      0.126519            0.661376           0.135516\n",
       "26  264325            1.0       0.354433      0.126519            0.661376           0.135516\n",
       "39  264325            1.0       0.354433      0.126519            0.660053           0.136327\n",
       "40  264325            1.0       0.354433      0.126519            0.661376           0.135516"
      ]
     },
     "metadata": {},
     "output_type": "display_data"
    },
    {
     "name": "stdout",
     "output_type": "stream",
     "text": [
      "\n",
      "\n",
      "\n",
      "Most relevant statistics:\n"
     ]
    },
    {
     "data": {
      "text/html": [
       "<div>\n",
       "<style scoped>\n",
       "    .dataframe tbody tr th:only-of-type {\n",
       "        vertical-align: middle;\n",
       "    }\n",
       "\n",
       "    .dataframe tbody tr th {\n",
       "        vertical-align: top;\n",
       "    }\n",
       "\n",
       "    .dataframe thead th {\n",
       "        text-align: right;\n",
       "    }\n",
       "</style>\n",
       "<table border=\"1\" class=\"dataframe\">\n",
       "  <thead>\n",
       "    <tr style=\"text-align: right;\">\n",
       "      <th></th>\n",
       "      <th>mean_fit_time</th>\n",
       "      <th>mean_test_accuracy</th>\n",
       "      <th>std_test_accuracy</th>\n",
       "      <th>mean_test_eer</th>\n",
       "      <th>std_test_eer</th>\n",
       "    </tr>\n",
       "  </thead>\n",
       "  <tbody>\n",
       "    <tr>\n",
       "      <th>count</th>\n",
       "      <td>11.000000</td>\n",
       "      <td>11.000000</td>\n",
       "      <td>11.000000</td>\n",
       "      <td>11.000000</td>\n",
       "      <td>11.000000</td>\n",
       "    </tr>\n",
       "    <tr>\n",
       "      <th>mean</th>\n",
       "      <td>21.978473</td>\n",
       "      <td>0.693482</td>\n",
       "      <td>0.100905</td>\n",
       "      <td>0.332990</td>\n",
       "      <td>0.085315</td>\n",
       "    </tr>\n",
       "    <tr>\n",
       "      <th>std</th>\n",
       "      <td>4.980056</td>\n",
       "      <td>0.037399</td>\n",
       "      <td>0.040076</td>\n",
       "      <td>0.024636</td>\n",
       "      <td>0.047341</td>\n",
       "    </tr>\n",
       "    <tr>\n",
       "      <th>min</th>\n",
       "      <td>12.320798</td>\n",
       "      <td>0.660053</td>\n",
       "      <td>0.058620</td>\n",
       "      <td>0.307259</td>\n",
       "      <td>0.035869</td>\n",
       "    </tr>\n",
       "    <tr>\n",
       "      <th>25%</th>\n",
       "      <td>19.690931</td>\n",
       "      <td>0.661376</td>\n",
       "      <td>0.059155</td>\n",
       "      <td>0.307259</td>\n",
       "      <td>0.035869</td>\n",
       "    </tr>\n",
       "    <tr>\n",
       "      <th>50%</th>\n",
       "      <td>21.618371</td>\n",
       "      <td>0.661376</td>\n",
       "      <td>0.135516</td>\n",
       "      <td>0.354433</td>\n",
       "      <td>0.126519</td>\n",
       "    </tr>\n",
       "    <tr>\n",
       "      <th>75%</th>\n",
       "      <td>23.437389</td>\n",
       "      <td>0.732804</td>\n",
       "      <td>0.135516</td>\n",
       "      <td>0.354433</td>\n",
       "      <td>0.126519</td>\n",
       "    </tr>\n",
       "    <tr>\n",
       "      <th>max</th>\n",
       "      <td>31.314526</td>\n",
       "      <td>0.732804</td>\n",
       "      <td>0.136327</td>\n",
       "      <td>0.354433</td>\n",
       "      <td>0.126519</td>\n",
       "    </tr>\n",
       "  </tbody>\n",
       "</table>\n",
       "</div>"
      ],
      "text/plain": [
       "       mean_fit_time  mean_test_accuracy  std_test_accuracy  mean_test_eer  std_test_eer\n",
       "count      11.000000           11.000000          11.000000      11.000000     11.000000\n",
       "mean       21.978473            0.693482           0.100905       0.332990      0.085315\n",
       "std         4.980056            0.037399           0.040076       0.024636      0.047341\n",
       "min        12.320798            0.660053           0.058620       0.307259      0.035869\n",
       "25%        19.690931            0.661376           0.059155       0.307259      0.035869\n",
       "50%        21.618371            0.661376           0.135516       0.354433      0.126519\n",
       "75%        23.437389            0.732804           0.135516       0.354433      0.126519\n",
       "max        31.314526            0.732804           0.136327       0.354433      0.126519"
      ]
     },
     "metadata": {},
     "output_type": "display_data"
    }
   ],
   "source": [
    "#36 16 2\n",
    "#df_results = pd.read_csv(OUTPUT_PATH / f\"{P.name+str(enc)}__VAE__random_search_results.csv\")\n",
    "print(\"Best results for each owner: transofrm Y to 0/1 instd -1/1 & contam is .5 32,2\")\n",
    "print('''                          output_activation=activations.softmax,optimizer='adam',loss=losses.mse,l2_regularizer=.5,\n",
    "                           hidden_activation=activations.tanh,gamma=1.5,dropout_rate=.25,epochs=400,\n",
    "                           contamination=.5,capacity=1,batch_size=32) ''')\n",
    "\n",
    "display(\n",
    "    df_results[df_results[\"rank_test_eer\"] <= 1][\n",
    "        [\n",
    "            \"owner\",\n",
    "            \"rank_test_eer\",\n",
    "            \"mean_test_eer\",\n",
    "            \"std_test_eer\",\n",
    "            \"mean_test_accuracy\",\n",
    "            \"std_test_accuracy\",\n",
    "        ]\n",
    "    ].sort_values(\"mean_test_eer\").head(10)\n",
    ")\n",
    "\n",
    "print(\"\\n\\n\\nMost relevant statistics:\")\n",
    "display(\n",
    "    df_results[df_results[\"rank_test_eer\"] <= 1][\n",
    "        [\n",
    "            \"mean_fit_time\",\n",
    "            \"mean_test_accuracy\",\n",
    "            \"std_test_accuracy\",\n",
    "            \"mean_test_eer\",\n",
    "            \"std_test_eer\",\n",
    "        ]\n",
    "    ].describe()\n",
    ")"
   ]
  },
  {
   "cell_type": "code",
   "execution_count": null,
   "metadata": {},
   "outputs": [],
   "source": [
    "all_df_reports[5][1].head()"
   ]
  },
  {
   "cell_type": "code",
   "execution_count": null,
   "metadata": {},
   "outputs": [],
   "source": [
    "print(\"Best results for each owner: transofrm Y to 0/1 instd -1/1 \")\n",
    "print('''     new param search ''')\n",
    "for enc in encoder_architectures[::-1]: \n",
    "    df_results = pd.read_csv(OUTPUT_PATH / f\"{P.name+str(enc)}__VAE_ez__random_search_results_again.csv\")\n",
    "    print(\"Best results for each owner:\")\n",
    "\n",
    "    display(\n",
    "        df_results[df_results[\"rank_test_eer\"] <= 1][\n",
    "            [\n",
    "                \"owner\",\n",
    "                \"rank_test_eer\",\n",
    "                \"mean_test_eer\",\n",
    "                \"std_test_eer\",\n",
    "                \"mean_test_accuracy\",\n",
    "                \"std_test_accuracy\",\n",
    "            ]\n",
    "        ].sort_values(\"mean_test_eer\").head(10)\n",
    "    )\n",
    "\n",
    "    print(\"\\n\\n\\nMost relevant statistics:\")\n",
    "    display(\n",
    "        df_results[df_results[\"rank_test_eer\"] <= 1][\n",
    "            [\n",
    "                \"mean_fit_time\",\n",
    "                \"mean_test_accuracy\",\n",
    "                \"std_test_accuracy\",\n",
    "                \"mean_test_eer\",\n",
    "                \"std_test_eer\",\n",
    "            ]\n",
    "        ].describe()\n",
    "    )"
   ]
  },
  {
   "cell_type": "code",
   "execution_count": 80,
   "metadata": {},
   "outputs": [
    {
     "name": "stdout",
     "output_type": "stream",
     "text": [
      "Best results for each owner: transofrm Y to 0/1 instd -1/1 & contam is .5 32,2\n",
      "                          output_activation=activations.softmax,optimizer='adam',loss=losses.mse,l2_regularizer=.5,\n",
      "                           hidden_activation=activations.tanh,gamma=1.5,dropout_rate=.25,epochs=400,\n",
      "                           contamination=.5,capacity=1,batch_size=32) \n"
     ]
    },
    {
     "data": {
      "text/html": [
       "<div>\n",
       "<style scoped>\n",
       "    .dataframe tbody tr th:only-of-type {\n",
       "        vertical-align: middle;\n",
       "    }\n",
       "\n",
       "    .dataframe tbody tr th {\n",
       "        vertical-align: top;\n",
       "    }\n",
       "\n",
       "    .dataframe thead th {\n",
       "        text-align: right;\n",
       "    }\n",
       "</style>\n",
       "<table border=\"1\" class=\"dataframe\">\n",
       "  <thead>\n",
       "    <tr style=\"text-align: right;\">\n",
       "      <th></th>\n",
       "      <th>owner</th>\n",
       "      <th>rank_test_eer</th>\n",
       "      <th>mean_test_eer</th>\n",
       "      <th>std_test_eer</th>\n",
       "      <th>mean_test_accuracy</th>\n",
       "      <th>std_test_accuracy</th>\n",
       "    </tr>\n",
       "  </thead>\n",
       "  <tbody>\n",
       "    <tr>\n",
       "      <th>0</th>\n",
       "      <td>785873</td>\n",
       "      <td>1.0</td>\n",
       "      <td>0.275348</td>\n",
       "      <td>0.010569</td>\n",
       "      <td>0.792328</td>\n",
       "      <td>0.024533</td>\n",
       "    </tr>\n",
       "    <tr>\n",
       "      <th>0</th>\n",
       "      <td>368258</td>\n",
       "      <td>1.0</td>\n",
       "      <td>0.343926</td>\n",
       "      <td>0.011816</td>\n",
       "      <td>0.716931</td>\n",
       "      <td>0.024318</td>\n",
       "    </tr>\n",
       "    <tr>\n",
       "      <th>0</th>\n",
       "      <td>710707</td>\n",
       "      <td>1.0</td>\n",
       "      <td>0.357186</td>\n",
       "      <td>0.021839</td>\n",
       "      <td>0.689153</td>\n",
       "      <td>0.037413</td>\n",
       "    </tr>\n",
       "    <tr>\n",
       "      <th>0</th>\n",
       "      <td>879155</td>\n",
       "      <td>1.0</td>\n",
       "      <td>0.380356</td>\n",
       "      <td>0.025915</td>\n",
       "      <td>0.673280</td>\n",
       "      <td>0.046315</td>\n",
       "    </tr>\n",
       "    <tr>\n",
       "      <th>0</th>\n",
       "      <td>186676</td>\n",
       "      <td>1.0</td>\n",
       "      <td>0.383461</td>\n",
       "      <td>0.007752</td>\n",
       "      <td>0.681217</td>\n",
       "      <td>0.015651</td>\n",
       "    </tr>\n",
       "    <tr>\n",
       "      <th>0</th>\n",
       "      <td>201848</td>\n",
       "      <td>1.0</td>\n",
       "      <td>0.386222</td>\n",
       "      <td>0.095375</td>\n",
       "      <td>0.645503</td>\n",
       "      <td>0.123944</td>\n",
       "    </tr>\n",
       "    <tr>\n",
       "      <th>0</th>\n",
       "      <td>698266</td>\n",
       "      <td>1.0</td>\n",
       "      <td>0.397502</td>\n",
       "      <td>0.060017</td>\n",
       "      <td>0.646825</td>\n",
       "      <td>0.090141</td>\n",
       "    </tr>\n",
       "    <tr>\n",
       "      <th>0</th>\n",
       "      <td>827212</td>\n",
       "      <td>1.0</td>\n",
       "      <td>0.412991</td>\n",
       "      <td>0.032285</td>\n",
       "      <td>0.629630</td>\n",
       "      <td>0.054249</td>\n",
       "    </tr>\n",
       "    <tr>\n",
       "      <th>0</th>\n",
       "      <td>815316</td>\n",
       "      <td>1.0</td>\n",
       "      <td>0.475907</td>\n",
       "      <td>0.070740</td>\n",
       "      <td>0.543651</td>\n",
       "      <td>0.089616</td>\n",
       "    </tr>\n",
       "    <tr>\n",
       "      <th>0</th>\n",
       "      <td>264325</td>\n",
       "      <td>1.0</td>\n",
       "      <td>0.484616</td>\n",
       "      <td>0.029933</td>\n",
       "      <td>0.529101</td>\n",
       "      <td>0.049599</td>\n",
       "    </tr>\n",
       "  </tbody>\n",
       "</table>\n",
       "</div>"
      ],
      "text/plain": [
       "    owner  rank_test_eer  mean_test_eer  std_test_eer  mean_test_accuracy  std_test_accuracy\n",
       "0  785873            1.0       0.275348      0.010569            0.792328           0.024533\n",
       "0  368258            1.0       0.343926      0.011816            0.716931           0.024318\n",
       "0  710707            1.0       0.357186      0.021839            0.689153           0.037413\n",
       "0  879155            1.0       0.380356      0.025915            0.673280           0.046315\n",
       "0  186676            1.0       0.383461      0.007752            0.681217           0.015651\n",
       "0  201848            1.0       0.386222      0.095375            0.645503           0.123944\n",
       "0  698266            1.0       0.397502      0.060017            0.646825           0.090141\n",
       "0  827212            1.0       0.412991      0.032285            0.629630           0.054249\n",
       "0  815316            1.0       0.475907      0.070740            0.543651           0.089616\n",
       "0  264325            1.0       0.484616      0.029933            0.529101           0.049599"
      ]
     },
     "metadata": {},
     "output_type": "display_data"
    },
    {
     "name": "stdout",
     "output_type": "stream",
     "text": [
      "\n",
      "\n",
      "\n",
      "Most relevant statistics:\n"
     ]
    },
    {
     "data": {
      "text/html": [
       "<div>\n",
       "<style scoped>\n",
       "    .dataframe tbody tr th:only-of-type {\n",
       "        vertical-align: middle;\n",
       "    }\n",
       "\n",
       "    .dataframe tbody tr th {\n",
       "        vertical-align: top;\n",
       "    }\n",
       "\n",
       "    .dataframe thead th {\n",
       "        text-align: right;\n",
       "    }\n",
       "</style>\n",
       "<table border=\"1\" class=\"dataframe\">\n",
       "  <thead>\n",
       "    <tr style=\"text-align: right;\">\n",
       "      <th></th>\n",
       "      <th>mean_fit_time</th>\n",
       "      <th>mean_test_accuracy</th>\n",
       "      <th>std_test_accuracy</th>\n",
       "      <th>mean_test_eer</th>\n",
       "      <th>std_test_eer</th>\n",
       "    </tr>\n",
       "  </thead>\n",
       "  <tbody>\n",
       "    <tr>\n",
       "      <th>count</th>\n",
       "      <td>10.000000</td>\n",
       "      <td>10.000000</td>\n",
       "      <td>10.000000</td>\n",
       "      <td>10.000000</td>\n",
       "      <td>10.000000</td>\n",
       "    </tr>\n",
       "    <tr>\n",
       "      <th>mean</th>\n",
       "      <td>5.958196</td>\n",
       "      <td>0.654762</td>\n",
       "      <td>0.055578</td>\n",
       "      <td>0.389752</td>\n",
       "      <td>0.036624</td>\n",
       "    </tr>\n",
       "    <tr>\n",
       "      <th>std</th>\n",
       "      <td>0.194029</td>\n",
       "      <td>0.077411</td>\n",
       "      <td>0.034985</td>\n",
       "      <td>0.060929</td>\n",
       "      <td>0.029226</td>\n",
       "    </tr>\n",
       "    <tr>\n",
       "      <th>min</th>\n",
       "      <td>5.783716</td>\n",
       "      <td>0.529101</td>\n",
       "      <td>0.015651</td>\n",
       "      <td>0.275348</td>\n",
       "      <td>0.007752</td>\n",
       "    </tr>\n",
       "    <tr>\n",
       "      <th>25%</th>\n",
       "      <td>5.812722</td>\n",
       "      <td>0.633598</td>\n",
       "      <td>0.027753</td>\n",
       "      <td>0.362979</td>\n",
       "      <td>0.014322</td>\n",
       "    </tr>\n",
       "    <tr>\n",
       "      <th>50%</th>\n",
       "      <td>5.893948</td>\n",
       "      <td>0.660053</td>\n",
       "      <td>0.047957</td>\n",
       "      <td>0.384842</td>\n",
       "      <td>0.027924</td>\n",
       "    </tr>\n",
       "    <tr>\n",
       "      <th>75%</th>\n",
       "      <td>5.992850</td>\n",
       "      <td>0.687169</td>\n",
       "      <td>0.080774</td>\n",
       "      <td>0.409119</td>\n",
       "      <td>0.053084</td>\n",
       "    </tr>\n",
       "    <tr>\n",
       "      <th>max</th>\n",
       "      <td>6.304856</td>\n",
       "      <td>0.792328</td>\n",
       "      <td>0.123944</td>\n",
       "      <td>0.484616</td>\n",
       "      <td>0.095375</td>\n",
       "    </tr>\n",
       "  </tbody>\n",
       "</table>\n",
       "</div>"
      ],
      "text/plain": [
       "       mean_fit_time  mean_test_accuracy  std_test_accuracy  mean_test_eer  std_test_eer\n",
       "count      10.000000           10.000000          10.000000      10.000000     10.000000\n",
       "mean        5.958196            0.654762           0.055578       0.389752      0.036624\n",
       "std         0.194029            0.077411           0.034985       0.060929      0.029226\n",
       "min         5.783716            0.529101           0.015651       0.275348      0.007752\n",
       "25%         5.812722            0.633598           0.027753       0.362979      0.014322\n",
       "50%         5.893948            0.660053           0.047957       0.384842      0.027924\n",
       "75%         5.992850            0.687169           0.080774       0.409119      0.053084\n",
       "max         6.304856            0.792328           0.123944       0.484616      0.095375"
      ]
     },
     "metadata": {},
     "output_type": "display_data"
    }
   ],
   "source": [
    "#df_results = pd.read_csv(OUTPUT_PATH / f\"{P.name+str(enc)}__VAE__random_search_results.csv\")\n",
    "print(\"Best results for each owner: transofrm Y to 0/1 instd -1/1 & contam is .5 32,2\")\n",
    "print('''                          output_activation=activations.softmax,optimizer='adam',loss=losses.mse,l2_regularizer=.5,\n",
    "                           hidden_activation=activations.tanh,gamma=1.5,dropout_rate=.25,epochs=400,\n",
    "                           contamination=.5,capacity=1,batch_size=32) ''')\n",
    "\n",
    "display(\n",
    "    df_results[df_results[\"rank_test_eer\"] <= 1][\n",
    "        [\n",
    "            \"owner\",\n",
    "            \"rank_test_eer\",\n",
    "            \"mean_test_eer\",\n",
    "            \"std_test_eer\",\n",
    "            \"mean_test_accuracy\",\n",
    "            \"std_test_accuracy\",\n",
    "        ]\n",
    "    ].sort_values(\"mean_test_eer\").head(10)\n",
    ")\n",
    "\n",
    "print(\"\\n\\n\\nMost relevant statistics:\")\n",
    "display(\n",
    "    df_results[df_results[\"rank_test_eer\"] <= 1][\n",
    "        [\n",
    "            \"mean_fit_time\",\n",
    "            \"mean_test_accuracy\",\n",
    "            \"std_test_accuracy\",\n",
    "            \"mean_test_eer\",\n",
    "            \"std_test_eer\",\n",
    "        ]\n",
    "    ].describe()\n",
    ")"
   ]
  },
  {
   "cell_type": "code",
   "execution_count": 77,
   "metadata": {},
   "outputs": [
    {
     "name": "stdout",
     "output_type": "stream",
     "text": [
      "Best results for each owner: transofrm Y to 0/1 instd -1/1\n"
     ]
    },
    {
     "data": {
      "text/html": [
       "<div>\n",
       "<style scoped>\n",
       "    .dataframe tbody tr th:only-of-type {\n",
       "        vertical-align: middle;\n",
       "    }\n",
       "\n",
       "    .dataframe tbody tr th {\n",
       "        vertical-align: top;\n",
       "    }\n",
       "\n",
       "    .dataframe thead th {\n",
       "        text-align: right;\n",
       "    }\n",
       "</style>\n",
       "<table border=\"1\" class=\"dataframe\">\n",
       "  <thead>\n",
       "    <tr style=\"text-align: right;\">\n",
       "      <th></th>\n",
       "      <th>owner</th>\n",
       "      <th>rank_test_eer</th>\n",
       "      <th>mean_test_eer</th>\n",
       "      <th>std_test_eer</th>\n",
       "      <th>mean_test_accuracy</th>\n",
       "      <th>std_test_accuracy</th>\n",
       "    </tr>\n",
       "  </thead>\n",
       "  <tbody>\n",
       "    <tr>\n",
       "      <th>0</th>\n",
       "      <td>785873</td>\n",
       "      <td>1.0</td>\n",
       "      <td>0.246541</td>\n",
       "      <td>0.042696</td>\n",
       "      <td>0.789683</td>\n",
       "      <td>0.060703</td>\n",
       "    </tr>\n",
       "    <tr>\n",
       "      <th>0</th>\n",
       "      <td>186676</td>\n",
       "      <td>1.0</td>\n",
       "      <td>0.249465</td>\n",
       "      <td>0.083608</td>\n",
       "      <td>0.777778</td>\n",
       "      <td>0.077356</td>\n",
       "    </tr>\n",
       "    <tr>\n",
       "      <th>0</th>\n",
       "      <td>368258</td>\n",
       "      <td>1.0</td>\n",
       "      <td>0.297740</td>\n",
       "      <td>0.035352</td>\n",
       "      <td>0.724868</td>\n",
       "      <td>0.055398</td>\n",
       "    </tr>\n",
       "    <tr>\n",
       "      <th>0</th>\n",
       "      <td>879155</td>\n",
       "      <td>1.0</td>\n",
       "      <td>0.329948</td>\n",
       "      <td>0.062069</td>\n",
       "      <td>0.698413</td>\n",
       "      <td>0.078768</td>\n",
       "    </tr>\n",
       "    <tr>\n",
       "      <th>0</th>\n",
       "      <td>710707</td>\n",
       "      <td>1.0</td>\n",
       "      <td>0.331479</td>\n",
       "      <td>0.066593</td>\n",
       "      <td>0.687831</td>\n",
       "      <td>0.071819</td>\n",
       "    </tr>\n",
       "    <tr>\n",
       "      <th>0</th>\n",
       "      <td>201848</td>\n",
       "      <td>1.0</td>\n",
       "      <td>0.378337</td>\n",
       "      <td>0.123887</td>\n",
       "      <td>0.632275</td>\n",
       "      <td>0.144113</td>\n",
       "    </tr>\n",
       "    <tr>\n",
       "      <th>0</th>\n",
       "      <td>264325</td>\n",
       "      <td>1.0</td>\n",
       "      <td>0.381886</td>\n",
       "      <td>0.076120</td>\n",
       "      <td>0.634921</td>\n",
       "      <td>0.096877</td>\n",
       "    </tr>\n",
       "    <tr>\n",
       "      <th>0</th>\n",
       "      <td>827212</td>\n",
       "      <td>1.0</td>\n",
       "      <td>0.412266</td>\n",
       "      <td>0.099263</td>\n",
       "      <td>0.605820</td>\n",
       "      <td>0.123647</td>\n",
       "    </tr>\n",
       "    <tr>\n",
       "      <th>0</th>\n",
       "      <td>698266</td>\n",
       "      <td>1.0</td>\n",
       "      <td>0.414979</td>\n",
       "      <td>0.095785</td>\n",
       "      <td>0.591270</td>\n",
       "      <td>0.117450</td>\n",
       "    </tr>\n",
       "    <tr>\n",
       "      <th>0</th>\n",
       "      <td>815316</td>\n",
       "      <td>1.0</td>\n",
       "      <td>0.441051</td>\n",
       "      <td>0.093944</td>\n",
       "      <td>0.570106</td>\n",
       "      <td>0.116972</td>\n",
       "    </tr>\n",
       "  </tbody>\n",
       "</table>\n",
       "</div>"
      ],
      "text/plain": [
       "    owner  rank_test_eer  mean_test_eer  std_test_eer  mean_test_accuracy  std_test_accuracy\n",
       "0  785873            1.0       0.246541      0.042696            0.789683           0.060703\n",
       "0  186676            1.0       0.249465      0.083608            0.777778           0.077356\n",
       "0  368258            1.0       0.297740      0.035352            0.724868           0.055398\n",
       "0  879155            1.0       0.329948      0.062069            0.698413           0.078768\n",
       "0  710707            1.0       0.331479      0.066593            0.687831           0.071819\n",
       "0  201848            1.0       0.378337      0.123887            0.632275           0.144113\n",
       "0  264325            1.0       0.381886      0.076120            0.634921           0.096877\n",
       "0  827212            1.0       0.412266      0.099263            0.605820           0.123647\n",
       "0  698266            1.0       0.414979      0.095785            0.591270           0.117450\n",
       "0  815316            1.0       0.441051      0.093944            0.570106           0.116972"
      ]
     },
     "metadata": {},
     "output_type": "display_data"
    },
    {
     "name": "stdout",
     "output_type": "stream",
     "text": [
      "\n",
      "\n",
      "\n",
      "Most relevant statistics:\n"
     ]
    },
    {
     "data": {
      "text/html": [
       "<div>\n",
       "<style scoped>\n",
       "    .dataframe tbody tr th:only-of-type {\n",
       "        vertical-align: middle;\n",
       "    }\n",
       "\n",
       "    .dataframe tbody tr th {\n",
       "        vertical-align: top;\n",
       "    }\n",
       "\n",
       "    .dataframe thead th {\n",
       "        text-align: right;\n",
       "    }\n",
       "</style>\n",
       "<table border=\"1\" class=\"dataframe\">\n",
       "  <thead>\n",
       "    <tr style=\"text-align: right;\">\n",
       "      <th></th>\n",
       "      <th>mean_fit_time</th>\n",
       "      <th>mean_test_accuracy</th>\n",
       "      <th>std_test_accuracy</th>\n",
       "      <th>mean_test_eer</th>\n",
       "      <th>std_test_eer</th>\n",
       "    </tr>\n",
       "  </thead>\n",
       "  <tbody>\n",
       "    <tr>\n",
       "      <th>count</th>\n",
       "      <td>10.000000</td>\n",
       "      <td>10.000000</td>\n",
       "      <td>10.000000</td>\n",
       "      <td>10.000000</td>\n",
       "      <td>10.000000</td>\n",
       "    </tr>\n",
       "    <tr>\n",
       "      <th>mean</th>\n",
       "      <td>6.700266</td>\n",
       "      <td>0.671296</td>\n",
       "      <td>0.094310</td>\n",
       "      <td>0.348369</td>\n",
       "      <td>0.077932</td>\n",
       "    </tr>\n",
       "    <tr>\n",
       "      <th>std</th>\n",
       "      <td>0.335040</td>\n",
       "      <td>0.076746</td>\n",
       "      <td>0.029954</td>\n",
       "      <td>0.068694</td>\n",
       "      <td>0.027106</td>\n",
       "    </tr>\n",
       "    <tr>\n",
       "      <th>min</th>\n",
       "      <td>5.781653</td>\n",
       "      <td>0.570106</td>\n",
       "      <td>0.055398</td>\n",
       "      <td>0.246541</td>\n",
       "      <td>0.035352</td>\n",
       "    </tr>\n",
       "    <tr>\n",
       "      <th>25%</th>\n",
       "      <td>6.764542</td>\n",
       "      <td>0.612434</td>\n",
       "      <td>0.073203</td>\n",
       "      <td>0.305792</td>\n",
       "      <td>0.063200</td>\n",
       "    </tr>\n",
       "    <tr>\n",
       "      <th>50%</th>\n",
       "      <td>6.814876</td>\n",
       "      <td>0.661376</td>\n",
       "      <td>0.087823</td>\n",
       "      <td>0.354908</td>\n",
       "      <td>0.079864</td>\n",
       "    </tr>\n",
       "    <tr>\n",
       "      <th>75%</th>\n",
       "      <td>6.861041</td>\n",
       "      <td>0.718254</td>\n",
       "      <td>0.117330</td>\n",
       "      <td>0.404671</td>\n",
       "      <td>0.095325</td>\n",
       "    </tr>\n",
       "    <tr>\n",
       "      <th>max</th>\n",
       "      <td>6.891430</td>\n",
       "      <td>0.789683</td>\n",
       "      <td>0.144113</td>\n",
       "      <td>0.441051</td>\n",
       "      <td>0.123887</td>\n",
       "    </tr>\n",
       "  </tbody>\n",
       "</table>\n",
       "</div>"
      ],
      "text/plain": [
       "       mean_fit_time  mean_test_accuracy  std_test_accuracy  mean_test_eer  std_test_eer\n",
       "count      10.000000           10.000000          10.000000      10.000000     10.000000\n",
       "mean        6.700266            0.671296           0.094310       0.348369      0.077932\n",
       "std         0.335040            0.076746           0.029954       0.068694      0.027106\n",
       "min         5.781653            0.570106           0.055398       0.246541      0.035352\n",
       "25%         6.764542            0.612434           0.073203       0.305792      0.063200\n",
       "50%         6.814876            0.661376           0.087823       0.354908      0.079864\n",
       "75%         6.861041            0.718254           0.117330       0.404671      0.095325\n",
       "max         6.891430            0.789683           0.144113       0.441051      0.123887"
      ]
     },
     "metadata": {},
     "output_type": "display_data"
    }
   ],
   "source": [
    "#df_results = pd.read_csv(OUTPUT_PATH / f\"{P.name+str(enc)}__VAE__random_search_results.csv\")\n",
    "print(\"Best results for each owner: transofrm Y to 0/1 instd -1/1 contam is .25\")\n",
    "'''                          output_activation=activations.softmax,optimizer='adam',loss=losses.mse,l2_regularizer=.5,\n",
    "                           hidden_activation=activations.tanh,gamma=1.5,dropout_rate=.25,epochs=400,\n",
    "                           contamination=.5,capacity=1,batch_size=32) '''\n",
    "display(\n",
    "    df_results[df_results[\"rank_test_eer\"] <= 1][\n",
    "        [\n",
    "            \"owner\",\n",
    "            \"rank_test_eer\",\n",
    "            \"mean_test_eer\",\n",
    "            \"std_test_eer\",\n",
    "            \"mean_test_accuracy\",\n",
    "            \"std_test_accuracy\",\n",
    "        ]\n",
    "    ].sort_values(\"mean_test_eer\").head(10)\n",
    ")\n",
    "\n",
    "print(\"\\n\\n\\nMost relevant statistics:\")\n",
    "display(\n",
    "    df_results[df_results[\"rank_test_eer\"] <= 1][\n",
    "        [\n",
    "            \"mean_fit_time\",\n",
    "            \"mean_test_accuracy\",\n",
    "            \"std_test_accuracy\",\n",
    "            \"mean_test_eer\",\n",
    "            \"std_test_eer\",\n",
    "        ]\n",
    "    ].describe()\n",
    ")"
   ]
  },
  {
   "cell_type": "code",
   "execution_count": 73,
   "metadata": {},
   "outputs": [
    {
     "name": "stdout",
     "output_type": "stream",
     "text": [
      "Best results for each owner: WHEN EER func does ypred*-1\n"
     ]
    },
    {
     "data": {
      "text/html": [
       "<div>\n",
       "<style scoped>\n",
       "    .dataframe tbody tr th:only-of-type {\n",
       "        vertical-align: middle;\n",
       "    }\n",
       "\n",
       "    .dataframe tbody tr th {\n",
       "        vertical-align: top;\n",
       "    }\n",
       "\n",
       "    .dataframe thead th {\n",
       "        text-align: right;\n",
       "    }\n",
       "</style>\n",
       "<table border=\"1\" class=\"dataframe\">\n",
       "  <thead>\n",
       "    <tr style=\"text-align: right;\">\n",
       "      <th></th>\n",
       "      <th>owner</th>\n",
       "      <th>rank_test_eer</th>\n",
       "      <th>mean_test_eer</th>\n",
       "      <th>std_test_eer</th>\n",
       "      <th>mean_test_accuracy</th>\n",
       "      <th>std_test_accuracy</th>\n",
       "    </tr>\n",
       "  </thead>\n",
       "  <tbody>\n",
       "    <tr>\n",
       "      <th>0</th>\n",
       "      <td>785873</td>\n",
       "      <td>1.0</td>\n",
       "      <td>0.245524</td>\n",
       "      <td>0.045121</td>\n",
       "      <td>0.128307</td>\n",
       "      <td>0.004949</td>\n",
       "    </tr>\n",
       "    <tr>\n",
       "      <th>0</th>\n",
       "      <td>186676</td>\n",
       "      <td>1.0</td>\n",
       "      <td>0.248282</td>\n",
       "      <td>0.081467</td>\n",
       "      <td>0.095238</td>\n",
       "      <td>0.000000</td>\n",
       "    </tr>\n",
       "    <tr>\n",
       "      <th>0</th>\n",
       "      <td>368258</td>\n",
       "      <td>1.0</td>\n",
       "      <td>0.304255</td>\n",
       "      <td>0.043113</td>\n",
       "      <td>0.154762</td>\n",
       "      <td>0.000000</td>\n",
       "    </tr>\n",
       "    <tr>\n",
       "      <th>0</th>\n",
       "      <td>879155</td>\n",
       "      <td>1.0</td>\n",
       "      <td>0.326648</td>\n",
       "      <td>0.062856</td>\n",
       "      <td>0.170635</td>\n",
       "      <td>0.005612</td>\n",
       "    </tr>\n",
       "    <tr>\n",
       "      <th>0</th>\n",
       "      <td>710707</td>\n",
       "      <td>1.0</td>\n",
       "      <td>0.330215</td>\n",
       "      <td>0.067893</td>\n",
       "      <td>0.142857</td>\n",
       "      <td>0.000000</td>\n",
       "    </tr>\n",
       "    <tr>\n",
       "      <th>0</th>\n",
       "      <td>201848</td>\n",
       "      <td>1.0</td>\n",
       "      <td>0.381306</td>\n",
       "      <td>0.120639</td>\n",
       "      <td>0.119048</td>\n",
       "      <td>0.000000</td>\n",
       "    </tr>\n",
       "    <tr>\n",
       "      <th>0</th>\n",
       "      <td>264325</td>\n",
       "      <td>1.0</td>\n",
       "      <td>0.385311</td>\n",
       "      <td>0.078333</td>\n",
       "      <td>0.190476</td>\n",
       "      <td>0.000000</td>\n",
       "    </tr>\n",
       "    <tr>\n",
       "      <th>0</th>\n",
       "      <td>698266</td>\n",
       "      <td>1.0</td>\n",
       "      <td>0.408123</td>\n",
       "      <td>0.098162</td>\n",
       "      <td>0.165344</td>\n",
       "      <td>0.003741</td>\n",
       "    </tr>\n",
       "    <tr>\n",
       "      <th>0</th>\n",
       "      <td>827212</td>\n",
       "      <td>1.0</td>\n",
       "      <td>0.413394</td>\n",
       "      <td>0.100507</td>\n",
       "      <td>0.167989</td>\n",
       "      <td>0.003741</td>\n",
       "    </tr>\n",
       "    <tr>\n",
       "      <th>0</th>\n",
       "      <td>815316</td>\n",
       "      <td>1.0</td>\n",
       "      <td>0.438025</td>\n",
       "      <td>0.091202</td>\n",
       "      <td>0.202381</td>\n",
       "      <td>0.000000</td>\n",
       "    </tr>\n",
       "  </tbody>\n",
       "</table>\n",
       "</div>"
      ],
      "text/plain": [
       "    owner  rank_test_eer  mean_test_eer  std_test_eer  mean_test_accuracy  std_test_accuracy\n",
       "0  785873            1.0       0.245524      0.045121            0.128307           0.004949\n",
       "0  186676            1.0       0.248282      0.081467            0.095238           0.000000\n",
       "0  368258            1.0       0.304255      0.043113            0.154762           0.000000\n",
       "0  879155            1.0       0.326648      0.062856            0.170635           0.005612\n",
       "0  710707            1.0       0.330215      0.067893            0.142857           0.000000\n",
       "0  201848            1.0       0.381306      0.120639            0.119048           0.000000\n",
       "0  264325            1.0       0.385311      0.078333            0.190476           0.000000\n",
       "0  698266            1.0       0.408123      0.098162            0.165344           0.003741\n",
       "0  827212            1.0       0.413394      0.100507            0.167989           0.003741\n",
       "0  815316            1.0       0.438025      0.091202            0.202381           0.000000"
      ]
     },
     "metadata": {},
     "output_type": "display_data"
    },
    {
     "name": "stdout",
     "output_type": "stream",
     "text": [
      "\n",
      "\n",
      "\n",
      "Most relevant statistics:\n"
     ]
    },
    {
     "data": {
      "text/html": [
       "<div>\n",
       "<style scoped>\n",
       "    .dataframe tbody tr th:only-of-type {\n",
       "        vertical-align: middle;\n",
       "    }\n",
       "\n",
       "    .dataframe tbody tr th {\n",
       "        vertical-align: top;\n",
       "    }\n",
       "\n",
       "    .dataframe thead th {\n",
       "        text-align: right;\n",
       "    }\n",
       "</style>\n",
       "<table border=\"1\" class=\"dataframe\">\n",
       "  <thead>\n",
       "    <tr style=\"text-align: right;\">\n",
       "      <th></th>\n",
       "      <th>mean_fit_time</th>\n",
       "      <th>mean_test_accuracy</th>\n",
       "      <th>std_test_accuracy</th>\n",
       "      <th>mean_test_eer</th>\n",
       "      <th>std_test_eer</th>\n",
       "    </tr>\n",
       "  </thead>\n",
       "  <tbody>\n",
       "    <tr>\n",
       "      <th>count</th>\n",
       "      <td>10.000000</td>\n",
       "      <td>10.000000</td>\n",
       "      <td>10.000000</td>\n",
       "      <td>10.000000</td>\n",
       "      <td>10.000000</td>\n",
       "    </tr>\n",
       "    <tr>\n",
       "      <th>mean</th>\n",
       "      <td>6.824730</td>\n",
       "      <td>0.153704</td>\n",
       "      <td>0.001804</td>\n",
       "      <td>0.348108</td>\n",
       "      <td>0.078929</td>\n",
       "    </tr>\n",
       "    <tr>\n",
       "      <th>std</th>\n",
       "      <td>0.035532</td>\n",
       "      <td>0.032882</td>\n",
       "      <td>0.002390</td>\n",
       "      <td>0.068010</td>\n",
       "      <td>0.024807</td>\n",
       "    </tr>\n",
       "    <tr>\n",
       "      <th>min</th>\n",
       "      <td>6.767725</td>\n",
       "      <td>0.095238</td>\n",
       "      <td>0.000000</td>\n",
       "      <td>0.245524</td>\n",
       "      <td>0.043113</td>\n",
       "    </tr>\n",
       "    <tr>\n",
       "      <th>25%</th>\n",
       "      <td>6.800445</td>\n",
       "      <td>0.131944</td>\n",
       "      <td>0.000000</td>\n",
       "      <td>0.309853</td>\n",
       "      <td>0.064115</td>\n",
       "    </tr>\n",
       "    <tr>\n",
       "      <th>50%</th>\n",
       "      <td>6.825090</td>\n",
       "      <td>0.160053</td>\n",
       "      <td>0.000000</td>\n",
       "      <td>0.355761</td>\n",
       "      <td>0.079900</td>\n",
       "    </tr>\n",
       "    <tr>\n",
       "      <th>75%</th>\n",
       "      <td>6.856741</td>\n",
       "      <td>0.169974</td>\n",
       "      <td>0.003741</td>\n",
       "      <td>0.402420</td>\n",
       "      <td>0.096422</td>\n",
       "    </tr>\n",
       "    <tr>\n",
       "      <th>max</th>\n",
       "      <td>6.870355</td>\n",
       "      <td>0.202381</td>\n",
       "      <td>0.005612</td>\n",
       "      <td>0.438025</td>\n",
       "      <td>0.120639</td>\n",
       "    </tr>\n",
       "  </tbody>\n",
       "</table>\n",
       "</div>"
      ],
      "text/plain": [
       "       mean_fit_time  mean_test_accuracy  std_test_accuracy  mean_test_eer  std_test_eer\n",
       "count      10.000000           10.000000          10.000000      10.000000     10.000000\n",
       "mean        6.824730            0.153704           0.001804       0.348108      0.078929\n",
       "std         0.035532            0.032882           0.002390       0.068010      0.024807\n",
       "min         6.767725            0.095238           0.000000       0.245524      0.043113\n",
       "25%         6.800445            0.131944           0.000000       0.309853      0.064115\n",
       "50%         6.825090            0.160053           0.000000       0.355761      0.079900\n",
       "75%         6.856741            0.169974           0.003741       0.402420      0.096422\n",
       "max         6.870355            0.202381           0.005612       0.438025      0.120639"
      ]
     },
     "metadata": {},
     "output_type": "display_data"
    }
   ],
   "source": [
    "#df_results = pd.read_csv(OUTPUT_PATH / f\"{P.name+str(enc)}__VAE__random_search_results.csv\")\n",
    "print(\"Best results for each owner: WHEN EER func does ypred*-1\")\n",
    "\n",
    "display(\n",
    "    df_results[df_results[\"rank_test_eer\"] <= 1][\n",
    "        [\n",
    "            \"owner\",\n",
    "            \"rank_test_eer\",\n",
    "            \"mean_test_eer\",\n",
    "            \"std_test_eer\",\n",
    "            \"mean_test_accuracy\",\n",
    "            \"std_test_accuracy\",\n",
    "        ]\n",
    "    ].sort_values(\"mean_test_eer\").head(10)\n",
    ")\n",
    "\n",
    "print(\"\\n\\n\\nMost relevant statistics:\")\n",
    "display(\n",
    "    df_results[df_results[\"rank_test_eer\"] <= 1][\n",
    "        [\n",
    "            \"mean_fit_time\",\n",
    "            \"mean_test_accuracy\",\n",
    "            \"std_test_accuracy\",\n",
    "            \"mean_test_eer\",\n",
    "            \"std_test_eer\",\n",
    "        ]\n",
    "    ].describe()\n",
    ")"
   ]
  },
  {
   "cell_type": "code",
   "execution_count": 66,
   "metadata": {},
   "outputs": [
    {
     "name": "stdout",
     "output_type": "stream",
     "text": [
      "Best results for each owner: WHEN 1-PREDICT\n"
     ]
    },
    {
     "data": {
      "text/html": [
       "<div>\n",
       "<style scoped>\n",
       "    .dataframe tbody tr th:only-of-type {\n",
       "        vertical-align: middle;\n",
       "    }\n",
       "\n",
       "    .dataframe tbody tr th {\n",
       "        vertical-align: top;\n",
       "    }\n",
       "\n",
       "    .dataframe thead th {\n",
       "        text-align: right;\n",
       "    }\n",
       "</style>\n",
       "<table border=\"1\" class=\"dataframe\">\n",
       "  <thead>\n",
       "    <tr style=\"text-align: right;\">\n",
       "      <th></th>\n",
       "      <th>owner</th>\n",
       "      <th>rank_test_eer</th>\n",
       "      <th>mean_test_eer</th>\n",
       "      <th>std_test_eer</th>\n",
       "      <th>mean_test_accuracy</th>\n",
       "      <th>std_test_accuracy</th>\n",
       "    </tr>\n",
       "  </thead>\n",
       "  <tbody>\n",
       "    <tr>\n",
       "      <th>0</th>\n",
       "      <td>815316</td>\n",
       "      <td>1.0</td>\n",
       "      <td>0.554300</td>\n",
       "      <td>0.087736</td>\n",
       "      <td>0.181217</td>\n",
       "      <td>0.010908</td>\n",
       "    </tr>\n",
       "    <tr>\n",
       "      <th>0</th>\n",
       "      <td>264325</td>\n",
       "      <td>1.0</td>\n",
       "      <td>0.562695</td>\n",
       "      <td>0.075475</td>\n",
       "      <td>0.250000</td>\n",
       "      <td>0.000000</td>\n",
       "    </tr>\n",
       "    <tr>\n",
       "      <th>0</th>\n",
       "      <td>698266</td>\n",
       "      <td>1.0</td>\n",
       "      <td>0.573155</td>\n",
       "      <td>0.101344</td>\n",
       "      <td>0.178571</td>\n",
       "      <td>0.000000</td>\n",
       "    </tr>\n",
       "    <tr>\n",
       "      <th>0</th>\n",
       "      <td>827212</td>\n",
       "      <td>1.0</td>\n",
       "      <td>0.579319</td>\n",
       "      <td>0.100399</td>\n",
       "      <td>0.154762</td>\n",
       "      <td>0.000000</td>\n",
       "    </tr>\n",
       "    <tr>\n",
       "      <th>0</th>\n",
       "      <td>201848</td>\n",
       "      <td>1.0</td>\n",
       "      <td>0.597150</td>\n",
       "      <td>0.125504</td>\n",
       "      <td>0.119048</td>\n",
       "      <td>0.000000</td>\n",
       "    </tr>\n",
       "    <tr>\n",
       "      <th>0</th>\n",
       "      <td>710707</td>\n",
       "      <td>1.0</td>\n",
       "      <td>0.636395</td>\n",
       "      <td>0.087813</td>\n",
       "      <td>0.120370</td>\n",
       "      <td>0.003741</td>\n",
       "    </tr>\n",
       "    <tr>\n",
       "      <th>0</th>\n",
       "      <td>879155</td>\n",
       "      <td>1.0</td>\n",
       "      <td>0.668178</td>\n",
       "      <td>0.080047</td>\n",
       "      <td>0.154762</td>\n",
       "      <td>0.007937</td>\n",
       "    </tr>\n",
       "    <tr>\n",
       "      <th>0</th>\n",
       "      <td>368258</td>\n",
       "      <td>1.0</td>\n",
       "      <td>0.709081</td>\n",
       "      <td>0.019203</td>\n",
       "      <td>0.165344</td>\n",
       "      <td>0.006745</td>\n",
       "    </tr>\n",
       "    <tr>\n",
       "      <th>0</th>\n",
       "      <td>785873</td>\n",
       "      <td>1.0</td>\n",
       "      <td>0.747648</td>\n",
       "      <td>0.049751</td>\n",
       "      <td>0.130952</td>\n",
       "      <td>0.000000</td>\n",
       "    </tr>\n",
       "    <tr>\n",
       "      <th>0</th>\n",
       "      <td>186676</td>\n",
       "      <td>1.0</td>\n",
       "      <td>0.757840</td>\n",
       "      <td>0.057912</td>\n",
       "      <td>0.095238</td>\n",
       "      <td>0.000000</td>\n",
       "    </tr>\n",
       "  </tbody>\n",
       "</table>\n",
       "</div>"
      ],
      "text/plain": [
       "    owner  rank_test_eer  mean_test_eer  std_test_eer  mean_test_accuracy  std_test_accuracy\n",
       "0  815316            1.0       0.554300      0.087736            0.181217           0.010908\n",
       "0  264325            1.0       0.562695      0.075475            0.250000           0.000000\n",
       "0  698266            1.0       0.573155      0.101344            0.178571           0.000000\n",
       "0  827212            1.0       0.579319      0.100399            0.154762           0.000000\n",
       "0  201848            1.0       0.597150      0.125504            0.119048           0.000000\n",
       "0  710707            1.0       0.636395      0.087813            0.120370           0.003741\n",
       "0  879155            1.0       0.668178      0.080047            0.154762           0.007937\n",
       "0  368258            1.0       0.709081      0.019203            0.165344           0.006745\n",
       "0  785873            1.0       0.747648      0.049751            0.130952           0.000000\n",
       "0  186676            1.0       0.757840      0.057912            0.095238           0.000000"
      ]
     },
     "metadata": {},
     "output_type": "display_data"
    },
    {
     "name": "stdout",
     "output_type": "stream",
     "text": [
      "\n",
      "\n",
      "\n",
      "Most relevant statistics:\n"
     ]
    },
    {
     "data": {
      "text/html": [
       "<div>\n",
       "<style scoped>\n",
       "    .dataframe tbody tr th:only-of-type {\n",
       "        vertical-align: middle;\n",
       "    }\n",
       "\n",
       "    .dataframe tbody tr th {\n",
       "        vertical-align: top;\n",
       "    }\n",
       "\n",
       "    .dataframe thead th {\n",
       "        text-align: right;\n",
       "    }\n",
       "</style>\n",
       "<table border=\"1\" class=\"dataframe\">\n",
       "  <thead>\n",
       "    <tr style=\"text-align: right;\">\n",
       "      <th></th>\n",
       "      <th>mean_fit_time</th>\n",
       "      <th>mean_test_accuracy</th>\n",
       "      <th>std_test_accuracy</th>\n",
       "      <th>mean_test_eer</th>\n",
       "      <th>std_test_eer</th>\n",
       "    </tr>\n",
       "  </thead>\n",
       "  <tbody>\n",
       "    <tr>\n",
       "      <th>count</th>\n",
       "      <td>10.000000</td>\n",
       "      <td>10.000000</td>\n",
       "      <td>10.000000</td>\n",
       "      <td>10.000000</td>\n",
       "      <td>10.000000</td>\n",
       "    </tr>\n",
       "    <tr>\n",
       "      <th>mean</th>\n",
       "      <td>6.457424</td>\n",
       "      <td>0.155026</td>\n",
       "      <td>0.002933</td>\n",
       "      <td>0.638576</td>\n",
       "      <td>0.078518</td>\n",
       "    </tr>\n",
       "    <tr>\n",
       "      <th>std</th>\n",
       "      <td>0.388022</td>\n",
       "      <td>0.043483</td>\n",
       "      <td>0.004156</td>\n",
       "      <td>0.077703</td>\n",
       "      <td>0.030113</td>\n",
       "    </tr>\n",
       "    <tr>\n",
       "      <th>min</th>\n",
       "      <td>5.823844</td>\n",
       "      <td>0.095238</td>\n",
       "      <td>0.000000</td>\n",
       "      <td>0.554300</td>\n",
       "      <td>0.019203</td>\n",
       "    </tr>\n",
       "    <tr>\n",
       "      <th>25%</th>\n",
       "      <td>6.235956</td>\n",
       "      <td>0.123016</td>\n",
       "      <td>0.000000</td>\n",
       "      <td>0.574696</td>\n",
       "      <td>0.062303</td>\n",
       "    </tr>\n",
       "    <tr>\n",
       "      <th>50%</th>\n",
       "      <td>6.447567</td>\n",
       "      <td>0.154762</td>\n",
       "      <td>0.000000</td>\n",
       "      <td>0.616773</td>\n",
       "      <td>0.083891</td>\n",
       "    </tr>\n",
       "    <tr>\n",
       "      <th>75%</th>\n",
       "      <td>6.790774</td>\n",
       "      <td>0.175265</td>\n",
       "      <td>0.005994</td>\n",
       "      <td>0.698855</td>\n",
       "      <td>0.097253</td>\n",
       "    </tr>\n",
       "    <tr>\n",
       "      <th>max</th>\n",
       "      <td>6.941192</td>\n",
       "      <td>0.250000</td>\n",
       "      <td>0.010908</td>\n",
       "      <td>0.757840</td>\n",
       "      <td>0.125504</td>\n",
       "    </tr>\n",
       "  </tbody>\n",
       "</table>\n",
       "</div>"
      ],
      "text/plain": [
       "       mean_fit_time  mean_test_accuracy  std_test_accuracy  mean_test_eer  std_test_eer\n",
       "count      10.000000           10.000000          10.000000      10.000000     10.000000\n",
       "mean        6.457424            0.155026           0.002933       0.638576      0.078518\n",
       "std         0.388022            0.043483           0.004156       0.077703      0.030113\n",
       "min         5.823844            0.095238           0.000000       0.554300      0.019203\n",
       "25%         6.235956            0.123016           0.000000       0.574696      0.062303\n",
       "50%         6.447567            0.154762           0.000000       0.616773      0.083891\n",
       "75%         6.790774            0.175265           0.005994       0.698855      0.097253\n",
       "max         6.941192            0.250000           0.010908       0.757840      0.125504"
      ]
     },
     "metadata": {},
     "output_type": "display_data"
    }
   ],
   "source": [
    "#df_results = pd.read_csv(OUTPUT_PATH / f\"{P.name+str(enc)}__VAE__random_search_results.csv\")\n",
    "print(\"Best results for each owner: WHEN 1-PREDICT\")\n",
    "\n",
    "display(\n",
    "    df_results[df_results[\"rank_test_eer\"] <= 1][\n",
    "        [\n",
    "            \"owner\",\n",
    "            \"rank_test_eer\",\n",
    "            \"mean_test_eer\",\n",
    "            \"std_test_eer\",\n",
    "            \"mean_test_accuracy\",\n",
    "            \"std_test_accuracy\",\n",
    "        ]\n",
    "    ].sort_values(\"mean_test_eer\").head(10)\n",
    ")\n",
    "\n",
    "print(\"\\n\\n\\nMost relevant statistics:\")\n",
    "display(\n",
    "    df_results[df_results[\"rank_test_eer\"] <= 1][\n",
    "        [\n",
    "            \"mean_fit_time\",\n",
    "            \"mean_test_accuracy\",\n",
    "            \"std_test_accuracy\",\n",
    "            \"mean_test_eer\",\n",
    "            \"std_test_eer\",\n",
    "        ]\n",
    "    ].describe()\n",
    ")"
   ]
  },
  {
   "cell_type": "markdown",
   "metadata": {},
   "source": [
    "# try xgbod \n",
    "# try OCSVM (best is .13) and LOF (best was .15) from sklearn vs pyod :/ \n",
    "https://github.com/yzhao062/Pyod/issues/4\n",
    "he says they r the same but instead of outliers having lower scores they have higher scores \n",
    "# try all pyod models "
   ]
  },
  {
   "cell_type": "code",
   "execution_count": null,
   "metadata": {},
   "outputs": [],
   "source": []
  },
  {
   "cell_type": "code",
   "execution_count": null,
   "metadata": {},
   "outputs": [],
   "source": [
    "from pyod.models.abod import ABOD\n",
    "from pyod.models.cblof import CBLOF\n",
    "from pyod.models.feature_bagging import FeatureBagging\n",
    "from pyod.models.hbos import HBOS\n",
    "from pyod.models.iforest import IForest\n",
    "from pyod.models.knn import KNN\n",
    "from pyod.models.lof import LOF\n",
    "from pyod.models.loci import LOCI\n",
    "from pyod.models.mcd import MCD\n",
    "from pyod.models.ocsvm import OCSVM\n",
    "from pyod.models.pca import PCA\n",
    "from pyod.models.sos import SOS\n",
    "from pyod.models.lscp import LSCP\n",
    "from pyod.models.cof import COF\n",
    "from pyod.models.sod import SOD\n",
    "from pyod.models.xgbod import XGBOD\n",
    "\n",
    "param_dist = {\"contamination\" :   np.linspace(.5, 0,6)}\n",
    "\n",
    "# Load Siamese CNN Model\n",
    "deep_feature_model = load_deep_feature_model(OUTPUT_PATH / f\"{P.name}_model.h5\")\n",
    "\n",
    "df_results = None  # Will be filled with randomsearch scores\n",
    "'''\n",
    "modelss = [\n",
    "    ABOD(), \n",
    "    CBLOF(), \n",
    "    FeatureBagging(), \n",
    "    HBOS(), \n",
    "    IForest(), \n",
    "    KNN(), \n",
    "    LOF(), \n",
    "    LOCI(), \n",
    "    MCD(), \n",
    "    OCSVM(), \n",
    "    PCA(), \n",
    "    SOS(), \n",
    "    LSCP(), \n",
    "    COF(), \n",
    "    SOD(), \n",
    "]\n",
    "for mooo in modelss: \n",
    "'''\n",
    "for run in tqdm(range(1)):\n",
    "    for df_cv_scenarios, owner, impostors in tqdm(\n",
    "        utils_generate_cv_scenarios(\n",
    "            df_ocsvm_train_valid,\n",
    "            samples_per_subject_train=P.samples_per_subject_train,\n",
    "            samples_per_subject_test=P.samples_per_subject_test,\n",
    "            seed=SEED + run,\n",
    "            scaler=P.scaler,\n",
    "            scaler_global=P.scaler_global,\n",
    "            scaler_scope=P.scaler_scope,\n",
    "            deep_model=deep_feature_model,\n",
    "            model_variant=P.model_variant,\n",
    "            feature_cols=P.feature_cols,\n",
    "        ),\n",
    "        desc=\"Owner\",\n",
    "        total=df_ocsvm_train_valid[\"subject\"].nunique(),\n",
    "        leave=False,\n",
    "    ):\n",
    "\n",
    "        X = np.array(df_cv_scenarios[\"X\"].values.tolist())\n",
    "        y = df_cv_scenarios[\"label\"].values\n",
    "\n",
    "        train_valid_cv = utils_create_cv_splits(df_cv_scenarios[\"mask\"].values, SEED)\n",
    "\n",
    "        model = XGBOD()  #mooo\n",
    "\n",
    "        warnings.filterwarnings(\"ignore\")\n",
    "        random_search = RandomizedSearchCV(\n",
    "            model,\n",
    "            param_distributions=param_dist,\n",
    "            cv=train_valid_cv,\n",
    "            n_iter=80,\n",
    "            n_jobs=CORES,\n",
    "            refit=False,\n",
    "            scoring={\"eer\": utils_eer_scorer, \"accuracy\": \"accuracy\"},\n",
    "            verbose=0,\n",
    "            return_train_score=False,\n",
    "            iid=False,\n",
    "            error_score=np.nan,\n",
    "            random_state=SEED,\n",
    "        )\n",
    "\n",
    "        random_search.fit(X, y)\n",
    "\n",
    "        df_report = utils_cv_report(random_search, owner, impostors)\n",
    "        df_report[\"run\"] = run\n",
    "        df_results = pd.concat([df_results, df_report], sort=False)\n",
    "\n",
    "df_results.to_csv(OUTPUT_PATH / f\"{P.name}_random_search_results.csv\", index=False)"
   ]
  },
  {
   "cell_type": "code",
   "execution_count": null,
   "metadata": {},
   "outputs": [],
   "source": [
    "for enc in encoder_architectures[::-1]: \n",
    "    df_results = pd.read_csv(OUTPUT_PATH / f\"{P.name+str(enc)}__VAE__random_search_results.csv\")\n",
    "    print(\"Best results for each owner:\")\n",
    "\n",
    "    display(\n",
    "        df_results[df_results[\"rank_test_eer\"] <= 1][\n",
    "            [\n",
    "                \"owner\",\n",
    "                \"rank_test_eer\",\n",
    "                \"mean_test_eer\",\n",
    "                \"std_test_eer\",\n",
    "                \"mean_test_accuracy\",\n",
    "                \"std_test_accuracy\",\n",
    "            ]\n",
    "        ].sort_values(\"mean_test_eer\").head(10)\n",
    "    )\n",
    "\n",
    "    print(\"\\n\\n\\nMost relevant statistics:\")\n",
    "    display(\n",
    "        df_results[df_results[\"rank_test_eer\"] <= 1][\n",
    "            [\n",
    "                \"mean_fit_time\",\n",
    "                \"mean_test_accuracy\",\n",
    "                \"std_test_accuracy\",\n",
    "                \"mean_test_eer\",\n",
    "                \"std_test_eer\",\n",
    "            ]\n",
    "        ].describe()\n",
    "    )"
   ]
  },
  {
   "cell_type": "markdown",
   "metadata": {},
   "source": [
    "**Plot parameters of top n of 30 results for every Owner:**"
   ]
  },
  {
   "cell_type": "code",
   "execution_count": null,
   "metadata": {
    "scrolled": true
   },
   "outputs": [],
   "source": [
    "utils_plot_randomsearch_results(df_results, 1)\n",
    "utils_save_plot(plt, REPORT_PATH / f\"buech2019-siamese-{P.name.lower()}-parameters.pdf\")"
   ]
  },
  {
   "cell_type": "markdown",
   "metadata": {},
   "source": [
    "## 7. Testing <a id='7'>&nbsp;</a> "
   ]
  },
  {
   "cell_type": "markdown",
   "metadata": {},
   "source": [
    "### 7.1 Load cached Data <a id='7.1'>&nbsp;</a> \n",
    "During testing, a split with different users than used for hyperparameter optimization is used:"
   ]
  },
  {
   "cell_type": "code",
   "execution_count": null,
   "metadata": {},
   "outputs": [],
   "source": [
    "df_ocsvm_train_test = pd.read_msgpack(OUTPUT_PATH / \"df_ocsvm_train_test.msg\")"
   ]
  },
  {
   "cell_type": "markdown",
   "metadata": {},
   "source": [
    "### 7.2 Evaluate Authentication Performance <a id='7.2'>&nbsp;</a> \n",
    "- Using Testing Split, Scenario Cross Validation, and multiple runs to lower impact of random session/sample selection."
   ]
  },
  {
   "cell_type": "code",
   "execution_count": null,
   "metadata": {},
   "outputs": [],
   "source": [
    "# Load Siamese CNN Model\n",
    "deep_feature_model = load_deep_feature_model(OUTPUT_PATH / f\"{P.name}_model.h5\")\n",
    "\n",
    "df_results = None  # Will be filled with cv scores\n",
    "for i in tqdm(range(5), desc=\"Run\", leave=False):  # Run whole test 5 times\n",
    "    for df_cv_scenarios, owner, impostors in tqdm(\n",
    "        utils_generate_cv_scenarios(\n",
    "            df_ocsvm_train_test,\n",
    "            samples_per_subject_train=P.samples_per_subject_train,\n",
    "            samples_per_subject_test=P.samples_per_subject_test,\n",
    "            seed=SEED,\n",
    "            scaler=P.scaler,\n",
    "            scaler_global=P.scaler_global,\n",
    "            scaler_scope=P.scaler_scope,\n",
    "            deep_model=deep_feature_model,\n",
    "            model_variant=P.model_variant,\n",
    "            feature_cols=P.feature_cols,\n",
    "        ),\n",
    "        desc=\"Owner\",\n",
    "        total=df_ocsvm_train_test[\"subject\"].nunique(),\n",
    "        leave=False,\n",
    "    ):\n",
    "\n",
    "        X = np.array(df_cv_scenarios[\"X\"].values.tolist())\n",
    "        y = df_cv_scenarios[\"label\"].values\n",
    "\n",
    "        train_test_cv = utils_create_cv_splits(df_cv_scenarios[\"mask\"].values, SEED)\n",
    "\n",
    "        model = VAE([32,16,8,1],[1,8,16,32], \n",
    "                contamination=.5, optimizer='sgd',                \n",
    "                gamma=3 , \n",
    "                capacity=.5 , \n",
    "                loss=losses.kld,\n",
    "                batch_size=32, \n",
    "                dropout_rate=.25,\n",
    "                epochs=200,\n",
    "                output_activation=activations.selu, \n",
    "                hidden_activation=activations.sigmoid, \n",
    "    )\n",
    "\n",
    "        warnings.filterwarnings(\"ignore\")\n",
    "        scores = cross_validate(\n",
    "            model,\n",
    "            X,\n",
    "            y,\n",
    "            cv=train_test_cv,\n",
    "            scoring={\"eer\": utils_eer_scorer, \"accuracy\": \"accuracy\"},\n",
    "            n_jobs=CORES,\n",
    "            verbose=1,\n",
    "            return_train_score=True,\n",
    "        )\n",
    "        df_score = pd.DataFrame(scores)\n",
    "        df_score[\"owner\"] = owner\n",
    "        df_score[\"train_eer\"] = df_score[\"train_eer\"].abs()  # Revert scorer's signflip\n",
    "        df_score[\"test_eer\"] = df_score[\"test_eer\"].abs()\n",
    "        df_results = pd.concat([df_results, df_score], axis=0)\n",
    "\n",
    "df_results.to_csv(OUTPUT_PATH / f\"{P.name}_VAE_test_results.csv\", index=False)\n",
    "df_results.head()"
   ]
  },
  {
   "cell_type": "markdown",
   "metadata": {},
   "source": [
    "**Load Results from \"EER & Accuracy\" evaluation & prepare for plotting:**"
   ]
  },
  {
   "cell_type": "code",
   "execution_count": null,
   "metadata": {},
   "outputs": [],
   "source": [
    "df_results = pd.read_csv(OUTPUT_PATH / f\"{P.name}_VAE_test_results.csv\")\n",
    "df_plot = df_results.rename(\n",
    "    columns={\"test_accuracy\": \"Test Accuracy\", \"test_eer\": \"Test EER\", \"owner\": \"Owner\"}\n",
    ").astype({\"Owner\": str})"
   ]
  },
  {
   "cell_type": "markdown",
   "metadata": {},
   "source": [
    "**Plot Distribution of Accuracy per subject:**"
   ]
  },
  {
   "cell_type": "code",
   "execution_count": null,
   "metadata": {},
   "outputs": [],
   "source": [
    "fig = utils_plot_acc_eer_dist(df_plot, \"mean_test_accuracy\")\n",
    "utils_save_plot(plt, REPORT_PATH / f\"buech2019-siamese-{P.name.lower()}-acc.pdf\")"
   ]
  },
  {
   "cell_type": "markdown",
   "metadata": {},
   "source": [
    "**Plot Distribution of EER per subject:**"
   ]
  },
  {
   "cell_type": "code",
   "execution_count": null,
   "metadata": {},
   "outputs": [],
   "source": [
    "fig = utils_plot_acc_eer_dist(df_plot, \"mean_test_eer\") # with new archi [32,16,4,1],[1,4,16,32] instead of [32,16,8,4,1],[1,4,8,16,32]\n",
    "utils_save_plot(plt, REPORT_PATH / f\"buech2019-siamese-{P.name.lower()}-eer.pdf\")"
   ]
  },
  {
   "cell_type": "code",
   "execution_count": null,
   "metadata": {},
   "outputs": [],
   "source": [
    "fig = utils_plot_acc_eer_dist(df_plot, \"mean_test_eer\")\n",
    "utils_save_plot(plt, REPORT_PATH / f\"buech2019-siamese-{P.name.lower()}-eer.pdf\")"
   ]
  },
  {
   "cell_type": "markdown",
   "metadata": {},
   "source": [
    "### 7.3 Evaluate increasing Training Set Size (Training Delay) <a id='7.3'>&nbsp;</a> "
   ]
  },
  {
   "cell_type": "code",
   "execution_count": null,
   "metadata": {},
   "outputs": [],
   "source": [
    "training_set_sizes = [1, 2, 3, 4, 10, 30, 60, 90, 125, 175, 250, 375]  # In samples\n",
    "\n",
    "deep_feature_model = load_deep_feature_model(OUTPUT_PATH / f\"{P.name}_model.h5\")\n",
    "\n",
    "df_results = None  # Will be filled with cv scores\n",
    "for i in tqdm(range(5), desc=\"Run\", leave=False):  # Run whole test 5 times\n",
    "    for n_train_samples in tqdm(training_set_sizes, desc=\"Train Size\", leave=False):\n",
    "        for df_cv_scenarios, owner, impostors in tqdm(\n",
    "            utils_generate_cv_scenarios(\n",
    "                df_ocsvm_train_test,\n",
    "                samples_per_subject_train=P.samples_per_subject_train,\n",
    "                samples_per_subject_test=P.samples_per_subject_test,\n",
    "                limit_train_samples=n_train_samples,  # samples overall\n",
    "                seed=SEED + i,\n",
    "                scaler=P.scaler,\n",
    "                scaler_global=P.scaler_global,\n",
    "                scaler_scope=P.scaler_scope,\n",
    "                deep_model=deep_feature_model,\n",
    "                model_variant=P.model_variant,\n",
    "                feature_cols=P.feature_cols,\n",
    "            ),\n",
    "            desc=\"Owner\",\n",
    "            total=df_ocsvm_train_test[\"subject\"].nunique(),\n",
    "            leave=False,\n",
    "        ):\n",
    "            X = np.array(df_cv_scenarios[\"X\"].values.tolist())\n",
    "            y = df_cv_scenarios[\"label\"].values\n",
    "\n",
    "            train_test_cv = utils_create_cv_splits(df_cv_scenarios[\"mask\"].values, SEED)\n",
    "\n",
    "            model = VAE([32,16,8,4,1],[1,4,8,16,32], contamination=.5, optimizer='sgd',                \n",
    "                gamma=3 , \n",
    "                capacity=.5 , \n",
    "                loss=losses.kld,\n",
    "                batch_size=32, \n",
    "                dropout_rate=.25,\n",
    "                epochs=200,\n",
    "                output_activation=activations.selu, \n",
    "                hidden_activation=activations.sigmoid, \n",
    "    )\n",
    "\n",
    "            warnings.filterwarnings(\"ignore\")\n",
    "            scores = cross_validate(\n",
    "                model,\n",
    "                X,\n",
    "                y,\n",
    "                cv=train_test_cv,\n",
    "                scoring={\"eer\": utils_eer_scorer},\n",
    "                n_jobs=CORES,\n",
    "                verbose=0,\n",
    "                return_train_score=True,\n",
    "            )\n",
    "            df_score = pd.DataFrame(scores)\n",
    "            df_score[\"owner\"] = owner\n",
    "            df_score[\"train_samples\"] = n_train_samples\n",
    "            df_score[\"train_eer\"] = df_score[\n",
    "                \"train_eer\"\n",
    "            ].abs()  # Revert scorer's signflip\n",
    "            df_score[\"test_eer\"] = df_score[\"test_eer\"].abs()\n",
    "            df_results = pd.concat([df_results, df_score], axis=0)\n",
    "\n",
    "df_results.to_csv(OUTPUT_PATH / f\"{P.name}_train_delay_results.csv\", index=False)\n",
    "df_results.head()"
   ]
  },
  {
   "cell_type": "markdown",
   "metadata": {},
   "source": [
    "**Load Results from \"Training set size\" evaluation & prepare for plotting:**"
   ]
  },
  {
   "cell_type": "code",
   "execution_count": null,
   "metadata": {},
   "outputs": [],
   "source": [
    "df_results = pd.read_csv(OUTPUT_PATH / f\"{P.name}_train_delay_results.csv\")\n",
    "df_plot = (\n",
    "    df_results[[\"test_eer\", \"owner\", \"train_samples\"]]\n",
    "    .groupby([\"owner\", \"train_samples\"], as_index=False)\n",
    "    .mean()\n",
    "    .astype({\"owner\": \"category\"})\n",
    "    .rename(\n",
    "        columns={\n",
    "            \"test_eer\": \"Test EER\",\n",
    "            \"owner\": \"Owner\",\n",
    "        }\n",
    "    )\n",
    ")\n",
    "df_plot[\"Training Data in Seconds\"] = df_plot[\"train_samples\"] * P.window_size / P.frequency"
   ]
  },
  {
   "cell_type": "markdown",
   "metadata": {},
   "source": [
    "**Plot EER with increasing number of training samples:**"
   ]
  },
  {
   "cell_type": "code",
   "execution_count": null,
   "metadata": {},
   "outputs": [],
   "source": [
    "utils_plot_training_delay(df_plot)\n",
    "utils_save_plot(plt, REPORT_PATH / f\"buech2019-siamese-{P.name.lower()}-train-size.pdf\")"
   ]
  },
  {
   "cell_type": "markdown",
   "metadata": {},
   "source": [
    "### 7.4 Evaluate increasing Test Set Sizes (Detection Delay)<a id='7.4'>&nbsp;</a> "
   ]
  },
  {
   "cell_type": "code",
   "execution_count": null,
   "metadata": {},
   "outputs": [],
   "source": [
    "# Load Siamese CNN Model\n",
    "deep_feature_model = load_deep_feature_model(OUTPUT_PATH / f\"{P.name}_model.h5\")\n",
    "\n",
    "df_results = None  # Will be filled with cv scores\n",
    "for i in tqdm(range(50), desc=\"Run\", leave=False):  # Run whole test 5 times\n",
    "    for df_cv_scenarios, owner, impostors in tqdm(\n",
    "        utils_generate_cv_scenarios(\n",
    "            df_ocsvm_train_test,\n",
    "            samples_per_subject_train=P.samples_per_subject_train,\n",
    "            samples_per_subject_test=P.samples_per_subject_test,\n",
    "            limit_test_samples=1,  # Samples overall\n",
    "            seed=SEED + i,\n",
    "            scaler=P.scaler,\n",
    "            scaler_global=P.scaler_global,\n",
    "            scaler_scope=P.scaler_scope,\n",
    "            deep_model=deep_feature_model,\n",
    "            model_variant=P.model_variant,\n",
    "            feature_cols=P.feature_cols,\n",
    "        ),\n",
    "        desc=\"Owner\",\n",
    "        total=df_ocsvm_train_test[\"subject\"].nunique(),\n",
    "        leave=False,\n",
    "    ):\n",
    "        X = np.array(df_cv_scenarios[\"X\"].values.tolist())\n",
    "        y = df_cv_scenarios[\"label\"].values\n",
    "\n",
    "        train_test_cv = utils_create_cv_splits(df_cv_scenarios[\"mask\"].values, SEED)\n",
    "\n",
    "        model = VAE([32,16,8,4,1],[1,4,8,16,32], contamination=.5, optimizer='sgd',                \n",
    "                gamma=3 , \n",
    "                capacity=.5 , \n",
    "                loss=losses.kld,\n",
    "                batch_size=32, \n",
    "                dropout_rate=.25,\n",
    "                epochs=200,\n",
    "                output_activation=activations.selu, \n",
    "                hidden_activation=activations.sigmoid, \n",
    "    )\n",
    "\n",
    "        warnings.filterwarnings(\"ignore\")\n",
    "        scores = cross_validate(\n",
    "            model,\n",
    "            X,\n",
    "            y,\n",
    "            cv=train_test_cv,\n",
    "            scoring={\"eer\": utils_eer_scorer},\n",
    "            n_jobs=CORES,\n",
    "            verbose=0,\n",
    "            return_train_score=True,\n",
    "        )\n",
    "        df_score = pd.DataFrame(scores)\n",
    "        df_score[\"owner\"] = owner\n",
    "        df_score[\"run\"] = i\n",
    "        df_score[\"train_eer\"] = df_score[\"train_eer\"].abs()  # Revert scorer's signflip\n",
    "        df_score[\"test_eer\"] = df_score[\"test_eer\"].abs()\n",
    "        df_results = pd.concat([df_results, df_score], axis=0)\n",
    "\n",
    "df_results.to_csv(OUTPUT_PATH / f\"{P.name}_detect_delay_results.csv\", index=False)\n",
    "df_results.head()"
   ]
  },
  {
   "cell_type": "markdown",
   "metadata": {},
   "source": [
    "**Load Results from \"Detection Delay\" evaluation & prepare for plotting:**"
   ]
  },
  {
   "cell_type": "code",
   "execution_count": null,
   "metadata": {},
   "outputs": [],
   "source": [
    "df_results = pd.read_csv(OUTPUT_PATH / f\"{P.name}_detect_delay_results.csv\")\n",
    "df_results[\"owner\"] = df_results[\"owner\"].astype(str)\n",
    "df_plot = df_results.copy()"
   ]
  },
  {
   "cell_type": "markdown",
   "metadata": {},
   "source": [
    "**Plot Expanding Mean EER and confidence interval:**"
   ]
  },
  {
   "cell_type": "code",
   "execution_count": null,
   "metadata": {},
   "outputs": [],
   "source": [
    "utils_plot_detect_delay(df_plot, factor=P.window_size / P.frequency, xlim=160)\n",
    "utils_save_plot(\n",
    "    plt, REPORT_PATH / f\"buech2019-siamese-{P.name.lower()}-detection-delay.pdf\"\n",
    ")"
   ]
  },
  {
   "cell_type": "code",
   "execution_count": null,
   "metadata": {},
   "outputs": [],
   "source": []
  }
 ],
 "metadata": {
  "kernelspec": {
   "display_name": "contauth",
   "language": "python",
   "name": "contauth"
  },
  "language_info": {
   "codemirror_mode": {
    "name": "ipython",
    "version": 3
   },
   "file_extension": ".py",
   "mimetype": "text/x-python",
   "name": "python",
   "nbconvert_exporter": "python",
   "pygments_lexer": "ipython3",
   "version": "3.6.8"
  }
 },
 "nbformat": 4,
 "nbformat_minor": 2
}
